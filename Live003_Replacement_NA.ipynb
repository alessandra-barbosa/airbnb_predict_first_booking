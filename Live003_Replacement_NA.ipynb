{
 "cells": [
  {
   "cell_type": "markdown",
   "metadata": {
    "heading_collapsed": true
   },
   "source": [
    "# 0.0. Entender Problema"
   ]
  },
  {
   "cell_type": "markdown",
   "metadata": {
    "ExecuteTime": {
     "end_time": "2020-09-02T10:40:18.252578Z",
     "start_time": "2020-09-02T10:40:18.247319Z"
    },
    "hidden": true
   },
   "source": [
    "-- Objetivo do Problema:\n",
    "    -- 1.0. Previsao do primeiro destino que um novo usuário irá escolher.\n",
    "    \n",
    "    -- Porque?\n",
    "        -- Qual tipo de modelo de negócio do Airbnb?\n",
    "            -- Marketplace ( Conectar pessoas que oferecem acomodacao, com pessoas que estao procurando acomodacao)\n",
    "            -- Oferta ( pessoas oferecendo acomodacao )\n",
    "                -- Tamanho do portfólio.\n",
    "                -- Diversidade/Densidade de Portfólio.\n",
    "                -- Preco Medio\n",
    "                \n",
    "            -- Demanda ( pessoas procurando acomodacao )\n",
    "                -- Numero de Usuários\n",
    "                -- LTV ( Lifetime Value )\n",
    "                -- CAC ( Client Acquisition Cost )\n",
    "                \n",
    "                \n",
    "               Gross Revenue = ( Fee*Numero cliente ) - CAC \n",
    "    \n",
    "-- Proposta da Solucao\n",
    "\n",
    "    --- Modelo de Predivao do primeiro destino de um novo usario.\n",
    "    --- 1.0. Predicoes e salva em tabela do banco de dados. \n",
    "    --- 2.0. API \n",
    "            --- Input: usuario e suas caracteristicas\n",
    "            --- Output: usuario e suas caracteristicas com a **predicao do destino**\n",
    "            \n",
    "    --- 16 ciclos"
   ]
  },
  {
   "cell_type": "markdown",
   "metadata": {
    "ExecuteTime": {
     "end_time": "2020-09-02T00:08:29.136234Z",
     "start_time": "2020-09-02T00:08:29.133768Z"
    },
    "heading_collapsed": true
   },
   "source": [
    "# <font color='red'> Ciclo01: End to End </font>"
   ]
  },
  {
   "cell_type": "markdown",
   "metadata": {
    "heading_collapsed": true
   },
   "source": [
    "# 0.0. Imports"
   ]
  },
  {
   "cell_type": "code",
   "execution_count": 1,
   "metadata": {
    "ExecuteTime": {
     "end_time": "2020-09-27T21:48:09.219653Z",
     "start_time": "2020-09-27T21:48:04.952318Z"
    },
    "hidden": true
   },
   "outputs": [
    {
     "name": "stderr",
     "output_type": "stream",
     "text": [
      "/Users/meigarom.lopes/.pyenv/versions/3.8.0/envs/airbnbpredictfirstbooking/lib/python3.8/site-packages/pandas/compat/__init__.py:120: UserWarning: Could not import the lzma module. Your installed Python is incomplete. Attempting to use lzma compression will result in a RuntimeError.\n",
      "  warnings.warn(msg)\n"
     ]
    }
   ],
   "source": [
    "import random\n",
    "import numpy   as np\n",
    "import pandas  as pd\n",
    "import seaborn as sns\n",
    "\n",
    "from sklearn import model_selection as ms\n",
    "from sklearn import preprocessing   as pp\n",
    "from sklearn import metrics         as m\n",
    "from scikitplot import metrics      as mt\n",
    "from scipy     import stats         as ss\n",
    "\n",
    "from keras import models as ml\n",
    "from keras import layers as l"
   ]
  },
  {
   "cell_type": "markdown",
   "metadata": {
    "heading_collapsed": true,
    "hidden": true
   },
   "source": [
    "## 0.1. Helper Functions"
   ]
  },
  {
   "cell_type": "code",
   "execution_count": 2,
   "metadata": {
    "ExecuteTime": {
     "end_time": "2020-09-27T21:48:09.226121Z",
     "start_time": "2020-09-27T21:48:09.221449Z"
    },
    "hidden": true
   },
   "outputs": [],
   "source": [
    "def cramer_v( x, y ):\n",
    "    cm = pd.crosstab( x, y ).values\n",
    "    n = cm.sum()\n",
    "    r, k = cm.shape\n",
    "    \n",
    "    chi2 = ss.chi2_contingency( cm )[0]\n",
    "    chi2corr = max( 0, chi2 - (k-1)*(r-1)/(n-1) )\n",
    "    \n",
    "    kcorr = k - (k-1)**2/(n-1)\n",
    "    rcorr = r - (r-1)**2/(n-1)\n",
    "    \n",
    "    return np.sqrt( (chi2corr/n) / ( min( kcorr-1, rcorr-1 ) ) )"
   ]
  },
  {
   "cell_type": "markdown",
   "metadata": {
    "heading_collapsed": true,
    "hidden": true
   },
   "source": [
    "## 0.2. Loading Data"
   ]
  },
  {
   "cell_type": "code",
   "execution_count": 3,
   "metadata": {
    "ExecuteTime": {
     "end_time": "2020-09-27T21:48:09.666032Z",
     "start_time": "2020-09-27T21:48:09.229624Z"
    },
    "hidden": true
   },
   "outputs": [
    {
     "data": {
      "text/plain": [
       "(213451, 16)"
      ]
     },
     "execution_count": 3,
     "metadata": {},
     "output_type": "execute_result"
    }
   ],
   "source": [
    "df_raw = pd.read_csv( 'dataset/training_users.csv', low_memory=True )\n",
    "df_raw.shape"
   ]
  },
  {
   "cell_type": "code",
   "execution_count": 4,
   "metadata": {
    "ExecuteTime": {
     "end_time": "2020-09-27T21:48:16.536882Z",
     "start_time": "2020-09-27T21:48:09.668277Z"
    },
    "hidden": true
   },
   "outputs": [
    {
     "data": {
      "text/plain": [
       "(10567737, 6)"
      ]
     },
     "execution_count": 4,
     "metadata": {},
     "output_type": "execute_result"
    }
   ],
   "source": [
    "df_sessions = pd.read_csv( 'dataset/sessions.csv', low_memory=True )\n",
    "df_sessions.shape"
   ]
  },
  {
   "cell_type": "markdown",
   "metadata": {
    "heading_collapsed": true
   },
   "source": [
    "# 1.0. Data Description"
   ]
  },
  {
   "cell_type": "code",
   "execution_count": 5,
   "metadata": {
    "ExecuteTime": {
     "end_time": "2020-09-27T21:48:16.561488Z",
     "start_time": "2020-09-27T21:48:16.538671Z"
    },
    "hidden": true
   },
   "outputs": [],
   "source": [
    "df1 = df_raw.copy()"
   ]
  },
  {
   "cell_type": "markdown",
   "metadata": {
    "heading_collapsed": true,
    "hidden": true
   },
   "source": [
    "## 1.1. Data Dimension"
   ]
  },
  {
   "cell_type": "code",
   "execution_count": 6,
   "metadata": {
    "ExecuteTime": {
     "end_time": "2020-09-27T21:48:16.566409Z",
     "start_time": "2020-09-27T21:48:16.563256Z"
    },
    "hidden": true
   },
   "outputs": [
    {
     "name": "stdout",
     "output_type": "stream",
     "text": [
      "Number of rows: 213451\n",
      "Number of columns: 16\n"
     ]
    }
   ],
   "source": [
    "print( 'Number of rows: {}'.format( df1.shape[0] ) )\n",
    "print( 'Number of columns: {}'.format( df1.shape[1] ) )"
   ]
  },
  {
   "cell_type": "code",
   "execution_count": 7,
   "metadata": {
    "ExecuteTime": {
     "end_time": "2020-09-27T21:48:16.574150Z",
     "start_time": "2020-09-27T21:48:16.569406Z"
    },
    "hidden": true
   },
   "outputs": [
    {
     "name": "stdout",
     "output_type": "stream",
     "text": [
      "Number of rows: 10567737\n",
      "Number of columns: 6\n"
     ]
    }
   ],
   "source": [
    "print( 'Number of rows: {}'.format( df_sessions.shape[0] ) )\n",
    "print( 'Number of columns: {}'.format( df_sessions.shape[1] ) )"
   ]
  },
  {
   "cell_type": "markdown",
   "metadata": {
    "heading_collapsed": true,
    "hidden": true
   },
   "source": [
    "## 1.2. Data Type"
   ]
  },
  {
   "cell_type": "code",
   "execution_count": 8,
   "metadata": {
    "ExecuteTime": {
     "end_time": "2020-09-27T21:48:16.585155Z",
     "start_time": "2020-09-27T21:48:16.579452Z"
    },
    "hidden": true
   },
   "outputs": [
    {
     "data": {
      "text/plain": [
       "id                          object\n",
       "date_account_created        object\n",
       "timestamp_first_active       int64\n",
       "date_first_booking          object\n",
       "gender                      object\n",
       "age                        float64\n",
       "signup_method               object\n",
       "signup_flow                  int64\n",
       "language                    object\n",
       "affiliate_channel           object\n",
       "affiliate_provider          object\n",
       "first_affiliate_tracked     object\n",
       "signup_app                  object\n",
       "first_device_type           object\n",
       "first_browser               object\n",
       "country_destination         object\n",
       "dtype: object"
      ]
     },
     "execution_count": 8,
     "metadata": {},
     "output_type": "execute_result"
    }
   ],
   "source": [
    "df1.dtypes"
   ]
  },
  {
   "cell_type": "code",
   "execution_count": 9,
   "metadata": {
    "ExecuteTime": {
     "end_time": "2020-09-27T21:48:16.593834Z",
     "start_time": "2020-09-27T21:48:16.588444Z"
    },
    "hidden": true
   },
   "outputs": [
    {
     "data": {
      "text/plain": [
       "user_id           object\n",
       "action            object\n",
       "action_type       object\n",
       "action_detail     object\n",
       "device_type       object\n",
       "secs_elapsed     float64\n",
       "dtype: object"
      ]
     },
     "execution_count": 9,
     "metadata": {},
     "output_type": "execute_result"
    }
   ],
   "source": [
    "df_sessions.dtypes"
   ]
  },
  {
   "cell_type": "markdown",
   "metadata": {
    "heading_collapsed": true,
    "hidden": true
   },
   "source": [
    "## 1.3. NA Check"
   ]
  },
  {
   "cell_type": "code",
   "execution_count": 10,
   "metadata": {
    "ExecuteTime": {
     "end_time": "2020-09-27T21:48:16.708621Z",
     "start_time": "2020-09-27T21:48:16.595707Z"
    },
    "hidden": true
   },
   "outputs": [
    {
     "data": {
      "text/plain": [
       "id                         0.000000\n",
       "date_account_created       0.000000\n",
       "timestamp_first_active     0.000000\n",
       "date_first_booking         0.583473\n",
       "gender                     0.000000\n",
       "age                        0.412226\n",
       "signup_method              0.000000\n",
       "signup_flow                0.000000\n",
       "language                   0.000000\n",
       "affiliate_channel          0.000000\n",
       "affiliate_provider         0.000000\n",
       "first_affiliate_tracked    0.028414\n",
       "signup_app                 0.000000\n",
       "first_device_type          0.000000\n",
       "first_browser              0.000000\n",
       "country_destination        0.000000\n",
       "dtype: float64"
      ]
     },
     "execution_count": 10,
     "metadata": {},
     "output_type": "execute_result"
    }
   ],
   "source": [
    "df1.isna().sum() / len( df1 )"
   ]
  },
  {
   "cell_type": "code",
   "execution_count": 11,
   "metadata": {
    "ExecuteTime": {
     "end_time": "2020-09-27T21:48:18.176969Z",
     "start_time": "2020-09-27T21:48:16.710368Z"
    },
    "hidden": true
   },
   "outputs": [
    {
     "data": {
      "text/plain": [
       "user_id          0.003264\n",
       "action           0.007535\n",
       "action_type      0.106570\n",
       "action_detail    0.106570\n",
       "device_type      0.000000\n",
       "secs_elapsed     0.012872\n",
       "dtype: float64"
      ]
     },
     "execution_count": 11,
     "metadata": {},
     "output_type": "execute_result"
    }
   ],
   "source": [
    "df_sessions.isna().sum() / len( df_sessions)"
   ]
  },
  {
   "cell_type": "code",
   "execution_count": 12,
   "metadata": {
    "ExecuteTime": {
     "end_time": "2020-09-27T21:48:23.345425Z",
     "start_time": "2020-09-27T21:48:18.179157Z"
    },
    "hidden": true
   },
   "outputs": [],
   "source": [
    "# remove missing value completly\n",
    "#df1 = df1.dropna()\n",
    "\n",
    "# ========== User =================\n",
    "# date_first_booking\n",
    "date_first_booking_max = pd.to_datetime( df1['date_first_booking'] ).max().strftime( '%Y-%m-%d' )\n",
    "df1['date_first_booking'] = df1['date_first_booking'].fillna( date_first_booking_max )\n",
    "\n",
    "# age\n",
    "df1 = df1[( df1['age'] > 15 ) & ( df1['age'] < 120 )]\n",
    "avg_age = df1['age'].mean().astype( int )\n",
    "df1['age'] = df1['age'].fillna( avg_age )\n",
    "\n",
    "# first_affiliate_tracked\n",
    "df1 = df1[~df1['first_affiliate_tracked'].isna()]\n",
    "\n",
    "# ========== Sessions =================\n",
    "# user_id - 0.3%\n",
    "df_sessions = df_sessions[~df_sessions['user_id'].isna()]\n",
    "\n",
    "# action - 0.7%\n",
    "df_sessions = df_sessions[~df_sessions['action'].isna()]\n",
    "\n",
    "# action_type - 11%\n",
    "df_sessions = df_sessions[~df_sessions['action_type'].isna()]\n",
    "\n",
    "# action_detail - 11%\n",
    "df_sessions = df_sessions[~df_sessions['action_detail'].isna()]\n",
    "\n",
    "# secs_elapsed - 1.2%\n",
    "df_sessions = df_sessions[~df_sessions['secs_elapsed'].isna()]"
   ]
  },
  {
   "cell_type": "code",
   "execution_count": 13,
   "metadata": {
    "ExecuteTime": {
     "end_time": "2020-09-27T21:48:23.409517Z",
     "start_time": "2020-09-27T21:48:23.347459Z"
    },
    "hidden": true
   },
   "outputs": [
    {
     "data": {
      "text/plain": [
       "id                         0.0\n",
       "date_account_created       0.0\n",
       "timestamp_first_active     0.0\n",
       "date_first_booking         0.0\n",
       "gender                     0.0\n",
       "age                        0.0\n",
       "signup_method              0.0\n",
       "signup_flow                0.0\n",
       "language                   0.0\n",
       "affiliate_channel          0.0\n",
       "affiliate_provider         0.0\n",
       "first_affiliate_tracked    0.0\n",
       "signup_app                 0.0\n",
       "first_device_type          0.0\n",
       "first_browser              0.0\n",
       "country_destination        0.0\n",
       "dtype: float64"
      ]
     },
     "execution_count": 13,
     "metadata": {},
     "output_type": "execute_result"
    }
   ],
   "source": [
    "df1.isna().sum() / len( df1 )"
   ]
  },
  {
   "cell_type": "code",
   "execution_count": 14,
   "metadata": {
    "ExecuteTime": {
     "end_time": "2020-09-27T21:48:24.633507Z",
     "start_time": "2020-09-27T21:48:23.411239Z"
    },
    "hidden": true
   },
   "outputs": [
    {
     "data": {
      "text/plain": [
       "user_id          0.0\n",
       "action           0.0\n",
       "action_type      0.0\n",
       "action_detail    0.0\n",
       "device_type      0.0\n",
       "secs_elapsed     0.0\n",
       "dtype: float64"
      ]
     },
     "execution_count": 14,
     "metadata": {},
     "output_type": "execute_result"
    }
   ],
   "source": [
    "df_sessions.isna().sum() / len( df_sessions)"
   ]
  },
  {
   "cell_type": "markdown",
   "metadata": {
    "heading_collapsed": true,
    "hidden": true
   },
   "source": [
    "## 1.4. Change Data Type"
   ]
  },
  {
   "cell_type": "code",
   "execution_count": 15,
   "metadata": {
    "ExecuteTime": {
     "end_time": "2020-09-27T21:48:24.640141Z",
     "start_time": "2020-09-27T21:48:24.635404Z"
    },
    "hidden": true
   },
   "outputs": [
    {
     "data": {
      "text/plain": [
       "id                          object\n",
       "date_account_created        object\n",
       "timestamp_first_active       int64\n",
       "date_first_booking          object\n",
       "gender                      object\n",
       "age                        float64\n",
       "signup_method               object\n",
       "signup_flow                  int64\n",
       "language                    object\n",
       "affiliate_channel           object\n",
       "affiliate_provider          object\n",
       "first_affiliate_tracked     object\n",
       "signup_app                  object\n",
       "first_device_type           object\n",
       "first_browser               object\n",
       "country_destination         object\n",
       "dtype: object"
      ]
     },
     "execution_count": 15,
     "metadata": {},
     "output_type": "execute_result"
    }
   ],
   "source": [
    "df1.dtypes"
   ]
  },
  {
   "cell_type": "code",
   "execution_count": 16,
   "metadata": {
    "ExecuteTime": {
     "end_time": "2020-09-27T21:48:25.136261Z",
     "start_time": "2020-09-27T21:48:24.641782Z"
    },
    "hidden": true
   },
   "outputs": [],
   "source": [
    "# date_account_created\n",
    "df1['date_account_created'] = pd.to_datetime( df1['date_account_created'] )\n",
    "\n",
    "# timestamp_first_active\n",
    "df1['timestamp_first_active'] = pd.to_datetime( df1['timestamp_first_active'], format='%Y%m%d%H%M%S' )\n",
    "\n",
    "# date_first_booking\n",
    "df1['date_first_booking'] = pd.to_datetime( df1['date_first_booking'] )\n",
    "\n",
    "# age\n",
    "df1['age'] = df1['age'].astype( int )"
   ]
  },
  {
   "cell_type": "markdown",
   "metadata": {
    "heading_collapsed": true,
    "hidden": true
   },
   "source": [
    "## 1.5. Check Balanced Data"
   ]
  },
  {
   "cell_type": "code",
   "execution_count": 17,
   "metadata": {
    "ExecuteTime": {
     "end_time": "2020-09-27T21:48:25.156602Z",
     "start_time": "2020-09-27T21:48:25.138133Z"
    },
    "hidden": true
   },
   "outputs": [
    {
     "data": {
      "text/plain": [
       "NDF      0.447275\n",
       "US       0.391867\n",
       "other    0.061246\n",
       "FR       0.029918\n",
       "IT       0.016423\n",
       "GB       0.014335\n",
       "ES       0.013740\n",
       "CA       0.008676\n",
       "DE       0.006858\n",
       "NL       0.004852\n",
       "AU       0.003531\n",
       "PT       0.001280\n",
       "Name: country_destination, dtype: float64"
      ]
     },
     "execution_count": 17,
     "metadata": {},
     "output_type": "execute_result"
    }
   ],
   "source": [
    "df1['country_destination'].value_counts( normalize=True )"
   ]
  },
  {
   "cell_type": "markdown",
   "metadata": {
    "heading_collapsed": true,
    "hidden": true
   },
   "source": [
    "## 1.6. Descriptive Analysis"
   ]
  },
  {
   "cell_type": "code",
   "execution_count": 18,
   "metadata": {
    "ExecuteTime": {
     "end_time": "2020-09-27T21:48:25.639522Z",
     "start_time": "2020-09-27T21:48:25.158947Z"
    },
    "hidden": true
   },
   "outputs": [],
   "source": [
    "# Users\n",
    "num_attributes = df1.select_dtypes( include=['int64', 'float64'] )\n",
    "cat_attributes = df1.select_dtypes( exclude=['int64', 'float64', 'datetime64[ns]'] )\n",
    "time_attributes = df1.select_dtypes( include=['datetime64[ns]'] )\n",
    "\n",
    "# Sessions\n",
    "num_attributes_sessions = df_sessions.select_dtypes( include=['int64', 'float64'] )\n",
    "cat_attributes_sessions = df_sessions.select_dtypes( exclude=['int64', 'float64', 'datetime64[ns]'] )\n",
    "time_attributes_sessions = df_sessions.select_dtypes( include=['datetime64[ns]'] )"
   ]
  },
  {
   "cell_type": "markdown",
   "metadata": {
    "heading_collapsed": true,
    "hidden": true
   },
   "source": [
    "### 1.6.1. Numerical - Users"
   ]
  },
  {
   "cell_type": "code",
   "execution_count": 19,
   "metadata": {
    "ExecuteTime": {
     "end_time": "2020-09-27T21:48:25.734975Z",
     "start_time": "2020-09-27T21:48:25.641323Z"
    },
    "hidden": true
   },
   "outputs": [
    {
     "data": {
      "text/html": [
       "<div>\n",
       "<style scoped>\n",
       "    .dataframe tbody tr th:only-of-type {\n",
       "        vertical-align: middle;\n",
       "    }\n",
       "\n",
       "    .dataframe tbody tr th {\n",
       "        vertical-align: top;\n",
       "    }\n",
       "\n",
       "    .dataframe thead th {\n",
       "        text-align: right;\n",
       "    }\n",
       "</style>\n",
       "<table border=\"1\" class=\"dataframe\">\n",
       "  <thead>\n",
       "    <tr style=\"text-align: right;\">\n",
       "      <th></th>\n",
       "      <th>attributes</th>\n",
       "      <th>min</th>\n",
       "      <th>max</th>\n",
       "      <th>range</th>\n",
       "      <th>mean</th>\n",
       "      <th>median</th>\n",
       "      <th>std</th>\n",
       "      <th>skew</th>\n",
       "      <th>kurtosis</th>\n",
       "    </tr>\n",
       "  </thead>\n",
       "  <tbody>\n",
       "    <tr>\n",
       "      <th>0</th>\n",
       "      <td>age</td>\n",
       "      <td>16.0</td>\n",
       "      <td>115.0</td>\n",
       "      <td>99.0</td>\n",
       "      <td>37.405591</td>\n",
       "      <td>34.0</td>\n",
       "      <td>13.939844</td>\n",
       "      <td>2.089718</td>\n",
       "      <td>6.516468</td>\n",
       "    </tr>\n",
       "    <tr>\n",
       "      <th>1</th>\n",
       "      <td>signup_flow</td>\n",
       "      <td>0.0</td>\n",
       "      <td>25.0</td>\n",
       "      <td>25.0</td>\n",
       "      <td>2.519513</td>\n",
       "      <td>0.0</td>\n",
       "      <td>6.604696</td>\n",
       "      <td>2.705871</td>\n",
       "      <td>5.928298</td>\n",
       "    </tr>\n",
       "  </tbody>\n",
       "</table>\n",
       "</div>"
      ],
      "text/plain": [
       "    attributes   min    max  range       mean  median        std      skew  \\\n",
       "0          age  16.0  115.0   99.0  37.405591    34.0  13.939844  2.089718   \n",
       "1  signup_flow   0.0   25.0   25.0   2.519513     0.0   6.604696  2.705871   \n",
       "\n",
       "   kurtosis  \n",
       "0  6.516468  \n",
       "1  5.928298  "
      ]
     },
     "execution_count": 19,
     "metadata": {},
     "output_type": "execute_result"
    }
   ],
   "source": [
    "# Central Tendency - Mean, Mediana\n",
    "ct1 = pd.DataFrame( num_attributes.apply( np.mean ) ).T\n",
    "ct2 = pd.DataFrame( num_attributes.apply( np.median ) ).T\n",
    "\n",
    "# Dispersions - Std, Min, Max, Range, Skew, Kurtosis\n",
    "d1 = pd.DataFrame( num_attributes.apply( np.std ) ).T\n",
    "d2 = pd.DataFrame( num_attributes.apply( min ) ).T\n",
    "d3 = pd.DataFrame( num_attributes.apply( max ) ).T\n",
    "d4 = pd.DataFrame( num_attributes.apply( lambda x: x.max() - x.min() ) ).T\n",
    "d5 = pd.DataFrame( num_attributes.apply( lambda x: x.skew() ) ).T\n",
    "d6 = pd.DataFrame( num_attributes.apply( lambda x: x.kurtosis() ) ).T\n",
    "\n",
    "# Concatenar\n",
    "ct = pd.concat( [d2, d3, d4, ct1, ct2, d1, d5, d6] ).T.reset_index()\n",
    "ct.columns = ['attributes', 'min', 'max', 'range', 'mean', 'median', 'std', 'skew', 'kurtosis']\n",
    "ct"
   ]
  },
  {
   "cell_type": "markdown",
   "metadata": {
    "heading_collapsed": true,
    "hidden": true
   },
   "source": [
    "### 1.6.2. Numerical - Sessions"
   ]
  },
  {
   "cell_type": "code",
   "execution_count": 20,
   "metadata": {
    "ExecuteTime": {
     "end_time": "2020-09-27T21:48:28.076655Z",
     "start_time": "2020-09-27T21:48:25.737268Z"
    },
    "hidden": true
   },
   "outputs": [
    {
     "data": {
      "text/html": [
       "<div>\n",
       "<style scoped>\n",
       "    .dataframe tbody tr th:only-of-type {\n",
       "        vertical-align: middle;\n",
       "    }\n",
       "\n",
       "    .dataframe tbody tr th {\n",
       "        vertical-align: top;\n",
       "    }\n",
       "\n",
       "    .dataframe thead th {\n",
       "        text-align: right;\n",
       "    }\n",
       "</style>\n",
       "<table border=\"1\" class=\"dataframe\">\n",
       "  <thead>\n",
       "    <tr style=\"text-align: right;\">\n",
       "      <th></th>\n",
       "      <th>attributes</th>\n",
       "      <th>min</th>\n",
       "      <th>max</th>\n",
       "      <th>range</th>\n",
       "      <th>mean</th>\n",
       "      <th>median</th>\n",
       "      <th>std</th>\n",
       "      <th>skew</th>\n",
       "      <th>kurtosis</th>\n",
       "    </tr>\n",
       "  </thead>\n",
       "  <tbody>\n",
       "    <tr>\n",
       "      <th>0</th>\n",
       "      <td>secs_elapsed</td>\n",
       "      <td>0.0</td>\n",
       "      <td>1799977.0</td>\n",
       "      <td>1799977.0</td>\n",
       "      <td>19961.8251</td>\n",
       "      <td>1369.0</td>\n",
       "      <td>88849.388449</td>\n",
       "      <td>11.137761</td>\n",
       "      <td>154.84312</td>\n",
       "    </tr>\n",
       "  </tbody>\n",
       "</table>\n",
       "</div>"
      ],
      "text/plain": [
       "     attributes  min        max      range        mean  median           std  \\\n",
       "0  secs_elapsed  0.0  1799977.0  1799977.0  19961.8251  1369.0  88849.388449   \n",
       "\n",
       "        skew   kurtosis  \n",
       "0  11.137761  154.84312  "
      ]
     },
     "execution_count": 20,
     "metadata": {},
     "output_type": "execute_result"
    }
   ],
   "source": [
    "# Central Tendency - Mean, Mediana\n",
    "ct1 = pd.DataFrame( num_attributes_sessions.apply( np.mean ) ).T\n",
    "ct2 = pd.DataFrame( num_attributes_sessions.apply( np.median ) ).T\n",
    "\n",
    "# Dispersions - Std, Min, Max, Range, Skew, Kurtosis\n",
    "d1 = pd.DataFrame( num_attributes_sessions.apply( np.std ) ).T\n",
    "d2 = pd.DataFrame( num_attributes_sessions.apply( min ) ).T\n",
    "d3 = pd.DataFrame( num_attributes_sessions.apply( max ) ).T\n",
    "d4 = pd.DataFrame( num_attributes_sessions.apply( lambda x: x.max() - x.min() ) ).T\n",
    "d5 = pd.DataFrame( num_attributes_sessions.apply( lambda x: x.skew() ) ).T\n",
    "d6 = pd.DataFrame( num_attributes_sessions.apply( lambda x: x.kurtosis() ) ).T\n",
    "\n",
    "# Concatenar\n",
    "ct = pd.concat( [d2, d3, d4, ct1, ct2, d1, d5, d6] ).T.reset_index()\n",
    "ct.columns = ['attributes', 'min', 'max', 'range', 'mean', 'median', 'std', 'skew', 'kurtosis']\n",
    "ct"
   ]
  },
  {
   "cell_type": "markdown",
   "metadata": {
    "heading_collapsed": true,
    "hidden": true
   },
   "source": [
    "### 1.6.3. Categorial - Users"
   ]
  },
  {
   "cell_type": "code",
   "execution_count": 21,
   "metadata": {
    "ExecuteTime": {
     "end_time": "2020-09-27T21:48:28.277767Z",
     "start_time": "2020-09-27T21:48:28.078480Z"
    },
    "hidden": true
   },
   "outputs": [
    {
     "data": {
      "text/html": [
       "<div>\n",
       "<style scoped>\n",
       "    .dataframe tbody tr th:only-of-type {\n",
       "        vertical-align: middle;\n",
       "    }\n",
       "\n",
       "    .dataframe tbody tr th {\n",
       "        vertical-align: top;\n",
       "    }\n",
       "\n",
       "    .dataframe thead th {\n",
       "        text-align: right;\n",
       "    }\n",
       "</style>\n",
       "<table border=\"1\" class=\"dataframe\">\n",
       "  <thead>\n",
       "    <tr style=\"text-align: right;\">\n",
       "      <th></th>\n",
       "      <th>gender</th>\n",
       "      <th>signup_method</th>\n",
       "      <th>language</th>\n",
       "      <th>affiliate_channel</th>\n",
       "      <th>affiliate_provider</th>\n",
       "      <th>first_affiliate_tracked</th>\n",
       "      <th>signup_app</th>\n",
       "      <th>first_device_type</th>\n",
       "      <th>first_browser</th>\n",
       "      <th>country_destination</th>\n",
       "    </tr>\n",
       "  </thead>\n",
       "  <tbody>\n",
       "    <tr>\n",
       "      <th>count</th>\n",
       "      <td>122636</td>\n",
       "      <td>122636</td>\n",
       "      <td>122636</td>\n",
       "      <td>122636</td>\n",
       "      <td>122636</td>\n",
       "      <td>122636</td>\n",
       "      <td>122636</td>\n",
       "      <td>122636</td>\n",
       "      <td>122636</td>\n",
       "      <td>122636</td>\n",
       "    </tr>\n",
       "    <tr>\n",
       "      <th>unique</th>\n",
       "      <td>4</td>\n",
       "      <td>3</td>\n",
       "      <td>25</td>\n",
       "      <td>8</td>\n",
       "      <td>17</td>\n",
       "      <td>7</td>\n",
       "      <td>4</td>\n",
       "      <td>9</td>\n",
       "      <td>41</td>\n",
       "      <td>12</td>\n",
       "    </tr>\n",
       "    <tr>\n",
       "      <th>top</th>\n",
       "      <td>FEMALE</td>\n",
       "      <td>basic</td>\n",
       "      <td>en</td>\n",
       "      <td>direct</td>\n",
       "      <td>direct</td>\n",
       "      <td>untracked</td>\n",
       "      <td>Web</td>\n",
       "      <td>Mac Desktop</td>\n",
       "      <td>Chrome</td>\n",
       "      <td>NDF</td>\n",
       "    </tr>\n",
       "    <tr>\n",
       "      <th>freq</th>\n",
       "      <td>56362</td>\n",
       "      <td>66039</td>\n",
       "      <td>118205</td>\n",
       "      <td>79093</td>\n",
       "      <td>78954</td>\n",
       "      <td>64712</td>\n",
       "      <td>108283</td>\n",
       "      <td>57943</td>\n",
       "      <td>41778</td>\n",
       "      <td>54852</td>\n",
       "    </tr>\n",
       "  </tbody>\n",
       "</table>\n",
       "</div>"
      ],
      "text/plain": [
       "        gender signup_method language affiliate_channel affiliate_provider  \\\n",
       "count   122636        122636   122636            122636             122636   \n",
       "unique       4             3       25                 8                 17   \n",
       "top     FEMALE         basic       en            direct             direct   \n",
       "freq     56362         66039   118205             79093              78954   \n",
       "\n",
       "       first_affiliate_tracked signup_app first_device_type first_browser  \\\n",
       "count                   122636     122636            122636        122636   \n",
       "unique                       7          4                 9            41   \n",
       "top                  untracked        Web       Mac Desktop        Chrome   \n",
       "freq                     64712     108283             57943         41778   \n",
       "\n",
       "       country_destination  \n",
       "count               122636  \n",
       "unique                  12  \n",
       "top                    NDF  \n",
       "freq                 54852  "
      ]
     },
     "execution_count": 21,
     "metadata": {},
     "output_type": "execute_result"
    }
   ],
   "source": [
    "cat_attributes.drop( 'id', axis=1 ).describe()"
   ]
  },
  {
   "cell_type": "markdown",
   "metadata": {
    "heading_collapsed": true,
    "hidden": true
   },
   "source": [
    "### 1.6.4. Categorial - Sesssions"
   ]
  },
  {
   "cell_type": "code",
   "execution_count": 22,
   "metadata": {
    "ExecuteTime": {
     "end_time": "2020-09-27T21:48:32.159869Z",
     "start_time": "2020-09-27T21:48:28.279393Z"
    },
    "hidden": true
   },
   "outputs": [
    {
     "data": {
      "text/html": [
       "<div>\n",
       "<style scoped>\n",
       "    .dataframe tbody tr th:only-of-type {\n",
       "        vertical-align: middle;\n",
       "    }\n",
       "\n",
       "    .dataframe tbody tr th {\n",
       "        vertical-align: top;\n",
       "    }\n",
       "\n",
       "    .dataframe thead th {\n",
       "        text-align: right;\n",
       "    }\n",
       "</style>\n",
       "<table border=\"1\" class=\"dataframe\">\n",
       "  <thead>\n",
       "    <tr style=\"text-align: right;\">\n",
       "      <th></th>\n",
       "      <th>action</th>\n",
       "      <th>action_type</th>\n",
       "      <th>action_detail</th>\n",
       "      <th>device_type</th>\n",
       "    </tr>\n",
       "  </thead>\n",
       "  <tbody>\n",
       "    <tr>\n",
       "      <th>count</th>\n",
       "      <td>9213930</td>\n",
       "      <td>9213930</td>\n",
       "      <td>9213930</td>\n",
       "      <td>9213930</td>\n",
       "    </tr>\n",
       "    <tr>\n",
       "      <th>unique</th>\n",
       "      <td>347</td>\n",
       "      <td>10</td>\n",
       "      <td>155</td>\n",
       "      <td>14</td>\n",
       "    </tr>\n",
       "    <tr>\n",
       "      <th>top</th>\n",
       "      <td>show</td>\n",
       "      <td>view</td>\n",
       "      <td>view_search_results</td>\n",
       "      <td>Mac Desktop</td>\n",
       "    </tr>\n",
       "    <tr>\n",
       "      <th>freq</th>\n",
       "      <td>2178382</td>\n",
       "      <td>3545621</td>\n",
       "      <td>1770931</td>\n",
       "      <td>3019523</td>\n",
       "    </tr>\n",
       "  </tbody>\n",
       "</table>\n",
       "</div>"
      ],
      "text/plain": [
       "         action action_type        action_detail  device_type\n",
       "count   9213930     9213930              9213930      9213930\n",
       "unique      347          10                  155           14\n",
       "top        show        view  view_search_results  Mac Desktop\n",
       "freq    2178382     3545621              1770931      3019523"
      ]
     },
     "execution_count": 22,
     "metadata": {},
     "output_type": "execute_result"
    }
   ],
   "source": [
    "cat_attributes_sessions.drop( 'user_id', axis=1 ).describe()"
   ]
  },
  {
   "cell_type": "markdown",
   "metadata": {
    "heading_collapsed": true,
    "hidden": true
   },
   "source": [
    "### 1.6.5. Categorial - Sessions"
   ]
  },
  {
   "cell_type": "code",
   "execution_count": 23,
   "metadata": {
    "ExecuteTime": {
     "end_time": "2020-09-27T21:48:57.052869Z",
     "start_time": "2020-09-27T21:48:32.164399Z"
    },
    "hidden": true
   },
   "outputs": [],
   "source": [
    "cat_attributes_list = cat_attributes_sessions.drop( 'user_id', axis=1 ).columns.tolist()\n",
    "\n",
    "corr_dict = {}\n",
    "for i in range( len ( cat_attributes_list ) ):\n",
    "    corr_list = []\n",
    "    for j in range( len( cat_attributes_list ) ):\n",
    "        ref = cat_attributes_list[i]\n",
    "        feat = cat_attributes_list[j]\n",
    "        \n",
    "        # correlation\n",
    "        corr = cramer_v( cat_attributes_sessions[ ref ], cat_attributes_sessions[ feat ] )\n",
    "        \n",
    "        # append a list\n",
    "        corr_list.append( corr )\n",
    "    \n",
    "    # appende a correlation list for each ref attributs\n",
    "    corr_dict[ ref ] = corr_list"
   ]
  },
  {
   "cell_type": "code",
   "execution_count": 24,
   "metadata": {
    "ExecuteTime": {
     "end_time": "2020-09-27T21:48:57.369599Z",
     "start_time": "2020-09-27T21:48:57.055604Z"
    },
    "hidden": true
   },
   "outputs": [
    {
     "data": {
      "text/plain": [
       "<AxesSubplot:>"
      ]
     },
     "execution_count": 24,
     "metadata": {},
     "output_type": "execute_result"
    },
    {
     "data": {
      "image/png": "[encoded data removed]",
      "text/plain": [
       "<Figure size 432x288 with 2 Axes>"
      ]
     },
     "metadata": {
      "needs_background": "light"
     },
     "output_type": "display_data"
    }
   ],
   "source": [
    "d = pd.DataFrame( corr_dict )\n",
    "d = d.set_index( d.columns)\n",
    "sns.heatmap( d, annot=True )"
   ]
  },
  {
   "cell_type": "markdown",
   "metadata": {
    "heading_collapsed": true
   },
   "source": [
    "# 2.0. Data Filtering"
   ]
  },
  {
   "cell_type": "code",
   "execution_count": 25,
   "metadata": {
    "ExecuteTime": {
     "end_time": "2020-09-27T21:48:57.385522Z",
     "start_time": "2020-09-27T21:48:57.371957Z"
    },
    "hidden": true
   },
   "outputs": [],
   "source": [
    "df2 = df1.copy()"
   ]
  },
  {
   "cell_type": "markdown",
   "metadata": {
    "heading_collapsed": true,
    "hidden": true
   },
   "source": [
    "## 2.1. Filtering Rows"
   ]
  },
  {
   "cell_type": "code",
   "execution_count": 26,
   "metadata": {
    "ExecuteTime": {
     "end_time": "2020-09-27T21:49:13.495202Z",
     "start_time": "2020-09-27T21:49:13.436097Z"
    },
    "hidden": true
   },
   "outputs": [],
   "source": [
    "# Filtering rows:\n",
    "# age - greater than 15 and lower than 120 - There are few people over 12O year old   \n",
    "df2 = df2[( df2['age'] > 15 ) & ( df2['age'] < 120 )]\n",
    "\n",
    "# secs_elapsed - there is no possible 0 secs elapsed on website\n",
    "#df2 = df2[df2['secs_elapsed'] > 0]"
   ]
  },
  {
   "cell_type": "markdown",
   "metadata": {
    "hidden": true
   },
   "source": [
    "## 2.2. Columns Selection"
   ]
  },
  {
   "cell_type": "markdown",
   "metadata": {
    "heading_collapsed": true
   },
   "source": [
    "# 3.0. Data Preparation"
   ]
  },
  {
   "cell_type": "code",
   "execution_count": 27,
   "metadata": {
    "ExecuteTime": {
     "end_time": "2020-09-27T21:49:28.126984Z",
     "start_time": "2020-09-27T21:49:28.119211Z"
    },
    "hidden": true
   },
   "outputs": [],
   "source": [
    "df3 = df2.copy()"
   ]
  },
  {
   "cell_type": "code",
   "execution_count": 28,
   "metadata": {
    "ExecuteTime": {
     "end_time": "2020-09-27T21:49:44.615014Z",
     "start_time": "2020-09-27T21:49:44.436965Z"
    },
    "hidden": true
   },
   "outputs": [],
   "source": [
    "# dummy variable\n",
    "df3_dummy = pd.get_dummies( df3.drop( ['id', 'country_destination'], axis=1 ) )\n",
    "\n",
    "# join id and country destination\n",
    "df3 = pd.concat( [df3[['id', 'country_destination']], df3_dummy], axis=1 )"
   ]
  },
  {
   "cell_type": "code",
   "execution_count": 29,
   "metadata": {
    "ExecuteTime": {
     "end_time": "2020-09-27T21:49:48.285622Z",
     "start_time": "2020-09-27T21:49:48.281937Z"
    },
    "hidden": true
   },
   "outputs": [
    {
     "data": {
      "text/plain": [
       "(122636, 125)"
      ]
     },
     "execution_count": 29,
     "metadata": {},
     "output_type": "execute_result"
    }
   ],
   "source": [
    "df3.shape"
   ]
  },
  {
   "cell_type": "markdown",
   "metadata": {
    "heading_collapsed": true
   },
   "source": [
    "# 4.0. Feature Selection"
   ]
  },
  {
   "cell_type": "code",
   "execution_count": 31,
   "metadata": {
    "ExecuteTime": {
     "end_time": "2020-09-27T21:50:22.845118Z",
     "start_time": "2020-09-27T21:50:22.819832Z"
    },
    "hidden": true
   },
   "outputs": [],
   "source": [
    "cols_drop = ['date_account_created', 'timestamp_first_active', 'date_first_booking'] # original dates\n",
    "df4 = df3.drop( cols_drop, axis=1 )"
   ]
  },
  {
   "cell_type": "code",
   "execution_count": 32,
   "metadata": {
    "ExecuteTime": {
     "end_time": "2020-09-27T21:50:24.262792Z",
     "start_time": "2020-09-27T21:50:24.242140Z"
    },
    "hidden": true
   },
   "outputs": [],
   "source": [
    "X = df4.drop( 'country_destination', axis=1 )\n",
    "y = df4['country_destination'].copy()"
   ]
  },
  {
   "cell_type": "code",
   "execution_count": 33,
   "metadata": {
    "ExecuteTime": {
     "end_time": "2020-09-27T21:50:25.521752Z",
     "start_time": "2020-09-27T21:50:25.468210Z"
    },
    "hidden": true
   },
   "outputs": [],
   "source": [
    "# Split dataset into training and test\n",
    "X_train, X_test, y_train, y_test = ms.train_test_split( X, y, test_size=0.2, random_state=32 )"
   ]
  },
  {
   "cell_type": "markdown",
   "metadata": {
    "heading_collapsed": true
   },
   "source": [
    "# 5.0. Machine Learning Model"
   ]
  },
  {
   "cell_type": "code",
   "execution_count": 34,
   "metadata": {
    "ExecuteTime": {
     "end_time": "2020-09-27T21:50:26.355109Z",
     "start_time": "2020-09-27T21:50:26.337437Z"
    },
    "hidden": true
   },
   "outputs": [],
   "source": [
    "x_train = X_train.drop( 'id', axis=1 )\n",
    "x_test = X_test.drop( 'id', axis=1 )"
   ]
  },
  {
   "cell_type": "markdown",
   "metadata": {
    "heading_collapsed": true,
    "hidden": true
   },
   "source": [
    "## 5.1. Baseline Model"
   ]
  },
  {
   "cell_type": "code",
   "execution_count": 35,
   "metadata": {
    "ExecuteTime": {
     "end_time": "2020-09-27T21:50:26.972985Z",
     "start_time": "2020-09-27T21:50:26.942662Z"
    },
    "hidden": true
   },
   "outputs": [],
   "source": [
    "country_destination_list = df1['country_destination'].drop_duplicates().sort_values().tolist()\n",
    "k_num = y_test.shape[0]\n",
    "country_destination_weights = df1['country_destination'].value_counts( normalize=True ).sort_index().tolist()\n",
    "\n",
    "yhat_random = random.choices( population=country_destination_list,  \n",
    "                              weights=country_destination_weights,\n",
    "                              k=k_num )"
   ]
  },
  {
   "cell_type": "markdown",
   "metadata": {
    "heading_collapsed": true,
    "hidden": true
   },
   "source": [
    "### 5.1. Baseline Model Performance"
   ]
  },
  {
   "cell_type": "code",
   "execution_count": 36,
   "metadata": {
    "ExecuteTime": {
     "end_time": "2020-09-27T21:50:29.842359Z",
     "start_time": "2020-09-27T21:50:28.072817Z"
    },
    "hidden": true
   },
   "outputs": [
    {
     "name": "stdout",
     "output_type": "stream",
     "text": [
      "Accuracy: 0.35543052837573386\n",
      "Balanced Accuracy:0.080003538573245\n",
      "Kappa Score: -0.0054367569742197475\n",
      "              precision    recall  f1-score   support\n",
      "\n",
      "          AU       0.00      0.00      0.00        87\n",
      "          CA       0.01      0.01      0.01       216\n",
      "          DE       0.00      0.00      0.00       164\n",
      "          ES       0.01      0.01      0.01       319\n",
      "          FR       0.04      0.04      0.04       736\n",
      "          GB       0.01      0.01      0.01       361\n",
      "          IT       0.01      0.01      0.01       420\n",
      "         NDF       0.44      0.44      0.44     10962\n",
      "          NL       0.00      0.00      0.00       105\n",
      "          PT       0.00      0.00      0.00        31\n",
      "          US       0.39      0.39      0.39      9606\n",
      "       other       0.06      0.06      0.06      1521\n",
      "\n",
      "    accuracy                           0.36     24528\n",
      "   macro avg       0.08      0.08      0.08     24528\n",
      "weighted avg       0.36      0.36      0.36     24528\n",
      "\n"
     ]
    },
    {
     "data": {
      "text/plain": [
       "<AxesSubplot:title={'center':'Confusion Matrix'}, xlabel='Predicted label', ylabel='True label'>"
      ]
     },
     "execution_count": 36,
     "metadata": {},
     "output_type": "execute_result"
    },
    {
     "data": {
      "image/png": "[encoded data removed]",
      "text/plain": [
       "<Figure size 864x864 with 2 Axes>"
      ]
     },
     "metadata": {
      "needs_background": "light"
     },
     "output_type": "display_data"
    }
   ],
   "source": [
    "# Accuracy\n",
    "acc_random = m.accuracy_score( y_test, yhat_random )\n",
    "print( 'Accuracy: {}'.format( acc_random ) )\n",
    "\n",
    "# Balanced Accuray\n",
    "balanced_acc_random = m.balanced_accuracy_score( y_test, yhat_random )\n",
    "print( 'Balanced Accuracy:{}'.format( balanced_acc_random ) )\n",
    "\n",
    "# Kappa Metrics\n",
    "kappa_random = m.cohen_kappa_score( y_test, yhat_random )\n",
    "print( 'Kappa Score: {}'.format( kappa_random ) )\n",
    "\n",
    "# Classification report\n",
    "print( m.classification_report( y_test, yhat_random ) )\n",
    "\n",
    "# Confusion Matrix\n",
    "mt.plot_confusion_matrix( y_test, yhat_random, normalize=False, figsize=(12,12))"
   ]
  },
  {
   "cell_type": "markdown",
   "metadata": {
    "heading_collapsed": true,
    "hidden": true
   },
   "source": [
    "## 5.2. Neural Network - MLP"
   ]
  },
  {
   "cell_type": "code",
   "execution_count": 37,
   "metadata": {
    "ExecuteTime": {
     "end_time": "2020-09-27T21:50:29.876446Z",
     "start_time": "2020-09-27T21:50:29.844051Z"
    },
    "hidden": true
   },
   "outputs": [],
   "source": [
    "ohe = pp.OneHotEncoder()\n",
    "y_train_nn = ohe.fit_transform( y_train.values.reshape( -1, 1 ) ).toarray()"
   ]
  },
  {
   "cell_type": "code",
   "execution_count": 38,
   "metadata": {
    "ExecuteTime": {
     "end_time": "2020-09-27T21:50:30.063063Z",
     "start_time": "2020-09-27T21:50:30.059477Z"
    },
    "hidden": true
   },
   "outputs": [
    {
     "data": {
      "text/plain": [
       "(98108, 120)"
      ]
     },
     "execution_count": 38,
     "metadata": {},
     "output_type": "execute_result"
    }
   ],
   "source": [
    "x_train.shape"
   ]
  },
  {
   "cell_type": "code",
   "execution_count": 39,
   "metadata": {
    "ExecuteTime": {
     "end_time": "2020-09-27T21:53:51.735441Z",
     "start_time": "2020-09-27T21:50:31.490300Z"
    },
    "hidden": true
   },
   "outputs": [
    {
     "name": "stdout",
     "output_type": "stream",
     "text": [
      "Epoch 1/100\n",
      "3066/3066 [==============================] - 2s 602us/step - loss: 1.3013 - accuracy: 0.5229\n",
      "Epoch 2/100\n",
      "3066/3066 [==============================] - 2s 581us/step - loss: 1.2761 - accuracy: 0.5304\n",
      "Epoch 3/100\n",
      "3066/3066 [==============================] - 2s 576us/step - loss: 1.2708 - accuracy: 0.5324\n",
      "Epoch 4/100\n",
      "3066/3066 [==============================] - 2s 589us/step - loss: 1.2680 - accuracy: 0.5321\n",
      "Epoch 5/100\n",
      "3066/3066 [==============================] - 2s 596us/step - loss: 1.2660 - accuracy: 0.5334\n",
      "Epoch 6/100\n",
      "3066/3066 [==============================] - 2s 572us/step - loss: 1.2644 - accuracy: 0.5343\n",
      "Epoch 7/100\n",
      "3066/3066 [==============================] - 2s 574us/step - loss: 1.2632 - accuracy: 0.5351\n",
      "Epoch 8/100\n",
      "3066/3066 [==============================] - 2s 595us/step - loss: 1.2625 - accuracy: 0.5360\n",
      "Epoch 9/100\n",
      "3066/3066 [==============================] - 2s 565us/step - loss: 1.2613 - accuracy: 0.5367\n",
      "Epoch 10/100\n",
      "3066/3066 [==============================] - 2s 569us/step - loss: 1.2599 - accuracy: 0.5372\n",
      "Epoch 11/100\n",
      "3066/3066 [==============================] - 2s 586us/step - loss: 1.2594 - accuracy: 0.5362\n",
      "Epoch 12/100\n",
      "3066/3066 [==============================] - 2s 566us/step - loss: 1.2582 - accuracy: 0.5364\n",
      "Epoch 13/100\n",
      "3066/3066 [==============================] - 2s 571us/step - loss: 1.2576 - accuracy: 0.5373\n",
      "Epoch 14/100\n",
      "3066/3066 [==============================] - 2s 603us/step - loss: 1.2571 - accuracy: 0.5375\n",
      "Epoch 15/100\n",
      "3066/3066 [==============================] - 2s 594us/step - loss: 1.2559 - accuracy: 0.5381\n",
      "Epoch 16/100\n",
      "3066/3066 [==============================] - 2s 614us/step - loss: 1.2554 - accuracy: 0.5372\n",
      "Epoch 17/100\n",
      "3066/3066 [==============================] - 2s 684us/step - loss: 1.2544 - accuracy: 0.5372\n",
      "Epoch 18/100\n",
      "3066/3066 [==============================] - 2s 609us/step - loss: 1.2544 - accuracy: 0.5380\n",
      "Epoch 19/100\n",
      "3066/3066 [==============================] - 2s 765us/step - loss: 1.2537 - accuracy: 0.5374\n",
      "Epoch 20/100\n",
      "3066/3066 [==============================] - 2s 664us/step - loss: 1.2527 - accuracy: 0.5375\n",
      "Epoch 21/100\n",
      "3066/3066 [==============================] - 2s 669us/step - loss: 1.2526 - accuracy: 0.5378\n",
      "Epoch 22/100\n",
      "3066/3066 [==============================] - 2s 601us/step - loss: 1.2522 - accuracy: 0.5381\n",
      "Epoch 23/100\n",
      "3066/3066 [==============================] - 2s 620us/step - loss: 1.2509 - accuracy: 0.53860s - loss:\n",
      "Epoch 24/100\n",
      "3066/3066 [==============================] - 2s 575us/step - loss: 1.2505 - accuracy: 0.5374\n",
      "Epoch 25/100\n",
      "3066/3066 [==============================] - 2s 561us/step - loss: 1.2496 - accuracy: 0.5388\n",
      "Epoch 26/100\n",
      "3066/3066 [==============================] - 2s 757us/step - loss: 1.2500 - accuracy: 0.5389\n",
      "Epoch 27/100\n",
      "3066/3066 [==============================] - 2s 577us/step - loss: 1.2491 - accuracy: 0.5389\n",
      "Epoch 28/100\n",
      "3066/3066 [==============================] - 2s 628us/step - loss: 1.2484 - accuracy: 0.5386\n",
      "Epoch 29/100\n",
      "3066/3066 [==============================] - 2s 628us/step - loss: 1.2483 - accuracy: 0.5392\n",
      "Epoch 30/100\n",
      "3066/3066 [==============================] - 2s 600us/step - loss: 1.2474 - accuracy: 0.5394\n",
      "Epoch 31/100\n",
      "3066/3066 [==============================] - 2s 698us/step - loss: 1.2473 - accuracy: 0.5397\n",
      "Epoch 32/100\n",
      "3066/3066 [==============================] - 2s 646us/step - loss: 1.2466 - accuracy: 0.5397\n",
      "Epoch 33/100\n",
      "3066/3066 [==============================] - 2s 580us/step - loss: 1.2465 - accuracy: 0.5408\n",
      "Epoch 34/100\n",
      "3066/3066 [==============================] - 2s 607us/step - loss: 1.2457 - accuracy: 0.5399\n",
      "Epoch 35/100\n",
      "3066/3066 [==============================] - 2s 595us/step - loss: 1.2455 - accuracy: 0.5388\n",
      "Epoch 36/100\n",
      "3066/3066 [==============================] - 2s 599us/step - loss: 1.2455 - accuracy: 0.5395\n",
      "Epoch 37/100\n",
      "3066/3066 [==============================] - 2s 610us/step - loss: 1.2447 - accuracy: 0.5410\n",
      "Epoch 38/100\n",
      "3066/3066 [==============================] - 2s 616us/step - loss: 1.2446 - accuracy: 0.5396\n",
      "Epoch 39/100\n",
      "3066/3066 [==============================] - 2s 584us/step - loss: 1.2445 - accuracy: 0.5405\n",
      "Epoch 40/100\n",
      "3066/3066 [==============================] - 2s 612us/step - loss: 1.2439 - accuracy: 0.5403\n",
      "Epoch 41/100\n",
      "3066/3066 [==============================] - 2s 763us/step - loss: 1.2442 - accuracy: 0.5408\n",
      "Epoch 42/100\n",
      "3066/3066 [==============================] - 2s 745us/step - loss: 1.2433 - accuracy: 0.5407\n",
      "Epoch 43/100\n",
      "3066/3066 [==============================] - 2s 703us/step - loss: 1.2432 - accuracy: 0.5399\n",
      "Epoch 44/100\n",
      "3066/3066 [==============================] - 2s 691us/step - loss: 1.2422 - accuracy: 0.5407\n",
      "Epoch 45/100\n",
      "3066/3066 [==============================] - 2s 689us/step - loss: 1.2425 - accuracy: 0.5402\n",
      "Epoch 46/100\n",
      "3066/3066 [==============================] - 2s 697us/step - loss: 1.2420 - accuracy: 0.5407\n",
      "Epoch 47/100\n",
      "3066/3066 [==============================] - 2s 707us/step - loss: 1.2422 - accuracy: 0.5403\n",
      "Epoch 48/100\n",
      "3066/3066 [==============================] - 2s 702us/step - loss: 1.2418 - accuracy: 0.5400\n",
      "Epoch 49/100\n",
      "3066/3066 [==============================] - 2s 719us/step - loss: 1.2414 - accuracy: 0.5406\n",
      "Epoch 50/100\n",
      "3066/3066 [==============================] - 2s 696us/step - loss: 1.2409 - accuracy: 0.5407\n",
      "Epoch 51/100\n",
      "3066/3066 [==============================] - 2s 711us/step - loss: 1.2410 - accuracy: 0.5410\n",
      "Epoch 52/100\n",
      "3066/3066 [==============================] - 2s 696us/step - loss: 1.2406 - accuracy: 0.5413\n",
      "Epoch 53/100\n",
      "3066/3066 [==============================] - 2s 700us/step - loss: 1.2406 - accuracy: 0.5408\n",
      "Epoch 54/100\n",
      "3066/3066 [==============================] - 2s 701us/step - loss: 1.2397 - accuracy: 0.5410\n",
      "Epoch 55/100\n",
      "3066/3066 [==============================] - 2s 690us/step - loss: 1.2400 - accuracy: 0.5416\n",
      "Epoch 56/100\n",
      "3066/3066 [==============================] - 2s 724us/step - loss: 1.2395 - accuracy: 0.5412\n",
      "Epoch 57/100\n",
      "3066/3066 [==============================] - 2s 705us/step - loss: 1.2393 - accuracy: 0.5409\n",
      "Epoch 58/100\n",
      "3066/3066 [==============================] - 2s 753us/step - loss: 1.2396 - accuracy: 0.5406\n",
      "Epoch 59/100\n",
      "3066/3066 [==============================] - 2s 718us/step - loss: 1.2395 - accuracy: 0.5411\n",
      "Epoch 60/100\n",
      "3066/3066 [==============================] - 2s 714us/step - loss: 1.2387 - accuracy: 0.5417\n",
      "Epoch 61/100\n",
      "3066/3066 [==============================] - 2s 719us/step - loss: 1.2385 - accuracy: 0.5420\n",
      "Epoch 62/100\n",
      "3066/3066 [==============================] - 2s 708us/step - loss: 1.2385 - accuracy: 0.5416\n",
      "Epoch 63/100\n",
      "3066/3066 [==============================] - 2s 762us/step - loss: 1.2379 - accuracy: 0.5424\n",
      "Epoch 64/100\n",
      "3066/3066 [==============================] - 2s 763us/step - loss: 1.2382 - accuracy: 0.5413\n",
      "Epoch 65/100\n",
      "3066/3066 [==============================] - 2s 794us/step - loss: 1.2383 - accuracy: 0.5417\n",
      "Epoch 66/100\n",
      "3066/3066 [==============================] - 3s 893us/step - loss: 1.2374 - accuracy: 0.5422\n",
      "Epoch 67/100\n",
      "3066/3066 [==============================] - 2s 758us/step - loss: 1.2377 - accuracy: 0.5424\n",
      "Epoch 68/100\n",
      "3066/3066 [==============================] - 2s 727us/step - loss: 1.2372 - accuracy: 0.5417\n",
      "Epoch 69/100\n",
      "3066/3066 [==============================] - 2s 651us/step - loss: 1.2375 - accuracy: 0.5415\n",
      "Epoch 70/100\n",
      "3066/3066 [==============================] - 2s 683us/step - loss: 1.2370 - accuracy: 0.5417\n",
      "Epoch 71/100\n",
      "3066/3066 [==============================] - 2s 618us/step - loss: 1.2370 - accuracy: 0.5412\n",
      "Epoch 72/100\n",
      "3066/3066 [==============================] - 2s 753us/step - loss: 1.2368 - accuracy: 0.5417\n",
      "Epoch 73/100\n",
      "3066/3066 [==============================] - 2s 656us/step - loss: 1.2365 - accuracy: 0.5424\n",
      "Epoch 74/100\n",
      "3066/3066 [==============================] - 2s 616us/step - loss: 1.2369 - accuracy: 0.5419\n",
      "Epoch 75/100\n",
      "3066/3066 [==============================] - 2s 707us/step - loss: 1.2363 - accuracy: 0.5426\n",
      "Epoch 76/100\n",
      "3066/3066 [==============================] - 2s 713us/step - loss: 1.2363 - accuracy: 0.54151s - loss: 1.2308 - accuracy:  - E\n",
      "Epoch 77/100\n",
      "3066/3066 [==============================] - 2s 638us/step - loss: 1.2359 - accuracy: 0.5420\n"
     ]
    },
    {
     "name": "stdout",
     "output_type": "stream",
     "text": [
      "Epoch 78/100\n",
      "3066/3066 [==============================] - 2s 695us/step - loss: 1.2361 - accuracy: 0.5418\n",
      "Epoch 79/100\n",
      "3066/3066 [==============================] - 2s 732us/step - loss: 1.2356 - accuracy: 0.5425\n",
      "Epoch 80/100\n",
      "3066/3066 [==============================] - 2s 653us/step - loss: 1.2360 - accuracy: 0.5417\n",
      "Epoch 81/100\n",
      "3066/3066 [==============================] - 2s 579us/step - loss: 1.2352 - accuracy: 0.5415\n",
      "Epoch 82/100\n",
      "3066/3066 [==============================] - 2s 699us/step - loss: 1.2354 - accuracy: 0.5430\n",
      "Epoch 83/100\n",
      "3066/3066 [==============================] - 2s 732us/step - loss: 1.2351 - accuracy: 0.5421\n",
      "Epoch 84/100\n",
      "3066/3066 [==============================] - 2s 577us/step - loss: 1.2350 - accuracy: 0.5431\n",
      "Epoch 85/100\n",
      "3066/3066 [==============================] - 2s 564us/step - loss: 1.2350 - accuracy: 0.5422\n",
      "Epoch 86/100\n",
      "3066/3066 [==============================] - 2s 582us/step - loss: 1.2344 - accuracy: 0.5432\n",
      "Epoch 87/100\n",
      "3066/3066 [==============================] - 2s 606us/step - loss: 1.2349 - accuracy: 0.5427\n",
      "Epoch 88/100\n",
      "3066/3066 [==============================] - 2s 570us/step - loss: 1.2349 - accuracy: 0.5431\n",
      "Epoch 89/100\n",
      "3066/3066 [==============================] - 2s 593us/step - loss: 1.2343 - accuracy: 0.5439\n",
      "Epoch 90/100\n",
      "3066/3066 [==============================] - 2s 675us/step - loss: 1.2345 - accuracy: 0.5423\n",
      "Epoch 91/100\n",
      "3066/3066 [==============================] - 2s 579us/step - loss: 1.2346 - accuracy: 0.5424\n",
      "Epoch 92/100\n",
      "3066/3066 [==============================] - 2s 606us/step - loss: 1.2347 - accuracy: 0.5425\n",
      "Epoch 93/100\n",
      "3066/3066 [==============================] - 2s 585us/step - loss: 1.2341 - accuracy: 0.5434\n",
      "Epoch 94/100\n",
      "3066/3066 [==============================] - 2s 581us/step - loss: 1.2344 - accuracy: 0.5436\n",
      "Epoch 95/100\n",
      "3066/3066 [==============================] - 2s 615us/step - loss: 1.2337 - accuracy: 0.5432\n",
      "Epoch 96/100\n",
      "3066/3066 [==============================] - 2s 573us/step - loss: 1.2340 - accuracy: 0.5426\n",
      "Epoch 97/100\n",
      "3066/3066 [==============================] - 2s 593us/step - loss: 1.2334 - accuracy: 0.5434\n",
      "Epoch 98/100\n",
      "3066/3066 [==============================] - 2s 597us/step - loss: 1.2335 - accuracy: 0.5428\n",
      "Epoch 99/100\n",
      "3066/3066 [==============================] - 2s 612us/step - loss: 1.2338 - accuracy: 0.5434\n",
      "Epoch 100/100\n",
      "3066/3066 [==============================] - 2s 612us/step - loss: 1.2336 - accuracy: 0.5428\n"
     ]
    },
    {
     "data": {
      "text/plain": [
       "<tensorflow.python.keras.callbacks.History at 0x14f442dc0>"
      ]
     },
     "execution_count": 39,
     "metadata": {},
     "output_type": "execute_result"
    }
   ],
   "source": [
    "# model definition\n",
    "model = ml.Sequential()\n",
    "model.add( l.Dense( 256, input_dim=x_train.shape[1], activation='relu' ) )\n",
    "model.add( l.Dense( 12, activation='softmax') )\n",
    "\n",
    "# model compile\n",
    "model.compile( loss='categorical_crossentropy', optimizer='adam', metrics=['accuracy'] )\n",
    "\n",
    "# train model\n",
    "model.fit( x_train, y_train_nn, epochs=100 )"
   ]
  },
  {
   "cell_type": "markdown",
   "metadata": {
    "heading_collapsed": true,
    "hidden": true
   },
   "source": [
    "### 5.2.1. NN Performance"
   ]
  },
  {
   "cell_type": "code",
   "execution_count": 40,
   "metadata": {
    "ExecuteTime": {
     "end_time": "2020-09-27T21:53:52.114429Z",
     "start_time": "2020-09-27T21:53:51.736823Z"
    },
    "hidden": true
   },
   "outputs": [],
   "source": [
    "# prediction\n",
    "pred_nn = model.predict( x_test )\n",
    "\n",
    "# invert prediction\n",
    "yhat_nn = ohe.inverse_transform( pred_nn )\n",
    "\n",
    "# prediction prepare\n",
    "y_test_nn = y_test.to_numpy()\n",
    "yhat_nn = yhat_nn.reshape( 1, -1 )[0]"
   ]
  },
  {
   "cell_type": "code",
   "execution_count": 41,
   "metadata": {
    "ExecuteTime": {
     "end_time": "2020-09-27T21:53:54.231388Z",
     "start_time": "2020-09-27T21:53:52.116787Z"
    },
    "hidden": true
   },
   "outputs": [
    {
     "name": "stdout",
     "output_type": "stream",
     "text": [
      "Accuracy: 0.5328196347031964\n",
      "Balanced Accuracy:0.10677649948352334\n",
      "Kappa Score: 0.19813801275787624\n"
     ]
    },
    {
     "name": "stderr",
     "output_type": "stream",
     "text": [
      "/Users/meigarom.lopes/.pyenv/versions/3.8.0/envs/airbnbpredictfirstbooking/lib/python3.8/site-packages/sklearn/metrics/_classification.py:1221: UndefinedMetricWarning: Precision and F-score are ill-defined and being set to 0.0 in labels with no predicted samples. Use `zero_division` parameter to control this behavior.\n",
      "  _warn_prf(average, modifier, msg_start, len(result))\n"
     ]
    },
    {
     "name": "stdout",
     "output_type": "stream",
     "text": [
      "              precision    recall  f1-score   support\n",
      "\n",
      "          AU       0.00      0.00      0.00        87\n",
      "          CA       0.00      0.00      0.00       216\n",
      "          DE       0.33      0.01      0.01       164\n",
      "          ES       0.25      0.00      0.01       319\n",
      "          FR       0.00      0.00      0.00       736\n",
      "          GB       0.00      0.00      0.00       361\n",
      "          IT       0.00      0.00      0.00       420\n",
      "         NDF       0.58      0.62      0.60     10962\n",
      "          NL       0.00      0.00      0.00       105\n",
      "          PT       0.00      0.00      0.00        31\n",
      "          US       0.49      0.65      0.56      9606\n",
      "       other       0.00      0.00      0.00      1521\n",
      "\n",
      "    accuracy                           0.53     24528\n",
      "   macro avg       0.14      0.11      0.10     24528\n",
      "weighted avg       0.46      0.53      0.49     24528\n",
      "\n"
     ]
    },
    {
     "data": {
      "text/plain": [
       "<AxesSubplot:title={'center':'Confusion Matrix'}, xlabel='Predicted label', ylabel='True label'>"
      ]
     },
     "execution_count": 41,
     "metadata": {},
     "output_type": "execute_result"
    },
    {
     "data": {
      "image/png": "[encoded data removed]",
      "text/plain": [
       "<Figure size 864x864 with 2 Axes>"
      ]
     },
     "metadata": {
      "needs_background": "light"
     },
     "output_type": "display_data"
    }
   ],
   "source": [
    "# Accuracy\n",
    "acc_nn = m.accuracy_score( y_test_nn, yhat_nn )\n",
    "print( 'Accuracy: {}'.format( acc_nn ) )\n",
    "\n",
    "# Balanced Accuray\n",
    "balanced_acc_nn = m.balanced_accuracy_score( y_test_nn, yhat_nn )\n",
    "print( 'Balanced Accuracy:{}'.format( balanced_acc_nn ) )\n",
    "\n",
    "# Kappa Metrics\n",
    "kappa_nn = m.cohen_kappa_score( y_test_nn, yhat_nn )\n",
    "print( 'Kappa Score: {}'.format( kappa_nn ) )\n",
    "\n",
    "# Classification report\n",
    "print( m.classification_report( y_test_nn, yhat_nn ) )\n",
    "\n",
    "# Confusion Matrix\n",
    "mt.plot_confusion_matrix( y_test_nn, yhat_nn, normalize=False, figsize=(12,12))"
   ]
  },
  {
   "cell_type": "markdown",
   "metadata": {
    "heading_collapsed": true,
    "hidden": true
   },
   "source": [
    "### 5.2.3. NN Performance - Cross-Validation"
   ]
  },
  {
   "cell_type": "code",
   "execution_count": null,
   "metadata": {
    "ExecuteTime": {
     "end_time": "2020-09-17T23:33:51.307306Z",
     "start_time": "2020-09-17T23:33:50.670718Z"
    },
    "hidden": true
   },
   "outputs": [],
   "source": [
    "# generate k-fold\n",
    "num_folds = 5\n",
    "kfold = ms.StratifiedKFold( n_splits=num_folds, shuffle=True, random_state=32 )\n",
    "\n",
    "balanced_acc_list = []\n",
    "kappa_acc_list = []\n",
    "\n",
    "i = 1\n",
    "for train_ix, val_ix in kfold.split( x_train, y_train ):\n",
    "    print( 'Fold Number: {}/{}'.format( i, num_folds ) )\n",
    "    \n",
    "    # get fold\n",
    "    x_train_fold = x_train.iloc[train_ix]\n",
    "    y_train_fold = y_train.iloc[train_ix]\n",
    "    \n",
    "    x_val_fold = x_train.iloc[val_ix]\n",
    "    y_val_fold = y_train.iloc[val_ix]\n",
    "    \n",
    "    # target hot-encoding\n",
    "    ohe = pp.OneHotEncoder()\n",
    "    y_train_fold_nn = ohe.fit_transform( y_train_fold.values.reshape( -1, 1 ) ).toarray()\n",
    "\n",
    "    # model definition\n",
    "    model = ml.Sequential()\n",
    "    model.add( l.Dense( 256, input_dim=x_train.shape[1], activation='relu' ) )\n",
    "    model.add( l.Dense( 11, activation='softmax') )\n",
    "\n",
    "    # compile model\n",
    "    model.compile( loss='categorical_crossentropy', optimizer='adam', metrics=['accuracy'] )\n",
    "\n",
    "    # training model\n",
    "    model.fit( x_train_fold, y_train_fold_nn, epochs=100, batch_size=32, verbose=0 )\n",
    "\n",
    "    # prediction\n",
    "    pred_nn = model.predict( x_val_fold )\n",
    "    yhat_nn = ohe.inverse_transform( pred_nn )\n",
    "    \n",
    "    # prepare data\n",
    "    y_test_nn = y_val_fold.to_numpy()\n",
    "    yhat_nn = yhat_nn.reshape( 1, -1 )[0]\n",
    "\n",
    "    # metrics\n",
    "    ## Balanced Accuracy \n",
    "    balanced_acc_nn = m.balanced_accuracy_score( y_test_nn, yhat_nn )\n",
    "    balanced_acc_list.append( balanced_acc_nn )\n",
    "    \n",
    "    ## Kappa Metrics\n",
    "    kappa_acc_nn = m.cohen_kappa_score( y_test_nn, yhat_nn )\n",
    "    kappa_acc_list.append( kappa_acc_nn )\n",
    "    \n",
    "    i += 1"
   ]
  },
  {
   "cell_type": "code",
   "execution_count": null,
   "metadata": {
    "ExecuteTime": {
     "end_time": "2020-09-17T23:33:51.309995Z",
     "start_time": "2020-09-17T23:28:45.773Z"
    },
    "hidden": true
   },
   "outputs": [],
   "source": [
    "print( 'Avg Balanced Accuracy: {} +/- {}'.format( np.mean( balanced_acc_list ), np.std( balanced_acc_list ) )\n",
    "print( 'Avg Kappa: {} +/- {}'.format( np.mean( kappa_acc_list ), np.std( kappa_acc_list ) )"
   ]
  },
  {
   "cell_type": "code",
   "execution_count": null,
   "metadata": {
    "hidden": true
   },
   "outputs": [],
   "source": []
  },
  {
   "cell_type": "code",
   "execution_count": null,
   "metadata": {
    "hidden": true
   },
   "outputs": [],
   "source": []
  },
  {
   "cell_type": "code",
   "execution_count": null,
   "metadata": {
    "hidden": true
   },
   "outputs": [],
   "source": []
  },
  {
   "cell_type": "code",
   "execution_count": null,
   "metadata": {
    "hidden": true
   },
   "outputs": [],
   "source": []
  },
  {
   "cell_type": "code",
   "execution_count": null,
   "metadata": {
    "hidden": true
   },
   "outputs": [],
   "source": []
  },
  {
   "cell_type": "code",
   "execution_count": null,
   "metadata": {
    "hidden": true
   },
   "outputs": [],
   "source": []
  },
  {
   "cell_type": "code",
   "execution_count": null,
   "metadata": {
    "hidden": true
   },
   "outputs": [],
   "source": []
  },
  {
   "cell_type": "code",
   "execution_count": null,
   "metadata": {
    "hidden": true
   },
   "outputs": [],
   "source": []
  },
  {
   "cell_type": "code",
   "execution_count": null,
   "metadata": {
    "hidden": true
   },
   "outputs": [],
   "source": []
  },
  {
   "cell_type": "code",
   "execution_count": null,
   "metadata": {
    "hidden": true
   },
   "outputs": [],
   "source": []
  },
  {
   "cell_type": "code",
   "execution_count": null,
   "metadata": {
    "hidden": true
   },
   "outputs": [],
   "source": []
  },
  {
   "cell_type": "code",
   "execution_count": null,
   "metadata": {
    "hidden": true
   },
   "outputs": [],
   "source": []
  }
 ],
 "metadata": {
  "kernelspec": {
   "display_name": "Python 3",
   "language": "python",
   "name": "python3"
  },
  "language_info": {
   "codemirror_mode": {
    "name": "ipython",
    "version": 3
   },
   "file_extension": ".py",
   "mimetype": "text/x-python",
   "name": "python",
   "nbconvert_exporter": "python",
   "pygments_lexer": "ipython3",
   "version": "3.8.0"
  }
 },
 "nbformat": 4,
 "nbformat_minor": 4
}
