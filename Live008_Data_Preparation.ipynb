{
 "cells": [
  {
   "cell_type": "markdown",
   "metadata": {},
   "source": [
    "# Entender Problema"
   ]
  },
  {
   "cell_type": "markdown",
   "metadata": {
    "ExecuteTime": {
     "end_time": "2020-09-02T10:40:18.252578Z",
     "start_time": "2020-09-02T10:40:18.247319Z"
    }
   },
   "source": [
    "-- Objetivo do Problema:\n",
    "    -- 1.0. Previsao do primeiro destino que um novo usuário irá escolher.\n",
    "    \n",
    "    -- Porque?\n",
    "        -- Qual tipo de modelo de negócio do Airbnb?\n",
    "            -- Marketplace ( Conectar pessoas que oferecem acomodacao, com pessoas que estao procurando acomodacao)\n",
    "            -- Oferta ( pessoas oferecendo acomodacao )\n",
    "                -- Tamanho do portfólio.\n",
    "                -- Diversidade/Densidade de Portfólio.\n",
    "                -- Preco Medio\n",
    "                \n",
    "            -- Demanda ( pessoas procurando acomodacao )\n",
    "                -- Numero de Usuários\n",
    "                -- LTV ( Lifetime Value )\n",
    "                -- CAC ( Client Acquisition Cost )\n",
    "                \n",
    "                \n",
    "               Gross Revenue = ( Fee*Numero cliente ) - CAC \n",
    "    \n",
    "-- Proposta da Solucao\n",
    "\n",
    "    --- Modelo de Predivao do primeiro destino de um novo usario.\n",
    "    --- 1.0. Predicoes e salva em tabela do banco de dados. \n",
    "    --- 2.0. API \n",
    "            --- Input: usuario e suas caracteristicas\n",
    "            --- Output: usuario e suas caracteristicas com a **predicao do destino**\n",
    "            \n",
    "    --- 16 ciclos"
   ]
  },
  {
   "cell_type": "markdown",
   "metadata": {},
   "source": [
    "# 0.0. Imports"
   ]
  },
  {
   "cell_type": "code",
   "execution_count": 1,
   "metadata": {
    "ExecuteTime": {
     "end_time": "2020-12-13T10:15:53.154977Z",
     "start_time": "2020-12-13T10:15:47.226014Z"
    }
   },
   "outputs": [
    {
     "name": "stderr",
     "output_type": "stream",
     "text": [
      "/Users/meigarom.lopes/.pyenv/versions/3.8.0/envs/airbnbpredictfirstbooking/lib/python3.8/site-packages/pandas/compat/__init__.py:120: UserWarning: Could not import the lzma module. Your installed Python is incomplete. Attempting to use lzma compression will result in a RuntimeError.\n",
      "  warnings.warn(msg)\n"
     ]
    }
   ],
   "source": [
    "import random\n",
    "import numpy   as np\n",
    "import pandas  as pd\n",
    "import seaborn as sns\n",
    "\n",
    "from matplotlib import pyplot as plt\n",
    "\n",
    "from sklearn    import model_selection as ms\n",
    "from sklearn    import preprocessing   as pp\n",
    "from sklearn    import metrics         as m\n",
    "from scikitplot import metrics         as mt\n",
    "from scipy      import stats           as ss\n",
    "\n",
    "from imblearn   import under_sampling  as us\n",
    "from imblearn   import over_sampling   as oversamp\n",
    "from imblearn   import combine         as c\n",
    "\n",
    "from category_encoders import TargetEncoder\n",
    "\n",
    "from pandas_profiling import ProfileReport\n",
    "\n",
    "from keras import models as ml\n",
    "from keras import layers as l"
   ]
  },
  {
   "cell_type": "markdown",
   "metadata": {},
   "source": [
    "## 0.1. Helper Functions"
   ]
  },
  {
   "cell_type": "code",
   "execution_count": 2,
   "metadata": {
    "ExecuteTime": {
     "end_time": "2020-12-13T10:15:53.160655Z",
     "start_time": "2020-12-13T10:15:53.156634Z"
    }
   },
   "outputs": [],
   "source": [
    "def cramer_v( x, y ):\n",
    "    cm = pd.crosstab( x, y ).values\n",
    "    n = cm.sum()\n",
    "    r, k = cm.shape\n",
    "    \n",
    "    chi2 = ss.chi2_contingency( cm )[0]\n",
    "    chi2corr = max( 0, chi2 - (k-1)*(r-1)/(n-1) )\n",
    "    \n",
    "    kcorr = k - (k-1)**2/(n-1)\n",
    "    rcorr = r - (r-1)**2/(n-1)\n",
    "    \n",
    "    return np.sqrt( (chi2corr/n) / ( min( kcorr-1, rcorr-1 ) ) )"
   ]
  },
  {
   "cell_type": "markdown",
   "metadata": {},
   "source": [
    "## 0.2. Loading Data"
   ]
  },
  {
   "cell_type": "code",
   "execution_count": 3,
   "metadata": {
    "ExecuteTime": {
     "end_time": "2020-12-13T10:15:53.527676Z",
     "start_time": "2020-12-13T10:15:53.162983Z"
    }
   },
   "outputs": [
    {
     "data": {
      "text/plain": [
       "(213451, 16)"
      ]
     },
     "execution_count": 3,
     "metadata": {},
     "output_type": "execute_result"
    }
   ],
   "source": [
    "df_raw = pd.read_csv( 'dataset/training_users.csv', low_memory=True )\n",
    "df_raw.shape"
   ]
  },
  {
   "cell_type": "code",
   "execution_count": 4,
   "metadata": {
    "ExecuteTime": {
     "end_time": "2020-12-13T10:16:00.234012Z",
     "start_time": "2020-12-13T10:15:53.529204Z"
    }
   },
   "outputs": [
    {
     "data": {
      "text/plain": [
       "(10567737, 6)"
      ]
     },
     "execution_count": 4,
     "metadata": {},
     "output_type": "execute_result"
    }
   ],
   "source": [
    "df_sessions = pd.read_csv( 'dataset/sessions.csv', low_memory=True )\n",
    "df_sessions.shape"
   ]
  },
  {
   "cell_type": "markdown",
   "metadata": {},
   "source": [
    "# 1.0. Data Description"
   ]
  },
  {
   "cell_type": "code",
   "execution_count": 5,
   "metadata": {
    "ExecuteTime": {
     "end_time": "2020-12-13T10:28:23.882052Z",
     "start_time": "2020-12-13T10:28:23.780326Z"
    }
   },
   "outputs": [],
   "source": [
    "df1 = df_raw.copy()"
   ]
  },
  {
   "cell_type": "markdown",
   "metadata": {},
   "source": [
    "## 1.1. Data Dimension"
   ]
  },
  {
   "cell_type": "code",
   "execution_count": 6,
   "metadata": {
    "ExecuteTime": {
     "end_time": "2020-12-13T10:28:24.380037Z",
     "start_time": "2020-12-13T10:28:24.376402Z"
    }
   },
   "outputs": [
    {
     "name": "stdout",
     "output_type": "stream",
     "text": [
      "Number of rows: 213451\n",
      "Number of columns: 16\n"
     ]
    }
   ],
   "source": [
    "print( 'Number of rows: {}'.format( df1.shape[0] ) )\n",
    "print( 'Number of columns: {}'.format( df1.shape[1] ) )"
   ]
  },
  {
   "cell_type": "code",
   "execution_count": 7,
   "metadata": {
    "ExecuteTime": {
     "end_time": "2020-12-13T10:28:24.586582Z",
     "start_time": "2020-12-13T10:28:24.581690Z"
    }
   },
   "outputs": [
    {
     "name": "stdout",
     "output_type": "stream",
     "text": [
      "Number of rows: 10567737\n",
      "Number of columns: 6\n"
     ]
    }
   ],
   "source": [
    "print( 'Number of rows: {}'.format( df_sessions.shape[0] ) )\n",
    "print( 'Number of columns: {}'.format( df_sessions.shape[1] ) )"
   ]
  },
  {
   "cell_type": "markdown",
   "metadata": {},
   "source": [
    "## 1.2. Data Type"
   ]
  },
  {
   "cell_type": "code",
   "execution_count": 8,
   "metadata": {
    "ExecuteTime": {
     "end_time": "2020-12-13T10:28:24.936912Z",
     "start_time": "2020-12-13T10:28:24.927623Z"
    }
   },
   "outputs": [
    {
     "data": {
      "text/plain": [
       "id                          object\n",
       "date_account_created        object\n",
       "timestamp_first_active       int64\n",
       "date_first_booking          object\n",
       "gender                      object\n",
       "age                        float64\n",
       "signup_method               object\n",
       "signup_flow                  int64\n",
       "language                    object\n",
       "affiliate_channel           object\n",
       "affiliate_provider          object\n",
       "first_affiliate_tracked     object\n",
       "signup_app                  object\n",
       "first_device_type           object\n",
       "first_browser               object\n",
       "country_destination         object\n",
       "dtype: object"
      ]
     },
     "execution_count": 8,
     "metadata": {},
     "output_type": "execute_result"
    }
   ],
   "source": [
    "df1.dtypes"
   ]
  },
  {
   "cell_type": "code",
   "execution_count": 9,
   "metadata": {
    "ExecuteTime": {
     "end_time": "2020-12-13T10:28:25.730939Z",
     "start_time": "2020-12-13T10:28:25.725780Z"
    }
   },
   "outputs": [
    {
     "data": {
      "text/plain": [
       "user_id           object\n",
       "action            object\n",
       "action_type       object\n",
       "action_detail     object\n",
       "device_type       object\n",
       "secs_elapsed     float64\n",
       "dtype: object"
      ]
     },
     "execution_count": 9,
     "metadata": {},
     "output_type": "execute_result"
    }
   ],
   "source": [
    "df_sessions.dtypes"
   ]
  },
  {
   "cell_type": "markdown",
   "metadata": {},
   "source": [
    "## 1.3. NA Check"
   ]
  },
  {
   "cell_type": "code",
   "execution_count": 10,
   "metadata": {
    "ExecuteTime": {
     "end_time": "2020-12-13T10:28:26.279033Z",
     "start_time": "2020-12-13T10:28:26.153931Z"
    }
   },
   "outputs": [
    {
     "data": {
      "text/plain": [
       "id                         0.000000\n",
       "date_account_created       0.000000\n",
       "timestamp_first_active     0.000000\n",
       "date_first_booking         0.583473\n",
       "gender                     0.000000\n",
       "age                        0.412226\n",
       "signup_method              0.000000\n",
       "signup_flow                0.000000\n",
       "language                   0.000000\n",
       "affiliate_channel          0.000000\n",
       "affiliate_provider         0.000000\n",
       "first_affiliate_tracked    0.028414\n",
       "signup_app                 0.000000\n",
       "first_device_type          0.000000\n",
       "first_browser              0.000000\n",
       "country_destination        0.000000\n",
       "dtype: float64"
      ]
     },
     "execution_count": 10,
     "metadata": {},
     "output_type": "execute_result"
    }
   ],
   "source": [
    "df1.isna().sum() / len( df1 )"
   ]
  },
  {
   "cell_type": "code",
   "execution_count": 11,
   "metadata": {
    "ExecuteTime": {
     "end_time": "2020-12-13T10:28:28.619807Z",
     "start_time": "2020-12-13T10:28:26.332055Z"
    }
   },
   "outputs": [
    {
     "data": {
      "text/plain": [
       "user_id          0.003264\n",
       "action           0.007535\n",
       "action_type      0.106570\n",
       "action_detail    0.106570\n",
       "device_type      0.000000\n",
       "secs_elapsed     0.012872\n",
       "dtype: float64"
      ]
     },
     "execution_count": 11,
     "metadata": {},
     "output_type": "execute_result"
    }
   ],
   "source": [
    "df_sessions.isna().sum() / len( df_sessions)"
   ]
  },
  {
   "cell_type": "code",
   "execution_count": 12,
   "metadata": {
    "ExecuteTime": {
     "end_time": "2020-12-13T10:28:33.402328Z",
     "start_time": "2020-12-13T10:28:28.622416Z"
    }
   },
   "outputs": [],
   "source": [
    "# remove missing value completly\n",
    "#df1 = df1.dropna()\n",
    "\n",
    "# ========== User =================\n",
    "# date_first_booking\n",
    "date_first_booking_max = pd.to_datetime( df1['date_first_booking'] ).max().strftime( '%Y-%m-%d' )\n",
    "df1['date_first_booking'] = df1['date_first_booking'].fillna( date_first_booking_max )\n",
    "\n",
    "# age\n",
    "df1 = df1[( df1['age'] > 15 ) & ( df1['age'] < 120 )]\n",
    "avg_age = df1['age'].mean().astype( int )\n",
    "df1['age'] = df1['age'].fillna( avg_age )\n",
    "\n",
    "# first_affiliate_tracked\n",
    "df1 = df1[~df1['first_affiliate_tracked'].isna()]\n",
    "\n",
    "# ========== Sessions =================\n",
    "# user_id - 0.3%\n",
    "df_sessions = df_sessions[~df_sessions['user_id'].isna()]\n",
    "\n",
    "# action - 0.7%\n",
    "df_sessions = df_sessions[~df_sessions['action'].isna()]\n",
    "\n",
    "# action_type - 11%\n",
    "df_sessions = df_sessions[~df_sessions['action_type'].isna()]\n",
    "\n",
    "# action_detail - 11%\n",
    "df_sessions = df_sessions[~df_sessions['action_detail'].isna()]\n",
    "\n",
    "# secs_elapsed - 1.2%\n",
    "df_sessions = df_sessions[~df_sessions['secs_elapsed'].isna()]"
   ]
  },
  {
   "cell_type": "code",
   "execution_count": 13,
   "metadata": {
    "ExecuteTime": {
     "end_time": "2020-12-13T10:28:33.467425Z",
     "start_time": "2020-12-13T10:28:33.405089Z"
    }
   },
   "outputs": [
    {
     "data": {
      "text/plain": [
       "id                         0.0\n",
       "date_account_created       0.0\n",
       "timestamp_first_active     0.0\n",
       "date_first_booking         0.0\n",
       "gender                     0.0\n",
       "age                        0.0\n",
       "signup_method              0.0\n",
       "signup_flow                0.0\n",
       "language                   0.0\n",
       "affiliate_channel          0.0\n",
       "affiliate_provider         0.0\n",
       "first_affiliate_tracked    0.0\n",
       "signup_app                 0.0\n",
       "first_device_type          0.0\n",
       "first_browser              0.0\n",
       "country_destination        0.0\n",
       "dtype: float64"
      ]
     },
     "execution_count": 13,
     "metadata": {},
     "output_type": "execute_result"
    }
   ],
   "source": [
    "df1.isna().sum() / len( df1 )"
   ]
  },
  {
   "cell_type": "code",
   "execution_count": 14,
   "metadata": {
    "ExecuteTime": {
     "end_time": "2020-12-13T10:28:34.850537Z",
     "start_time": "2020-12-13T10:28:33.469779Z"
    }
   },
   "outputs": [
    {
     "data": {
      "text/plain": [
       "user_id          0.0\n",
       "action           0.0\n",
       "action_type      0.0\n",
       "action_detail    0.0\n",
       "device_type      0.0\n",
       "secs_elapsed     0.0\n",
       "dtype: float64"
      ]
     },
     "execution_count": 14,
     "metadata": {},
     "output_type": "execute_result"
    }
   ],
   "source": [
    "df_sessions.isna().sum() / len( df_sessions)"
   ]
  },
  {
   "cell_type": "markdown",
   "metadata": {},
   "source": [
    "## 1.4. Change Data Type"
   ]
  },
  {
   "cell_type": "code",
   "execution_count": 15,
   "metadata": {
    "ExecuteTime": {
     "end_time": "2020-12-13T10:28:34.857757Z",
     "start_time": "2020-12-13T10:28:34.852882Z"
    }
   },
   "outputs": [
    {
     "data": {
      "text/plain": [
       "id                          object\n",
       "date_account_created        object\n",
       "timestamp_first_active       int64\n",
       "date_first_booking          object\n",
       "gender                      object\n",
       "age                        float64\n",
       "signup_method               object\n",
       "signup_flow                  int64\n",
       "language                    object\n",
       "affiliate_channel           object\n",
       "affiliate_provider          object\n",
       "first_affiliate_tracked     object\n",
       "signup_app                  object\n",
       "first_device_type           object\n",
       "first_browser               object\n",
       "country_destination         object\n",
       "dtype: object"
      ]
     },
     "execution_count": 15,
     "metadata": {},
     "output_type": "execute_result"
    }
   ],
   "source": [
    "df1.dtypes"
   ]
  },
  {
   "cell_type": "code",
   "execution_count": 16,
   "metadata": {
    "ExecuteTime": {
     "end_time": "2020-12-13T10:28:35.412777Z",
     "start_time": "2020-12-13T10:28:34.859744Z"
    }
   },
   "outputs": [],
   "source": [
    "# date_account_created\n",
    "df1['date_account_created'] = pd.to_datetime( df1['date_account_created'] )\n",
    "\n",
    "# timestamp_first_active\n",
    "df1['timestamp_first_active'] = pd.to_datetime( df1['timestamp_first_active'], format='%Y%m%d%H%M%S' )\n",
    "\n",
    "# date_first_booking\n",
    "df1['date_first_booking'] = pd.to_datetime( df1['date_first_booking'] )\n",
    "\n",
    "# age\n",
    "df1['age'] = df1['age'].astype( int )"
   ]
  },
  {
   "cell_type": "markdown",
   "metadata": {},
   "source": [
    "## 1.5. Check Balanced Data"
   ]
  },
  {
   "cell_type": "code",
   "execution_count": 17,
   "metadata": {
    "ExecuteTime": {
     "end_time": "2020-12-13T10:28:35.432129Z",
     "start_time": "2020-12-13T10:28:35.414608Z"
    }
   },
   "outputs": [
    {
     "data": {
      "text/plain": [
       "NDF      54852\n",
       "US       48057\n",
       "other     7511\n",
       "FR        3669\n",
       "IT        2014\n",
       "GB        1758\n",
       "ES        1685\n",
       "CA        1064\n",
       "DE         841\n",
       "NL         595\n",
       "AU         433\n",
       "PT         157\n",
       "Name: country_destination, dtype: int64"
      ]
     },
     "execution_count": 17,
     "metadata": {},
     "output_type": "execute_result"
    }
   ],
   "source": [
    "#df1['country_destination'].value_counts( normalize=True )\n",
    "df1['country_destination'].value_counts()"
   ]
  },
  {
   "cell_type": "markdown",
   "metadata": {},
   "source": [
    "## 1.6. Descriptive Analysis"
   ]
  },
  {
   "cell_type": "code",
   "execution_count": 18,
   "metadata": {
    "ExecuteTime": {
     "end_time": "2020-12-13T10:28:35.876380Z",
     "start_time": "2020-12-13T10:28:35.435562Z"
    }
   },
   "outputs": [],
   "source": [
    "# Users\n",
    "num_attributes = df1.select_dtypes( include=['int64', 'float64'] )\n",
    "cat_attributes = df1.select_dtypes( exclude=['int64', 'float64', 'datetime64[ns]'] )\n",
    "time_attributes = df1.select_dtypes( include=['datetime64[ns]'] )\n",
    "\n",
    "# Sessions\n",
    "num_attributes_sessions = df_sessions.select_dtypes( include=['int64', 'float64'] )\n",
    "cat_attributes_sessions = df_sessions.select_dtypes( exclude=['int64', 'float64', 'datetime64[ns]'] )\n",
    "time_attributes_sessions = df_sessions.select_dtypes( include=['datetime64[ns]'] )"
   ]
  },
  {
   "cell_type": "markdown",
   "metadata": {},
   "source": [
    "### 1.6.1. Numerical - Users"
   ]
  },
  {
   "cell_type": "code",
   "execution_count": 19,
   "metadata": {
    "ExecuteTime": {
     "end_time": "2020-12-13T10:28:35.982447Z",
     "start_time": "2020-12-13T10:28:35.878568Z"
    }
   },
   "outputs": [
    {
     "data": {
      "text/html": [
       "<div>\n",
       "<style scoped>\n",
       "    .dataframe tbody tr th:only-of-type {\n",
       "        vertical-align: middle;\n",
       "    }\n",
       "\n",
       "    .dataframe tbody tr th {\n",
       "        vertical-align: top;\n",
       "    }\n",
       "\n",
       "    .dataframe thead th {\n",
       "        text-align: right;\n",
       "    }\n",
       "</style>\n",
       "<table border=\"1\" class=\"dataframe\">\n",
       "  <thead>\n",
       "    <tr style=\"text-align: right;\">\n",
       "      <th></th>\n",
       "      <th>attributes</th>\n",
       "      <th>min</th>\n",
       "      <th>max</th>\n",
       "      <th>range</th>\n",
       "      <th>mean</th>\n",
       "      <th>median</th>\n",
       "      <th>std</th>\n",
       "      <th>skew</th>\n",
       "      <th>kurtosis</th>\n",
       "    </tr>\n",
       "  </thead>\n",
       "  <tbody>\n",
       "    <tr>\n",
       "      <th>0</th>\n",
       "      <td>age</td>\n",
       "      <td>16.0</td>\n",
       "      <td>115.0</td>\n",
       "      <td>99.0</td>\n",
       "      <td>37.405591</td>\n",
       "      <td>34.0</td>\n",
       "      <td>13.939844</td>\n",
       "      <td>2.089718</td>\n",
       "      <td>6.516468</td>\n",
       "    </tr>\n",
       "    <tr>\n",
       "      <th>1</th>\n",
       "      <td>signup_flow</td>\n",
       "      <td>0.0</td>\n",
       "      <td>25.0</td>\n",
       "      <td>25.0</td>\n",
       "      <td>2.519513</td>\n",
       "      <td>0.0</td>\n",
       "      <td>6.604696</td>\n",
       "      <td>2.705871</td>\n",
       "      <td>5.928298</td>\n",
       "    </tr>\n",
       "  </tbody>\n",
       "</table>\n",
       "</div>"
      ],
      "text/plain": [
       "    attributes   min    max  range       mean  median        std      skew  \\\n",
       "0          age  16.0  115.0   99.0  37.405591    34.0  13.939844  2.089718   \n",
       "1  signup_flow   0.0   25.0   25.0   2.519513     0.0   6.604696  2.705871   \n",
       "\n",
       "   kurtosis  \n",
       "0  6.516468  \n",
       "1  5.928298  "
      ]
     },
     "execution_count": 19,
     "metadata": {},
     "output_type": "execute_result"
    }
   ],
   "source": [
    "# Central Tendency - Mean, Mediana\n",
    "ct1 = pd.DataFrame( num_attributes.apply( np.mean ) ).T\n",
    "ct2 = pd.DataFrame( num_attributes.apply( np.median ) ).T\n",
    "\n",
    "# Dispersions - Std, Min, Max, Range, Skew, Kurtosis\n",
    "d1 = pd.DataFrame( num_attributes.apply( np.std ) ).T\n",
    "d2 = pd.DataFrame( num_attributes.apply( min ) ).T\n",
    "d3 = pd.DataFrame( num_attributes.apply( max ) ).T\n",
    "d4 = pd.DataFrame( num_attributes.apply( lambda x: x.max() - x.min() ) ).T\n",
    "d5 = pd.DataFrame( num_attributes.apply( lambda x: x.skew() ) ).T\n",
    "d6 = pd.DataFrame( num_attributes.apply( lambda x: x.kurtosis() ) ).T\n",
    "\n",
    "# Concatenar\n",
    "ct = pd.concat( [d2, d3, d4, ct1, ct2, d1, d5, d6] ).T.reset_index()\n",
    "ct.columns = ['attributes', 'min', 'max', 'range', 'mean', 'median', 'std', 'skew', 'kurtosis']\n",
    "ct"
   ]
  },
  {
   "cell_type": "markdown",
   "metadata": {},
   "source": [
    "### 1.6.2. Numerical - Sessions"
   ]
  },
  {
   "cell_type": "code",
   "execution_count": 20,
   "metadata": {
    "ExecuteTime": {
     "end_time": "2020-12-13T10:28:38.310261Z",
     "start_time": "2020-12-13T10:28:35.984477Z"
    }
   },
   "outputs": [
    {
     "data": {
      "text/html": [
       "<div>\n",
       "<style scoped>\n",
       "    .dataframe tbody tr th:only-of-type {\n",
       "        vertical-align: middle;\n",
       "    }\n",
       "\n",
       "    .dataframe tbody tr th {\n",
       "        vertical-align: top;\n",
       "    }\n",
       "\n",
       "    .dataframe thead th {\n",
       "        text-align: right;\n",
       "    }\n",
       "</style>\n",
       "<table border=\"1\" class=\"dataframe\">\n",
       "  <thead>\n",
       "    <tr style=\"text-align: right;\">\n",
       "      <th></th>\n",
       "      <th>attributes</th>\n",
       "      <th>min</th>\n",
       "      <th>max</th>\n",
       "      <th>range</th>\n",
       "      <th>mean</th>\n",
       "      <th>median</th>\n",
       "      <th>std</th>\n",
       "      <th>skew</th>\n",
       "      <th>kurtosis</th>\n",
       "    </tr>\n",
       "  </thead>\n",
       "  <tbody>\n",
       "    <tr>\n",
       "      <th>0</th>\n",
       "      <td>secs_elapsed</td>\n",
       "      <td>0.0</td>\n",
       "      <td>1799977.0</td>\n",
       "      <td>1799977.0</td>\n",
       "      <td>19961.8251</td>\n",
       "      <td>1369.0</td>\n",
       "      <td>88849.388449</td>\n",
       "      <td>11.137761</td>\n",
       "      <td>154.84312</td>\n",
       "    </tr>\n",
       "  </tbody>\n",
       "</table>\n",
       "</div>"
      ],
      "text/plain": [
       "     attributes  min        max      range        mean  median           std  \\\n",
       "0  secs_elapsed  0.0  1799977.0  1799977.0  19961.8251  1369.0  88849.388449   \n",
       "\n",
       "        skew   kurtosis  \n",
       "0  11.137761  154.84312  "
      ]
     },
     "execution_count": 20,
     "metadata": {},
     "output_type": "execute_result"
    }
   ],
   "source": [
    "# Central Tendency - Mean, Mediana\n",
    "ct1 = pd.DataFrame( num_attributes_sessions.apply( np.mean ) ).T\n",
    "ct2 = pd.DataFrame( num_attributes_sessions.apply( np.median ) ).T\n",
    "\n",
    "# Dispersions - Std, Min, Max, Range, Skew, Kurtosis\n",
    "d1 = pd.DataFrame( num_attributes_sessions.apply( np.std ) ).T\n",
    "d2 = pd.DataFrame( num_attributes_sessions.apply( min ) ).T\n",
    "d3 = pd.DataFrame( num_attributes_sessions.apply( max ) ).T\n",
    "d4 = pd.DataFrame( num_attributes_sessions.apply( lambda x: x.max() - x.min() ) ).T\n",
    "d5 = pd.DataFrame( num_attributes_sessions.apply( lambda x: x.skew() ) ).T\n",
    "d6 = pd.DataFrame( num_attributes_sessions.apply( lambda x: x.kurtosis() ) ).T\n",
    "\n",
    "# Concatenar\n",
    "ct = pd.concat( [d2, d3, d4, ct1, ct2, d1, d5, d6] ).T.reset_index()\n",
    "ct.columns = ['attributes', 'min', 'max', 'range', 'mean', 'median', 'std', 'skew', 'kurtosis']\n",
    "ct"
   ]
  },
  {
   "cell_type": "markdown",
   "metadata": {},
   "source": [
    "### 1.6.3. Categorial - Users"
   ]
  },
  {
   "cell_type": "code",
   "execution_count": 21,
   "metadata": {
    "ExecuteTime": {
     "end_time": "2020-12-13T10:28:38.497339Z",
     "start_time": "2020-12-13T10:28:38.312090Z"
    }
   },
   "outputs": [
    {
     "data": {
      "text/html": [
       "<div>\n",
       "<style scoped>\n",
       "    .dataframe tbody tr th:only-of-type {\n",
       "        vertical-align: middle;\n",
       "    }\n",
       "\n",
       "    .dataframe tbody tr th {\n",
       "        vertical-align: top;\n",
       "    }\n",
       "\n",
       "    .dataframe thead th {\n",
       "        text-align: right;\n",
       "    }\n",
       "</style>\n",
       "<table border=\"1\" class=\"dataframe\">\n",
       "  <thead>\n",
       "    <tr style=\"text-align: right;\">\n",
       "      <th></th>\n",
       "      <th>gender</th>\n",
       "      <th>signup_method</th>\n",
       "      <th>language</th>\n",
       "      <th>affiliate_channel</th>\n",
       "      <th>affiliate_provider</th>\n",
       "      <th>first_affiliate_tracked</th>\n",
       "      <th>signup_app</th>\n",
       "      <th>first_device_type</th>\n",
       "      <th>first_browser</th>\n",
       "      <th>country_destination</th>\n",
       "    </tr>\n",
       "  </thead>\n",
       "  <tbody>\n",
       "    <tr>\n",
       "      <th>count</th>\n",
       "      <td>122636</td>\n",
       "      <td>122636</td>\n",
       "      <td>122636</td>\n",
       "      <td>122636</td>\n",
       "      <td>122636</td>\n",
       "      <td>122636</td>\n",
       "      <td>122636</td>\n",
       "      <td>122636</td>\n",
       "      <td>122636</td>\n",
       "      <td>122636</td>\n",
       "    </tr>\n",
       "    <tr>\n",
       "      <th>unique</th>\n",
       "      <td>4</td>\n",
       "      <td>3</td>\n",
       "      <td>25</td>\n",
       "      <td>8</td>\n",
       "      <td>17</td>\n",
       "      <td>7</td>\n",
       "      <td>4</td>\n",
       "      <td>9</td>\n",
       "      <td>41</td>\n",
       "      <td>12</td>\n",
       "    </tr>\n",
       "    <tr>\n",
       "      <th>top</th>\n",
       "      <td>FEMALE</td>\n",
       "      <td>basic</td>\n",
       "      <td>en</td>\n",
       "      <td>direct</td>\n",
       "      <td>direct</td>\n",
       "      <td>untracked</td>\n",
       "      <td>Web</td>\n",
       "      <td>Mac Desktop</td>\n",
       "      <td>Chrome</td>\n",
       "      <td>NDF</td>\n",
       "    </tr>\n",
       "    <tr>\n",
       "      <th>freq</th>\n",
       "      <td>56362</td>\n",
       "      <td>66039</td>\n",
       "      <td>118205</td>\n",
       "      <td>79093</td>\n",
       "      <td>78954</td>\n",
       "      <td>64712</td>\n",
       "      <td>108283</td>\n",
       "      <td>57943</td>\n",
       "      <td>41778</td>\n",
       "      <td>54852</td>\n",
       "    </tr>\n",
       "  </tbody>\n",
       "</table>\n",
       "</div>"
      ],
      "text/plain": [
       "        gender signup_method language affiliate_channel affiliate_provider  \\\n",
       "count   122636        122636   122636            122636             122636   \n",
       "unique       4             3       25                 8                 17   \n",
       "top     FEMALE         basic       en            direct             direct   \n",
       "freq     56362         66039   118205             79093              78954   \n",
       "\n",
       "       first_affiliate_tracked signup_app first_device_type first_browser  \\\n",
       "count                   122636     122636            122636        122636   \n",
       "unique                       7          4                 9            41   \n",
       "top                  untracked        Web       Mac Desktop        Chrome   \n",
       "freq                     64712     108283             57943         41778   \n",
       "\n",
       "       country_destination  \n",
       "count               122636  \n",
       "unique                  12  \n",
       "top                    NDF  \n",
       "freq                 54852  "
      ]
     },
     "execution_count": 21,
     "metadata": {},
     "output_type": "execute_result"
    }
   ],
   "source": [
    "cat_attributes.drop( 'id', axis=1 ).describe()"
   ]
  },
  {
   "cell_type": "markdown",
   "metadata": {},
   "source": [
    "### 1.6.4. Categorial - Sesssions"
   ]
  },
  {
   "cell_type": "code",
   "execution_count": 22,
   "metadata": {
    "ExecuteTime": {
     "end_time": "2020-12-13T10:28:42.567031Z",
     "start_time": "2020-12-13T10:28:38.498979Z"
    }
   },
   "outputs": [
    {
     "data": {
      "text/html": [
       "<div>\n",
       "<style scoped>\n",
       "    .dataframe tbody tr th:only-of-type {\n",
       "        vertical-align: middle;\n",
       "    }\n",
       "\n",
       "    .dataframe tbody tr th {\n",
       "        vertical-align: top;\n",
       "    }\n",
       "\n",
       "    .dataframe thead th {\n",
       "        text-align: right;\n",
       "    }\n",
       "</style>\n",
       "<table border=\"1\" class=\"dataframe\">\n",
       "  <thead>\n",
       "    <tr style=\"text-align: right;\">\n",
       "      <th></th>\n",
       "      <th>action</th>\n",
       "      <th>action_type</th>\n",
       "      <th>action_detail</th>\n",
       "      <th>device_type</th>\n",
       "    </tr>\n",
       "  </thead>\n",
       "  <tbody>\n",
       "    <tr>\n",
       "      <th>count</th>\n",
       "      <td>9213930</td>\n",
       "      <td>9213930</td>\n",
       "      <td>9213930</td>\n",
       "      <td>9213930</td>\n",
       "    </tr>\n",
       "    <tr>\n",
       "      <th>unique</th>\n",
       "      <td>347</td>\n",
       "      <td>10</td>\n",
       "      <td>155</td>\n",
       "      <td>14</td>\n",
       "    </tr>\n",
       "    <tr>\n",
       "      <th>top</th>\n",
       "      <td>show</td>\n",
       "      <td>view</td>\n",
       "      <td>view_search_results</td>\n",
       "      <td>Mac Desktop</td>\n",
       "    </tr>\n",
       "    <tr>\n",
       "      <th>freq</th>\n",
       "      <td>2178382</td>\n",
       "      <td>3545621</td>\n",
       "      <td>1770931</td>\n",
       "      <td>3019523</td>\n",
       "    </tr>\n",
       "  </tbody>\n",
       "</table>\n",
       "</div>"
      ],
      "text/plain": [
       "         action action_type        action_detail  device_type\n",
       "count   9213930     9213930              9213930      9213930\n",
       "unique      347          10                  155           14\n",
       "top        show        view  view_search_results  Mac Desktop\n",
       "freq    2178382     3545621              1770931      3019523"
      ]
     },
     "execution_count": 22,
     "metadata": {},
     "output_type": "execute_result"
    }
   ],
   "source": [
    "cat_attributes_sessions.drop( 'user_id', axis=1 ).describe()"
   ]
  },
  {
   "cell_type": "markdown",
   "metadata": {},
   "source": [
    "### 1.6.5. Correlation Matrix - Sessions"
   ]
  },
  {
   "cell_type": "code",
   "execution_count": 23,
   "metadata": {
    "ExecuteTime": {
     "end_time": "2020-12-13T10:29:11.849061Z",
     "start_time": "2020-12-13T10:28:46.800279Z"
    }
   },
   "outputs": [],
   "source": [
    "cat_attributes_list = cat_attributes_sessions.drop( 'user_id', axis=1 ).columns.tolist()\n",
    "\n",
    "corr_dict = {}\n",
    "for i in range( len ( cat_attributes_list ) ):\n",
    "    corr_list = []\n",
    "    for j in range( len( cat_attributes_list ) ):\n",
    "        ref = cat_attributes_list[i]\n",
    "        feat = cat_attributes_list[j]\n",
    "        \n",
    "        # correlation\n",
    "        corr = cramer_v( cat_attributes_sessions[ ref ], cat_attributes_sessions[ feat ] )\n",
    "        \n",
    "        # append a list\n",
    "        corr_list.append( corr )\n",
    "    \n",
    "    # appende a correlation list for each ref attributs\n",
    "    corr_dict[ ref ] = corr_list"
   ]
  },
  {
   "cell_type": "code",
   "execution_count": 24,
   "metadata": {
    "ExecuteTime": {
     "end_time": "2020-12-13T10:29:12.203967Z",
     "start_time": "2020-12-13T10:29:11.851183Z"
    }
   },
   "outputs": [
    {
     "data": {
      "text/plain": [
       "<AxesSubplot:>"
      ]
     },
     "execution_count": 24,
     "metadata": {},
     "output_type": "execute_result"
    },
    {
     "data": {
      "image/png": "[encoded data removed]",
      "text/plain": [
       "<Figure size 432x288 with 2 Axes>"
      ]
     },
     "metadata": {
      "needs_background": "light"
     },
     "output_type": "display_data"
    }
   ],
   "source": [
    "d = pd.DataFrame( corr_dict )\n",
    "d = d.set_index( d.columns)\n",
    "sns.heatmap( d, annot=True )"
   ]
  },
  {
   "cell_type": "markdown",
   "metadata": {},
   "source": [
    "# 2.0. Feature Engineering"
   ]
  },
  {
   "cell_type": "code",
   "execution_count": 25,
   "metadata": {
    "ExecuteTime": {
     "end_time": "2020-12-13T10:29:12.222744Z",
     "start_time": "2020-12-13T10:29:12.206425Z"
    }
   },
   "outputs": [
    {
     "data": {
      "text/plain": [
       "(122636, 16)"
      ]
     },
     "execution_count": 25,
     "metadata": {},
     "output_type": "execute_result"
    }
   ],
   "source": [
    "df2 = df1.copy()\n",
    "df2.shape"
   ]
  },
  {
   "cell_type": "code",
   "execution_count": 26,
   "metadata": {
    "ExecuteTime": {
     "end_time": "2020-12-13T10:29:12.231259Z",
     "start_time": "2020-12-13T10:29:12.225549Z"
    }
   },
   "outputs": [
    {
     "data": {
      "text/plain": [
       "id                                 object\n",
       "date_account_created       datetime64[ns]\n",
       "timestamp_first_active     datetime64[ns]\n",
       "date_first_booking         datetime64[ns]\n",
       "gender                             object\n",
       "age                                 int64\n",
       "signup_method                      object\n",
       "signup_flow                         int64\n",
       "language                           object\n",
       "affiliate_channel                  object\n",
       "affiliate_provider                 object\n",
       "first_affiliate_tracked            object\n",
       "signup_app                         object\n",
       "first_device_type                  object\n",
       "first_browser                      object\n",
       "country_destination                object\n",
       "dtype: object"
      ]
     },
     "execution_count": 26,
     "metadata": {},
     "output_type": "execute_result"
    }
   ],
   "source": [
    "df2.dtypes"
   ]
  },
  {
   "cell_type": "markdown",
   "metadata": {},
   "source": [
    "## 2.1. Create New Features"
   ]
  },
  {
   "cell_type": "code",
   "execution_count": 27,
   "metadata": {
    "ExecuteTime": {
     "end_time": "2020-12-13T10:29:16.754667Z",
     "start_time": "2020-12-13T10:29:12.233463Z"
    }
   },
   "outputs": [
    {
     "name": "stderr",
     "output_type": "stream",
     "text": [
      "<ipython-input-27-54673a523de7>:25: FutureWarning: Series.dt.weekofyear and Series.dt.week have been deprecated.  Please use Series.dt.isocalendar().week instead.\n",
      "  df2['week_of_year_first_active'] = df2['first_active'].dt.weekofyear\n",
      "<ipython-input-27-54673a523de7>:41: FutureWarning: Series.dt.weekofyear and Series.dt.week have been deprecated.  Please use Series.dt.isocalendar().week instead.\n",
      "  df2['week_of_year_first_booking'] = df2['date_first_booking'].dt.weekofyear\n",
      "<ipython-input-27-54673a523de7>:57: FutureWarning: Series.dt.weekofyear and Series.dt.week have been deprecated.  Please use Series.dt.isocalendar().week instead.\n",
      "  df2['week_of_year_account_created'] = df2['date_account_created'].dt.weekofyear\n"
     ]
    }
   ],
   "source": [
    "# days from first active up to first booking\n",
    "df2['first_active'] = pd.to_datetime( df2['timestamp_first_active'].dt.strftime( '%Y-%m-%d' ) )\n",
    "df2['days_from_first_active_until_booking'] = ( df2['date_first_booking'] - df2['first_active'] ).apply( lambda x: x.days )\n",
    "\n",
    "# days from first active upt to account created\n",
    "df2['days_from_first_active_until_account_created'] = ( df2['date_account_created'] - df2['first_active'] ).apply( lambda x: x.days )\n",
    "\n",
    "# days from account createad up to first booking\n",
    "df2['days_from_account_created_until_first_booking'] = ( df2['date_first_booking'] - df2['date_account_created'] ).apply( lambda x: x.days )\n",
    "\n",
    "# ================== First Active ==================\n",
    "# year first active\n",
    "df2['year_first_active'] = df2['first_active'].dt.year\n",
    "\n",
    "# month first active\n",
    "df2['month_first_active'] = df2['first_active'].dt.month\n",
    "\n",
    "# day first active\n",
    "df2['day_first_active'] = df2['first_active'].dt.day\n",
    "\n",
    "# day of week first active\n",
    "df2['day_of_week_first_active'] = df2['first_active'].dt.dayofweek\n",
    "\n",
    "# week of year first active\n",
    "df2['week_of_year_first_active'] = df2['first_active'].dt.weekofyear\n",
    "\n",
    "# ================== First Booking ==================\n",
    "# year first booking\n",
    "df2['year_first_booking'] = df2['date_first_booking'].dt.year\n",
    "\n",
    "# month first booking\n",
    "df2['month_first_booking'] = df2['date_first_booking'].dt.month\n",
    "\n",
    "# day first booking\n",
    "df2['day_first_booking'] = df2['date_first_booking'].dt.day\n",
    "\n",
    "# day of week first booking\n",
    "df2['day_of_week_first_booking'] = df2['date_first_booking'].dt.dayofweek\n",
    "\n",
    "# week of year first booking\n",
    "df2['week_of_year_first_booking'] = df2['date_first_booking'].dt.weekofyear\n",
    "\n",
    "# ================== First Account Created =================\n",
    "# year first booking\n",
    "df2['year_account_created'] = df2['date_account_created'].dt.year\n",
    "\n",
    "# month  account_created\n",
    "df2['month_account_created'] = df2['date_account_created'].dt.month\n",
    "\n",
    "# day  account_created\n",
    "df2['day_account_created'] = df2['date_account_created'].dt.day\n",
    "\n",
    "# day of week  account_created\n",
    "df2['day_of_week_account_created'] = df2['date_account_created'].dt.dayofweek\n",
    "\n",
    "# week of year  account_created\n",
    "df2['week_of_year_account_created'] = df2['date_account_created'].dt.weekofyear"
   ]
  },
  {
   "cell_type": "code",
   "execution_count": 28,
   "metadata": {
    "ExecuteTime": {
     "end_time": "2020-12-13T10:29:16.760970Z",
     "start_time": "2020-12-13T10:29:16.756791Z"
    }
   },
   "outputs": [
    {
     "data": {
      "text/plain": [
       "(122636, 35)"
      ]
     },
     "execution_count": 28,
     "metadata": {},
     "output_type": "execute_result"
    }
   ],
   "source": [
    "df2.shape"
   ]
  },
  {
   "cell_type": "code",
   "execution_count": 30,
   "metadata": {
    "ExecuteTime": {
     "end_time": "2020-12-13T10:31:07.123100Z",
     "start_time": "2020-12-13T10:31:07.108806Z"
    }
   },
   "outputs": [
    {
     "data": {
      "text/html": [
       "<div>\n",
       "<style scoped>\n",
       "    .dataframe tbody tr th:only-of-type {\n",
       "        vertical-align: middle;\n",
       "    }\n",
       "\n",
       "    .dataframe tbody tr th {\n",
       "        vertical-align: top;\n",
       "    }\n",
       "\n",
       "    .dataframe thead th {\n",
       "        text-align: right;\n",
       "    }\n",
       "</style>\n",
       "<table border=\"1\" class=\"dataframe\">\n",
       "  <thead>\n",
       "    <tr style=\"text-align: right;\">\n",
       "      <th></th>\n",
       "      <th>id</th>\n",
       "      <th>date_account_created</th>\n",
       "      <th>day_account_created</th>\n",
       "      <th>day_first_booking</th>\n",
       "    </tr>\n",
       "  </thead>\n",
       "  <tbody>\n",
       "    <tr>\n",
       "      <th>209228</th>\n",
       "      <td>v4o93j53zn</td>\n",
       "      <td>2014-06-23</td>\n",
       "      <td>23</td>\n",
       "      <td>29</td>\n",
       "    </tr>\n",
       "    <tr>\n",
       "      <th>166321</th>\n",
       "      <td>cfib62dxqn</td>\n",
       "      <td>2014-03-22</td>\n",
       "      <td>22</td>\n",
       "      <td>23</td>\n",
       "    </tr>\n",
       "    <tr>\n",
       "      <th>103398</th>\n",
       "      <td>1xqvarkh16</td>\n",
       "      <td>2013-08-29</td>\n",
       "      <td>29</td>\n",
       "      <td>7</td>\n",
       "    </tr>\n",
       "    <tr>\n",
       "      <th>183995</th>\n",
       "      <td>0jx9i5iy93</td>\n",
       "      <td>2014-05-03</td>\n",
       "      <td>3</td>\n",
       "      <td>29</td>\n",
       "    </tr>\n",
       "    <tr>\n",
       "      <th>151667</th>\n",
       "      <td>rfavrxq4y5</td>\n",
       "      <td>2014-02-11</td>\n",
       "      <td>11</td>\n",
       "      <td>13</td>\n",
       "    </tr>\n",
       "    <tr>\n",
       "      <th>81089</th>\n",
       "      <td>66s01ukezy</td>\n",
       "      <td>2013-06-02</td>\n",
       "      <td>2</td>\n",
       "      <td>29</td>\n",
       "    </tr>\n",
       "    <tr>\n",
       "      <th>57878</th>\n",
       "      <td>24zd16y6xk</td>\n",
       "      <td>2013-01-28</td>\n",
       "      <td>28</td>\n",
       "      <td>3</td>\n",
       "    </tr>\n",
       "    <tr>\n",
       "      <th>137639</th>\n",
       "      <td>8urmt53buk</td>\n",
       "      <td>2014-01-03</td>\n",
       "      <td>3</td>\n",
       "      <td>3</td>\n",
       "    </tr>\n",
       "    <tr>\n",
       "      <th>42987</th>\n",
       "      <td>7piy8jpvv5</td>\n",
       "      <td>2012-09-30</td>\n",
       "      <td>30</td>\n",
       "      <td>21</td>\n",
       "    </tr>\n",
       "    <tr>\n",
       "      <th>118740</th>\n",
       "      <td>cx3fve7yvr</td>\n",
       "      <td>2013-10-22</td>\n",
       "      <td>22</td>\n",
       "      <td>29</td>\n",
       "    </tr>\n",
       "  </tbody>\n",
       "</table>\n",
       "</div>"
      ],
      "text/plain": [
       "                id date_account_created  day_account_created  \\\n",
       "209228  v4o93j53zn           2014-06-23                   23   \n",
       "166321  cfib62dxqn           2014-03-22                   22   \n",
       "103398  1xqvarkh16           2013-08-29                   29   \n",
       "183995  0jx9i5iy93           2014-05-03                    3   \n",
       "151667  rfavrxq4y5           2014-02-11                   11   \n",
       "81089   66s01ukezy           2013-06-02                    2   \n",
       "57878   24zd16y6xk           2013-01-28                   28   \n",
       "137639  8urmt53buk           2014-01-03                    3   \n",
       "42987   7piy8jpvv5           2012-09-30                   30   \n",
       "118740  cx3fve7yvr           2013-10-22                   22   \n",
       "\n",
       "        day_first_booking  \n",
       "209228                 29  \n",
       "166321                 23  \n",
       "103398                  7  \n",
       "183995                 29  \n",
       "151667                 13  \n",
       "81089                  29  \n",
       "57878                   3  \n",
       "137639                  3  \n",
       "42987                  21  \n",
       "118740                 29  "
      ]
     },
     "execution_count": 30,
     "metadata": {},
     "output_type": "execute_result"
    }
   ],
   "source": [
    "df2[['id', 'date_account_created', 'day_account_created', 'day_first_booking']].sample(10)"
   ]
  },
  {
   "cell_type": "markdown",
   "metadata": {},
   "source": [
    "# 3.0. Data Filtering"
   ]
  },
  {
   "cell_type": "code",
   "execution_count": 37,
   "metadata": {
    "ExecuteTime": {
     "end_time": "2020-12-13T12:46:02.090975Z",
     "start_time": "2020-12-13T12:46:02.087111Z"
    }
   },
   "outputs": [
    {
     "data": {
      "text/plain": [
       "-2.132808519406074"
      ]
     },
     "execution_count": 37,
     "metadata": {},
     "output_type": "execute_result"
    }
   ],
   "source": [
    "a = [2100, 3500, 4000, 8000, 10000, 16000]\n",
    "b = [19, 28, 29, 30, 31, 32]\n",
    "\n",
    "( 19 - np.mean( b ) ) / np.std( b )"
   ]
  },
  {
   "cell_type": "code",
   "execution_count": 38,
   "metadata": {
    "ExecuteTime": {
     "end_time": "2020-12-13T12:46:09.816301Z",
     "start_time": "2020-12-13T12:46:09.812370Z"
    }
   },
   "outputs": [
    {
     "data": {
      "text/plain": [
       "28.166666666666668"
      ]
     },
     "execution_count": 38,
     "metadata": {},
     "output_type": "execute_result"
    }
   ],
   "source": [
    "np.mean( b )"
   ]
  },
  {
   "cell_type": "code",
   "execution_count": 39,
   "metadata": {
    "ExecuteTime": {
     "end_time": "2020-12-13T12:46:10.365811Z",
     "start_time": "2020-12-13T12:46:10.362377Z"
    }
   },
   "outputs": [
    {
     "data": {
      "text/plain": [
       "4.297932319409209"
      ]
     },
     "execution_count": 39,
     "metadata": {},
     "output_type": "execute_result"
    }
   ],
   "source": [
    "np.std( b )"
   ]
  },
  {
   "cell_type": "code",
   "execution_count": 34,
   "metadata": {
    "ExecuteTime": {
     "end_time": "2020-10-28T00:10:18.356219Z",
     "start_time": "2020-10-28T00:10:18.335316Z"
    }
   },
   "outputs": [
    {
     "data": {
      "text/plain": [
       "(122636, 35)"
      ]
     },
     "execution_count": 34,
     "metadata": {},
     "output_type": "execute_result"
    }
   ],
   "source": [
    "df3 = df2.copy()\n",
    "df3.shape"
   ]
  },
  {
   "cell_type": "markdown",
   "metadata": {},
   "source": [
    "## 3.1. Filtering Rows"
   ]
  },
  {
   "cell_type": "code",
   "execution_count": 35,
   "metadata": {
    "ExecuteTime": {
     "end_time": "2020-10-28T00:10:19.195531Z",
     "start_time": "2020-10-28T00:10:19.131179Z"
    }
   },
   "outputs": [],
   "source": [
    "# Filtering rows:\n",
    "# age - greater than 15 and lower than 120 - There are few people over 12O year old   \n",
    "df3 = df3[( df3['age'] > 15 ) & ( df3['age'] < 120 )]\n",
    "\n",
    "# secs_elapsed - there is no possible 0 secs elapsed on website\n",
    "#df3 = df3[df3['secs_elapsed'] > 0]"
   ]
  },
  {
   "cell_type": "markdown",
   "metadata": {},
   "source": [
    "## 3.2. Columns Selection"
   ]
  },
  {
   "cell_type": "code",
   "execution_count": 36,
   "metadata": {
    "ExecuteTime": {
     "end_time": "2020-10-28T00:10:19.656902Z",
     "start_time": "2020-10-28T00:10:19.654518Z"
    }
   },
   "outputs": [],
   "source": [
    "cols = ['date_account_created', 'date_account_created', 'date_first_booking', 'timestamp_first_active', \n",
    "        'first_active'] # original datetime"
   ]
  },
  {
   "cell_type": "markdown",
   "metadata": {},
   "source": [
    "# 4.0. Balanced Dataset"
   ]
  },
  {
   "cell_type": "code",
   "execution_count": 37,
   "metadata": {
    "ExecuteTime": {
     "end_time": "2020-10-28T00:10:20.913959Z",
     "start_time": "2020-10-28T00:10:20.892512Z"
    }
   },
   "outputs": [
    {
     "data": {
      "text/plain": [
       "(122636, 31)"
      ]
     },
     "execution_count": 37,
     "metadata": {},
     "output_type": "execute_result"
    }
   ],
   "source": [
    "df4 = df3.drop( cols, axis=1 )\n",
    "df4.shape"
   ]
  },
  {
   "cell_type": "code",
   "execution_count": 38,
   "metadata": {
    "ExecuteTime": {
     "end_time": "2020-10-28T00:10:24.876553Z",
     "start_time": "2020-10-28T00:10:24.197041Z"
    }
   },
   "outputs": [
    {
     "data": {
      "text/plain": [
       "(122636, 138)"
      ]
     },
     "execution_count": 38,
     "metadata": {},
     "output_type": "execute_result"
    }
   ],
   "source": [
    "# Encoder Categorical Variables\n",
    "ohe = pp.OneHotEncoder()\n",
    "\n",
    "# Numerical\n",
    "col_num = df4.select_dtypes( include=['int64', 'float64'] ).columns.tolist()\n",
    "\n",
    "# Categorical\n",
    "col_cat = df4.select_dtypes( exclude=['int64', 'float64', 'datetime64[ns]'] ).drop( ['id', 'country_destination'], axis=1 ).columns.tolist()\n",
    "\n",
    "# encoding\n",
    "df4_dummy = pd.DataFrame( ohe.fit_transform( df4[ col_cat] ).toarray(), index=df4.index )\n",
    "\n",
    "# join numerical and categorical\n",
    "df42 = pd.concat( [df4[col_num], df4_dummy], axis=1 )\n",
    "df42.shape"
   ]
  },
  {
   "cell_type": "markdown",
   "metadata": {},
   "source": [
    "## 4.1. Random Undersampling"
   ]
  },
  {
   "cell_type": "code",
   "execution_count": 39,
   "metadata": {
    "ExecuteTime": {
     "end_time": "2020-10-28T00:10:25.857590Z",
     "start_time": "2020-10-28T00:10:24.879073Z"
    }
   },
   "outputs": [],
   "source": [
    "# ratio_balanced\n",
    "ratio_balanced = {'NDF': 10000 }\n",
    "# define sampler\n",
    "undersampling = us.RandomUnderSampler( sampling_strategy=ratio_balanced, random_state=32 )\n",
    "\n",
    "# apply sampler\n",
    "X_under, y_under = undersampling.fit_resample( df42, df4['country_destination'] )"
   ]
  },
  {
   "cell_type": "code",
   "execution_count": 40,
   "metadata": {
    "ExecuteTime": {
     "end_time": "2020-10-28T00:10:25.877251Z",
     "start_time": "2020-10-28T00:10:25.860334Z"
    },
    "cell_style": "split"
   },
   "outputs": [
    {
     "data": {
      "text/plain": [
       "NDF      54852\n",
       "US       48057\n",
       "other     7511\n",
       "FR        3669\n",
       "IT        2014\n",
       "GB        1758\n",
       "ES        1685\n",
       "CA        1064\n",
       "DE         841\n",
       "NL         595\n",
       "AU         433\n",
       "PT         157\n",
       "Name: country_destination, dtype: int64"
      ]
     },
     "execution_count": 40,
     "metadata": {},
     "output_type": "execute_result"
    }
   ],
   "source": [
    "df4['country_destination'].value_counts()"
   ]
  },
  {
   "cell_type": "code",
   "execution_count": 41,
   "metadata": {
    "ExecuteTime": {
     "end_time": "2020-10-28T00:10:25.892177Z",
     "start_time": "2020-10-28T00:10:25.879560Z"
    },
    "cell_style": "split"
   },
   "outputs": [
    {
     "data": {
      "text/plain": [
       "US       48057\n",
       "NDF      10000\n",
       "other     7511\n",
       "FR        3669\n",
       "IT        2014\n",
       "GB        1758\n",
       "ES        1685\n",
       "CA        1064\n",
       "DE         841\n",
       "NL         595\n",
       "AU         433\n",
       "PT         157\n",
       "Name: country_destination, dtype: int64"
      ]
     },
     "execution_count": 41,
     "metadata": {},
     "output_type": "execute_result"
    }
   ],
   "source": [
    "y_under.value_counts()"
   ]
  },
  {
   "cell_type": "markdown",
   "metadata": {},
   "source": [
    "## 4.2. Random Oversampling"
   ]
  },
  {
   "cell_type": "code",
   "execution_count": 42,
   "metadata": {
    "ExecuteTime": {
     "end_time": "2020-10-28T00:10:30.596738Z",
     "start_time": "2020-10-28T00:10:25.894041Z"
    }
   },
   "outputs": [],
   "source": [
    "# ratio_balanced\n",
    "#ratio_balanced = {'NDF': 10000 }\n",
    "\n",
    "# define sampler\n",
    "oversampling = oversamp.RandomOverSampler( sampling_strategy='all', random_state=32 )\n",
    "\n",
    "# apply sampler\n",
    "X_over, y_over = oversampling.fit_resample( df42, df4['country_destination'] )"
   ]
  },
  {
   "cell_type": "code",
   "execution_count": 43,
   "metadata": {
    "ExecuteTime": {
     "end_time": "2020-10-28T00:10:30.622623Z",
     "start_time": "2020-10-28T00:10:30.598878Z"
    },
    "cell_style": "split"
   },
   "outputs": [
    {
     "data": {
      "text/plain": [
       "NDF      54852\n",
       "US       48057\n",
       "other     7511\n",
       "FR        3669\n",
       "IT        2014\n",
       "GB        1758\n",
       "ES        1685\n",
       "CA        1064\n",
       "DE         841\n",
       "NL         595\n",
       "AU         433\n",
       "PT         157\n",
       "Name: country_destination, dtype: int64"
      ]
     },
     "execution_count": 43,
     "metadata": {},
     "output_type": "execute_result"
    }
   ],
   "source": [
    "df4['country_destination'].value_counts()"
   ]
  },
  {
   "cell_type": "code",
   "execution_count": 44,
   "metadata": {
    "ExecuteTime": {
     "end_time": "2020-10-28T00:10:30.698534Z",
     "start_time": "2020-10-28T00:10:30.625747Z"
    },
    "cell_style": "split"
   },
   "outputs": [
    {
     "data": {
      "text/plain": [
       "GB       54852\n",
       "FR       54852\n",
       "ES       54852\n",
       "CA       54852\n",
       "NL       54852\n",
       "IT       54852\n",
       "AU       54852\n",
       "PT       54852\n",
       "other    54852\n",
       "NDF      54852\n",
       "DE       54852\n",
       "US       54852\n",
       "Name: country_destination, dtype: int64"
      ]
     },
     "execution_count": 44,
     "metadata": {},
     "output_type": "execute_result"
    }
   ],
   "source": [
    "y_over.value_counts()"
   ]
  },
  {
   "cell_type": "markdown",
   "metadata": {},
   "source": [
    "## 4.3. SMOTE + TOMEKLINK"
   ]
  },
  {
   "cell_type": "code",
   "execution_count": 45,
   "metadata": {
    "ExecuteTime": {
     "end_time": "2020-10-28T00:10:30.714108Z",
     "start_time": "2020-10-28T00:10:30.701003Z"
    }
   },
   "outputs": [],
   "source": [
    "ratio_balanced =  {'NDF': 54852,\n",
    "                   'US':  48057,\n",
    "                   'other': 6*7511,\n",
    "                   'FR': 12*3669,\n",
    "                   'IT': 20*2014,\n",
    "                   'GB': 30*1758,\n",
    "                   'ES': 30*1685,\n",
    "                   'CA': 40*1064,\n",
    "                   'DE': 45*841,\n",
    "                   'NL': 80*595,\n",
    "                   'AU': 85*433,\n",
    "                   'PT': 300*157}"
   ]
  },
  {
   "cell_type": "code",
   "execution_count": 46,
   "metadata": {
    "ExecuteTime": {
     "end_time": "2020-10-28T00:13:50.973783Z",
     "start_time": "2020-10-28T00:10:30.715927Z"
    }
   },
   "outputs": [],
   "source": [
    "# define sampler\n",
    "smt = c.SMOTETomek( sampling_strategy=ratio_balanced, random_state=32, n_jobs=-1 )\n",
    "\n",
    "# apply sampler\n",
    "X_smt, y_smt = smt.fit_resample( df42, df4['country_destination'] )"
   ]
  },
  {
   "cell_type": "code",
   "execution_count": 47,
   "metadata": {
    "ExecuteTime": {
     "end_time": "2020-10-28T00:13:50.999743Z",
     "start_time": "2020-10-28T00:13:50.977262Z"
    },
    "cell_style": "split"
   },
   "outputs": [
    {
     "data": {
      "text/plain": [
       "NDF      54852\n",
       "US       48057\n",
       "other     7511\n",
       "FR        3669\n",
       "IT        2014\n",
       "GB        1758\n",
       "ES        1685\n",
       "CA        1064\n",
       "DE         841\n",
       "NL         595\n",
       "AU         433\n",
       "PT         157\n",
       "Name: country_destination, dtype: int64"
      ]
     },
     "execution_count": 47,
     "metadata": {},
     "output_type": "execute_result"
    }
   ],
   "source": [
    "df4['country_destination'].value_counts()"
   ]
  },
  {
   "cell_type": "code",
   "execution_count": 48,
   "metadata": {
    "ExecuteTime": {
     "end_time": "2020-10-28T00:13:51.084450Z",
     "start_time": "2020-10-28T00:13:51.004204Z"
    },
    "cell_style": "split"
   },
   "outputs": [
    {
     "data": {
      "text/plain": [
       "NDF      54850\n",
       "GB       52688\n",
       "ES       50508\n",
       "NL       47598\n",
       "US       47539\n",
       "PT       47100\n",
       "other    44751\n",
       "FR       43870\n",
       "CA       42542\n",
       "IT       40200\n",
       "DE       37830\n",
       "AU       36803\n",
       "Name: country_destination, dtype: int64"
      ]
     },
     "execution_count": 48,
     "metadata": {},
     "output_type": "execute_result"
    }
   ],
   "source": [
    "y_smt.value_counts()"
   ]
  },
  {
   "cell_type": "code",
   "execution_count": 49,
   "metadata": {
    "ExecuteTime": {
     "end_time": "2020-10-28T00:13:52.222336Z",
     "start_time": "2020-10-28T00:13:51.086829Z"
    }
   },
   "outputs": [],
   "source": [
    "# numerical data\n",
    "df43 = X_smt[ col_num ]\n",
    "\n",
    "# categorical data\n",
    "df44 = X_smt.drop( col_num, axis=1 )\n",
    "df45 = pd.DataFrame( ohe.inverse_transform( df44 ), columns=col_cat, index=df44.index )\n",
    "\n",
    "# join numerical categorical\n",
    "df46 = pd.concat( [df43, df45], axis=1 )\n",
    "df46['country_destination'] = y_smt"
   ]
  },
  {
   "cell_type": "markdown",
   "metadata": {},
   "source": [
    "# 5.0. Exploratory Data Analysis ( EDA )"
   ]
  },
  {
   "cell_type": "markdown",
   "metadata": {
    "ExecuteTime": {
     "end_time": "2020-10-20T10:59:53.218703Z",
     "start_time": "2020-10-20T10:59:53.216604Z"
    }
   },
   "source": [
    "## 5.1. Hypothesys Validation ( Unbalanced Dataset )"
   ]
  },
  {
   "cell_type": "code",
   "execution_count": 50,
   "metadata": {
    "ExecuteTime": {
     "end_time": "2020-10-28T00:13:52.239156Z",
     "start_time": "2020-10-28T00:13:52.224210Z"
    }
   },
   "outputs": [],
   "source": [
    "df51 = df4.copy()"
   ]
  },
  {
   "cell_type": "markdown",
   "metadata": {},
   "source": [
    "### **H01.** Em todos os destinos, os usuários levam 15 dias, em média, para fazer a primeira reserva no Airbnb, desde sua primeira ativacao.\n",
    "\n",
    "**Verdadeiro.** Em todos os destinos, os usuários até 6 dias para reservar o primeiro Airbnb"
   ]
  },
  {
   "cell_type": "code",
   "execution_count": 54,
   "metadata": {
    "ExecuteTime": {
     "end_time": "2020-10-28T00:14:52.538118Z",
     "start_time": "2020-10-28T00:14:52.014418Z"
    },
    "hide_input": false
   },
   "outputs": [
    {
     "data": {
      "text/plain": [
       "<AxesSubplot:xlabel='country_destination', ylabel='days_from_first_active_until_booking'>"
      ]
     },
     "execution_count": 54,
     "metadata": {},
     "output_type": "execute_result"
    },
    {
     "data": {
      "image/png": "[encoded data removed]",
      "text/plain": [
       "<Figure size 1440x864 with 2 Axes>"
      ]
     },
     "metadata": {
      "needs_background": "light"
     },
     "output_type": "display_data"
    }
   ],
   "source": [
    "plt.figure( figsize=(20, 12))\n",
    "plt.subplot( 3, 1, 1 )\n",
    "aux01 = df51[['days_from_first_active_until_booking', 'country_destination']].groupby( 'country_destination' ).median().reset_index()\n",
    "sns.barplot( x='country_destination', y='days_from_first_active_until_booking', \n",
    "             data=aux01.sort_values( 'days_from_first_active_until_booking' ) )\n",
    "\n",
    "# remove outlier\n",
    "plt.subplot( 3, 1, 2 )\n",
    "aux02 = df51[df51['country_destination'] != 'NDF']\n",
    "aux02 = aux02[['days_from_first_active_until_booking', 'country_destination']].groupby( 'country_destination' ).median().reset_index()\n",
    "sns.barplot( x='country_destination', y='days_from_first_active_until_booking', \n",
    "             data=aux02.sort_values( 'days_from_first_active_until_booking' ) )"
   ]
  },
  {
   "cell_type": "markdown",
   "metadata": {},
   "source": [
    "### **H02.** Em todos os destinos, os usuários levam 3 dias, em média, para fazer o cadastro no site.\n",
    "**Verdadeira**. Em todos os destinos, os usuários levam até 2 dias para finalizar o cadastro"
   ]
  },
  {
   "cell_type": "code",
   "execution_count": 56,
   "metadata": {
    "ExecuteTime": {
     "end_time": "2020-10-28T00:15:03.965123Z",
     "start_time": "2020-10-28T00:15:03.603167Z"
    },
    "hide_input": false
   },
   "outputs": [
    {
     "data": {
      "text/plain": [
       "<AxesSubplot:xlabel='country_destination', ylabel='days_from_first_active_until_account_created'>"
      ]
     },
     "execution_count": 56,
     "metadata": {},
     "output_type": "execute_result"
    },
    {
     "data": {
      "image/png": "[encoded data removed]",
      "text/plain": [
       "<Figure size 1440x864 with 1 Axes>"
      ]
     },
     "metadata": {
      "needs_background": "light"
     },
     "output_type": "display_data"
    }
   ],
   "source": [
    "plt.figure( figsize=(20, 12))\n",
    "aux01 = df51[['days_from_first_active_until_account_created', 'country_destination']].groupby( 'country_destination' ).mean().reset_index()\n",
    "sns.barplot( x='country_destination', y='days_from_first_active_until_account_created', \n",
    "             data=aux01.sort_values( 'days_from_first_active_until_account_created' ) )"
   ]
  },
  {
   "cell_type": "markdown",
   "metadata": {},
   "source": [
    "### **H03.** O volume de reservas anual feitas durante o verão aumentaram 20% para destinos dentro dos USA. \n",
    "\n",
    "**False**. O Volume de reservas aumenta durante o verão entre os anos de 2010 até 2013."
   ]
  },
  {
   "cell_type": "code",
   "execution_count": 57,
   "metadata": {
    "ExecuteTime": {
     "end_time": "2020-10-28T00:15:14.369160Z",
     "start_time": "2020-10-28T00:15:14.047090Z"
    },
    "hide_input": false
   },
   "outputs": [
    {
     "data": {
      "text/plain": [
       "<AxesSubplot:xlabel='year_first_booking', ylabel='delta'>"
      ]
     },
     "execution_count": 57,
     "metadata": {},
     "output_type": "execute_result"
    },
    {
     "data": {
      "image/png": "[encoded data removed]",
      "text/plain": [
       "<Figure size 1440x864 with 1 Axes>"
      ]
     },
     "metadata": {
      "needs_background": "light"
     },
     "output_type": "display_data"
    }
   ],
   "source": [
    "aux01 = df51[['year_first_booking', 'month_first_booking', 'country_destination']].\\\n",
    "                groupby( ['year_first_booking', 'month_first_booking', 'country_destination'] ). \\\n",
    "                size().reset_index().rename( columns={0:'count'})\n",
    "\n",
    "# select only summer\n",
    "aux01 = aux01[( aux01['month_first_booking'].isin( [6, 7, 8, 9] ) ) & (aux01['country_destination'] == 'US')]\n",
    "\n",
    "aux02 = aux01[['year_first_booking', 'count']].groupby( 'year_first_booking' ).sum().reset_index()\n",
    "\n",
    "aux02['delta'] = 100*aux02['count'].pct_change().fillna( 0 )\n",
    "\n",
    "plt.figure( figsize=(20,12))\n",
    "sns.barplot( x='year_first_booking', y='delta', data=aux02)"
   ]
  },
  {
   "cell_type": "markdown",
   "metadata": {},
   "source": [
    "**H04.** Usuários do sexo feminino fazem 10% mais reservas para países fora dos USA."
   ]
  },
  {
   "cell_type": "markdown",
   "metadata": {},
   "source": [
    "**H05.** O canal de Marketing Google representa 40% das reservas para países fora dos USA."
   ]
  },
  {
   "cell_type": "markdown",
   "metadata": {},
   "source": [
    "**H06.** O destino dos USA representam mais de 20% em todos os canais."
   ]
  },
  {
   "cell_type": "markdown",
   "metadata": {},
   "source": [
    "**H07.** A idade média das pessoas é de 35 anos em todos os destinos."
   ]
  },
  {
   "cell_type": "markdown",
   "metadata": {},
   "source": [
    "**H08.** A porcentagem de usuários que usam o site na lingua inglês-americano para reservar acomodações em qualquer destino é maior que 90%"
   ]
  },
  {
   "cell_type": "markdown",
   "metadata": {},
   "source": [
    "**H09.** O número de reservas do Airbnb é crescente ou decrescente ao longo dos anos?"
   ]
  },
  {
   "cell_type": "markdown",
   "metadata": {},
   "source": [
    "**H10.** O número de reservas do Airbnb é crescente ao longo dos anos."
   ]
  },
  {
   "cell_type": "markdown",
   "metadata": {
    "ExecuteTime": {
     "end_time": "2020-10-20T10:59:53.218703Z",
     "start_time": "2020-10-20T10:59:53.216604Z"
    }
   },
   "source": [
    "## 5.2. Variables Impact ( Balanced Dataset )"
   ]
  },
  {
   "cell_type": "code",
   "execution_count": null,
   "metadata": {
    "ExecuteTime": {
     "end_time": "2020-10-28T00:13:52.443087Z",
     "start_time": "2020-10-28T00:12:03.554Z"
    }
   },
   "outputs": [],
   "source": [
    "df52 = df4.copy()"
   ]
  },
  {
   "cell_type": "markdown",
   "metadata": {
    "ExecuteTime": {
     "end_time": "2020-10-20T10:59:53.218703Z",
     "start_time": "2020-10-20T10:59:53.216604Z"
    }
   },
   "source": [
    "### 5.2.1. Univariate Analysis"
   ]
  },
  {
   "cell_type": "code",
   "execution_count": 129,
   "metadata": {
    "ExecuteTime": {
     "end_time": "2020-10-21T01:48:13.969813Z",
     "start_time": "2020-10-21T01:45:16.278280Z"
    }
   },
   "outputs": [
    {
     "data": {
      "application/vnd.jupyter.widget-view+json": {
       "model_id": "02a1a3e003be4543b09826017b17faf6",
       "version_major": 2,
       "version_minor": 0
      },
      "text/plain": [
       "HBox(children=(HTML(value='Summarize dataset'), FloatProgress(value=0.0, max=44.0), HTML(value='')))"
      ]
     },
     "metadata": {},
     "output_type": "display_data"
    },
    {
     "name": "stdout",
     "output_type": "stream",
     "text": [
      "\n"
     ]
    },
    {
     "data": {
      "application/vnd.jupyter.widget-view+json": {
       "model_id": "e57fcfb370dc4533a5d7f6193ca7dbe2",
       "version_major": 2,
       "version_minor": 0
      },
      "text/plain": [
       "HBox(children=(HTML(value='Generate report structure'), FloatProgress(value=0.0, max=1.0), HTML(value='')))"
      ]
     },
     "metadata": {},
     "output_type": "display_data"
    },
    {
     "name": "stdout",
     "output_type": "stream",
     "text": [
      "\n"
     ]
    },
    {
     "data": {
      "application/vnd.jupyter.widget-view+json": {
       "model_id": "24c8e828d6b243209801ecce71218ba2",
       "version_major": 2,
       "version_minor": 0
      },
      "text/plain": [
       "HBox(children=(HTML(value='Render HTML'), FloatProgress(value=0.0, max=1.0), HTML(value='')))"
      ]
     },
     "metadata": {},
     "output_type": "display_data"
    },
    {
     "name": "stdout",
     "output_type": "stream",
     "text": [
      "\n"
     ]
    },
    {
     "data": {
      "application/vnd.jupyter.widget-view+json": {
       "model_id": "2f2c9a8975be46e0b61a569896e0a90e",
       "version_major": 2,
       "version_minor": 0
      },
      "text/plain": [
       "HBox(children=(HTML(value='Export report to file'), FloatProgress(value=0.0, max=1.0), HTML(value='')))"
      ]
     },
     "metadata": {},
     "output_type": "display_data"
    },
    {
     "name": "stdout",
     "output_type": "stream",
     "text": [
      "\n"
     ]
    }
   ],
   "source": [
    "profile = ProfileReport( df52, title='Airbnb Booking' )\n",
    "#profile.to_notebook_iframe()\n",
    "profile.to_file( output_file='airbnb_booking_statistics_after_cleaning.html' )"
   ]
  },
  {
   "cell_type": "code",
   "execution_count": null,
   "metadata": {
    "ExecuteTime": {
     "end_time": "2020-10-28T00:13:52.444561Z",
     "start_time": "2020-10-28T00:12:19.570Z"
    }
   },
   "outputs": [],
   "source": [
    "# ===================== High Correlation  ===================== \n",
    "# days_from_first_active_until_booking x days_from_account_created_until_first_booking\n",
    "# Remove: days_from_first_active_until_booking\n",
    "\n",
    "# year_first_active x year_account_created\n",
    "# Remove: year_first_active\n",
    "\n",
    "# month_first_active x month_account_created\n",
    "# Remove: month_first_active\n",
    "\n",
    "# day_first_active x day_account_created\n",
    "# Remove: day_first_active\n",
    "\n",
    "# day_of_week_first_active x day_of_week_account_created\n",
    "# Remove: day_of_week_first_active\n",
    "\n",
    "# week_of_year_first_active x week_of_year_account_created\n",
    "# Remove: week_of_year_first_active\n",
    "\n",
    "# month_first_booking x week_of_year_first_booking\n",
    "# Remove: month_first_booking\n",
    "\n",
    "# month_account_created x week_of_year_account_created\n",
    "# Remove: month_account_created\n",
    "\n",
    "# year_first_booking x year_account_created\n",
    "# Remove: year_first_booking\n",
    "\n",
    "# week_of_year_first_booking x week_of_year_account_created\n",
    "# Remove: week_of_year_first_booking\n",
    "\n",
    "# affiliate_channel x affiliate_provider\n",
    "# Remove: affiliate_provider\n",
    "\n",
    "# first_device_type x first_browser\n",
    "# Remove: first_browser\n",
    "\n",
    "#first_device_type x sigup_app\n",
    "#Remove: first_device_type"
   ]
  },
  {
   "cell_type": "markdown",
   "metadata": {
    "ExecuteTime": {
     "end_time": "2020-10-20T10:59:53.218703Z",
     "start_time": "2020-10-20T10:59:53.216604Z"
    }
   },
   "source": [
    "### 5.2.2. Bivariate Analysis"
   ]
  },
  {
   "cell_type": "markdown",
   "metadata": {
    "ExecuteTime": {
     "end_time": "2020-10-20T10:59:53.218703Z",
     "start_time": "2020-10-20T10:59:53.216604Z"
    }
   },
   "source": [
    "### 5.2.3. Multivariate Analysis"
   ]
  },
  {
   "cell_type": "code",
   "execution_count": 52,
   "metadata": {
    "ExecuteTime": {
     "end_time": "2020-10-28T00:13:59.509458Z",
     "start_time": "2020-10-28T00:13:59.506483Z"
    }
   },
   "outputs": [],
   "source": [
    "cols = ['days_from_first_active_until_booking',  'year_first_active',  'month_first_active', 'day_first_active',\n",
    "        'day_of_week_first_active', 'week_of_year_first_active', 'month_first_booking', 'month_account_created',\n",
    "        'year_first_booking', 'week_of_year_first_booking', 'affiliate_provider',\n",
    "        'first_browser', 'first_device_type', 'language'] # high correlation"
   ]
  },
  {
   "cell_type": "markdown",
   "metadata": {},
   "source": [
    "# 6.0. Data Preparation"
   ]
  },
  {
   "cell_type": "code",
   "execution_count": 83,
   "metadata": {
    "ExecuteTime": {
     "end_time": "2020-10-28T01:09:28.255641Z",
     "start_time": "2020-10-28T01:09:28.194733Z"
    }
   },
   "outputs": [
    {
     "data": {
      "text/plain": [
       "(546279, 16)"
      ]
     },
     "execution_count": 83,
     "metadata": {},
     "output_type": "execute_result"
    }
   ],
   "source": [
    "df6 = df46.drop( cols, axis=1 )\n",
    "df6.shape"
   ]
  },
  {
   "cell_type": "code",
   "execution_count": 84,
   "metadata": {
    "ExecuteTime": {
     "end_time": "2020-10-28T01:09:28.821558Z",
     "start_time": "2020-10-28T01:09:28.816461Z"
    }
   },
   "outputs": [
    {
     "data": {
      "text/plain": [
       "age                                               int64\n",
       "signup_flow                                       int64\n",
       "days_from_first_active_until_account_created      int64\n",
       "days_from_account_created_until_first_booking     int64\n",
       "day_first_booking                                 int64\n",
       "day_of_week_first_booking                         int64\n",
       "year_account_created                              int64\n",
       "day_account_created                               int64\n",
       "day_of_week_account_created                       int64\n",
       "week_of_year_account_created                      int64\n",
       "gender                                           object\n",
       "signup_method                                    object\n",
       "affiliate_channel                                object\n",
       "first_affiliate_tracked                          object\n",
       "signup_app                                       object\n",
       "country_destination                              object\n",
       "dtype: object"
      ]
     },
     "execution_count": 84,
     "metadata": {},
     "output_type": "execute_result"
    }
   ],
   "source": [
    "df6.dtypes"
   ]
  },
  {
   "cell_type": "markdown",
   "metadata": {},
   "source": [
    "## 6.1. Rescaling"
   ]
  },
  {
   "cell_type": "code",
   "execution_count": 85,
   "metadata": {
    "ExecuteTime": {
     "end_time": "2020-10-28T01:09:29.418839Z",
     "start_time": "2020-10-28T01:09:29.416094Z"
    }
   },
   "outputs": [],
   "source": [
    "ss = pp.StandardScaler()\n",
    "rs = pp.RobustScaler()\n",
    "mms = pp.MinMaxScaler()"
   ]
  },
  {
   "cell_type": "code",
   "execution_count": 86,
   "metadata": {
    "ExecuteTime": {
     "end_time": "2020-10-28T01:09:29.857975Z",
     "start_time": "2020-10-28T01:09:29.655262Z"
    }
   },
   "outputs": [],
   "source": [
    "# age - Standardization\n",
    "df6['age'] = ss.fit_transform( df6[['age']].values )\n",
    "\n",
    "# signup_flow - Robust Scaler\n",
    "df6['signup_flow'] = rs.fit_transform( df6[['signup_flow']].values )\n",
    "\n",
    "# days_from_first_active_until_account_created - Robust Scaler\n",
    "df6['days_from_first_active_until_account_created'] = rs.fit_transform( df6[['days_from_first_active_until_account_created']].values )\n",
    "\n",
    "# days_from_account_created_until_first_booking - Robust Scaler\n",
    "df6['days_from_account_created_until_first_booking'] = rs.fit_transform( df6[['days_from_account_created_until_first_booking']].values )\n",
    "\n",
    "# year_account_created - MinMax Scaler\n",
    "df6['year_account_created'] = mms.fit_transform( df6[['year_account_created']].values )"
   ]
  },
  {
   "cell_type": "markdown",
   "metadata": {},
   "source": [
    "## 6.2. Encoding"
   ]
  },
  {
   "cell_type": "code",
   "execution_count": 87,
   "metadata": {
    "ExecuteTime": {
     "end_time": "2020-10-28T01:09:30.225741Z",
     "start_time": "2020-10-28T01:09:30.223219Z"
    }
   },
   "outputs": [],
   "source": [
    "te = TargetEncoder()"
   ]
  },
  {
   "cell_type": "code",
   "execution_count": 88,
   "metadata": {
    "ExecuteTime": {
     "end_time": "2020-10-28T01:09:31.517958Z",
     "start_time": "2020-10-28T01:09:30.462607Z"
    }
   },
   "outputs": [
    {
     "name": "stderr",
     "output_type": "stream",
     "text": [
      "/Users/meigarom.lopes/.pyenv/versions/3.8.0/envs/airbnbpredictfirstbooking/lib/python3.8/site-packages/category_encoders/utils.py:21: FutureWarning: is_categorical is deprecated and will be removed in a future version.  Use is_categorical_dtype instead\n",
      "  elif pd.api.types.is_categorical(cols):\n",
      "/Users/meigarom.lopes/.pyenv/versions/3.8.0/envs/airbnbpredictfirstbooking/lib/python3.8/site-packages/category_encoders/utils.py:21: FutureWarning: is_categorical is deprecated and will be removed in a future version.  Use is_categorical_dtype instead\n",
      "  elif pd.api.types.is_categorical(cols):\n"
     ]
    }
   ],
   "source": [
    "# gender - One Hot Encoder\n",
    "df6 = pd.get_dummies( df6, prefix=['gender'], columns=['gender'] )\n",
    "\n",
    "# signup_method - One Hot Encoder\n",
    "df6 = pd.get_dummies( df6, prefix=['signup_method'], columns=['signup_method'] )\n",
    "\n",
    "# signup_app - One Hot Encoder\n",
    "df6 = pd.get_dummies( df6, prefix=['signup_app'], columns=['signup_app'] )\n",
    "\n",
    "# affiliate_channel - Target Encoder\n",
    "c = {'NDF':0, 'US':1, 'other':2, 'CA':3, 'FR':4, 'IT':5, 'ES':6, 'GB':7, 'NL':8, 'DE':9, 'AU':10, 'PT':11}\n",
    "df6['affiliate_channel'] = te.fit_transform( df6[['affiliate_channel']].values, df6['country_destination'].map( c ) )\n",
    "\n",
    "# first_affiliate_tracked - Target Encoder\n",
    "df6['first_affiliate_tracked'] = te.fit_transform( df6[['first_affiliate_tracked']].values, df6['country_destination'].map( c ) )"
   ]
  },
  {
   "cell_type": "markdown",
   "metadata": {},
   "source": [
    "## 6.3. Transformation"
   ]
  },
  {
   "cell_type": "code",
   "execution_count": 89,
   "metadata": {
    "ExecuteTime": {
     "end_time": "2020-10-28T01:09:38.309772Z",
     "start_time": "2020-10-28T01:09:31.980067Z"
    }
   },
   "outputs": [],
   "source": [
    "# week_of_year_account_created\n",
    "df6['week_of_year_account_created_sin'] = df6['week_of_year_account_created'].apply( lambda x: np.sin( x * (2*np.pi/52 ) ) )\n",
    "df6['week_of_year_account_created_cos'] = df6['week_of_year_account_created'].apply( lambda x: np.cos( x * (2*np.pi/52 ) ) )\n",
    "\n",
    "# day_of_week_first_booking\n",
    "df6['day_of_week_first_booking_sin'] = df6['day_of_week_first_booking'].apply( lambda x: np.sin( x * (2*np.pi/7 ) ) )\n",
    "df6['day_of_week_first_booking_cos'] = df6['day_of_week_first_booking'].apply( lambda x: np.cos( x * (2*np.pi/7 ) ) )\n",
    "\n",
    "# day_account_created\n",
    "df6['day_account_created_sin'] = df6['day_account_created'].apply( lambda x: np.sin( x * (2*np.pi/31 ) ) )\n",
    "df6['day_account_created_cos'] = df6['day_account_created'].apply( lambda x: np.cos( x * (2*np.pi/31 ) ) )\n",
    "\n",
    "# day_of_week_account_created\n",
    "df6['day_of_week_account_created_sin'] = df6['day_of_week_account_created'].apply( lambda x: np.sin( x * (2*np.pi/7 ) ) )\n",
    "df6['day_of_week_account_created_cos'] = df6['day_of_week_account_created'].apply( lambda x: np.cos( x * (2*np.pi/7 ) ) )"
   ]
  },
  {
   "cell_type": "markdown",
   "metadata": {},
   "source": [
    "# 7.0. Feature Selection"
   ]
  },
  {
   "cell_type": "code",
   "execution_count": 90,
   "metadata": {
    "ExecuteTime": {
     "end_time": "2020-10-28T01:09:49.720360Z",
     "start_time": "2020-10-28T01:09:49.681032Z"
    }
   },
   "outputs": [],
   "source": [
    "df7 = df6.copy()"
   ]
  },
  {
   "cell_type": "code",
   "execution_count": 91,
   "metadata": {
    "ExecuteTime": {
     "end_time": "2020-10-28T01:09:51.168897Z",
     "start_time": "2020-10-28T01:09:51.042899Z"
    }
   },
   "outputs": [],
   "source": [
    "X = df6.drop( 'country_destination', axis=1 )\n",
    "y = df6['country_destination'].copy()"
   ]
  },
  {
   "cell_type": "code",
   "execution_count": 92,
   "metadata": {
    "ExecuteTime": {
     "end_time": "2020-10-28T01:10:19.510164Z",
     "start_time": "2020-10-28T01:10:19.308149Z"
    }
   },
   "outputs": [],
   "source": [
    "# Split dataset into training and test\n",
    "x_train, x_test, y_train, y_test = ms.train_test_split( X, y, test_size=0.2, random_state=32 )"
   ]
  },
  {
   "cell_type": "markdown",
   "metadata": {},
   "source": [
    "# 8.0. Machine Learning Model"
   ]
  },
  {
   "cell_type": "markdown",
   "metadata": {},
   "source": [
    "## 8.1. Baseline Model"
   ]
  },
  {
   "cell_type": "code",
   "execution_count": 93,
   "metadata": {
    "ExecuteTime": {
     "end_time": "2020-10-28T01:10:25.864717Z",
     "start_time": "2020-10-28T01:10:25.801352Z"
    }
   },
   "outputs": [],
   "source": [
    "country_destination_list = df1['country_destination'].drop_duplicates().sort_values().tolist()\n",
    "k_num = y_test.shape[0]\n",
    "country_destination_weights = df1['country_destination'].value_counts( normalize=True ).sort_index().tolist()\n",
    "\n",
    "yhat_random = random.choices( population=country_destination_list,  \n",
    "                              weights=country_destination_weights,\n",
    "                              k=k_num )"
   ]
  },
  {
   "cell_type": "markdown",
   "metadata": {},
   "source": [
    "### 8.1.1. Baseline Model Performance"
   ]
  },
  {
   "cell_type": "code",
   "execution_count": 94,
   "metadata": {
    "ExecuteTime": {
     "end_time": "2020-10-28T01:10:36.890363Z",
     "start_time": "2020-10-28T01:10:28.926905Z"
    }
   },
   "outputs": [
    {
     "name": "stdout",
     "output_type": "stream",
     "text": [
      "Accuracy: 0.09213223987698616\n",
      "Balanced Accuracy:0.08310397046943117\n",
      "Kappa Score: -0.00020319419528025406\n",
      "              precision    recall  f1-score   support\n",
      "\n",
      "          AU       0.06      0.00      0.00      7470\n",
      "          CA       0.08      0.01      0.02      8517\n",
      "          DE       0.06      0.01      0.01      7462\n",
      "          ES       0.10      0.01      0.02     10003\n",
      "          FR       0.08      0.03      0.05      8741\n",
      "          GB       0.10      0.01      0.03     10489\n",
      "          IT       0.07      0.02      0.03      7962\n",
      "         NDF       0.10      0.45      0.17     11058\n",
      "          NL       0.08      0.00      0.01      9675\n",
      "          PT       0.10      0.00      0.00      9465\n",
      "          US       0.09      0.39      0.14      9435\n",
      "       other       0.08      0.06      0.07      8979\n",
      "\n",
      "    accuracy                           0.09    109256\n",
      "   macro avg       0.08      0.08      0.04    109256\n",
      "weighted avg       0.08      0.09      0.05    109256\n",
      "\n"
     ]
    },
    {
     "data": {
      "text/plain": [
       "<AxesSubplot:title={'center':'Confusion Matrix'}, xlabel='Predicted label', ylabel='True label'>"
      ]
     },
     "execution_count": 94,
     "metadata": {},
     "output_type": "execute_result"
    },
    {
     "data": {
      "image/png": "[encoded data removed]",
      "text/plain": [
       "<Figure size 864x864 with 2 Axes>"
      ]
     },
     "metadata": {
      "needs_background": "light"
     },
     "output_type": "display_data"
    }
   ],
   "source": [
    "# Accuracy\n",
    "acc_random = m.accuracy_score( y_test, yhat_random )\n",
    "print( 'Accuracy: {}'.format( acc_random ) )\n",
    "\n",
    "# Balanced Accuray\n",
    "balanced_acc_random = m.balanced_accuracy_score( y_test, yhat_random )\n",
    "print( 'Balanced Accuracy:{}'.format( balanced_acc_random ) )\n",
    "\n",
    "# Kappa Metrics\n",
    "kappa_random = m.cohen_kappa_score( y_test, yhat_random )\n",
    "print( 'Kappa Score: {}'.format( kappa_random ) )\n",
    "\n",
    "# Classification report\n",
    "print( m.classification_report( y_test, yhat_random ) )\n",
    "\n",
    "# Confusion Matrix\n",
    "mt.plot_confusion_matrix( y_test, yhat_random, normalize=False, figsize=(12,12))"
   ]
  },
  {
   "cell_type": "markdown",
   "metadata": {},
   "source": [
    "## 8.2. Neural Network - MLP"
   ]
  },
  {
   "cell_type": "code",
   "execution_count": 95,
   "metadata": {
    "ExecuteTime": {
     "end_time": "2020-10-28T01:10:43.252112Z",
     "start_time": "2020-10-28T01:10:42.962072Z"
    }
   },
   "outputs": [],
   "source": [
    "ohe = pp.OneHotEncoder()\n",
    "y_train_nn = ohe.fit_transform( y_train.values.reshape( -1, 1 ) ).toarray()"
   ]
  },
  {
   "cell_type": "code",
   "execution_count": 96,
   "metadata": {
    "ExecuteTime": {
     "end_time": "2020-10-28T01:10:51.699946Z",
     "start_time": "2020-10-28T01:10:51.628385Z"
    }
   },
   "outputs": [
    {
     "name": "stdout",
     "output_type": "stream",
     "text": [
      "Number of Rows: 437023\n",
      "Number of Features: 31\n",
      "Number of Classes: 12\n"
     ]
    }
   ],
   "source": [
    "print( 'Number of Rows: {}'.format( x_train.shape[0] ) )\n",
    "print( 'Number of Features: {}'.format( x_train.shape[1] ) )\n",
    "print( 'Number of Classes: {}'.format( y_train.nunique() ) )"
   ]
  },
  {
   "cell_type": "code",
   "execution_count": 97,
   "metadata": {
    "ExecuteTime": {
     "end_time": "2020-10-28T01:29:03.750610Z",
     "start_time": "2020-10-28T01:11:17.159846Z"
    }
   },
   "outputs": [
    {
     "name": "stdout",
     "output_type": "stream",
     "text": [
      "Epoch 1/100\n",
      "13657/13657 [==============================] - 10s 753us/step - loss: 2.1184 - accuracy: 0.2448\n",
      "Epoch 2/100\n",
      "13657/13657 [==============================] - 10s 766us/step - loss: 2.0116 - accuracy: 0.2881\n",
      "Epoch 3/100\n",
      "13657/13657 [==============================] - 10s 739us/step - loss: 1.9689 - accuracy: 0.3042\n",
      "Epoch 4/100\n",
      "13657/13657 [==============================] - 10s 746us/step - loss: 1.9419 - accuracy: 0.3145\n",
      "Epoch 5/100\n",
      "13657/13657 [==============================] - 10s 703us/step - loss: 1.9246 - accuracy: 0.3212\n",
      "Epoch 6/100\n",
      "13657/13657 [==============================] - 10s 698us/step - loss: 1.9136 - accuracy: 0.3246\n",
      "Epoch 7/100\n",
      "13657/13657 [==============================] - 10s 700us/step - loss: 1.9059 - accuracy: 0.3264\n",
      "Epoch 8/100\n",
      "13657/13657 [==============================] - 10s 728us/step - loss: 1.9000 - accuracy: 0.3283\n",
      "Epoch 9/100\n",
      "13657/13657 [==============================] - 10s 710us/step - loss: 1.8959 - accuracy: 0.3295\n",
      "Epoch 10/100\n",
      "13657/13657 [==============================] - 10s 706us/step - loss: 1.8914 - accuracy: 0.3302\n",
      "Epoch 11/100\n",
      "13657/13657 [==============================] - 10s 720us/step - loss: 1.8886 - accuracy: 0.3313\n",
      "Epoch 12/100\n",
      "13657/13657 [==============================] - 10s 711us/step - loss: 1.8859 - accuracy: 0.3320\n",
      "Epoch 13/100\n",
      "13657/13657 [==============================] - 10s 706us/step - loss: 1.8829 - accuracy: 0.3336\n",
      "Epoch 14/100\n",
      "13657/13657 [==============================] - 10s 723us/step - loss: 1.8799 - accuracy: 0.3349\n",
      "Epoch 15/100\n",
      "13657/13657 [==============================] - 10s 712us/step - loss: 1.8789 - accuracy: 0.3351\n",
      "Epoch 16/100\n",
      "13657/13657 [==============================] - 10s 711us/step - loss: 1.8758 - accuracy: 0.3362\n",
      "Epoch 17/100\n",
      "13657/13657 [==============================] - 10s 728us/step - loss: 1.8748 - accuracy: 0.3369\n",
      "Epoch 18/100\n",
      "13657/13657 [==============================] - 10s 714us/step - loss: 1.8728 - accuracy: 0.3368\n",
      "Epoch 19/100\n",
      "13657/13657 [==============================] - 10s 729us/step - loss: 1.8709 - accuracy: 0.3380s - loss: 1.8706 - accu\n",
      "Epoch 20/100\n",
      "13657/13657 [==============================] - 10s 755us/step - loss: 1.8699 - accuracy: 0.3377\n",
      "Epoch 21/100\n",
      "13657/13657 [==============================] - 10s 709us/step - loss: 1.8688 - accuracy: 0.3385\n",
      "Epoch 22/100\n",
      "13657/13657 [==============================] - 10s 717us/step - loss: 1.8672 - accuracy: 0.3392\n",
      "Epoch 23/100\n",
      "13657/13657 [==============================] - 10s 717us/step - loss: 1.8662 - accuracy: 0.3391\n",
      "Epoch 24/100\n",
      "13657/13657 [==============================] - 10s 723us/step - loss: 1.8652 - accuracy: 0.3396\n",
      "Epoch 25/100\n",
      "13657/13657 [==============================] - 10s 721us/step - loss: 1.8639 - accuracy: 0.3395\n",
      "Epoch 26/100\n",
      "13657/13657 [==============================] - 10s 725us/step - loss: 1.8628 - accuracy: 0.3403\n",
      "Epoch 27/100\n",
      "13657/13657 [==============================] - 10s 717us/step - loss: 1.8626 - accuracy: 0.3396\n",
      "Epoch 28/100\n",
      "13657/13657 [==============================] - 10s 744us/step - loss: 1.8610 - accuracy: 0.3409\n",
      "Epoch 29/100\n",
      "13657/13657 [==============================] - 10s 760us/step - loss: 1.8608 - accuracy: 0.3414\n",
      "Epoch 30/100\n",
      "13657/13657 [==============================] - 10s 769us/step - loss: 1.8607 - accuracy: 0.3416\n",
      "Epoch 31/100\n",
      "13657/13657 [==============================] - 10s 762us/step - loss: 1.8592 - accuracy: 0.3417\n",
      "Epoch 32/100\n",
      "13657/13657 [==============================] - 10s 755us/step - loss: 1.8583 - accuracy: 0.3416\n",
      "Epoch 33/100\n",
      "13657/13657 [==============================] - 10s 755us/step - loss: 1.8578 - accuracy: 0.3411\n",
      "Epoch 34/100\n",
      "13657/13657 [==============================] - 10s 718us/step - loss: 1.8569 - accuracy: 0.3411\n",
      "Epoch 35/100\n",
      "13657/13657 [==============================] - 10s 715us/step - loss: 1.8565 - accuracy: 0.3417\n",
      "Epoch 36/100\n",
      "13657/13657 [==============================] - 10s 725us/step - loss: 1.8560 - accuracy: 0.3414\n",
      "Epoch 37/100\n",
      "13657/13657 [==============================] - 10s 716us/step - loss: 1.8549 - accuracy: 0.3427\n",
      "Epoch 38/100\n",
      "13657/13657 [==============================] - 10s 746us/step - loss: 1.8542 - accuracy: 0.3426\n",
      "Epoch 39/100\n",
      "13657/13657 [==============================] - 10s 719us/step - loss: 1.8537 - accuracy: 0.3426\n",
      "Epoch 40/100\n",
      "13657/13657 [==============================] - 11s 783us/step - loss: 1.8532 - accuracy: 0.3421\n",
      "Epoch 41/100\n",
      "13657/13657 [==============================] - 11s 822us/step - loss: 1.8531 - accuracy: 0.3425\n",
      "Epoch 42/100\n",
      "13657/13657 [==============================] - 11s 838us/step - loss: 1.8522 - accuracy: 0.3426\n",
      "Epoch 43/100\n",
      "13657/13657 [==============================] - 12s 869us/step - loss: 1.8516 - accuracy: 0.3433\n",
      "Epoch 44/100\n",
      "13657/13657 [==============================] - 12s 866us/step - loss: 1.8505 - accuracy: 0.3432\n",
      "Epoch 45/100\n",
      "13657/13657 [==============================] - 12s 871us/step - loss: 1.8503 - accuracy: 0.3430\n",
      "Epoch 46/100\n",
      "13657/13657 [==============================] - 12s 852us/step - loss: 1.8504 - accuracy: 0.3428\n",
      "Epoch 47/100\n",
      "13657/13657 [==============================] - 11s 814us/step - loss: 1.8506 - accuracy: 0.3431\n",
      "Epoch 48/100\n",
      "13657/13657 [==============================] - 12s 852us/step - loss: 1.8492 - accuracy: 0.3441\n",
      "Epoch 49/100\n",
      "13657/13657 [==============================] - 11s 841us/step - loss: 1.8486 - accuracy: 0.3444\n",
      "Epoch 50/100\n",
      "13657/13657 [==============================] - 12s 853us/step - loss: 1.8487 - accuracy: 0.3436\n",
      "Epoch 51/100\n",
      "13657/13657 [==============================] - 12s 879us/step - loss: 1.8482 - accuracy: 0.3442\n",
      "Epoch 52/100\n",
      "13657/13657 [==============================] - 12s 868us/step - loss: 1.8473 - accuracy: 0.3445\n",
      "Epoch 53/100\n",
      "13657/13657 [==============================] - 12s 909us/step - loss: 1.8467 - accuracy: 0.3446\n",
      "Epoch 54/100\n",
      "13657/13657 [==============================] - 13s 918us/step - loss: 1.8467 - accuracy: 0.3445\n",
      "Epoch 55/100\n",
      "13657/13657 [==============================] - 12s 906us/step - loss: 1.8465 - accuracy: 0.3445\n",
      "Epoch 56/100\n",
      "13657/13657 [==============================] - 13s 917us/step - loss: 1.8463 - accuracy: 0.3449\n",
      "Epoch 57/100\n",
      "13657/13657 [==============================] - 12s 913us/step - loss: 1.8468 - accuracy: 0.3447\n",
      "Epoch 58/100\n",
      "13657/13657 [==============================] - 13s 988us/step - loss: 1.8464 - accuracy: 0.3451\n",
      "Epoch 59/100\n",
      "13657/13657 [==============================] - 14s 1ms/step - loss: 1.8453 - accuracy: 0.3453\n",
      "Epoch 60/100\n",
      "13657/13657 [==============================] - 15s 1ms/step - loss: 1.8456 - accuracy: 0.3447\n",
      "Epoch 61/100\n",
      "13657/13657 [==============================] - 15s 1ms/step - loss: 1.8445 - accuracy: 0.3454\n",
      "Epoch 62/100\n",
      "13657/13657 [==============================] - 15s 1ms/step - loss: 1.8444 - accuracy: 0.3451\n",
      "Epoch 63/100\n",
      "13657/13657 [==============================] - 16s 1ms/step - loss: 1.8436 - accuracy: 0.3456\n",
      "Epoch 64/100\n",
      "13657/13657 [==============================] - 16s 1ms/step - loss: 1.8436 - accuracy: 0.3449\n",
      "Epoch 65/100\n",
      "13657/13657 [==============================] - 16s 1ms/step - loss: 1.8437 - accuracy: 0.3458\n",
      "Epoch 66/100\n",
      "13657/13657 [==============================] - 12s 896us/step - loss: 1.8445 - accuracy: 0.3454\n",
      "Epoch 67/100\n",
      "13657/13657 [==============================] - 11s 811us/step - loss: 1.8436 - accuracy: 0.3458\n",
      "Epoch 68/100\n",
      "13657/13657 [==============================] - 10s 716us/step - loss: 1.8425 - accuracy: 0.3453\n",
      "Epoch 69/100\n",
      "13657/13657 [==============================] - 9s 687us/step - loss: 1.8421 - accuracy: 0.3457\n",
      "Epoch 70/100\n",
      "13657/13657 [==============================] - 9s 648us/step - loss: 1.8421 - accuracy: 0.3455\n",
      "Epoch 71/100\n",
      "13657/13657 [==============================] - 9s 638us/step - loss: 1.8421 - accuracy: 0.3461\n",
      "Epoch 72/100\n",
      "13657/13657 [==============================] - 9s 640us/step - loss: 1.8417 - accuracy: 0.3457\n",
      "Epoch 73/100\n",
      "13657/13657 [==============================] - 8s 621us/step - loss: 1.8419 - accuracy: 0.3461\n",
      "Epoch 74/100\n",
      "13657/13657 [==============================] - 9s 623us/step - loss: 1.8424 - accuracy: 0.3459\n",
      "Epoch 75/100\n",
      "13657/13657 [==============================] - 8s 616us/step - loss: 1.8409 - accuracy: 0.3471\n",
      "Epoch 76/100\n",
      "13657/13657 [==============================] - 9s 640us/step - loss: 1.8415 - accuracy: 0.3468\n",
      "Epoch 77/100\n",
      "13657/13657 [==============================] - 9s 644us/step - loss: 1.8409 - accuracy: 0.3462\n",
      "Epoch 78/100\n",
      "13657/13657 [==============================] - 9s 667us/step - loss: 1.8411 - accuracy: 0.3468\n",
      "Epoch 79/100\n",
      "13657/13657 [==============================] - 9s 665us/step - loss: 1.8411 - accuracy: 0.3466\n",
      "Epoch 80/100\n",
      "13657/13657 [==============================] - 9s 672us/step - loss: 1.8404 - accuracy: 0.3464\n",
      "Epoch 81/100\n",
      "13657/13657 [==============================] - 9s 668us/step - loss: 1.8406 - accuracy: 0.3471\n",
      "Epoch 82/100\n",
      "13657/13657 [==============================] - 9s 676us/step - loss: 1.8412 - accuracy: 0.3475\n",
      "Epoch 83/100\n",
      "13657/13657 [==============================] - 9s 680us/step - loss: 1.8407 - accuracy: 0.3464\n",
      "Epoch 84/100\n",
      "13657/13657 [==============================] - 9s 693us/step - loss: 1.8394 - accuracy: 0.3469\n",
      "Epoch 85/100\n",
      "13657/13657 [==============================] - 9s 694us/step - loss: 1.8396 - accuracy: 0.3473\n",
      "Epoch 86/100\n",
      "13657/13657 [==============================] - 9s 692us/step - loss: 1.8396 - accuracy: 0.3467\n",
      "Epoch 87/100\n",
      "13657/13657 [==============================] - 9s 685us/step - loss: 1.8402 - accuracy: 0.3469\n",
      "Epoch 88/100\n",
      "13657/13657 [==============================] - 9s 667us/step - loss: 1.8391 - accuracy: 0.3472\n",
      "Epoch 89/100\n",
      "13657/13657 [==============================] - 9s 663us/step - loss: 1.8388 - accuracy: 0.3477\n",
      "Epoch 90/100\n",
      "13657/13657 [==============================] - 9s 665us/step - loss: 1.8388 - accuracy: 0.3470\n",
      "Epoch 91/100\n",
      "13657/13657 [==============================] - 9s 663us/step - loss: 1.8386 - accuracy: 0.3470\n",
      "Epoch 92/100\n",
      "13657/13657 [==============================] - 9s 684us/step - loss: 1.8390 - accuracy: 0.3478\n",
      "Epoch 93/100\n",
      "13657/13657 [==============================] - 10s 704us/step - loss: 1.8389 - accuracy: 0.3476\n",
      "Epoch 94/100\n",
      "13657/13657 [==============================] - 10s 706us/step - loss: 1.8387 - accuracy: 0.3466\n",
      "Epoch 95/100\n",
      "13657/13657 [==============================] - 10s 755us/step - loss: 1.8381 - accuracy: 0.3480\n",
      "Epoch 96/100\n",
      "13657/13657 [==============================] - 10s 761us/step - loss: 1.8385 - accuracy: 0.3482\n",
      "Epoch 97/100\n",
      "13657/13657 [==============================] - 12s 852us/step - loss: 1.8379 - accuracy: 0.3474\n",
      "Epoch 98/100\n",
      "13657/13657 [==============================] - 16s 1ms/step - loss: 1.8377 - accuracy: 0.3476 0s - loss: 1.8376 - accuracy\n",
      "Epoch 99/100\n",
      "13657/13657 [==============================] - 13s 983us/step - loss: 1.8384 - accuracy: 0.3480\n",
      "Epoch 100/100\n",
      "13657/13657 [==============================] - 13s 956us/step - loss: 1.8381 - accuracy: 0.3473\n"
     ]
    },
    {
     "data": {
      "text/plain": [
       "<tensorflow.python.keras.callbacks.History at 0x1571992b0>"
      ]
     },
     "execution_count": 97,
     "metadata": {},
     "output_type": "execute_result"
    }
   ],
   "source": [
    "# model definition\n",
    "model = ml.Sequential()\n",
    "model.add( l.Dense( 64, input_dim=x_train.shape[1], activation='relu' ) )\n",
    "model.add( l.Dense( 12, activation='softmax') )\n",
    "\n",
    "# model compile\n",
    "model.compile( loss='categorical_crossentropy', optimizer='adam', metrics=['accuracy'] )\n",
    "\n",
    "# train model\n",
    "model.fit( x_train, y_train_nn, epochs=100 )"
   ]
  },
  {
   "cell_type": "markdown",
   "metadata": {},
   "source": [
    "### 7.2.1. NN Performance"
   ]
  },
  {
   "cell_type": "code",
   "execution_count": 98,
   "metadata": {
    "ExecuteTime": {
     "end_time": "2020-10-28T01:59:54.528772Z",
     "start_time": "2020-10-28T01:59:53.485380Z"
    }
   },
   "outputs": [],
   "source": [
    "# prediction\n",
    "pred_nn = model.predict( x_test )\n",
    "\n",
    "# invert prediction\n",
    "yhat_nn = ohe.inverse_transform( pred_nn )\n",
    "\n",
    "# prediction prepare\n",
    "y_test_nn = y_test.to_numpy()\n",
    "yhat_nn = yhat_nn.reshape( 1, -1 )[0]"
   ]
  },
  {
   "cell_type": "code",
   "execution_count": 99,
   "metadata": {
    "ExecuteTime": {
     "end_time": "2020-10-28T02:00:02.933142Z",
     "start_time": "2020-10-28T01:59:54.530884Z"
    }
   },
   "outputs": [
    {
     "name": "stdout",
     "output_type": "stream",
     "text": [
      "Accuracy: 0.35109284615947867\n",
      "Balanced Accuracy:0.33314777646607335\n",
      "Kappa Score: 0.29028000162482237\n",
      "              precision    recall  f1-score   support\n",
      "\n",
      "          AU       0.32      0.37      0.34      7470\n",
      "          CA       0.20      0.21      0.20      8517\n",
      "          DE       0.21      0.14      0.17      7462\n",
      "          ES       0.20      0.19      0.19     10003\n",
      "          FR       0.15      0.07      0.10      8741\n",
      "          GB       0.19      0.15      0.17     10489\n",
      "          IT       0.16      0.08      0.10      7962\n",
      "         NDF       1.00      1.00      1.00     11058\n",
      "          NL       0.24      0.50      0.32      9675\n",
      "          PT       0.60      0.92      0.73      9465\n",
      "          US       0.26      0.30      0.28      9435\n",
      "       other       0.17      0.07      0.10      8979\n",
      "\n",
      "    accuracy                           0.35    109256\n",
      "   macro avg       0.31      0.33      0.31    109256\n",
      "weighted avg       0.32      0.35      0.32    109256\n",
      "\n"
     ]
    },
    {
     "data": {
      "text/plain": [
       "<AxesSubplot:title={'center':'Confusion Matrix'}, xlabel='Predicted label', ylabel='True label'>"
      ]
     },
     "execution_count": 99,
     "metadata": {},
     "output_type": "execute_result"
    },
    {
     "data": {
      "image/png": "[encoded data removed]",
      "text/plain": [
       "<Figure size 864x864 with 2 Axes>"
      ]
     },
     "metadata": {
      "needs_background": "light"
     },
     "output_type": "display_data"
    }
   ],
   "source": [
    "# Accuracy\n",
    "acc_nn = m.accuracy_score( y_test_nn, yhat_nn )\n",
    "print( 'Accuracy: {}'.format( acc_nn ) )\n",
    "\n",
    "# Balanced Accuray\n",
    "balanced_acc_nn = m.balanced_accuracy_score( y_test_nn, yhat_nn )\n",
    "print( 'Balanced Accuracy:{}'.format( balanced_acc_nn ) )\n",
    "\n",
    "# Kappa Metrics\n",
    "kappa_nn = m.cohen_kappa_score( y_test_nn, yhat_nn )\n",
    "print( 'Kappa Score: {}'.format( kappa_nn ) )\n",
    "\n",
    "# Classification report\n",
    "print( m.classification_report( y_test_nn, yhat_nn ) )\n",
    "\n",
    "# Confusion Matrix\n",
    "mt.plot_confusion_matrix( y_test_nn, yhat_nn, normalize=False, figsize=(12,12))"
   ]
  },
  {
   "cell_type": "markdown",
   "metadata": {},
   "source": [
    "### 7.2.2. NN Performance - Cross-Validation"
   ]
  },
  {
   "cell_type": "code",
   "execution_count": 53,
   "metadata": {
    "ExecuteTime": {
     "end_time": "2020-09-27T21:07:17.402750Z",
     "start_time": "2020-09-27T20:56:25.401785Z"
    }
   },
   "outputs": [
    {
     "name": "stdout",
     "output_type": "stream",
     "text": [
      "Fold Number: 1/5\n",
      "Fold Number: 2/5\n",
      "Fold Number: 3/5\n",
      "Fold Number: 4/5\n",
      "Fold Number: 5/5\n"
     ]
    }
   ],
   "source": [
    "# generate k-fold\n",
    "num_folds = 5\n",
    "kfold = ms.StratifiedKFold( n_splits=num_folds, shuffle=True, random_state=32 )\n",
    "\n",
    "balanced_acc_list = []\n",
    "kappa_acc_list = []\n",
    "\n",
    "i = 1\n",
    "for train_ix, val_ix in kfold.split( x_train, y_train ):\n",
    "    print( 'Fold Number: {}/{}'.format( i, num_folds ) )\n",
    "    \n",
    "    # get fold\n",
    "    x_train_fold = x_train.iloc[train_ix]\n",
    "    y_train_fold = y_train.iloc[train_ix]\n",
    "    \n",
    "    x_val_fold = x_train.iloc[val_ix]\n",
    "    y_val_fold = y_train.iloc[val_ix]\n",
    "    \n",
    "    # target hot-encoding\n",
    "    ohe = pp.OneHotEncoder()\n",
    "    y_train_fold_nn = ohe.fit_transform( y_train_fold.values.reshape( -1, 1 ) ).toarray()\n",
    "\n",
    "    # model definition\n",
    "    model = ml.Sequential()\n",
    "    model.add( l.Dense( 256, input_dim=x_train.shape[1], activation='relu' ) )\n",
    "    model.add( l.Dense( 12, activation='softmax') )\n",
    "\n",
    "    # compile model\n",
    "    model.compile( loss='categorical_crossentropy', optimizer='adam', metrics=['accuracy'] )\n",
    "\n",
    "    # training model\n",
    "    model.fit( x_train_fold, y_train_fold_nn, epochs=100, batch_size=32, verbose=0 )\n",
    "\n",
    "    # prediction\n",
    "    pred_nn = model.predict( x_val_fold )\n",
    "    yhat_nn = ohe.inverse_transform( pred_nn )\n",
    "    \n",
    "    # prepare data\n",
    "    y_test_nn = y_val_fold.to_numpy()\n",
    "    yhat_nn = yhat_nn.reshape( 1, -1 )[0]\n",
    "\n",
    "    # metrics\n",
    "    ## Balanced Accuracy \n",
    "    balanced_acc_nn = m.balanced_accuracy_score( y_test_nn, yhat_nn )\n",
    "    balanced_acc_list.append( balanced_acc_nn )\n",
    "    \n",
    "    ## Kappa Metrics\n",
    "    kappa_acc_nn = m.cohen_kappa_score( y_test_nn, yhat_nn )\n",
    "    kappa_acc_list.append( kappa_acc_nn )\n",
    "    \n",
    "    i += 1"
   ]
  },
  {
   "cell_type": "code",
   "execution_count": 61,
   "metadata": {
    "ExecuteTime": {
     "end_time": "2020-09-27T21:09:16.329249Z",
     "start_time": "2020-09-27T21:09:16.325267Z"
    }
   },
   "outputs": [
    {
     "name": "stdout",
     "output_type": "stream",
     "text": [
      "Avg Balanced Accuracy: 0.1666 +/- 0.0001\n",
      "Avg Kappa: 0.724 +/- 0.0006\n"
     ]
    }
   ],
   "source": [
    "print( 'Avg Balanced Accuracy: {} +/- {}'.format( np.round( np.mean( balanced_acc_list ), 4 ), np.round( np.std( balanced_acc_list ), 4 ) ) )\n",
    "print( 'Avg Kappa: {} +/- {}'.format( np.round( np.mean( kappa_acc_list ), 4 ), np.round( np.std( kappa_acc_list ), 4 ) ) )"
   ]
  },
  {
   "cell_type": "code",
   "execution_count": null,
   "metadata": {},
   "outputs": [],
   "source": []
  },
  {
   "cell_type": "code",
   "execution_count": null,
   "metadata": {},
   "outputs": [],
   "source": []
  },
  {
   "cell_type": "code",
   "execution_count": null,
   "metadata": {},
   "outputs": [],
   "source": []
  },
  {
   "cell_type": "code",
   "execution_count": null,
   "metadata": {},
   "outputs": [],
   "source": []
  },
  {
   "cell_type": "code",
   "execution_count": null,
   "metadata": {},
   "outputs": [],
   "source": []
  },
  {
   "cell_type": "code",
   "execution_count": null,
   "metadata": {},
   "outputs": [],
   "source": []
  },
  {
   "cell_type": "code",
   "execution_count": null,
   "metadata": {},
   "outputs": [],
   "source": []
  },
  {
   "cell_type": "code",
   "execution_count": null,
   "metadata": {},
   "outputs": [],
   "source": []
  },
  {
   "cell_type": "code",
   "execution_count": null,
   "metadata": {},
   "outputs": [],
   "source": []
  },
  {
   "cell_type": "code",
   "execution_count": null,
   "metadata": {},
   "outputs": [],
   "source": []
  },
  {
   "cell_type": "code",
   "execution_count": null,
   "metadata": {},
   "outputs": [],
   "source": []
  },
  {
   "cell_type": "code",
   "execution_count": null,
   "metadata": {},
   "outputs": [],
   "source": []
  }
 ],
 "metadata": {
  "kernelspec": {
   "display_name": "Python 3",
   "language": "python",
   "name": "python3"
  },
  "language_info": {
   "codemirror_mode": {
    "name": "ipython",
    "version": 3
   },
   "file_extension": ".py",
   "mimetype": "text/x-python",
   "name": "python",
   "nbconvert_exporter": "python",
   "pygments_lexer": "ipython3",
   "version": "3.8.0"
  }
 },
 "nbformat": 4,
 "nbformat_minor": 4
}
