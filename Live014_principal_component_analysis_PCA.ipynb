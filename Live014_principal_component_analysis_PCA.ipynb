{
 "cells": [
  {
   "cell_type": "markdown",
   "metadata": {},
   "source": [
    "# Live 014 - PCA ( Principal Component Analysis )"
   ]
  },
  {
   "cell_type": "markdown",
   "metadata": {
    "ExecuteTime": {
     "end_time": "2021-01-09T18:58:12.645306Z",
     "start_time": "2021-01-09T18:58:12.641306Z"
    }
   },
   "source": [
    "### Nesse notebook, você vai encontrar os códigos para aplicar PCA sobre um modelo de redes neurais"
   ]
  },
  {
   "cell_type": "markdown",
   "metadata": {},
   "source": [
    "## 0.0. Imports"
   ]
  },
  {
   "cell_type": "code",
   "execution_count": 42,
   "metadata": {
    "ExecuteTime": {
     "end_time": "2020-12-17T00:21:35.666563Z",
     "start_time": "2020-12-17T00:21:35.600855Z"
    }
   },
   "outputs": [],
   "source": [
    "import pandas as pd\n",
    "import numpy  as np\n",
    "\n",
    "from sklearn import model_selection as ms\n",
    "from sklearn import preprocessing   as pp\n",
    "from sklearn import decomposition   as d\n",
    "\n",
    "from keras.models    import Sequential\n",
    "from keras.layers    import Dense\n",
    "from keras.callbacks import EarlyStopping\n",
    "\n",
    "from matplotlib import pyplot as plt"
   ]
  },
  {
   "cell_type": "code",
   "execution_count": 47,
   "metadata": {
    "ExecuteTime": {
     "end_time": "2020-12-17T00:25:05.942684Z",
     "start_time": "2020-12-17T00:25:05.939151Z"
    }
   },
   "outputs": [],
   "source": [
    "np.set_printoptions(suppress=True)"
   ]
  },
  {
   "cell_type": "markdown",
   "metadata": {},
   "source": [
    "## 0.1. Load Dataset"
   ]
  },
  {
   "cell_type": "code",
   "execution_count": 3,
   "metadata": {
    "ExecuteTime": {
     "end_time": "2020-12-17T00:08:24.478232Z",
     "start_time": "2020-12-17T00:08:24.457807Z"
    }
   },
   "outputs": [],
   "source": [
    "# load dataset\n",
    "df_raw = pd.read_csv( '~/Downloads/vehicle.csv' )\n",
    "\n",
    "# select only car and bus\n",
    "df1 = df_raw[df_raw['class'].isin( ['car', 'bus'] )]\n",
    "\n",
    "# cleaning\n",
    "df1 = df1.dropna()\n",
    "\n",
    "# features and response variable\n",
    "X = df1.drop( 'class', axis=1 )\n",
    "y = df1['class']\n",
    "\n",
    "# split training and test\n",
    "x, x_test, y, y_test = ms.train_test_split( X, y, test_size=0.1 )"
   ]
  },
  {
   "cell_type": "markdown",
   "metadata": {},
   "source": [
    "# 1.0. Neural Network Model without PCA"
   ]
  },
  {
   "cell_type": "code",
   "execution_count": 26,
   "metadata": {
    "ExecuteTime": {
     "end_time": "2020-12-17T00:13:59.143366Z",
     "start_time": "2020-12-17T00:13:45.733935Z"
    }
   },
   "outputs": [],
   "source": [
    "# HOLD OUT\n",
    "train_acc_list = []\n",
    "val_acc_list = []\n",
    "for i in range( 0, 5 ):\n",
    "    # split training and validation\n",
    "    x_train, x_val, y_train, y_val = ms.train_test_split( x, y, test_size=0.2 )\n",
    "\n",
    "    # y for NN\n",
    "    ohe = pp.OneHotEncoder()\n",
    "    y_train = ohe.fit_transform( y_train.values.reshape( -1, 1 ) ).toarray()\n",
    "    y_val = ohe.transform( y_val.values.reshape( -1, 1 ) ).toarray()\n",
    "\n",
    "\n",
    "    # MLP: Neural Network \n",
    "    ## model definition\n",
    "    model = Sequential()\n",
    "    model.add( Dense( 2, input_dim=x_train.shape[1], activation='relu' ) ) # 2 neurons on Hidden Layer + Input Layer\n",
    "    model.add( Dense( 2, activation='softmax' ) )\n",
    "\n",
    "    ## model compile\n",
    "    model.compile( loss='categorical_crossentropy', optimizer='adam', metrics=['accuracy'] )\n",
    "\n",
    "    ### model fit ( training)\n",
    "    es = EarlyStopping( monitor='val_loss', patience=10 )\n",
    "    history = model.fit( x_train, y_train, validation_data=(x_val, y_val), epochs=100, callbacks=[es], verbose=0 )\n",
    "\n",
    "    ## model evaluate\n",
    "    _, train_acc = model.evaluate( x_train, y_train, verbose=0 )\n",
    "    _, val_acc = model.evaluate( x_val, y_val, verbose=0 )\n",
    "\n",
    "    #print( 'Train ACC:{} - Val ACC:{}'.format( train_acc, val_acc ) )\n",
    "    train_acc_list.append( train_acc )\n",
    "    val_acc_list.append( val_acc )"
   ]
  },
  {
   "cell_type": "code",
   "execution_count": 32,
   "metadata": {
    "ExecuteTime": {
     "end_time": "2020-12-17T00:16:15.708345Z",
     "start_time": "2020-12-17T00:16:15.705242Z"
    }
   },
   "outputs": [
    {
     "name": "stdout",
     "output_type": "stream",
     "text": [
      "Train ACC AVG: 0.704054057598114 +/- 0.05543653357658905\n",
      "Val ACC AVG: 0.675 +/- 0.05492342049819803\n"
     ]
    }
   ],
   "source": [
    "print( 'Train ACC AVG: {} +/- {}'.format( np.mean( train_acc_list ), np.std( train_acc_list ) ) )\n",
    "print( 'Val ACC AVG: {} +/- {}'.format( np.mean( val_acc_list ), np.std( val_acc_list ) ) )"
   ]
  },
  {
   "cell_type": "code",
   "execution_count": 33,
   "metadata": {
    "ExecuteTime": {
     "end_time": "2020-12-17T00:16:50.568024Z",
     "start_time": "2020-12-17T00:16:50.565824Z"
    }
   },
   "outputs": [],
   "source": [
    "#plt.plot( train_acc_list, label='training'  )\n",
    "#plt.plot( val_acc_list, label='validation' )\n",
    "#plt.legend()"
   ]
  },
  {
   "cell_type": "code",
   "execution_count": 41,
   "metadata": {
    "ExecuteTime": {
     "end_time": "2020-12-17T00:19:20.646435Z",
     "start_time": "2020-12-17T00:19:20.584732Z"
    }
   },
   "outputs": [
    {
     "name": "stdout",
     "output_type": "stream",
     "text": [
      "Test ACC:0.7096773982048035\n"
     ]
    }
   ],
   "source": [
    "y_test_nn = ohe.transform( y_test.values.reshape( -1, 1 ) ).toarray()\n",
    "_, test_acc = model.evaluate( x_test, y_test_nn, verbose=0 )\n",
    "\n",
    "print( 'Test ACC:{}'.format( test_acc ) )"
   ]
  },
  {
   "cell_type": "markdown",
   "metadata": {},
   "source": [
    "# 2.0. Neural Network Model with PCA"
   ]
  },
  {
   "cell_type": "code",
   "execution_count": 74,
   "metadata": {
    "ExecuteTime": {
     "end_time": "2020-12-17T00:34:31.157538Z",
     "start_time": "2020-12-17T00:34:28.031536Z"
    }
   },
   "outputs": [
    {
     "name": "stdout",
     "output_type": "stream",
     "text": [
      "Train ACC:0.9481981992721558 - Val ACC:0.9107142686843872\n"
     ]
    }
   ],
   "source": [
    "# split training and validation\n",
    "x_train, x_val, y_train, y_val = ms.train_test_split( x, y, test_size=0.2 )\n",
    "\n",
    "# PCA \n",
    "# standardization ( centralizao e rescala)\n",
    "#ss = pp.StandardScaler()\n",
    "#x_train_scaler = ss.fit_transform( x_train )\n",
    "#x_val_scaler = ss.transform( x_val )\n",
    "\n",
    "# define the number of eigenvectors ( autovetor ) + eigenvalues ( autovalores )\n",
    "pca = d.PCA().fit( x_train_scaler )\n",
    "k = np.argmax( np.cumsum( pca.explained_variance_ratio_ ) > 0.99 )\n",
    "\n",
    "# change data to new space\n",
    "pca = d.PCA( k ).fit( x_train_scaler )\n",
    "\n",
    "x_train = pca.transform( x_train_scaler )\n",
    "x_val = pca.transform( x_val_scaler )\n",
    "\n",
    "# y for NN\n",
    "ohe = pp.OneHotEncoder()\n",
    "y_train = ohe.fit_transform( y_train.values.reshape( -1, 1 ) ).toarray()\n",
    "y_val = ohe.transform( y_val.values.reshape( -1, 1 ) ).toarray()\n",
    "\n",
    "\n",
    "# MLP: Neural Network \n",
    "## model definition\n",
    "model = Sequential()\n",
    "model.add( Dense( 2, input_dim=x_train.shape[1], activation='relu' ) ) # 2 neurons on Hidden Layer + Input Layer\n",
    "model.add( Dense( 2, activation='softmax' ) )\n",
    "\n",
    "## model compile\n",
    "model.compile( loss='categorical_crossentropy', optimizer='adam', metrics=['accuracy'] )\n",
    "\n",
    "### model fit ( training)\n",
    "es = EarlyStopping( monitor='val_loss', patience=10 )\n",
    "history = model.fit( x_train, y_train, validation_data=(x_val, y_val), epochs=100, callbacks=[es], verbose=0 )\n",
    "\n",
    "## model evaluate\n",
    "_, train_acc = model.evaluate( x_train, y_train, verbose=0 )\n",
    "_, val_acc = model.evaluate( x_val, y_val, verbose=0 )\n",
    "\n",
    "print( 'Train ACC:{} - Val ACC:{}'.format( train_acc, val_acc ) )\n",
    "#train_acc_list.append( train_acc )\n",
    "#val_acc_list.append( val_acc )"
   ]
  },
  {
   "cell_type": "code",
   "execution_count": 76,
   "metadata": {
    "ExecuteTime": {
     "end_time": "2020-12-17T00:34:45.449395Z",
     "start_time": "2020-12-17T00:34:45.445265Z"
    }
   },
   "outputs": [
    {
     "data": {
      "text/plain": [
       "(62, 9)"
      ]
     },
     "execution_count": 76,
     "metadata": {},
     "output_type": "execute_result"
    }
   ],
   "source": [
    "x_test_nn.shape"
   ]
  },
  {
   "cell_type": "code",
   "execution_count": 75,
   "metadata": {
    "ExecuteTime": {
     "end_time": "2020-12-17T00:34:32.786715Z",
     "start_time": "2020-12-17T00:34:32.737719Z"
    }
   },
   "outputs": [
    {
     "name": "stdout",
     "output_type": "stream",
     "text": [
      "Test ACC:0.9516128897666931\n"
     ]
    }
   ],
   "source": [
    "x_test_nn = pca.transform( ss.transform( x_test ) )\n",
    "y_test_nn = ohe.transform( y_test.values.reshape( -1, 1 ) ).toarray()\n",
    "_, test_acc = model.evaluate( x_test_nn, y_test_nn, verbose=0 )\n",
    "\n",
    "print( 'Test ACC:{}'.format( test_acc ) )"
   ]
  },
  {
   "cell_type": "markdown",
   "metadata": {},
   "source": [
    "# 4.0. How to determine the number of principal components ?"
   ]
  },
  {
   "cell_type": "code",
   "execution_count": null,
   "metadata": {
    "ExecuteTime": {
     "end_time": "2021-01-09T19:03:38.864278Z",
     "start_time": "2021-01-09T19:03:38.734433Z"
    }
   },
   "outputs": [],
   "source": [
    "# return autovalores\n",
    "pca.explained_variance_ratio_ #eigenvalues - autovalores\n",
    "\n",
    "# accumulated sum of autovalores\n",
    "np.cumsum( pca.explained_variance_ratio_ )\n",
    "\n",
    "# determine the number of eigenvalues that represents 95% of the variability\n",
    "k = np.argmax( np.cumsum( pca.explained_variance_ratio_ ) > 0.95 )"
   ]
  },
  {
   "cell_type": "code",
   "execution_count": 53,
   "metadata": {
    "ExecuteTime": {
     "end_time": "2020-12-17T00:28:09.690328Z",
     "start_time": "2020-12-17T00:28:09.431107Z"
    }
   },
   "outputs": [
    {
     "data": {
      "text/plain": [
       "<matplotlib.lines.Line2D at 0x153c0f8b0>"
      ]
     },
     "execution_count": 53,
     "metadata": {},
     "output_type": "execute_result"
    },
    {
     "data": {
      "image/png": "[encoded data removed]",
      "text/plain": [
       "<Figure size 1440x720 with 1 Axes>"
      ]
     },
     "metadata": {
      "needs_background": "light"
     },
     "output_type": "display_data"
    }
   ],
   "source": [
    "plt.figure(figsize=(20,10) )\n",
    "plt.plot( np.cumsum( pca.explained_variance_ratio_ ) )\n",
    "plt.axvline( 5, color='red', linestyle='--')\n",
    "plt.axhline( 0.95, color='red', linestyle='--')"
   ]
  },
  {
   "cell_type": "markdown",
   "metadata": {},
   "source": [
    "# 5.0. Why does PCA increase model performance?"
   ]
  },
  {
   "cell_type": "markdown",
   "metadata": {},
   "source": [
    "## Data space\n",
    "- Espaco mais organizado \n",
    "\n",
    "## Principais aplicações\n",
    "- PCA = Processamento de Imagem - Redutor de ruido\n",
    "- PCA antes de redes neurais\n",
    "\n",
    "## Uso na estatística\n",
    "- PCA = Estudo do Espacos\n",
    "\n",
    "## PCA não permite explicabilidade\n",
    "- PCA + NN = 95% - 0 Explicabilidade\n",
    "- Random Forest - 85% - Explicabilidades\n",
    "\n",
    "## PCA diminui o tamanho do modelo treinado em memória\n",
    "- Random Forest - Treinada 22GB - U$ 5,00\n",
    "\n",
    "- XGBoost -%4 - 200MB - U$0,04"
   ]
  }
 ],
 "metadata": {
  "kernelspec": {
   "display_name": "Python 3",
   "language": "python",
   "name": "python3"
  },
  "language_info": {
   "codemirror_mode": {
    "name": "ipython",
    "version": 3
   },
   "file_extension": ".py",
   "mimetype": "text/x-python",
   "name": "python",
   "nbconvert_exporter": "python",
   "pygments_lexer": "ipython3",
   "version": "3.8.0"
  }
 },
 "nbformat": 4,
 "nbformat_minor": 4
}
