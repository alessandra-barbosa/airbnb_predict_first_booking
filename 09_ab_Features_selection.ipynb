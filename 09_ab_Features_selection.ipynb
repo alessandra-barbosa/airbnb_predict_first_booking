{
 "cells": [
  {
   "cell_type": "markdown",
   "metadata": {},
   "source": [
    "# Predict Airbnb First Place Booking"
   ]
  },
  {
   "cell_type": "markdown",
   "metadata": {
    "ExecuteTime": {
     "end_time": "2020-09-02T10:40:18.252578Z",
     "start_time": "2020-09-02T10:40:18.247319Z"
    },
    "canvas": {
     "comments": [],
     "componentType": "CodeCell",
     "copiedOriginId": null,
     "diskcache": false,
     "headerColor": "inherit",
     "id": "a46c2626-570a-491f-b31d-643dedd6ae6a",
     "isComponent": false,
     "name": "",
     "parents": []
    }
   },
   "source": [
    "-- Objetivo do Problema:\n",
    "    -- 1.0. Previsao do primeiro destino que um novo usuário irá escolher.\n",
    "    \n",
    "    -- Porque?\n",
    "        -- Qual tipo de modelo de negócio do Airbnb?\n",
    "            -- Marketplace ( Conectar pessoas que oferecem acomodacao, com pessoas que estao procurando acomodacao)\n",
    "            -- Oferta ( pessoas oferecendo acomodacao )\n",
    "                -- Tamanho do portfólio.\n",
    "                -- Diversidade/Densidade de Portfólio.\n",
    "                -- Preco Medio\n",
    "                \n",
    "            -- Demanda ( pessoas procurando acomodacao )\n",
    "                -- Numero de Usuários\n",
    "                -- LTV ( Lifetime Value )\n",
    "                -- CAC ( Client Acquisition Cost )\n",
    "                \n",
    "                \n",
    "               Gross Revenue = ( Fee*Numero cliente ) - CAC \n",
    "    \n",
    "-- Proposta da Solucao\n",
    "\n",
    "    --- Modelo de Predivao do primeiro destino de um novo usario.\n",
    "    --- 1.0. Predicoes e salva em tabela do banco de dados. \n",
    "    --- 2.0. API \n",
    "            --- Input: usuario e suas caracteristicas\n",
    "            --- Output: usuario e suas caracteristicas com a **predicao do destino**\n",
    "            "
   ]
  },
  {
   "cell_type": "markdown",
   "metadata": {
    "canvas": {
     "comments": [],
     "componentType": "CodeCell",
     "copiedOriginId": null,
     "diskcache": false,
     "headerColor": "inherit",
     "id": "7afe236f-96a6-4b05-b4d0-86e93883d5c3",
     "isComponent": false,
     "name": "",
     "parents": []
    },
    "tags": []
   },
   "source": [
    "# Imports"
   ]
  },
  {
   "cell_type": "code",
   "execution_count": 279,
   "metadata": {},
   "outputs": [],
   "source": [
    "import random\n",
    "import numpy   as np\n",
    "import pandas  as pd\n",
    "import seaborn as sns\n",
    "\n",
    "from matplotlib import pyplot as plt\n",
    "\n",
    "from sklearn    import model_selection as ms\n",
    "from sklearn    import preprocessing   as pp\n",
    "from sklearn    import metrics         as m\n",
    "from sklearn    import decomposition   as d\n",
    "from sklearn.decomposition          import PCA\n",
    "from scikitplot import metrics         as mt\n",
    "from scipy      import stats           as ss\n",
    "\n",
    "from imblearn   import under_sampling  as us\n",
    "from imblearn   import over_sampling   as oversamp\n",
    "from imblearn   import combine         as c\n",
    "\n",
    "from category_encoders import TargetEncoder\n",
    "\n",
    "from pandas_profiling import ProfileReport\n",
    "from IPython.display import Image\n",
    "\n",
    "\n",
    "from keras import models as ml\n",
    "from keras import layers as l\n",
    "from keras.models    import Sequential\n",
    "from keras.layers    import Dense\n",
    "from keras.callbacks import EarlyStopping\n",
    "import matplotlib.pyplot as plt\n",
    "from matplotlib.widgets import Slider\n"
   ]
  },
  {
   "cell_type": "code",
   "execution_count": 280,
   "metadata": {
    "ExecuteTime": {
     "end_time": "2022-09-22T10:25:06.844094Z",
     "start_time": "2022-09-22T10:25:06.814521Z"
    },
    "canvas": {
     "comments": [],
     "componentType": "CodeCell",
     "copiedOriginId": null,
     "diskcache": false,
     "headerColor": "inherit",
     "id": "b1ed8987-2716-4ef3-a4ea-b79a679d51e6",
     "isComponent": false,
     "name": "",
     "parents": []
    }
   },
   "outputs": [
    {
     "data": {
      "image/jpeg": "[encoded data removed]",
      "text/plain": [
       "<IPython.core.display.Image object>"
      ]
     },
     "execution_count": 280,
     "metadata": {},
     "output_type": "execute_result"
    }
   ],
   "source": [
    "Image('img/airbnb.jpg')"
   ]
  },
  {
   "cell_type": "markdown",
   "metadata": {
    "canvas": {
     "comments": [],
     "componentType": "CodeCell",
     "copiedOriginId": null,
     "diskcache": false,
     "headerColor": "inherit",
     "id": "e6b4fcb0-8d29-4d9e-8e2f-602c17ec7325",
     "isComponent": false,
     "name": "",
     "parents": []
    }
   },
   "source": [
    "## 0.1. Helper Functions"
   ]
  },
  {
   "cell_type": "code",
   "execution_count": 281,
   "metadata": {
    "ExecuteTime": {
     "end_time": "2022-09-22T10:25:06.859207Z",
     "start_time": "2022-09-22T10:25:06.845073Z"
    },
    "canvas": {
     "comments": [],
     "componentType": "CodeCell",
     "copiedOriginId": null,
     "diskcache": false,
     "headerColor": "inherit",
     "id": "1e848cd7-eea1-4b82-bb2b-24ccd55ee867",
     "isComponent": true,
     "name": "Helper Functions",
     "parents": [
      {
       "id": "99e85e2b-fd31-4316-8867-24534fb48993",
       "name": "Import"
      }
     ]
    },
    "tags": []
   },
   "outputs": [],
   "source": [
    "def cramer_v( x, y ):\n",
    "    cm = pd.crosstab( x, y ).values\n",
    "    n = cm.sum()\n",
    "    r, k = cm.shape\n",
    "    \n",
    "    chi2 = ss.chi2_contingency( cm )[0]\n",
    "    chi2corr = max( 0, chi2 - (k-1)*(r-1)/(n-1) )\n",
    "    \n",
    "    kcorr = k - (k-1)**2/(n-1)\n",
    "    rcorr = r - (r-1)**2/(n-1)\n",
    "    \n",
    "    return np.sqrt( (chi2corr/n) / ( min( kcorr-1, rcorr-1 ) ) )"
   ]
  },
  {
   "cell_type": "markdown",
   "metadata": {
    "canvas": {
     "comments": [],
     "componentType": "CodeCell",
     "copiedOriginId": null,
     "diskcache": false,
     "headerColor": "inherit",
     "id": "399686a7-9faf-4d7d-bf8a-1b50d3a62566",
     "isComponent": false,
     "name": "",
     "parents": []
    }
   },
   "source": [
    "## 0.2. Loading Data"
   ]
  },
  {
   "cell_type": "code",
   "execution_count": 282,
   "metadata": {
    "ExecuteTime": {
     "end_time": "2022-09-22T10:25:07.207513Z",
     "start_time": "2022-09-22T10:25:06.861037Z"
    },
    "canvas": {
     "comments": [],
     "componentType": "CodeCell",
     "copiedOriginId": null,
     "diskcache": false,
     "headerColor": "inherit",
     "id": "c1f4a3ce-37b8-4c53-ad85-1ef99a6cb2c4",
     "isComponent": false,
     "name": "",
     "parents": []
    }
   },
   "outputs": [
    {
     "data": {
      "text/plain": [
       "(213451, 16)"
      ]
     },
     "execution_count": 282,
     "metadata": {},
     "output_type": "execute_result"
    }
   ],
   "source": [
    "df_raw = pd.read_csv( 'datasets/train_users.csv', low_memory=True )\n",
    "df_raw.shape"
   ]
  },
  {
   "cell_type": "code",
   "execution_count": 283,
   "metadata": {
    "ExecuteTime": {
     "end_time": "2022-09-22T10:40:40.513770Z",
     "start_time": "2022-09-22T10:40:34.764151Z"
    },
    "canvas": {
     "comments": [],
     "componentType": "CodeCell",
     "copiedOriginId": null,
     "diskcache": false,
     "headerColor": "inherit",
     "id": "70b83f50-5719-470a-82ca-fa9993ab96a7",
     "isComponent": false,
     "name": "",
     "parents": []
    }
   },
   "outputs": [
    {
     "data": {
      "text/plain": [
       "(10567737, 6)"
      ]
     },
     "execution_count": 283,
     "metadata": {},
     "output_type": "execute_result"
    }
   ],
   "source": [
    "df_sessions = pd.read_csv( 'datasets/sessions.csv', low_memory=True )\n",
    "df_sessions.shape"
   ]
  },
  {
   "cell_type": "markdown",
   "metadata": {
    "canvas": {
     "comments": [],
     "componentType": "CodeCell",
     "copiedOriginId": null,
     "diskcache": false,
     "headerColor": "inherit",
     "id": "769712a1-bfc9-4430-ae93-03072cd16ac7",
     "isComponent": false,
     "name": "",
     "parents": []
    }
   },
   "source": [
    "# Data Description"
   ]
  },
  {
   "cell_type": "code",
   "execution_count": 284,
   "metadata": {
    "ExecuteTime": {
     "end_time": "2022-09-22T10:25:12.422874Z",
     "start_time": "2022-09-22T10:25:12.407908Z"
    },
    "canvas": {
     "comments": [],
     "componentType": "CodeCell",
     "copiedOriginId": null,
     "diskcache": false,
     "headerColor": "inherit",
     "id": "75b40781-41d3-40da-8622-2ea77c4f61bf",
     "isComponent": false,
     "name": "",
     "parents": []
    }
   },
   "outputs": [],
   "source": [
    "df1 = df_raw.copy()"
   ]
  },
  {
   "cell_type": "markdown",
   "metadata": {
    "canvas": {
     "comments": [],
     "componentType": "CodeCell",
     "copiedOriginId": null,
     "diskcache": false,
     "headerColor": "inherit",
     "id": "58c5593f-51f8-4cc1-9374-36d24df68c8d",
     "isComponent": false,
     "name": "",
     "parents": []
    }
   },
   "source": [
    "## 1.1. Data Dimension"
   ]
  },
  {
   "cell_type": "code",
   "execution_count": 285,
   "metadata": {
    "ExecuteTime": {
     "end_time": "2022-09-22T10:25:12.438823Z",
     "start_time": "2022-09-22T10:25:12.424833Z"
    },
    "canvas": {
     "comments": [],
     "componentType": "CodeCell",
     "copiedOriginId": null,
     "diskcache": false,
     "headerColor": "inherit",
     "id": "3fab0a90-1d3b-4497-a0e6-c83f3de99cf3",
     "isComponent": false,
     "name": "",
     "parents": []
    }
   },
   "outputs": [
    {
     "name": "stdout",
     "output_type": "stream",
     "text": [
      "Number of rows: 213451\n",
      "Number of columns: 16\n"
     ]
    }
   ],
   "source": [
    "print( 'Number of rows: {}'.format( df1.shape[0] ) )\n",
    "print( 'Number of columns: {}'.format( df1.shape[1] ) )"
   ]
  },
  {
   "cell_type": "code",
   "execution_count": 286,
   "metadata": {
    "ExecuteTime": {
     "end_time": "2022-09-22T10:25:12.454780Z",
     "start_time": "2022-09-22T10:25:12.440817Z"
    },
    "canvas": {
     "comments": [],
     "componentType": "CodeCell",
     "copiedOriginId": null,
     "diskcache": false,
     "headerColor": "inherit",
     "id": "bb4e0e33-13d0-44bc-adb7-5c2532da64f7",
     "isComponent": false,
     "name": "",
     "parents": []
    }
   },
   "outputs": [
    {
     "name": "stdout",
     "output_type": "stream",
     "text": [
      "Number of rows: 10567737\n",
      "Number of columns: 6\n"
     ]
    }
   ],
   "source": [
    "print( 'Number of rows: {}'.format( df_sessions.shape[0] ) )\n",
    "print( 'Number of columns: {}'.format( df_sessions.shape[1] ) )"
   ]
  },
  {
   "cell_type": "markdown",
   "metadata": {
    "canvas": {
     "comments": [],
     "componentType": "CodeCell",
     "copiedOriginId": null,
     "diskcache": false,
     "headerColor": "inherit",
     "id": "330abd5d-210e-4a36-bedb-0e9962dd1dd9",
     "isComponent": false,
     "name": "",
     "parents": []
    }
   },
   "source": [
    "## 1.2. Data Type"
   ]
  },
  {
   "cell_type": "code",
   "execution_count": 287,
   "metadata": {
    "ExecuteTime": {
     "end_time": "2022-09-22T10:25:12.470738Z",
     "start_time": "2022-09-22T10:25:12.455779Z"
    },
    "canvas": {
     "comments": [],
     "componentType": "CodeCell",
     "copiedOriginId": null,
     "diskcache": false,
     "headerColor": "inherit",
     "id": "8e45c3b1-579f-4c9f-9165-18c396edadcd",
     "isComponent": false,
     "name": "",
     "parents": []
    }
   },
   "outputs": [
    {
     "data": {
      "text/plain": [
       "id                          object\n",
       "date_account_created        object\n",
       "timestamp_first_active       int64\n",
       "date_first_booking          object\n",
       "gender                      object\n",
       "age                        float64\n",
       "signup_method               object\n",
       "signup_flow                  int64\n",
       "language                    object\n",
       "affiliate_channel           object\n",
       "affiliate_provider          object\n",
       "first_affiliate_tracked     object\n",
       "signup_app                  object\n",
       "first_device_type           object\n",
       "first_browser               object\n",
       "country_destination         object\n",
       "dtype: object"
      ]
     },
     "execution_count": 287,
     "metadata": {},
     "output_type": "execute_result"
    }
   ],
   "source": [
    "df1.dtypes"
   ]
  },
  {
   "cell_type": "code",
   "execution_count": 288,
   "metadata": {
    "ExecuteTime": {
     "end_time": "2022-09-22T10:25:12.486762Z",
     "start_time": "2022-09-22T10:25:12.473737Z"
    },
    "canvas": {
     "comments": [],
     "componentType": "CodeCell",
     "copiedOriginId": null,
     "diskcache": false,
     "headerColor": "inherit",
     "id": "7710bbdb-5557-4be7-8ff5-362c212334d9",
     "isComponent": false,
     "name": "",
     "parents": []
    }
   },
   "outputs": [
    {
     "data": {
      "text/plain": [
       "user_id           object\n",
       "action            object\n",
       "action_type       object\n",
       "action_detail     object\n",
       "device_type       object\n",
       "secs_elapsed     float64\n",
       "dtype: object"
      ]
     },
     "execution_count": 288,
     "metadata": {},
     "output_type": "execute_result"
    }
   ],
   "source": [
    "df_sessions.dtypes"
   ]
  },
  {
   "cell_type": "markdown",
   "metadata": {
    "canvas": {
     "comments": [],
     "componentType": "CodeCell",
     "copiedOriginId": null,
     "diskcache": false,
     "headerColor": "inherit",
     "id": "4921d16f-be77-41df-9097-f2cb70e6f14b",
     "isComponent": false,
     "name": "",
     "parents": []
    }
   },
   "source": [
    "## 1.3. NA Check"
   ]
  },
  {
   "cell_type": "code",
   "execution_count": 289,
   "metadata": {
    "ExecuteTime": {
     "end_time": "2022-09-22T10:25:12.757628Z",
     "start_time": "2022-09-22T10:25:12.487760Z"
    },
    "canvas": {
     "comments": [],
     "componentType": "CodeCell",
     "copiedOriginId": null,
     "diskcache": false,
     "headerColor": "inherit",
     "id": "4bd15dbe-2890-487d-bacd-9fd18c954522",
     "isComponent": false,
     "name": "",
     "parents": []
    }
   },
   "outputs": [
    {
     "data": {
      "text/plain": [
       "id                         0.000000\n",
       "date_account_created       0.000000\n",
       "timestamp_first_active     0.000000\n",
       "date_first_booking         0.583473\n",
       "gender                     0.000000\n",
       "age                        0.412226\n",
       "signup_method              0.000000\n",
       "signup_flow                0.000000\n",
       "language                   0.000000\n",
       "affiliate_channel          0.000000\n",
       "affiliate_provider         0.000000\n",
       "first_affiliate_tracked    0.028414\n",
       "signup_app                 0.000000\n",
       "first_device_type          0.000000\n",
       "first_browser              0.000000\n",
       "country_destination        0.000000\n",
       "dtype: float64"
      ]
     },
     "execution_count": 289,
     "metadata": {},
     "output_type": "execute_result"
    }
   ],
   "source": [
    "df1.isna().sum() / len( df1 )"
   ]
  },
  {
   "cell_type": "code",
   "execution_count": 290,
   "metadata": {
    "ExecuteTime": {
     "end_time": "2022-09-22T10:25:17.279518Z",
     "start_time": "2022-09-22T10:25:12.758621Z"
    },
    "canvas": {
     "comments": [],
     "componentType": "CodeCell",
     "copiedOriginId": null,
     "diskcache": false,
     "headerColor": "inherit",
     "id": "75a91c63-de9e-41d3-9a91-b449b0d273ee",
     "isComponent": false,
     "name": "",
     "parents": []
    }
   },
   "outputs": [
    {
     "data": {
      "text/plain": [
       "user_id          0.003264\n",
       "action           0.007535\n",
       "action_type      0.106570\n",
       "action_detail    0.106570\n",
       "device_type      0.000000\n",
       "secs_elapsed     0.012872\n",
       "dtype: float64"
      ]
     },
     "execution_count": 290,
     "metadata": {},
     "output_type": "execute_result"
    }
   ],
   "source": [
    "df_sessions.isna().sum() / len( df_sessions)"
   ]
  },
  {
   "cell_type": "code",
   "execution_count": 291,
   "metadata": {
    "ExecuteTime": {
     "end_time": "2022-09-22T10:25:20.361150Z",
     "start_time": "2022-09-22T10:25:17.281829Z"
    },
    "canvas": {
     "comments": [],
     "componentType": "CodeCell",
     "copiedOriginId": null,
     "diskcache": false,
     "headerColor": "inherit",
     "id": "00c2c267-a78e-4fe6-8553-db1b3e376ba7",
     "isComponent": false,
     "name": "",
     "parents": []
    }
   },
   "outputs": [],
   "source": [
    "# remove missing value completly\n",
    "#df1 = df1.dropna()\n",
    "\n",
    "# ========== User =================\n",
    "# date_first_booking\n",
    "date_first_booking_max = pd.to_datetime( df1['date_first_booking'] ).max().strftime( '%Y-%m-%d' )\n",
    "df1['date_first_booking'] = df1['date_first_booking'].fillna( date_first_booking_max )\n",
    "\n",
    "# age\n",
    "df1 = df1[( df1['age'] > 15 ) & ( df1['age'] < 120 )]\n",
    "avg_age = df1['age'].mean().astype( int )\n",
    "df1['age'] = df1['age'].fillna( avg_age )\n",
    "\n",
    "# first_affiliate_tracked\n",
    "df1 = df1[~df1['first_affiliate_tracked'].isna()]\n",
    "\n",
    "# ========== Sessions =================\n",
    "# user_id - 0.3%\n",
    "df_sessions = df_sessions[~df_sessions['user_id'].isna()]\n",
    "\n",
    "# action - 0.7%\n",
    "df_sessions = df_sessions[~df_sessions['action'].isna()]\n",
    "\n",
    "# action_type - 11%\n",
    "df_sessions = df_sessions[~df_sessions['action_type'].isna()]\n",
    "\n",
    "# action_detail - 11%\n",
    "df_sessions = df_sessions[~df_sessions['action_detail'].isna()]\n",
    "\n",
    "# secs_elapsed - 1.2%\n",
    "df_sessions = df_sessions[~df_sessions['secs_elapsed'].isna()]"
   ]
  },
  {
   "cell_type": "code",
   "execution_count": 292,
   "metadata": {
    "ExecuteTime": {
     "end_time": "2022-09-22T10:25:20.519020Z",
     "start_time": "2022-09-22T10:25:20.363155Z"
    },
    "canvas": {
     "comments": [],
     "componentType": "CodeCell",
     "copiedOriginId": null,
     "diskcache": false,
     "headerColor": "inherit",
     "id": "8d480af2-72fa-4492-9baa-bb61e8b03a12",
     "isComponent": false,
     "name": "",
     "parents": []
    }
   },
   "outputs": [
    {
     "data": {
      "text/plain": [
       "id                         0.0\n",
       "date_account_created       0.0\n",
       "timestamp_first_active     0.0\n",
       "date_first_booking         0.0\n",
       "gender                     0.0\n",
       "age                        0.0\n",
       "signup_method              0.0\n",
       "signup_flow                0.0\n",
       "language                   0.0\n",
       "affiliate_channel          0.0\n",
       "affiliate_provider         0.0\n",
       "first_affiliate_tracked    0.0\n",
       "signup_app                 0.0\n",
       "first_device_type          0.0\n",
       "first_browser              0.0\n",
       "country_destination        0.0\n",
       "dtype: float64"
      ]
     },
     "execution_count": 292,
     "metadata": {},
     "output_type": "execute_result"
    }
   ],
   "source": [
    "df1.isna().sum() / len( df1 )"
   ]
  },
  {
   "cell_type": "code",
   "execution_count": 293,
   "metadata": {
    "ExecuteTime": {
     "end_time": "2022-09-22T10:25:24.503376Z",
     "start_time": "2022-09-22T10:25:20.520014Z"
    },
    "canvas": {
     "comments": [],
     "componentType": "CodeCell",
     "copiedOriginId": null,
     "diskcache": false,
     "headerColor": "inherit",
     "id": "5de9ee6f-d7a5-4f2c-90bc-2dbe7d227236",
     "isComponent": false,
     "name": "",
     "parents": []
    }
   },
   "outputs": [
    {
     "data": {
      "text/plain": [
       "user_id          0.0\n",
       "action           0.0\n",
       "action_type      0.0\n",
       "action_detail    0.0\n",
       "device_type      0.0\n",
       "secs_elapsed     0.0\n",
       "dtype: float64"
      ]
     },
     "execution_count": 293,
     "metadata": {},
     "output_type": "execute_result"
    }
   ],
   "source": [
    "df_sessions.isna().sum() / len( df_sessions)"
   ]
  },
  {
   "cell_type": "markdown",
   "metadata": {
    "canvas": {
     "comments": [],
     "componentType": "CodeCell",
     "copiedOriginId": null,
     "diskcache": false,
     "headerColor": "inherit",
     "id": "ae4c5928-0ef3-49e5-a3de-fe6dbd76623d",
     "isComponent": false,
     "name": "",
     "parents": []
    }
   },
   "source": [
    "## 1.4. Change Data Type"
   ]
  },
  {
   "cell_type": "code",
   "execution_count": 294,
   "metadata": {
    "ExecuteTime": {
     "end_time": "2022-09-22T10:25:24.519316Z",
     "start_time": "2022-09-22T10:25:24.505355Z"
    },
    "canvas": {
     "comments": [],
     "componentType": "CodeCell",
     "copiedOriginId": null,
     "diskcache": false,
     "headerColor": "inherit",
     "id": "7f231b75-df74-47de-9e6b-d5b57f4df097",
     "isComponent": false,
     "name": "",
     "parents": []
    }
   },
   "outputs": [
    {
     "data": {
      "text/plain": [
       "id                          object\n",
       "date_account_created        object\n",
       "timestamp_first_active       int64\n",
       "date_first_booking          object\n",
       "gender                      object\n",
       "age                        float64\n",
       "signup_method               object\n",
       "signup_flow                  int64\n",
       "language                    object\n",
       "affiliate_channel           object\n",
       "affiliate_provider          object\n",
       "first_affiliate_tracked     object\n",
       "signup_app                  object\n",
       "first_device_type           object\n",
       "first_browser               object\n",
       "country_destination         object\n",
       "dtype: object"
      ]
     },
     "execution_count": 294,
     "metadata": {},
     "output_type": "execute_result"
    }
   ],
   "source": [
    "df1.dtypes"
   ]
  },
  {
   "cell_type": "code",
   "execution_count": 295,
   "metadata": {
    "ExecuteTime": {
     "end_time": "2022-09-22T10:25:24.918257Z",
     "start_time": "2022-09-22T10:25:24.520314Z"
    },
    "canvas": {
     "comments": [],
     "componentType": "CodeCell",
     "copiedOriginId": null,
     "diskcache": false,
     "headerColor": "inherit",
     "id": "372d04ea-2871-4f78-a13e-4d45dd553fdd",
     "isComponent": false,
     "name": "",
     "parents": []
    }
   },
   "outputs": [],
   "source": [
    "# date_account_created\n",
    "df1['date_account_created'] = pd.to_datetime( df1['date_account_created'] )\n",
    "\n",
    "# timestamp_first_active\n",
    "df1['timestamp_first_active'] = pd.to_datetime( df1['timestamp_first_active'], format='%Y%m%d%H%M%S' )\n",
    "\n",
    "# date_first_booking\n",
    "df1['date_first_booking'] = pd.to_datetime( df1['date_first_booking'] )\n",
    "\n",
    "# age\n",
    "df1['age'] = df1['age'].astype( int )"
   ]
  },
  {
   "cell_type": "markdown",
   "metadata": {
    "canvas": {
     "comments": [],
     "componentType": "CodeCell",
     "copiedOriginId": null,
     "diskcache": false,
     "headerColor": "inherit",
     "id": "fc040220-2846-441b-93e4-eac9862cab0e",
     "isComponent": false,
     "name": "",
     "parents": []
    }
   },
   "source": [
    "## 1.5. Check Balanced Data"
   ]
  },
  {
   "cell_type": "code",
   "execution_count": 296,
   "metadata": {
    "ExecuteTime": {
     "end_time": "2022-09-22T10:25:24.934215Z",
     "start_time": "2022-09-22T10:25:24.919254Z"
    },
    "canvas": {
     "comments": [],
     "componentType": "CodeCell",
     "copiedOriginId": null,
     "diskcache": false,
     "headerColor": "inherit",
     "id": "881d4213-780e-414c-ab68-2d2945bad7d7",
     "isComponent": false,
     "name": "",
     "parents": []
    }
   },
   "outputs": [
    {
     "data": {
      "text/plain": [
       "NDF      0.447275\n",
       "US       0.391867\n",
       "other    0.061246\n",
       "FR       0.029918\n",
       "IT       0.016423\n",
       "GB       0.014335\n",
       "ES       0.013740\n",
       "CA       0.008676\n",
       "DE       0.006858\n",
       "NL       0.004852\n",
       "AU       0.003531\n",
       "PT       0.001280\n",
       "Name: country_destination, dtype: float64"
      ]
     },
     "execution_count": 296,
     "metadata": {},
     "output_type": "execute_result"
    }
   ],
   "source": [
    "df1['country_destination'].value_counts( normalize=True )\n",
    "#df1['country_destination'].value_counts()"
   ]
  },
  {
   "cell_type": "markdown",
   "metadata": {
    "canvas": {
     "comments": [],
     "componentType": "CodeCell",
     "copiedOriginId": null,
     "diskcache": false,
     "headerColor": "inherit",
     "id": "a9e06bab-ab28-41db-8249-5227132197d6",
     "isComponent": false,
     "name": "",
     "parents": []
    }
   },
   "source": [
    "## 1.6. Descriptive Analysis"
   ]
  },
  {
   "cell_type": "code",
   "execution_count": 297,
   "metadata": {
    "ExecuteTime": {
     "end_time": "2022-09-22T10:25:24.950143Z",
     "start_time": "2022-09-22T10:25:24.936180Z"
    },
    "canvas": {
     "comments": [],
     "componentType": "CodeCell",
     "copiedOriginId": null,
     "diskcache": false,
     "headerColor": "inherit",
     "id": "4c9ff7ee-8fc2-4f36-aca9-355955bda77f",
     "isComponent": false,
     "name": "",
     "parents": []
    }
   },
   "outputs": [],
   "source": [
    "# Users\n",
    "num_attributes = df1.select_dtypes( include=['int64', 'float64'] )\n",
    "cat_attributes = df1.select_dtypes( exclude=['int64', 'float64', 'datetime64[ns]'] )\n",
    "time_attributes = df1.select_dtypes( include=['datetime64[ns]'] )\n",
    "\n",
    "# Sessions\n",
    "num_attributes_sessions = df_sessions.select_dtypes( include=['int64', 'float64'] )\n",
    "cat_attributes_sessions = df_sessions.select_dtypes( exclude=['int64', 'float64', 'datetime64[ns]'] )\n",
    "time_attributes_sessions = df_sessions.select_dtypes( include=['datetime64[ns]'] )"
   ]
  },
  {
   "cell_type": "markdown",
   "metadata": {
    "canvas": {
     "comments": [],
     "componentType": "CodeCell",
     "copiedOriginId": null,
     "diskcache": false,
     "headerColor": "inherit",
     "id": "641a9e92-ea9c-4f2f-957c-46681697e5be",
     "isComponent": false,
     "name": "",
     "parents": []
    }
   },
   "source": [
    "### 1.6.1. Numerical - Users"
   ]
  },
  {
   "cell_type": "code",
   "execution_count": 298,
   "metadata": {
    "ExecuteTime": {
     "end_time": "2022-09-22T10:25:25.011977Z",
     "start_time": "2022-09-22T10:25:24.951141Z"
    },
    "canvas": {
     "comments": [],
     "componentType": "CodeCell",
     "copiedOriginId": null,
     "diskcache": false,
     "headerColor": "inherit",
     "id": "be73d42c-1402-4f93-9dc5-24eb49b2e55c",
     "isComponent": false,
     "name": "",
     "parents": []
    }
   },
   "outputs": [
    {
     "data": {
      "text/html": [
       "<div>\n",
       "<style scoped>\n",
       "    .dataframe tbody tr th:only-of-type {\n",
       "        vertical-align: middle;\n",
       "    }\n",
       "\n",
       "    .dataframe tbody tr th {\n",
       "        vertical-align: top;\n",
       "    }\n",
       "\n",
       "    .dataframe thead th {\n",
       "        text-align: right;\n",
       "    }\n",
       "</style>\n",
       "<table border=\"1\" class=\"dataframe\">\n",
       "  <thead>\n",
       "    <tr style=\"text-align: right;\">\n",
       "      <th></th>\n",
       "      <th>attributes</th>\n",
       "      <th>min</th>\n",
       "      <th>max</th>\n",
       "      <th>range</th>\n",
       "      <th>mean</th>\n",
       "      <th>median</th>\n",
       "      <th>std</th>\n",
       "      <th>skew</th>\n",
       "      <th>kurtosis</th>\n",
       "    </tr>\n",
       "  </thead>\n",
       "  <tbody>\n",
       "    <tr>\n",
       "      <th>0</th>\n",
       "      <td>signup_flow</td>\n",
       "      <td>0.0</td>\n",
       "      <td>25.0</td>\n",
       "      <td>25.0</td>\n",
       "      <td>2.519513</td>\n",
       "      <td>0.0</td>\n",
       "      <td>6.604696</td>\n",
       "      <td>2.705871</td>\n",
       "      <td>5.928298</td>\n",
       "    </tr>\n",
       "  </tbody>\n",
       "</table>\n",
       "</div>"
      ],
      "text/plain": [
       "    attributes  min   max  range      mean  median       std      skew  \\\n",
       "0  signup_flow  0.0  25.0   25.0  2.519513     0.0  6.604696  2.705871   \n",
       "\n",
       "   kurtosis  \n",
       "0  5.928298  "
      ]
     },
     "execution_count": 298,
     "metadata": {},
     "output_type": "execute_result"
    }
   ],
   "source": [
    "# Central Tendency - Mean, Mediana\n",
    "ct1 = pd.DataFrame( num_attributes.apply( np.mean ) ).T\n",
    "ct2 = pd.DataFrame( num_attributes.apply( np.median ) ).T\n",
    "\n",
    "# Dispersions - Std, Min, Max, Range, Skew, Kurtosis\n",
    "d1 = pd.DataFrame( num_attributes.apply( np.std ) ).T\n",
    "d2 = pd.DataFrame( num_attributes.apply( min ) ).T\n",
    "d3 = pd.DataFrame( num_attributes.apply( max ) ).T\n",
    "d4 = pd.DataFrame( num_attributes.apply( lambda x: x.max() - x.min() ) ).T\n",
    "d5 = pd.DataFrame( num_attributes.apply( lambda x: x.skew() ) ).T\n",
    "d6 = pd.DataFrame( num_attributes.apply( lambda x: x.kurtosis() ) ).T\n",
    "\n",
    "# Concatenar\n",
    "ct = pd.concat( [d2, d3, d4, ct1, ct2, d1, d5, d6] ).T.reset_index()\n",
    "ct.columns = ['attributes', 'min', 'max', 'range', 'mean', 'median', 'std', 'skew', 'kurtosis']\n",
    "ct"
   ]
  },
  {
   "cell_type": "markdown",
   "metadata": {
    "canvas": {
     "comments": [],
     "componentType": "CodeCell",
     "copiedOriginId": null,
     "diskcache": false,
     "headerColor": "inherit",
     "id": "bb121ec0-5d28-4055-afca-682614ff217b",
     "isComponent": false,
     "name": "",
     "parents": []
    }
   },
   "source": [
    "### 1.6.2. Numerical - Sessions"
   ]
  },
  {
   "cell_type": "code",
   "execution_count": 299,
   "metadata": {
    "ExecuteTime": {
     "end_time": "2022-09-22T10:25:26.908706Z",
     "start_time": "2022-09-22T10:25:25.013971Z"
    },
    "canvas": {
     "comments": [],
     "componentType": "CodeCell",
     "copiedOriginId": null,
     "diskcache": false,
     "headerColor": "inherit",
     "id": "b696860a-8c80-469f-ac61-66cda24d81dc",
     "isComponent": false,
     "name": "",
     "parents": []
    }
   },
   "outputs": [
    {
     "data": {
      "text/html": [
       "<div>\n",
       "<style scoped>\n",
       "    .dataframe tbody tr th:only-of-type {\n",
       "        vertical-align: middle;\n",
       "    }\n",
       "\n",
       "    .dataframe tbody tr th {\n",
       "        vertical-align: top;\n",
       "    }\n",
       "\n",
       "    .dataframe thead th {\n",
       "        text-align: right;\n",
       "    }\n",
       "</style>\n",
       "<table border=\"1\" class=\"dataframe\">\n",
       "  <thead>\n",
       "    <tr style=\"text-align: right;\">\n",
       "      <th></th>\n",
       "      <th>attributes</th>\n",
       "      <th>min</th>\n",
       "      <th>max</th>\n",
       "      <th>range</th>\n",
       "      <th>mean</th>\n",
       "      <th>median</th>\n",
       "      <th>std</th>\n",
       "      <th>skew</th>\n",
       "      <th>kurtosis</th>\n",
       "    </tr>\n",
       "  </thead>\n",
       "  <tbody>\n",
       "    <tr>\n",
       "      <th>0</th>\n",
       "      <td>secs_elapsed</td>\n",
       "      <td>0.0</td>\n",
       "      <td>1799977.0</td>\n",
       "      <td>1799977.0</td>\n",
       "      <td>19961.8251</td>\n",
       "      <td>1369.0</td>\n",
       "      <td>88849.388449</td>\n",
       "      <td>11.137761</td>\n",
       "      <td>154.84312</td>\n",
       "    </tr>\n",
       "  </tbody>\n",
       "</table>\n",
       "</div>"
      ],
      "text/plain": [
       "     attributes  min        max      range        mean  median           std  \\\n",
       "0  secs_elapsed  0.0  1799977.0  1799977.0  19961.8251  1369.0  88849.388449   \n",
       "\n",
       "        skew   kurtosis  \n",
       "0  11.137761  154.84312  "
      ]
     },
     "execution_count": 299,
     "metadata": {},
     "output_type": "execute_result"
    }
   ],
   "source": [
    "# Central Tendency - Mean, Mediana\n",
    "ct1 = pd.DataFrame( num_attributes_sessions.apply( np.mean ) ).T\n",
    "ct2 = pd.DataFrame( num_attributes_sessions.apply( np.median ) ).T\n",
    "\n",
    "# Dispersions - Std, Min, Max, Range, Skew, Kurtosis\n",
    "d1 = pd.DataFrame( num_attributes_sessions.apply( np.std ) ).T\n",
    "d2 = pd.DataFrame( num_attributes_sessions.apply( min ) ).T\n",
    "d3 = pd.DataFrame( num_attributes_sessions.apply( max ) ).T\n",
    "d4 = pd.DataFrame( num_attributes_sessions.apply( lambda x: x.max() - x.min() ) ).T\n",
    "d5 = pd.DataFrame( num_attributes_sessions.apply( lambda x: x.skew() ) ).T\n",
    "d6 = pd.DataFrame( num_attributes_sessions.apply( lambda x: x.kurtosis() ) ).T\n",
    "\n",
    "# Concatenar\n",
    "ct = pd.concat( [d2, d3, d4, ct1, ct2, d1, d5, d6] ).T.reset_index()\n",
    "ct.columns = ['attributes', 'min', 'max', 'range', 'mean', 'median', 'std', 'skew', 'kurtosis']\n",
    "ct"
   ]
  },
  {
   "cell_type": "markdown",
   "metadata": {
    "canvas": {
     "comments": [],
     "componentType": "CodeCell",
     "copiedOriginId": null,
     "diskcache": false,
     "headerColor": "inherit",
     "id": "1ed6e785-0532-435c-ba72-1f430469fbc4",
     "isComponent": false,
     "name": "",
     "parents": []
    }
   },
   "source": [
    "### 1.6.3. Categorial - Users"
   ]
  },
  {
   "cell_type": "code",
   "execution_count": 300,
   "metadata": {
    "ExecuteTime": {
     "end_time": "2022-09-22T10:25:26.939383Z",
     "start_time": "2022-09-22T10:25:26.911374Z"
    },
    "canvas": {
     "comments": [],
     "componentType": "CodeCell",
     "copiedOriginId": null,
     "diskcache": false,
     "headerColor": "inherit",
     "id": "e1833b0a-c22b-4d06-bd60-44393e20a58e",
     "isComponent": false,
     "name": "",
     "parents": []
    }
   },
   "outputs": [
    {
     "data": {
      "text/html": [
       "<div>\n",
       "<style scoped>\n",
       "    .dataframe tbody tr th:only-of-type {\n",
       "        vertical-align: middle;\n",
       "    }\n",
       "\n",
       "    .dataframe tbody tr th {\n",
       "        vertical-align: top;\n",
       "    }\n",
       "\n",
       "    .dataframe thead th {\n",
       "        text-align: right;\n",
       "    }\n",
       "</style>\n",
       "<table border=\"1\" class=\"dataframe\">\n",
       "  <thead>\n",
       "    <tr style=\"text-align: right;\">\n",
       "      <th></th>\n",
       "      <th>age</th>\n",
       "    </tr>\n",
       "  </thead>\n",
       "  <tbody>\n",
       "    <tr>\n",
       "      <th>count</th>\n",
       "      <td>122636.000000</td>\n",
       "    </tr>\n",
       "    <tr>\n",
       "      <th>mean</th>\n",
       "      <td>37.405591</td>\n",
       "    </tr>\n",
       "    <tr>\n",
       "      <th>std</th>\n",
       "      <td>13.939900</td>\n",
       "    </tr>\n",
       "    <tr>\n",
       "      <th>min</th>\n",
       "      <td>16.000000</td>\n",
       "    </tr>\n",
       "    <tr>\n",
       "      <th>25%</th>\n",
       "      <td>28.000000</td>\n",
       "    </tr>\n",
       "    <tr>\n",
       "      <th>50%</th>\n",
       "      <td>34.000000</td>\n",
       "    </tr>\n",
       "    <tr>\n",
       "      <th>75%</th>\n",
       "      <td>43.000000</td>\n",
       "    </tr>\n",
       "    <tr>\n",
       "      <th>max</th>\n",
       "      <td>115.000000</td>\n",
       "    </tr>\n",
       "  </tbody>\n",
       "</table>\n",
       "</div>"
      ],
      "text/plain": [
       "                 age\n",
       "count  122636.000000\n",
       "mean       37.405591\n",
       "std        13.939900\n",
       "min        16.000000\n",
       "25%        28.000000\n",
       "50%        34.000000\n",
       "75%        43.000000\n",
       "max       115.000000"
      ]
     },
     "execution_count": 300,
     "metadata": {},
     "output_type": "execute_result"
    }
   ],
   "source": [
    "cat_attributes.drop( 'id', axis=1 ).describe()"
   ]
  },
  {
   "cell_type": "markdown",
   "metadata": {
    "canvas": {
     "comments": [],
     "componentType": "CodeCell",
     "copiedOriginId": null,
     "diskcache": false,
     "headerColor": "inherit",
     "id": "e1e8b80f-f506-431c-9f56-819768fab3bc",
     "isComponent": false,
     "name": "",
     "parents": []
    }
   },
   "source": [
    "### 1.6.4. Categorial - Sesssions"
   ]
  },
  {
   "cell_type": "code",
   "execution_count": 301,
   "metadata": {
    "ExecuteTime": {
     "end_time": "2022-09-22T10:25:29.508508Z",
     "start_time": "2022-09-22T10:25:26.940350Z"
    },
    "canvas": {
     "comments": [],
     "componentType": "CodeCell",
     "copiedOriginId": null,
     "diskcache": false,
     "headerColor": "inherit",
     "id": "7cf5d441-a845-4454-84cd-14bbfd6fcbbe",
     "isComponent": false,
     "name": "",
     "parents": []
    }
   },
   "outputs": [
    {
     "data": {
      "text/html": [
       "<div>\n",
       "<style scoped>\n",
       "    .dataframe tbody tr th:only-of-type {\n",
       "        vertical-align: middle;\n",
       "    }\n",
       "\n",
       "    .dataframe tbody tr th {\n",
       "        vertical-align: top;\n",
       "    }\n",
       "\n",
       "    .dataframe thead th {\n",
       "        text-align: right;\n",
       "    }\n",
       "</style>\n",
       "<table border=\"1\" class=\"dataframe\">\n",
       "  <thead>\n",
       "    <tr style=\"text-align: right;\">\n",
       "      <th></th>\n",
       "      <th>action</th>\n",
       "      <th>action_type</th>\n",
       "      <th>action_detail</th>\n",
       "      <th>device_type</th>\n",
       "    </tr>\n",
       "  </thead>\n",
       "  <tbody>\n",
       "    <tr>\n",
       "      <th>count</th>\n",
       "      <td>9213930</td>\n",
       "      <td>9213930</td>\n",
       "      <td>9213930</td>\n",
       "      <td>9213930</td>\n",
       "    </tr>\n",
       "    <tr>\n",
       "      <th>unique</th>\n",
       "      <td>347</td>\n",
       "      <td>10</td>\n",
       "      <td>155</td>\n",
       "      <td>14</td>\n",
       "    </tr>\n",
       "    <tr>\n",
       "      <th>top</th>\n",
       "      <td>show</td>\n",
       "      <td>view</td>\n",
       "      <td>view_search_results</td>\n",
       "      <td>Mac Desktop</td>\n",
       "    </tr>\n",
       "    <tr>\n",
       "      <th>freq</th>\n",
       "      <td>2178382</td>\n",
       "      <td>3545621</td>\n",
       "      <td>1770931</td>\n",
       "      <td>3019523</td>\n",
       "    </tr>\n",
       "  </tbody>\n",
       "</table>\n",
       "</div>"
      ],
      "text/plain": [
       "         action action_type        action_detail  device_type\n",
       "count   9213930     9213930              9213930      9213930\n",
       "unique      347          10                  155           14\n",
       "top        show        view  view_search_results  Mac Desktop\n",
       "freq    2178382     3545621              1770931      3019523"
      ]
     },
     "execution_count": 301,
     "metadata": {},
     "output_type": "execute_result"
    }
   ],
   "source": [
    "cat_attributes_sessions.drop( 'user_id', axis=1 ).describe()"
   ]
  },
  {
   "cell_type": "markdown",
   "metadata": {
    "canvas": {
     "comments": [],
     "componentType": "CodeCell",
     "copiedOriginId": null,
     "diskcache": false,
     "headerColor": "inherit",
     "id": "3ba7c74c-d731-4e43-8a89-9adfc8eb8629",
     "isComponent": false,
     "name": "",
     "parents": []
    }
   },
   "source": [
    "### 1.6.5. Correlation Matrix - Sessions"
   ]
  },
  {
   "cell_type": "code",
   "execution_count": 302,
   "metadata": {
    "ExecuteTime": {
     "end_time": "2022-09-22T10:25:51.937357Z",
     "start_time": "2022-09-22T10:25:29.510513Z"
    },
    "canvas": {
     "comments": [],
     "componentType": "CodeCell",
     "copiedOriginId": null,
     "diskcache": false,
     "headerColor": "inherit",
     "id": "b150585d-c6da-485f-bcaa-abe143cd0ed7",
     "isComponent": false,
     "name": "",
     "parents": []
    }
   },
   "outputs": [],
   "source": [
    "cat_attributes_list = cat_attributes_sessions.drop( 'user_id', axis=1 ).columns.tolist()\n",
    "\n",
    "corr_dict = {}\n",
    "for i in range( len ( cat_attributes_list ) ):\n",
    "    corr_list = []\n",
    "    for j in range( len( cat_attributes_list ) ):\n",
    "        ref = cat_attributes_list[i]\n",
    "        feat = cat_attributes_list[j]\n",
    "        \n",
    "        # correlation\n",
    "        corr = cramer_v( cat_attributes_sessions[ ref ], cat_attributes_sessions[ feat ] )\n",
    "        \n",
    "        # append a list\n",
    "        corr_list.append( corr )\n",
    "    \n",
    "    # appende a correlation list for each ref attributs\n",
    "    corr_dict[ ref ] = corr_list"
   ]
  },
  {
   "cell_type": "code",
   "execution_count": 303,
   "metadata": {
    "ExecuteTime": {
     "end_time": "2022-09-22T10:25:52.175283Z",
     "start_time": "2022-09-22T10:25:51.938384Z"
    },
    "canvas": {
     "comments": [],
     "componentType": "CodeCell",
     "copiedOriginId": null,
     "diskcache": false,
     "headerColor": "inherit",
     "id": "04de06f1-b6c1-4706-bb85-baa63a3fcc07",
     "isComponent": false,
     "name": "",
     "parents": []
    }
   },
   "outputs": [
    {
     "data": {
      "text/plain": [
       "<AxesSubplot:>"
      ]
     },
     "execution_count": 303,
     "metadata": {},
     "output_type": "execute_result"
    },
    {
     "data": {
      "image/png": "[encoded data removed]",
      "text/plain": [
       "<Figure size 640x480 with 2 Axes>"
      ]
     },
     "metadata": {},
     "output_type": "display_data"
    }
   ],
   "source": [
    "d = pd.DataFrame( corr_dict )\n",
    "d = d.set_index( d.columns)\n",
    "sns.heatmap( d, annot=True )"
   ]
  },
  {
   "cell_type": "markdown",
   "metadata": {
    "canvas": {
     "comments": [],
     "componentType": "CodeCell",
     "copiedOriginId": null,
     "diskcache": false,
     "headerColor": "inherit",
     "id": "f106d03e-6886-43ce-88a7-8a6c28df909f",
     "isComponent": false,
     "name": "",
     "parents": []
    },
    "heading_collapsed": true
   },
   "source": [
    "# Feature Engineering"
   ]
  },
  {
   "cell_type": "code",
   "execution_count": 304,
   "metadata": {
    "ExecuteTime": {
     "end_time": "2022-09-22T10:25:52.191363Z",
     "start_time": "2022-09-22T10:25:52.176280Z"
    },
    "canvas": {
     "comments": [],
     "componentType": "CodeCell",
     "copiedOriginId": null,
     "diskcache": false,
     "headerColor": "inherit",
     "id": "94d09d0f-0f8a-4fbc-a208-52f8d4ae4d39",
     "isComponent": false,
     "name": "",
     "parents": []
    },
    "hidden": true
   },
   "outputs": [
    {
     "data": {
      "text/plain": [
       "(122636, 16)"
      ]
     },
     "execution_count": 304,
     "metadata": {},
     "output_type": "execute_result"
    }
   ],
   "source": [
    "df2 = df1.copy()\n",
    "df2.shape"
   ]
  },
  {
   "cell_type": "code",
   "execution_count": 305,
   "metadata": {
    "ExecuteTime": {
     "end_time": "2022-09-22T10:25:52.207197Z",
     "start_time": "2022-09-22T10:25:52.192238Z"
    },
    "canvas": {
     "comments": [],
     "componentType": "CodeCell",
     "copiedOriginId": null,
     "diskcache": false,
     "headerColor": "inherit",
     "id": "433d623f-ae0b-43cb-9655-98ddacd24aee",
     "isComponent": false,
     "name": "",
     "parents": []
    },
    "hidden": true
   },
   "outputs": [
    {
     "data": {
      "text/plain": [
       "id                                 object\n",
       "date_account_created       datetime64[ns]\n",
       "timestamp_first_active     datetime64[ns]\n",
       "date_first_booking         datetime64[ns]\n",
       "gender                             object\n",
       "age                                 int32\n",
       "signup_method                      object\n",
       "signup_flow                         int64\n",
       "language                           object\n",
       "affiliate_channel                  object\n",
       "affiliate_provider                 object\n",
       "first_affiliate_tracked            object\n",
       "signup_app                         object\n",
       "first_device_type                  object\n",
       "first_browser                      object\n",
       "country_destination                object\n",
       "dtype: object"
      ]
     },
     "execution_count": 305,
     "metadata": {},
     "output_type": "execute_result"
    }
   ],
   "source": [
    "df2.dtypes"
   ]
  },
  {
   "cell_type": "markdown",
   "metadata": {
    "canvas": {
     "comments": [],
     "componentType": "CodeCell",
     "copiedOriginId": null,
     "diskcache": false,
     "headerColor": "inherit",
     "id": "95b62b7b-3967-457b-bf93-2cd8979e7645",
     "isComponent": false,
     "name": "",
     "parents": []
    },
    "hidden": true
   },
   "source": [
    "## 2.1. Create New Features"
   ]
  },
  {
   "cell_type": "code",
   "execution_count": 306,
   "metadata": {
    "ExecuteTime": {
     "end_time": "2022-09-22T10:25:56.393172Z",
     "start_time": "2022-09-22T10:25:52.212185Z"
    },
    "canvas": {
     "comments": [],
     "componentType": "CodeCell",
     "copiedOriginId": null,
     "diskcache": false,
     "headerColor": "inherit",
     "id": "18612c2e-47cb-490b-b672-7b138b4fb983",
     "isComponent": false,
     "name": "",
     "parents": []
    },
    "hidden": true
   },
   "outputs": [
    {
     "name": "stderr",
     "output_type": "stream",
     "text": [
      "C:\\Users\\Utente77\\AppData\\Local\\Temp\\ipykernel_272\\1420231156.py:25: FutureWarning: Series.dt.weekofyear and Series.dt.week have been deprecated. Please use Series.dt.isocalendar().week instead.\n",
      "  df2['week_of_year_first_active'] = df2['first_active'].dt.weekofyear\n",
      "C:\\Users\\Utente77\\AppData\\Local\\Temp\\ipykernel_272\\1420231156.py:41: FutureWarning: Series.dt.weekofyear and Series.dt.week have been deprecated. Please use Series.dt.isocalendar().week instead.\n",
      "  df2['week_of_year_first_booking'] = df2['date_first_booking'].dt.weekofyear\n",
      "C:\\Users\\Utente77\\AppData\\Local\\Temp\\ipykernel_272\\1420231156.py:57: FutureWarning: Series.dt.weekofyear and Series.dt.week have been deprecated. Please use Series.dt.isocalendar().week instead.\n",
      "  df2['week_of_year_account_created'] = df2['date_account_created'].dt.weekofyear\n"
     ]
    }
   ],
   "source": [
    "# days from first active up to first booking\n",
    "df2['first_active'] = pd.to_datetime( df2['timestamp_first_active'].dt.strftime( '%Y-%m-%d' ) )\n",
    "df2['days_from_first_active_until_booking'] = ( df2['date_first_booking'] - df2['first_active'] ).apply( lambda x: x.days )\n",
    "\n",
    "# days from first active upt to account created\n",
    "df2['days_from_first_active_until_account_created'] = ( df2['date_account_created'] - df2['first_active'] ).apply( lambda x: x.days )\n",
    "\n",
    "# days from account createad up to first booking\n",
    "df2['days_from_account_created_until_first_booking'] = ( df2['date_first_booking'] - df2['date_account_created'] ).apply( lambda x: x.days )\n",
    "\n",
    "# ================== First Active ==================\n",
    "# year first active\n",
    "df2['year_first_active'] = df2['first_active'].dt.year\n",
    "\n",
    "# month first active\n",
    "df2['month_first_active'] = df2['first_active'].dt.month\n",
    "\n",
    "# day first active\n",
    "df2['day_first_active'] = df2['first_active'].dt.day\n",
    "\n",
    "# day of week first active\n",
    "df2['day_of_week_first_active'] = df2['first_active'].dt.dayofweek\n",
    "\n",
    "# week of year first active\n",
    "df2['week_of_year_first_active'] = df2['first_active'].dt.weekofyear\n",
    "\n",
    "# ================== First Booking ==================\n",
    "# year first booking\n",
    "df2['year_first_booking'] = df2['date_first_booking'].dt.year\n",
    "\n",
    "# month first booking\n",
    "df2['month_first_booking'] = df2['date_first_booking'].dt.month\n",
    "\n",
    "# day first booking\n",
    "df2['day_first_booking'] = df2['date_first_booking'].dt.day\n",
    "\n",
    "# day of week first booking\n",
    "df2['day_of_week_first_booking'] = df2['date_first_booking'].dt.dayofweek\n",
    "\n",
    "# week of year first booking\n",
    "df2['week_of_year_first_booking'] = df2['date_first_booking'].dt.weekofyear\n",
    "\n",
    "# ================== First Account Created =================\n",
    "# year first booking\n",
    "df2['year_account_created'] = df2['date_account_created'].dt.year\n",
    "\n",
    "# month  account_created\n",
    "df2['month_account_created'] = df2['date_account_created'].dt.month\n",
    "\n",
    "# day  account_created\n",
    "df2['day_account_created'] = df2['date_account_created'].dt.day\n",
    "\n",
    "# day of week  account_created\n",
    "df2['day_of_week_account_created'] = df2['date_account_created'].dt.dayofweek\n",
    "\n",
    "# week of year  account_created\n",
    "df2['week_of_year_account_created'] = df2['date_account_created'].dt.weekofyear"
   ]
  },
  {
   "cell_type": "code",
   "execution_count": 307,
   "metadata": {
    "ExecuteTime": {
     "end_time": "2022-09-22T10:25:56.408099Z",
     "start_time": "2022-09-22T10:25:56.394167Z"
    },
    "canvas": {
     "comments": [],
     "componentType": "CodeCell",
     "copiedOriginId": null,
     "diskcache": false,
     "headerColor": "inherit",
     "id": "cc57b5af-8df4-4fac-b726-5423a71cf52c",
     "isComponent": false,
     "name": "",
     "parents": []
    },
    "hidden": true
   },
   "outputs": [
    {
     "data": {
      "text/plain": [
       "(122636, 35)"
      ]
     },
     "execution_count": 307,
     "metadata": {},
     "output_type": "execute_result"
    }
   ],
   "source": [
    "df2.shape"
   ]
  },
  {
   "cell_type": "code",
   "execution_count": 308,
   "metadata": {
    "ExecuteTime": {
     "end_time": "2022-09-22T10:25:56.453540Z",
     "start_time": "2022-09-22T10:25:56.410093Z"
    },
    "canvas": {
     "comments": [],
     "componentType": "CodeCell",
     "copiedOriginId": null,
     "diskcache": false,
     "headerColor": "inherit",
     "id": "6beb77bb-a90d-4ffa-acb0-1db26b4da521",
     "isComponent": false,
     "name": "",
     "parents": []
    },
    "hidden": true
   },
   "outputs": [
    {
     "data": {
      "text/html": [
       "<div>\n",
       "<style scoped>\n",
       "    .dataframe tbody tr th:only-of-type {\n",
       "        vertical-align: middle;\n",
       "    }\n",
       "\n",
       "    .dataframe tbody tr th {\n",
       "        vertical-align: top;\n",
       "    }\n",
       "\n",
       "    .dataframe thead th {\n",
       "        text-align: right;\n",
       "    }\n",
       "</style>\n",
       "<table border=\"1\" class=\"dataframe\">\n",
       "  <thead>\n",
       "    <tr style=\"text-align: right;\">\n",
       "      <th></th>\n",
       "      <th>id</th>\n",
       "      <th>date_account_created</th>\n",
       "      <th>day_account_created</th>\n",
       "      <th>day_first_booking</th>\n",
       "    </tr>\n",
       "  </thead>\n",
       "  <tbody>\n",
       "    <tr>\n",
       "      <th>108315</th>\n",
       "      <td>spaes3pg6e</td>\n",
       "      <td>2013-09-17</td>\n",
       "      <td>17</td>\n",
       "      <td>11</td>\n",
       "    </tr>\n",
       "    <tr>\n",
       "      <th>105427</th>\n",
       "      <td>mp1e630ve0</td>\n",
       "      <td>2013-09-06</td>\n",
       "      <td>6</td>\n",
       "      <td>6</td>\n",
       "    </tr>\n",
       "    <tr>\n",
       "      <th>116616</th>\n",
       "      <td>q2pd4sy8dd</td>\n",
       "      <td>2013-10-14</td>\n",
       "      <td>14</td>\n",
       "      <td>13</td>\n",
       "    </tr>\n",
       "    <tr>\n",
       "      <th>112292</th>\n",
       "      <td>dnh0lcgkaa</td>\n",
       "      <td>2013-09-28</td>\n",
       "      <td>28</td>\n",
       "      <td>29</td>\n",
       "    </tr>\n",
       "    <tr>\n",
       "      <th>45876</th>\n",
       "      <td>8i7gsmkbrj</td>\n",
       "      <td>2012-10-23</td>\n",
       "      <td>23</td>\n",
       "      <td>29</td>\n",
       "    </tr>\n",
       "    <tr>\n",
       "      <th>56205</th>\n",
       "      <td>611s96744e</td>\n",
       "      <td>2013-01-16</td>\n",
       "      <td>16</td>\n",
       "      <td>16</td>\n",
       "    </tr>\n",
       "    <tr>\n",
       "      <th>128870</th>\n",
       "      <td>db6lsvbaep</td>\n",
       "      <td>2013-12-01</td>\n",
       "      <td>1</td>\n",
       "      <td>1</td>\n",
       "    </tr>\n",
       "    <tr>\n",
       "      <th>28586</th>\n",
       "      <td>fmevlnpuo4</td>\n",
       "      <td>2012-06-21</td>\n",
       "      <td>21</td>\n",
       "      <td>29</td>\n",
       "    </tr>\n",
       "    <tr>\n",
       "      <th>135160</th>\n",
       "      <td>xrwjsck5bz</td>\n",
       "      <td>2013-12-25</td>\n",
       "      <td>25</td>\n",
       "      <td>29</td>\n",
       "    </tr>\n",
       "    <tr>\n",
       "      <th>158156</th>\n",
       "      <td>mub4poel6v</td>\n",
       "      <td>2014-03-01</td>\n",
       "      <td>1</td>\n",
       "      <td>12</td>\n",
       "    </tr>\n",
       "  </tbody>\n",
       "</table>\n",
       "</div>"
      ],
      "text/plain": [
       "                id date_account_created  day_account_created  \\\n",
       "108315  spaes3pg6e           2013-09-17                   17   \n",
       "105427  mp1e630ve0           2013-09-06                    6   \n",
       "116616  q2pd4sy8dd           2013-10-14                   14   \n",
       "112292  dnh0lcgkaa           2013-09-28                   28   \n",
       "45876   8i7gsmkbrj           2012-10-23                   23   \n",
       "56205   611s96744e           2013-01-16                   16   \n",
       "128870  db6lsvbaep           2013-12-01                    1   \n",
       "28586   fmevlnpuo4           2012-06-21                   21   \n",
       "135160  xrwjsck5bz           2013-12-25                   25   \n",
       "158156  mub4poel6v           2014-03-01                    1   \n",
       "\n",
       "        day_first_booking  \n",
       "108315                 11  \n",
       "105427                  6  \n",
       "116616                 13  \n",
       "112292                 29  \n",
       "45876                  29  \n",
       "56205                  16  \n",
       "128870                  1  \n",
       "28586                  29  \n",
       "135160                 29  \n",
       "158156                 12  "
      ]
     },
     "execution_count": 308,
     "metadata": {},
     "output_type": "execute_result"
    }
   ],
   "source": [
    "df2[['id', 'date_account_created', 'day_account_created', 'day_first_booking']].sample(10)"
   ]
  },
  {
   "cell_type": "markdown",
   "metadata": {
    "canvas": {
     "comments": [],
     "componentType": "CodeCell",
     "copiedOriginId": null,
     "diskcache": false,
     "headerColor": "inherit",
     "id": "43af1b3d-bc0c-4a3e-b66c-785de3914271",
     "isComponent": false,
     "name": "",
     "parents": []
    },
    "heading_collapsed": true
   },
   "source": [
    "# Data Filtering"
   ]
  },
  {
   "cell_type": "code",
   "execution_count": 309,
   "metadata": {
    "ExecuteTime": {
     "end_time": "2022-09-22T10:25:56.532290Z",
     "start_time": "2022-09-22T10:25:56.503368Z"
    },
    "canvas": {
     "comments": [],
     "componentType": "CodeCell",
     "copiedOriginId": null,
     "diskcache": false,
     "headerColor": "inherit",
     "id": "552c7277-a67a-4c80-842e-b55eec6ddfea",
     "isComponent": false,
     "name": "",
     "parents": []
    },
    "hidden": true
   },
   "outputs": [
    {
     "data": {
      "text/plain": [
       "(122636, 35)"
      ]
     },
     "execution_count": 309,
     "metadata": {},
     "output_type": "execute_result"
    }
   ],
   "source": [
    "df3 = df2.copy()\n",
    "df3.shape"
   ]
  },
  {
   "cell_type": "markdown",
   "metadata": {
    "canvas": {
     "comments": [],
     "componentType": "CodeCell",
     "copiedOriginId": null,
     "diskcache": false,
     "headerColor": "inherit",
     "id": "96c444e2-da84-431d-8296-89ba99b5efef",
     "isComponent": false,
     "name": "",
     "parents": []
    },
    "hidden": true
   },
   "source": [
    "## 3.1. Filtering Rows"
   ]
  },
  {
   "cell_type": "code",
   "execution_count": 310,
   "metadata": {
    "ExecuteTime": {
     "end_time": "2022-09-22T10:25:56.563208Z",
     "start_time": "2022-09-22T10:25:56.533288Z"
    },
    "canvas": {
     "comments": [],
     "componentType": "CodeCell",
     "copiedOriginId": null,
     "diskcache": false,
     "headerColor": "inherit",
     "id": "3207c397-b1dc-4b61-9f63-c7ee2029f047",
     "isComponent": false,
     "name": "",
     "parents": []
    },
    "hidden": true
   },
   "outputs": [
    {
     "ename": "KeyError",
     "evalue": "'secs_elapsed'",
     "output_type": "error",
     "traceback": [
      "\u001b[1;31m---------------------------------------------------------------------------\u001b[0m",
      "\u001b[1;31mKeyError\u001b[0m                                  Traceback (most recent call last)",
      "File \u001b[1;32mc:\\Users\\Utente77\\Anaconda3\\envs\\classificazione\\lib\\site-packages\\pandas\\core\\indexes\\base.py:3621\u001b[0m, in \u001b[0;36mIndex.get_loc\u001b[1;34m(self, key, method, tolerance)\u001b[0m\n\u001b[0;32m   3620\u001b[0m \u001b[39mtry\u001b[39;00m:\n\u001b[1;32m-> 3621\u001b[0m     \u001b[39mreturn\u001b[39;00m \u001b[39mself\u001b[39;49m\u001b[39m.\u001b[39;49m_engine\u001b[39m.\u001b[39;49mget_loc(casted_key)\n\u001b[0;32m   3622\u001b[0m \u001b[39mexcept\u001b[39;00m \u001b[39mKeyError\u001b[39;00m \u001b[39mas\u001b[39;00m err:\n",
      "File \u001b[1;32mc:\\Users\\Utente77\\Anaconda3\\envs\\classificazione\\lib\\site-packages\\pandas\\_libs\\index.pyx:136\u001b[0m, in \u001b[0;36mpandas._libs.index.IndexEngine.get_loc\u001b[1;34m()\u001b[0m\n",
      "File \u001b[1;32mc:\\Users\\Utente77\\Anaconda3\\envs\\classificazione\\lib\\site-packages\\pandas\\_libs\\index.pyx:163\u001b[0m, in \u001b[0;36mpandas._libs.index.IndexEngine.get_loc\u001b[1;34m()\u001b[0m\n",
      "File \u001b[1;32mpandas\\_libs\\hashtable_class_helper.pxi:5198\u001b[0m, in \u001b[0;36mpandas._libs.hashtable.PyObjectHashTable.get_item\u001b[1;34m()\u001b[0m\n",
      "File \u001b[1;32mpandas\\_libs\\hashtable_class_helper.pxi:5206\u001b[0m, in \u001b[0;36mpandas._libs.hashtable.PyObjectHashTable.get_item\u001b[1;34m()\u001b[0m\n",
      "\u001b[1;31mKeyError\u001b[0m: 'secs_elapsed'",
      "\nThe above exception was the direct cause of the following exception:\n",
      "\u001b[1;31mKeyError\u001b[0m                                  Traceback (most recent call last)",
      "\u001b[1;32mc:\\Users\\Utente77\\repos\\airbnb_predict_first_booking\\09_ab_Features_selection.ipynb Cella 53\u001b[0m in \u001b[0;36m<cell line: 6>\u001b[1;34m()\u001b[0m\n\u001b[0;32m      <a href='vscode-notebook-cell:/c%3A/Users/Utente77/repos/airbnb_predict_first_booking/09_ab_Features_selection.ipynb#Y106sZmlsZQ%3D%3D?line=2'>3</a>\u001b[0m df3 \u001b[39m=\u001b[39m df3[( df3[\u001b[39m'\u001b[39m\u001b[39mage\u001b[39m\u001b[39m'\u001b[39m] \u001b[39m>\u001b[39m \u001b[39m15\u001b[39m ) \u001b[39m&\u001b[39m ( df3[\u001b[39m'\u001b[39m\u001b[39mage\u001b[39m\u001b[39m'\u001b[39m] \u001b[39m<\u001b[39m \u001b[39m120\u001b[39m )]\n\u001b[0;32m      <a href='vscode-notebook-cell:/c%3A/Users/Utente77/repos/airbnb_predict_first_booking/09_ab_Features_selection.ipynb#Y106sZmlsZQ%3D%3D?line=4'>5</a>\u001b[0m \u001b[39m# secs_elapsed - there is no possible 0 secs elapsed on website\u001b[39;00m\n\u001b[1;32m----> <a href='vscode-notebook-cell:/c%3A/Users/Utente77/repos/airbnb_predict_first_booking/09_ab_Features_selection.ipynb#Y106sZmlsZQ%3D%3D?line=5'>6</a>\u001b[0m df3 \u001b[39m=\u001b[39m df3[df3[\u001b[39m'\u001b[39;49m\u001b[39msecs_elapsed\u001b[39;49m\u001b[39m'\u001b[39;49m] \u001b[39m>\u001b[39m \u001b[39m0\u001b[39m]\n",
      "File \u001b[1;32mc:\\Users\\Utente77\\Anaconda3\\envs\\classificazione\\lib\\site-packages\\pandas\\core\\frame.py:3505\u001b[0m, in \u001b[0;36mDataFrame.__getitem__\u001b[1;34m(self, key)\u001b[0m\n\u001b[0;32m   3503\u001b[0m \u001b[39mif\u001b[39;00m \u001b[39mself\u001b[39m\u001b[39m.\u001b[39mcolumns\u001b[39m.\u001b[39mnlevels \u001b[39m>\u001b[39m \u001b[39m1\u001b[39m:\n\u001b[0;32m   3504\u001b[0m     \u001b[39mreturn\u001b[39;00m \u001b[39mself\u001b[39m\u001b[39m.\u001b[39m_getitem_multilevel(key)\n\u001b[1;32m-> 3505\u001b[0m indexer \u001b[39m=\u001b[39m \u001b[39mself\u001b[39;49m\u001b[39m.\u001b[39;49mcolumns\u001b[39m.\u001b[39;49mget_loc(key)\n\u001b[0;32m   3506\u001b[0m \u001b[39mif\u001b[39;00m is_integer(indexer):\n\u001b[0;32m   3507\u001b[0m     indexer \u001b[39m=\u001b[39m [indexer]\n",
      "File \u001b[1;32mc:\\Users\\Utente77\\Anaconda3\\envs\\classificazione\\lib\\site-packages\\pandas\\core\\indexes\\base.py:3623\u001b[0m, in \u001b[0;36mIndex.get_loc\u001b[1;34m(self, key, method, tolerance)\u001b[0m\n\u001b[0;32m   3621\u001b[0m     \u001b[39mreturn\u001b[39;00m \u001b[39mself\u001b[39m\u001b[39m.\u001b[39m_engine\u001b[39m.\u001b[39mget_loc(casted_key)\n\u001b[0;32m   3622\u001b[0m \u001b[39mexcept\u001b[39;00m \u001b[39mKeyError\u001b[39;00m \u001b[39mas\u001b[39;00m err:\n\u001b[1;32m-> 3623\u001b[0m     \u001b[39mraise\u001b[39;00m \u001b[39mKeyError\u001b[39;00m(key) \u001b[39mfrom\u001b[39;00m \u001b[39merr\u001b[39;00m\n\u001b[0;32m   3624\u001b[0m \u001b[39mexcept\u001b[39;00m \u001b[39mTypeError\u001b[39;00m:\n\u001b[0;32m   3625\u001b[0m     \u001b[39m# If we have a listlike key, _check_indexing_error will raise\u001b[39;00m\n\u001b[0;32m   3626\u001b[0m     \u001b[39m#  InvalidIndexError. Otherwise we fall through and re-raise\u001b[39;00m\n\u001b[0;32m   3627\u001b[0m     \u001b[39m#  the TypeError.\u001b[39;00m\n\u001b[0;32m   3628\u001b[0m     \u001b[39mself\u001b[39m\u001b[39m.\u001b[39m_check_indexing_error(key)\n",
      "\u001b[1;31mKeyError\u001b[0m: 'secs_elapsed'"
     ]
    }
   ],
   "source": [
    "# Filtering rows:\n",
    "# age - greater than 15 and lower than 120 - There are few people over 12O year old   \n",
    "df3 = df3[( df3['age'] > 15 ) & ( df3['age'] < 120 )]\n",
    "\n",
    "# secs_elapsed - there is no possible 0 secs elapsed on website\n",
    "df3 = df3[df3['secs_elapsed'] > 0]"
   ]
  },
  {
   "cell_type": "markdown",
   "metadata": {
    "canvas": {
     "comments": [],
     "componentType": "CodeCell",
     "copiedOriginId": null,
     "diskcache": false,
     "headerColor": "inherit",
     "id": "6d541a2f-6941-4262-bdaa-72b40b46622e",
     "isComponent": false,
     "name": "",
     "parents": []
    },
    "hidden": true
   },
   "source": [
    "## 3.2. Columns Selection"
   ]
  },
  {
   "cell_type": "code",
   "execution_count": null,
   "metadata": {
    "ExecuteTime": {
     "end_time": "2022-09-22T10:25:56.579165Z",
     "start_time": "2022-09-22T10:25:56.565203Z"
    },
    "canvas": {
     "comments": [],
     "componentType": "CodeCell",
     "copiedOriginId": null,
     "diskcache": false,
     "headerColor": "inherit",
     "id": "d2fb8e86-323c-481d-82a8-0898a535327f",
     "isComponent": false,
     "name": "",
     "parents": []
    },
    "hidden": true
   },
   "outputs": [],
   "source": [
    "cols = ['date_account_created', 'date_account_created', 'date_first_booking', 'timestamp_first_active', \n",
    "        'first_active'] # original datetime"
   ]
  },
  {
   "cell_type": "markdown",
   "metadata": {
    "canvas": {
     "comments": [],
     "componentType": "CodeCell",
     "copiedOriginId": null,
     "diskcache": false,
     "headerColor": "inherit",
     "id": "2603029e-c2ad-42c9-9bc4-0358c45e7f9a",
     "isComponent": false,
     "name": "",
     "parents": []
    },
    "heading_collapsed": true
   },
   "source": [
    "# Balanced Dataset"
   ]
  },
  {
   "cell_type": "code",
   "execution_count": null,
   "metadata": {
    "ExecuteTime": {
     "end_time": "2022-09-22T10:25:56.611080Z",
     "start_time": "2022-09-22T10:25:56.580163Z"
    },
    "canvas": {
     "comments": [],
     "componentType": "CodeCell",
     "copiedOriginId": null,
     "diskcache": false,
     "headerColor": "inherit",
     "id": "da8a8a45-fe64-46c1-86c1-672f8febd2ce",
     "isComponent": false,
     "name": "",
     "parents": []
    },
    "hidden": true
   },
   "outputs": [
    {
     "data": {
      "text/plain": [
       "(122636, 31)"
      ]
     },
     "execution_count": 157,
     "metadata": {},
     "output_type": "execute_result"
    }
   ],
   "source": [
    "df4 = df3.drop( cols, axis=1 )\n",
    "df4.shape"
   ]
  },
  {
   "cell_type": "code",
   "execution_count": null,
   "metadata": {
    "ExecuteTime": {
     "end_time": "2022-09-22T10:25:57.180876Z",
     "start_time": "2022-09-22T10:25:56.613077Z"
    },
    "canvas": {
     "comments": [],
     "componentType": "CodeCell",
     "copiedOriginId": null,
     "diskcache": false,
     "headerColor": "inherit",
     "id": "86d595b7-e8f5-4aa4-98c1-c972ad336f22",
     "isComponent": false,
     "name": "",
     "parents": []
    },
    "hidden": true
   },
   "outputs": [
    {
     "data": {
      "text/plain": [
       "(122636, 236)"
      ]
     },
     "execution_count": 158,
     "metadata": {},
     "output_type": "execute_result"
    }
   ],
   "source": [
    "# Encoder Categorical Variables\n",
    "ohe = pp.OneHotEncoder()\n",
    "\n",
    "# Numerical\n",
    "col_num = df4.select_dtypes( include=['int64', 'float64'] ).columns.tolist()\n",
    "\n",
    "# Categorical\n",
    "col_cat = df4.select_dtypes( exclude=['int64', 'float64', 'datetime64[ns]'] ).drop( ['id', 'country_destination'], axis=1 ).columns.tolist()\n",
    "\n",
    "# encoding\n",
    "df4_dummy = pd.DataFrame( ohe.fit_transform( df4[ col_cat] ).toarray(), index=df4.index )\n",
    "\n",
    "# join numerical and categorical\n",
    "df42 = pd.concat( [df4[col_num], df4_dummy], axis=1 )\n",
    "df42.shape"
   ]
  },
  {
   "cell_type": "markdown",
   "metadata": {
    "canvas": {
     "comments": [],
     "componentType": "CodeCell",
     "copiedOriginId": null,
     "diskcache": false,
     "headerColor": "inherit",
     "id": "5bdc0403-2727-4f15-8202-0e81d8acdea4",
     "isComponent": false,
     "name": "",
     "parents": []
    },
    "hidden": true
   },
   "source": [
    "## 4.1. Random Undersampling"
   ]
  },
  {
   "cell_type": "code",
   "execution_count": null,
   "metadata": {
    "ExecuteTime": {
     "end_time": "2022-09-22T10:25:57.887177Z",
     "start_time": "2022-09-22T10:25:57.184909Z"
    },
    "canvas": {
     "comments": [],
     "componentType": "CodeCell",
     "copiedOriginId": null,
     "diskcache": false,
     "headerColor": "inherit",
     "id": "d46dd5fe-7a45-4fc9-87e4-1f78e6f664e8",
     "isComponent": false,
     "name": "",
     "parents": []
    },
    "hidden": true
   },
   "outputs": [
    {
     "name": "stderr",
     "output_type": "stream",
     "text": [
      "c:\\Users\\Utente77\\Anaconda3\\envs\\classificazione\\lib\\site-packages\\sklearn\\utils\\validation.py:1858: FutureWarning: Feature names only support names that are all strings. Got feature names with dtypes: ['int', 'str']. An error will be raised in 1.2.\n",
      "  warnings.warn(\n"
     ]
    }
   ],
   "source": [
    "# ratio_balanced\n",
    "ratio_balanced = {'NDF': 10000 }\n",
    "# define sampler\n",
    "undersampling = us.RandomUnderSampler( sampling_strategy=ratio_balanced, random_state=32 )\n",
    "\n",
    "# apply sampler\n",
    "X_under, y_under = undersampling.fit_resample( df42, df4['country_destination'] )"
   ]
  },
  {
   "cell_type": "code",
   "execution_count": null,
   "metadata": {
    "ExecuteTime": {
     "end_time": "2022-09-22T10:25:57.918387Z",
     "start_time": "2022-09-22T10:25:57.891177Z"
    },
    "canvas": {
     "comments": [],
     "componentType": "CodeCell",
     "copiedOriginId": null,
     "diskcache": false,
     "headerColor": "inherit",
     "id": "629a58f0-af10-420d-bdc1-f9272267b081",
     "isComponent": false,
     "name": "",
     "parents": []
    },
    "cell_style": "split",
    "hidden": true
   },
   "outputs": [
    {
     "data": {
      "text/plain": [
       "NDF      54852\n",
       "US       48057\n",
       "other     7511\n",
       "FR        3669\n",
       "IT        2014\n",
       "GB        1758\n",
       "ES        1685\n",
       "CA        1064\n",
       "DE         841\n",
       "NL         595\n",
       "AU         433\n",
       "PT         157\n",
       "Name: country_destination, dtype: int64"
      ]
     },
     "execution_count": 160,
     "metadata": {},
     "output_type": "execute_result"
    }
   ],
   "source": [
    "df4['country_destination'].value_counts()"
   ]
  },
  {
   "cell_type": "code",
   "execution_count": null,
   "metadata": {
    "ExecuteTime": {
     "end_time": "2022-09-22T10:25:57.934351Z",
     "start_time": "2022-09-22T10:25:57.919344Z"
    },
    "canvas": {
     "comments": [],
     "componentType": "CodeCell",
     "copiedOriginId": null,
     "diskcache": false,
     "headerColor": "inherit",
     "id": "e47bd88c-66a8-4503-bb25-4d01dbf373f7",
     "isComponent": false,
     "name": "",
     "parents": []
    },
    "cell_style": "split",
    "hidden": true
   },
   "outputs": [
    {
     "data": {
      "text/plain": [
       "US       48057\n",
       "NDF      10000\n",
       "other     7511\n",
       "FR        3669\n",
       "IT        2014\n",
       "GB        1758\n",
       "ES        1685\n",
       "CA        1064\n",
       "DE         841\n",
       "NL         595\n",
       "AU         433\n",
       "PT         157\n",
       "Name: country_destination, dtype: int64"
      ]
     },
     "execution_count": 161,
     "metadata": {},
     "output_type": "execute_result"
    }
   ],
   "source": [
    "y_under.value_counts()"
   ]
  },
  {
   "cell_type": "markdown",
   "metadata": {
    "canvas": {
     "comments": [],
     "componentType": "CodeCell",
     "copiedOriginId": null,
     "diskcache": false,
     "headerColor": "inherit",
     "id": "5e322f70-fbe7-4b9a-a3e6-0eedb7e969de",
     "isComponent": false,
     "name": "",
     "parents": []
    },
    "hidden": true
   },
   "source": [
    "## 4.2. Random Oversampling"
   ]
  },
  {
   "cell_type": "code",
   "execution_count": null,
   "metadata": {
    "ExecuteTime": {
     "end_time": "2022-09-22T10:26:02.621844Z",
     "start_time": "2022-09-22T10:25:57.936346Z"
    },
    "canvas": {
     "comments": [],
     "componentType": "CodeCell",
     "copiedOriginId": null,
     "diskcache": false,
     "headerColor": "inherit",
     "id": "993ba364-ac2f-455f-a69c-57faff0d73ec",
     "isComponent": false,
     "name": "",
     "parents": []
    },
    "hidden": true
   },
   "outputs": [
    {
     "name": "stderr",
     "output_type": "stream",
     "text": [
      "c:\\Users\\Utente77\\Anaconda3\\envs\\classificazione\\lib\\site-packages\\sklearn\\utils\\validation.py:1858: FutureWarning: Feature names only support names that are all strings. Got feature names with dtypes: ['int', 'str']. An error will be raised in 1.2.\n",
      "  warnings.warn(\n"
     ]
    }
   ],
   "source": [
    "# ratio_balanced\n",
    "#ratio_balanced = {'NDF': 10000 }\n",
    "\n",
    "# define sampler\n",
    "oversampling = oversamp.RandomOverSampler( sampling_strategy='all', random_state=32 )\n",
    "\n",
    "# apply sampler\n",
    "X_over, y_over = oversampling.fit_resample( df42, df4['country_destination'] )"
   ]
  },
  {
   "cell_type": "code",
   "execution_count": null,
   "metadata": {
    "ExecuteTime": {
     "end_time": "2022-09-22T10:26:02.637771Z",
     "start_time": "2022-09-22T10:26:02.623853Z"
    },
    "canvas": {
     "comments": [],
     "componentType": "CodeCell",
     "copiedOriginId": null,
     "diskcache": false,
     "headerColor": "inherit",
     "id": "bc1864b4-76d6-4d49-81c4-79f7385da26d",
     "isComponent": false,
     "name": "",
     "parents": []
    },
    "cell_style": "split",
    "hidden": true
   },
   "outputs": [
    {
     "data": {
      "text/plain": [
       "NDF      54852\n",
       "US       48057\n",
       "other     7511\n",
       "FR        3669\n",
       "IT        2014\n",
       "GB        1758\n",
       "ES        1685\n",
       "CA        1064\n",
       "DE         841\n",
       "NL         595\n",
       "AU         433\n",
       "PT         157\n",
       "Name: country_destination, dtype: int64"
      ]
     },
     "execution_count": 163,
     "metadata": {},
     "output_type": "execute_result"
    }
   ],
   "source": [
    "df4['country_destination'].value_counts()"
   ]
  },
  {
   "cell_type": "code",
   "execution_count": null,
   "metadata": {
    "ExecuteTime": {
     "end_time": "2022-09-22T10:26:02.685643Z",
     "start_time": "2022-09-22T10:26:02.639766Z"
    },
    "canvas": {
     "comments": [],
     "componentType": "CodeCell",
     "copiedOriginId": null,
     "diskcache": false,
     "headerColor": "inherit",
     "id": "9bc33015-0c72-46e2-93ec-ad3f9e603417",
     "isComponent": false,
     "name": "",
     "parents": []
    },
    "cell_style": "split",
    "hidden": true
   },
   "outputs": [
    {
     "data": {
      "text/plain": [
       "NDF      54852\n",
       "US       54852\n",
       "other    54852\n",
       "CA       54852\n",
       "FR       54852\n",
       "IT       54852\n",
       "ES       54852\n",
       "GB       54852\n",
       "NL       54852\n",
       "DE       54852\n",
       "AU       54852\n",
       "PT       54852\n",
       "Name: country_destination, dtype: int64"
      ]
     },
     "execution_count": 164,
     "metadata": {},
     "output_type": "execute_result"
    }
   ],
   "source": [
    "y_over.value_counts()"
   ]
  },
  {
   "cell_type": "markdown",
   "metadata": {
    "canvas": {
     "comments": [],
     "componentType": "CodeCell",
     "copiedOriginId": null,
     "diskcache": false,
     "headerColor": "inherit",
     "id": "cb1e0edd-b474-4f82-8b29-9abdc0f6d451",
     "isComponent": false,
     "name": "",
     "parents": []
    },
    "hidden": true
   },
   "source": [
    "## 4.3. SMOTE + TOMEKLINK"
   ]
  },
  {
   "cell_type": "code",
   "execution_count": null,
   "metadata": {
    "ExecuteTime": {
     "end_time": "2022-09-22T10:26:02.701600Z",
     "start_time": "2022-09-22T10:26:02.686640Z"
    },
    "canvas": {
     "comments": [],
     "componentType": "CodeCell",
     "copiedOriginId": null,
     "diskcache": false,
     "headerColor": "inherit",
     "id": "afc5fcde-d8e8-4f20-b309-bb605223def5",
     "isComponent": false,
     "name": "",
     "parents": []
    },
    "hidden": true
   },
   "outputs": [],
   "source": [
    "ratio_balanced =  {'NDF': 54852,\n",
    "                   'US':  48057,\n",
    "                   'other': 6*7511,\n",
    "                   'FR': 12*3669,\n",
    "                   'IT': 20*2014,\n",
    "                   'GB': 30*1758,\n",
    "                   'ES': 30*1685,\n",
    "                   'CA': 40*1064,\n",
    "                   'DE': 45*841,\n",
    "                   'NL': 80*595,\n",
    "                   'AU': 85*433,\n",
    "                   'PT': 300*157}"
   ]
  },
  {
   "cell_type": "code",
   "execution_count": null,
   "metadata": {
    "ExecuteTime": {
     "end_time": "2022-09-22T10:38:55.730942Z",
     "start_time": "2022-09-22T10:26:02.703595Z"
    },
    "canvas": {
     "comments": [],
     "componentType": "CodeCell",
     "copiedOriginId": null,
     "diskcache": false,
     "headerColor": "inherit",
     "id": "ebd6f80c-830c-4ae1-b371-cedc958d1cce",
     "isComponent": false,
     "name": "",
     "parents": []
    },
    "hidden": true
   },
   "outputs": [
    {
     "name": "stderr",
     "output_type": "stream",
     "text": [
      "c:\\Users\\Utente77\\Anaconda3\\envs\\classificazione\\lib\\site-packages\\sklearn\\utils\\validation.py:1858: FutureWarning: Feature names only support names that are all strings. Got feature names with dtypes: ['int', 'str']. An error will be raised in 1.2.\n",
      "  warnings.warn(\n"
     ]
    }
   ],
   "source": [
    "# define sampler\n",
    "smt = c.SMOTETomek( sampling_strategy=ratio_balanced, random_state=32, n_jobs=-1 )\n",
    "\n",
    "# apply sampler\n",
    "X_smt, y_smt = smt.fit_resample( df42, df4['country_destination'] )"
   ]
  },
  {
   "cell_type": "code",
   "execution_count": null,
   "metadata": {
    "ExecuteTime": {
     "end_time": "2022-09-22T10:38:55.761859Z",
     "start_time": "2022-09-22T10:38:55.733933Z"
    },
    "canvas": {
     "comments": [],
     "componentType": "CodeCell",
     "copiedOriginId": null,
     "diskcache": false,
     "headerColor": "inherit",
     "id": "52b8081c-8566-44db-808c-adaeeaab8655",
     "isComponent": false,
     "name": "",
     "parents": []
    },
    "cell_style": "split",
    "hidden": true
   },
   "outputs": [
    {
     "data": {
      "text/plain": [
       "NDF      54852\n",
       "US       48057\n",
       "other     7511\n",
       "FR        3669\n",
       "IT        2014\n",
       "GB        1758\n",
       "ES        1685\n",
       "CA        1064\n",
       "DE         841\n",
       "NL         595\n",
       "AU         433\n",
       "PT         157\n",
       "Name: country_destination, dtype: int64"
      ]
     },
     "execution_count": 167,
     "metadata": {},
     "output_type": "execute_result"
    }
   ],
   "source": [
    "df4['country_destination'].value_counts()"
   ]
  },
  {
   "cell_type": "code",
   "execution_count": null,
   "metadata": {
    "ExecuteTime": {
     "end_time": "2022-09-22T10:38:55.839652Z",
     "start_time": "2022-09-22T10:38:55.765848Z"
    },
    "canvas": {
     "comments": [],
     "componentType": "CodeCell",
     "copiedOriginId": null,
     "diskcache": false,
     "headerColor": "inherit",
     "id": "bb8e0fb1-b163-44ee-ac0c-977ee796f988",
     "isComponent": false,
     "name": "",
     "parents": []
    },
    "cell_style": "split",
    "hidden": true
   },
   "outputs": [
    {
     "data": {
      "text/plain": [
       "NDF      54850\n",
       "GB       52708\n",
       "ES       50513\n",
       "US       47700\n",
       "NL       47592\n",
       "PT       47100\n",
       "other    44829\n",
       "FR       43913\n",
       "CA       42543\n",
       "IT       40214\n",
       "DE       37839\n",
       "AU       36804\n",
       "Name: country_destination, dtype: int64"
      ]
     },
     "execution_count": 168,
     "metadata": {},
     "output_type": "execute_result"
    }
   ],
   "source": [
    "y_smt.value_counts()"
   ]
  },
  {
   "cell_type": "code",
   "execution_count": null,
   "metadata": {
    "ExecuteTime": {
     "end_time": "2022-09-22T10:38:57.843898Z",
     "start_time": "2022-09-22T10:38:55.842644Z"
    },
    "canvas": {
     "comments": [],
     "componentType": "CodeCell",
     "copiedOriginId": null,
     "diskcache": false,
     "headerColor": "inherit",
     "id": "0320d284-5cb7-423e-9982-7552f14d12de",
     "isComponent": false,
     "name": "",
     "parents": []
    },
    "hidden": true
   },
   "outputs": [],
   "source": [
    "# numerical data\n",
    "df43 = X_smt[ col_num ]\n",
    "\n",
    "# categorical data\n",
    "df44 = X_smt.drop( col_num, axis=1 )\n",
    "df45 = pd.DataFrame( ohe.inverse_transform( df44 ), columns=col_cat, index=df44.index )\n",
    "\n",
    "# join numerical categorical\n",
    "df46 = pd.concat( [df43, df45], axis=1 )\n",
    "df46['country_destination'] = y_smt"
   ]
  },
  {
   "cell_type": "markdown",
   "metadata": {
    "canvas": {
     "comments": [],
     "componentType": "CodeCell",
     "copiedOriginId": null,
     "diskcache": false,
     "headerColor": "inherit",
     "id": "f4449020-d82c-492b-898b-172757e5f812",
     "isComponent": false,
     "name": "",
     "parents": []
    },
    "heading_collapsed": true
   },
   "source": [
    "# Exploratory Data Analysis ( EDA )"
   ]
  },
  {
   "cell_type": "markdown",
   "metadata": {
    "ExecuteTime": {
     "end_time": "2020-10-20T10:59:53.218703Z",
     "start_time": "2020-10-20T10:59:53.216604Z"
    },
    "canvas": {
     "comments": [],
     "componentType": "CodeCell",
     "copiedOriginId": null,
     "diskcache": false,
     "headerColor": "inherit",
     "id": "a0a7679e-1c38-47a4-baf3-788fd8d1d00c",
     "isComponent": false,
     "name": "",
     "parents": []
    },
    "hidden": true
   },
   "source": [
    "## 5.1. Hypothesys Validation ( Unbalanced Dataset )"
   ]
  },
  {
   "cell_type": "code",
   "execution_count": null,
   "metadata": {
    "ExecuteTime": {
     "end_time": "2022-09-22T10:38:57.874903Z",
     "start_time": "2022-09-22T10:38:57.844863Z"
    },
    "canvas": {
     "comments": [],
     "componentType": "CodeCell",
     "copiedOriginId": null,
     "diskcache": false,
     "headerColor": "inherit",
     "id": "a9045a4b-0400-4df0-a19e-ed1d162edc09",
     "isComponent": false,
     "name": "",
     "parents": []
    },
    "hidden": true
   },
   "outputs": [],
   "source": [
    "df51 = df4.copy()"
   ]
  },
  {
   "cell_type": "markdown",
   "metadata": {
    "canvas": {
     "comments": [],
     "componentType": "CodeCell",
     "copiedOriginId": null,
     "diskcache": false,
     "headerColor": "inherit",
     "id": "1e711295-2a75-4fbe-ada5-f47333ce2659",
     "isComponent": false,
     "name": "",
     "parents": []
    },
    "hidden": true
   },
   "source": [
    "### **H01.** Em todos os destinos, os usuários levam 15 dias, em média, para fazer a primeira reserva no Airbnb, desde sua primeira ativacao.\n",
    "\n",
    "**Verdadeiro.** Em todos os destinos, os usuários até 6 dias para reservar o primeiro Airbnb"
   ]
  },
  {
   "cell_type": "code",
   "execution_count": null,
   "metadata": {
    "ExecuteTime": {
     "end_time": "2022-09-22T10:38:58.253118Z",
     "start_time": "2022-09-22T10:38:57.876898Z"
    },
    "canvas": {
     "comments": [],
     "componentType": "CodeCell",
     "copiedOriginId": null,
     "diskcache": false,
     "headerColor": "inherit",
     "id": "9ed3d6cf-2e70-433a-bdc1-83df29a97749",
     "isComponent": false,
     "name": "",
     "parents": []
    },
    "hidden": true,
    "hide_input": false
   },
   "outputs": [
    {
     "data": {
      "image/png": "[encoded data removed]",
      "text/plain": [
       "<Figure size 2000x1200 with 2 Axes>"
      ]
     },
     "metadata": {},
     "output_type": "display_data"
    }
   ],
   "source": [
    "plt.figure( figsize=(20, 12))\n",
    "plt.subplot( 3, 1, 1 )\n",
    "aux01 = df51[['days_from_first_active_until_booking', 'country_destination']].groupby( 'country_destination' ).median().reset_index()\n",
    "sns.barplot( x='country_destination', y='days_from_first_active_until_booking', \n",
    "             data=aux01.sort_values( 'days_from_first_active_until_booking' ) )\n",
    "# remove outlier\n",
    "plt.subplot( 3, 1, 2 )\n",
    "aux02 = df51[df51['country_destination'] != 'NDF']\n",
    "aux02 = aux02[['days_from_first_active_until_booking', 'country_destination']].groupby( 'country_destination' ).median().reset_index()\n",
    "sns.barplot( x='country_destination', y='days_from_first_active_until_booking', \n",
    "             data=aux02.sort_values( 'days_from_first_active_until_booking' ) );"
   ]
  },
  {
   "cell_type": "markdown",
   "metadata": {
    "canvas": {
     "comments": [],
     "componentType": "CodeCell",
     "copiedOriginId": null,
     "diskcache": false,
     "headerColor": "inherit",
     "id": "72da1f81-ec8c-4af8-a9d6-43dc4e4732ef",
     "isComponent": false,
     "name": "",
     "parents": []
    },
    "hidden": true
   },
   "source": [
    "### **H02.** Em todos os destinos, os usuários levam 3 dias, em média, para fazer o cadastro no site.\n",
    "**Verdadeira**. Em todos os destinos, os usuários levam até 2 dias para finalizar o cadastro"
   ]
  },
  {
   "cell_type": "code",
   "execution_count": null,
   "metadata": {
    "ExecuteTime": {
     "end_time": "2022-09-22T10:38:58.503915Z",
     "start_time": "2022-09-22T10:38:58.254095Z"
    },
    "canvas": {
     "comments": [],
     "componentType": "CodeCell",
     "copiedOriginId": null,
     "diskcache": false,
     "headerColor": "inherit",
     "id": "83ec5d48-c976-45b0-8c8e-d4cba29c267c",
     "isComponent": false,
     "name": "",
     "parents": []
    },
    "hidden": true,
    "hide_input": false
   },
   "outputs": [
    {
     "data": {
      "image/png": "[encoded data removed]",
      "text/plain": [
       "<Figure size 2000x1200 with 1 Axes>"
      ]
     },
     "metadata": {},
     "output_type": "display_data"
    }
   ],
   "source": [
    "\n",
    "plt.figure( figsize=(20, 12))\n",
    "aux01 = df51[['days_from_first_active_until_account_created', 'country_destination']].groupby( 'country_destination' ).mean().reset_index()\n",
    "sns.barplot( x='country_destination', y='days_from_first_active_until_account_created', \n",
    "             data=aux01.sort_values( 'days_from_first_active_until_account_created' ) );"
   ]
  },
  {
   "cell_type": "markdown",
   "metadata": {
    "canvas": {
     "comments": [],
     "componentType": "CodeCell",
     "copiedOriginId": null,
     "diskcache": false,
     "headerColor": "inherit",
     "id": "4f6baeb8-27e3-4111-9873-c12132848055",
     "isComponent": false,
     "name": "",
     "parents": []
    },
    "hidden": true
   },
   "source": [
    "### **H03.** O volume de reservas anual feitas durante o verão aumentaram 20% para destinos dentro dos USA. \n",
    "\n",
    "**False**. O Volume de reservas aumenta durante o verão entre os anos de 2010 até 2013."
   ]
  },
  {
   "cell_type": "code",
   "execution_count": null,
   "metadata": {
    "ExecuteTime": {
     "end_time": "2022-09-22T10:38:58.534563Z",
     "start_time": "2022-09-22T10:38:58.505321Z"
    },
    "canvas": {
     "comments": [],
     "componentType": "CodeCell",
     "copiedOriginId": null,
     "diskcache": false,
     "headerColor": "inherit",
     "id": "15f99634-e83e-486c-ac1e-0119580a77ca",
     "isComponent": false,
     "name": "",
     "parents": []
    },
    "hidden": true,
    "hide_input": false
   },
   "outputs": [
    {
     "data": {
      "text/html": [
       "<div>\n",
       "<style scoped>\n",
       "    .dataframe tbody tr th:only-of-type {\n",
       "        vertical-align: middle;\n",
       "    }\n",
       "\n",
       "    .dataframe tbody tr th {\n",
       "        vertical-align: top;\n",
       "    }\n",
       "\n",
       "    .dataframe thead th {\n",
       "        text-align: right;\n",
       "    }\n",
       "</style>\n",
       "<table border=\"1\" class=\"dataframe\">\n",
       "  <thead>\n",
       "    <tr style=\"text-align: right;\">\n",
       "      <th></th>\n",
       "      <th>year_first_booking</th>\n",
       "      <th>month_first_booking</th>\n",
       "      <th>country_destination</th>\n",
       "      <th>count</th>\n",
       "    </tr>\n",
       "  </thead>\n",
       "  <tbody>\n",
       "    <tr>\n",
       "      <th>146</th>\n",
       "      <td>2011</td>\n",
       "      <td>7</td>\n",
       "      <td>US</td>\n",
       "      <td>230</td>\n",
       "    </tr>\n",
       "    <tr>\n",
       "      <th>579</th>\n",
       "      <td>2014</td>\n",
       "      <td>11</td>\n",
       "      <td>FR</td>\n",
       "      <td>11</td>\n",
       "    </tr>\n",
       "    <tr>\n",
       "      <th>210</th>\n",
       "      <td>2012</td>\n",
       "      <td>1</td>\n",
       "      <td>PT</td>\n",
       "      <td>1</td>\n",
       "    </tr>\n",
       "    <tr>\n",
       "      <th>6</th>\n",
       "      <td>2010</td>\n",
       "      <td>2</td>\n",
       "      <td>GB</td>\n",
       "      <td>1</td>\n",
       "    </tr>\n",
       "    <tr>\n",
       "      <th>542</th>\n",
       "      <td>2014</td>\n",
       "      <td>7</td>\n",
       "      <td>other</td>\n",
       "      <td>186</td>\n",
       "    </tr>\n",
       "    <tr>\n",
       "      <th>32</th>\n",
       "      <td>2010</td>\n",
       "      <td>7</td>\n",
       "      <td>DE</td>\n",
       "      <td>2</td>\n",
       "    </tr>\n",
       "    <tr>\n",
       "      <th>225</th>\n",
       "      <td>2012</td>\n",
       "      <td>3</td>\n",
       "      <td>CA</td>\n",
       "      <td>16</td>\n",
       "    </tr>\n",
       "    <tr>\n",
       "      <th>413</th>\n",
       "      <td>2013</td>\n",
       "      <td>8</td>\n",
       "      <td>DE</td>\n",
       "      <td>49</td>\n",
       "    </tr>\n",
       "    <tr>\n",
       "      <th>101</th>\n",
       "      <td>2011</td>\n",
       "      <td>3</td>\n",
       "      <td>FR</td>\n",
       "      <td>10</td>\n",
       "    </tr>\n",
       "    <tr>\n",
       "      <th>127</th>\n",
       "      <td>2011</td>\n",
       "      <td>6</td>\n",
       "      <td>AU</td>\n",
       "      <td>1</td>\n",
       "    </tr>\n",
       "  </tbody>\n",
       "</table>\n",
       "</div>"
      ],
      "text/plain": [
       "     year_first_booking  month_first_booking country_destination  count\n",
       "146                2011                    7                  US    230\n",
       "579                2014                   11                  FR     11\n",
       "210                2012                    1                  PT      1\n",
       "6                  2010                    2                  GB      1\n",
       "542                2014                    7               other    186\n",
       "32                 2010                    7                  DE      2\n",
       "225                2012                    3                  CA     16\n",
       "413                2013                    8                  DE     49\n",
       "101                2011                    3                  FR     10\n",
       "127                2011                    6                  AU      1"
      ]
     },
     "execution_count": 173,
     "metadata": {},
     "output_type": "execute_result"
    }
   ],
   "source": [
    "aux01 = df51[['year_first_booking', 'month_first_booking', 'country_destination']].\\\n",
    "                groupby( ['year_first_booking', 'month_first_booking', 'country_destination'] ). \\\n",
    "                size().reset_index().rename( columns={0:'count'}) ## quando agrupamos por mais de um feature usamos size pra somar. / serve para cortar o codigo\n",
    "\n",
    "aux01.sample(10)"
   ]
  },
  {
   "cell_type": "code",
   "execution_count": null,
   "metadata": {
    "ExecuteTime": {
     "end_time": "2022-09-22T10:38:58.550491Z",
     "start_time": "2022-09-22T10:38:58.536566Z"
    },
    "canvas": {
     "comments": [],
     "componentType": "CodeCell",
     "copiedOriginId": null,
     "diskcache": false,
     "headerColor": "inherit",
     "id": "7f17c207-03c2-4d42-b43f-997c8586c51f",
     "isComponent": false,
     "name": "",
     "parents": []
    },
    "hidden": true,
    "hide_input": false
   },
   "outputs": [
    {
     "data": {
      "text/html": [
       "<div>\n",
       "<style scoped>\n",
       "    .dataframe tbody tr th:only-of-type {\n",
       "        vertical-align: middle;\n",
       "    }\n",
       "\n",
       "    .dataframe tbody tr th {\n",
       "        vertical-align: top;\n",
       "    }\n",
       "\n",
       "    .dataframe thead th {\n",
       "        text-align: right;\n",
       "    }\n",
       "</style>\n",
       "<table border=\"1\" class=\"dataframe\">\n",
       "  <thead>\n",
       "    <tr style=\"text-align: right;\">\n",
       "      <th></th>\n",
       "      <th>year_first_booking</th>\n",
       "      <th>count</th>\n",
       "    </tr>\n",
       "  </thead>\n",
       "  <tbody>\n",
       "    <tr>\n",
       "      <th>0</th>\n",
       "      <td>2010</td>\n",
       "      <td>272</td>\n",
       "    </tr>\n",
       "    <tr>\n",
       "      <th>1</th>\n",
       "      <td>2011</td>\n",
       "      <td>1043</td>\n",
       "    </tr>\n",
       "    <tr>\n",
       "      <th>2</th>\n",
       "      <td>2012</td>\n",
       "      <td>3336</td>\n",
       "    </tr>\n",
       "    <tr>\n",
       "      <th>3</th>\n",
       "      <td>2013</td>\n",
       "      <td>6624</td>\n",
       "    </tr>\n",
       "    <tr>\n",
       "      <th>4</th>\n",
       "      <td>2014</td>\n",
       "      <td>5429</td>\n",
       "    </tr>\n",
       "    <tr>\n",
       "      <th>5</th>\n",
       "      <td>2015</td>\n",
       "      <td>40</td>\n",
       "    </tr>\n",
       "  </tbody>\n",
       "</table>\n",
       "</div>"
      ],
      "text/plain": [
       "   year_first_booking  count\n",
       "0                2010    272\n",
       "1                2011   1043\n",
       "2                2012   3336\n",
       "3                2013   6624\n",
       "4                2014   5429\n",
       "5                2015     40"
      ]
     },
     "execution_count": 174,
     "metadata": {},
     "output_type": "execute_result"
    }
   ],
   "source": [
    "# select only summer\n",
    "aux01 = aux01[( aux01['month_first_booking'].isin( [6, 7, 8, 9] ) ) & (aux01['country_destination'] == 'US')]\n",
    "\n",
    "aux02 = aux01[['year_first_booking', 'count']].groupby( 'year_first_booking' ).sum().reset_index()\n",
    "aux02"
   ]
  },
  {
   "cell_type": "code",
   "execution_count": null,
   "metadata": {
    "ExecuteTime": {
     "end_time": "2022-09-22T10:38:58.565451Z",
     "start_time": "2022-09-22T10:38:58.551488Z"
    },
    "canvas": {
     "comments": [],
     "componentType": "CodeCell",
     "copiedOriginId": null,
     "diskcache": false,
     "headerColor": "inherit",
     "id": "2879f5d9-2e9c-4617-9157-eb584ca95ddb",
     "isComponent": false,
     "name": "",
     "parents": []
    },
    "hidden": true,
    "hide_input": false
   },
   "outputs": [
    {
     "data": {
      "text/html": [
       "<div>\n",
       "<style scoped>\n",
       "    .dataframe tbody tr th:only-of-type {\n",
       "        vertical-align: middle;\n",
       "    }\n",
       "\n",
       "    .dataframe tbody tr th {\n",
       "        vertical-align: top;\n",
       "    }\n",
       "\n",
       "    .dataframe thead th {\n",
       "        text-align: right;\n",
       "    }\n",
       "</style>\n",
       "<table border=\"1\" class=\"dataframe\">\n",
       "  <thead>\n",
       "    <tr style=\"text-align: right;\">\n",
       "      <th></th>\n",
       "      <th>year_first_booking</th>\n",
       "      <th>count</th>\n",
       "      <th>percent</th>\n",
       "    </tr>\n",
       "  </thead>\n",
       "  <tbody>\n",
       "    <tr>\n",
       "      <th>0</th>\n",
       "      <td>2010</td>\n",
       "      <td>272</td>\n",
       "      <td>NaN</td>\n",
       "    </tr>\n",
       "    <tr>\n",
       "      <th>1</th>\n",
       "      <td>2011</td>\n",
       "      <td>1043</td>\n",
       "      <td>2.834559</td>\n",
       "    </tr>\n",
       "    <tr>\n",
       "      <th>2</th>\n",
       "      <td>2012</td>\n",
       "      <td>3336</td>\n",
       "      <td>2.198466</td>\n",
       "    </tr>\n",
       "    <tr>\n",
       "      <th>3</th>\n",
       "      <td>2013</td>\n",
       "      <td>6624</td>\n",
       "      <td>0.985612</td>\n",
       "    </tr>\n",
       "    <tr>\n",
       "      <th>4</th>\n",
       "      <td>2014</td>\n",
       "      <td>5429</td>\n",
       "      <td>-0.180405</td>\n",
       "    </tr>\n",
       "    <tr>\n",
       "      <th>5</th>\n",
       "      <td>2015</td>\n",
       "      <td>40</td>\n",
       "      <td>-0.992632</td>\n",
       "    </tr>\n",
       "  </tbody>\n",
       "</table>\n",
       "</div>"
      ],
      "text/plain": [
       "   year_first_booking  count   percent\n",
       "0                2010    272       NaN\n",
       "1                2011   1043  2.834559\n",
       "2                2012   3336  2.198466\n",
       "3                2013   6624  0.985612\n",
       "4                2014   5429 -0.180405\n",
       "5                2015     40 -0.992632"
      ]
     },
     "execution_count": 175,
     "metadata": {},
     "output_type": "execute_result"
    }
   ],
   "source": [
    "aux02['percent'] = aux02['count'].pct_change()\n",
    "aux02"
   ]
  },
  {
   "cell_type": "code",
   "execution_count": null,
   "metadata": {
    "ExecuteTime": {
     "end_time": "2022-09-22T10:38:58.816274Z",
     "start_time": "2022-09-22T10:38:58.566448Z"
    },
    "canvas": {
     "comments": [],
     "componentType": "CodeCell",
     "copiedOriginId": null,
     "diskcache": false,
     "headerColor": "inherit",
     "id": "ced348a5-a0da-4ee8-90ac-1fe3f8348097",
     "isComponent": false,
     "name": "",
     "parents": []
    },
    "hidden": true,
    "hide_input": false
   },
   "outputs": [
    {
     "data": {
      "image/png": "[encoded data removed]",
      "text/plain": [
       "<Figure size 2000x1200 with 1 Axes>"
      ]
     },
     "metadata": {},
     "output_type": "display_data"
    }
   ],
   "source": [
    "aux02['percent'] = 100*aux02['count'].pct_change().fillna( 0 )\n",
    "\n",
    "\n",
    "plt.figure( figsize=(20,12))\n",
    "sns.lineplot( x='year_first_booking', y='percent', data=aux02);"
   ]
  },
  {
   "cell_type": "markdown",
   "metadata": {
    "canvas": {
     "comments": [],
     "componentType": "CodeCell",
     "copiedOriginId": null,
     "diskcache": false,
     "headerColor": "inherit",
     "id": "b3bb4316-29a3-4fc5-9708-fcfdeb5255bb",
     "isComponent": false,
     "name": "",
     "parents": []
    },
    "hidden": true
   },
   "source": [
    "### **H04.** Usuários do sexo feminino fazem 10% mais reservas para países fora dos USA."
   ]
  },
  {
   "cell_type": "code",
   "execution_count": null,
   "metadata": {
    "canvas": {
     "comments": [],
     "componentType": "CodeCell",
     "copiedOriginId": null,
     "diskcache": false,
     "headerColor": "inherit",
     "id": "69e06392-4308-417e-860a-e0db105118ef",
     "isComponent": false,
     "name": "",
     "parents": []
    },
    "hidden": true
   },
   "outputs": [],
   "source": []
  },
  {
   "cell_type": "markdown",
   "metadata": {
    "canvas": {
     "comments": [],
     "componentType": "CodeCell",
     "copiedOriginId": null,
     "diskcache": false,
     "headerColor": "inherit",
     "id": "669eefa8-562c-4694-b824-26161f15697b",
     "isComponent": false,
     "name": "",
     "parents": []
    },
    "hidden": true
   },
   "source": [
    "### **H05.** O canal de Marketing Google representa 40% das reservas para países fora dos USA."
   ]
  },
  {
   "cell_type": "markdown",
   "metadata": {
    "canvas": {
     "comments": [],
     "componentType": "CodeCell",
     "copiedOriginId": null,
     "diskcache": false,
     "headerColor": "inherit",
     "id": "39144bee-b135-4f9f-882d-7829992bc558",
     "isComponent": false,
     "name": "",
     "parents": []
    },
    "hidden": true
   },
   "source": [
    "### **H06.** O destino dos USA representam mais de 20% em todos os canais."
   ]
  },
  {
   "cell_type": "markdown",
   "metadata": {
    "canvas": {
     "comments": [],
     "componentType": "CodeCell",
     "copiedOriginId": null,
     "diskcache": false,
     "headerColor": "inherit",
     "id": "33963a48-f950-45d5-a0ea-6e8b41f00c61",
     "isComponent": false,
     "name": "",
     "parents": []
    },
    "hidden": true
   },
   "source": [
    "### **H07.** A idade média das pessoas é de 35 anos em todos os destinos."
   ]
  },
  {
   "cell_type": "markdown",
   "metadata": {
    "canvas": {
     "comments": [],
     "componentType": "CodeCell",
     "copiedOriginId": null,
     "diskcache": false,
     "headerColor": "inherit",
     "id": "5ccbd52c-121b-4293-a563-b811a86603f3",
     "isComponent": false,
     "name": "",
     "parents": []
    },
    "hidden": true
   },
   "source": [
    "### **H08.** A porcentagem de usuários que usam o site na lingua inglês-americano para reservar acomodações em qualquer destino é maior que 90%"
   ]
  },
  {
   "cell_type": "markdown",
   "metadata": {
    "canvas": {
     "comments": [],
     "componentType": "CodeCell",
     "copiedOriginId": null,
     "diskcache": false,
     "headerColor": "inherit",
     "id": "ecdfa09f-0e81-4bee-94f6-2476c3b37ed3",
     "isComponent": false,
     "name": "",
     "parents": []
    },
    "hidden": true
   },
   "source": [
    "### **H09.** O número de reservas do Airbnb é crescente ou decrescente ao longo dos anos?"
   ]
  },
  {
   "cell_type": "markdown",
   "metadata": {
    "canvas": {
     "comments": [],
     "componentType": "CodeCell",
     "copiedOriginId": null,
     "diskcache": false,
     "headerColor": "inherit",
     "id": "bae26ebc-53ad-4dfb-8b5f-2d812bde1406",
     "isComponent": false,
     "name": "",
     "parents": []
    },
    "hidden": true
   },
   "source": [
    "### **H10.** O número de reservas do Airbnb é crescente ao longo dos anos."
   ]
  },
  {
   "cell_type": "markdown",
   "metadata": {
    "ExecuteTime": {
     "end_time": "2020-10-20T10:59:53.218703Z",
     "start_time": "2020-10-20T10:59:53.216604Z"
    },
    "canvas": {
     "comments": [],
     "componentType": "CodeCell",
     "copiedOriginId": null,
     "diskcache": false,
     "headerColor": "inherit",
     "id": "560d55b0-4025-4919-bf63-fc23bf581aa6",
     "isComponent": false,
     "name": "",
     "parents": []
    },
    "hidden": true
   },
   "source": [
    "## 5.2. Variables Impact ( Balanced Dataset )"
   ]
  },
  {
   "cell_type": "code",
   "execution_count": null,
   "metadata": {
    "ExecuteTime": {
     "end_time": "2022-09-22T10:38:58.832232Z",
     "start_time": "2022-09-22T10:38:58.817271Z"
    },
    "canvas": {
     "comments": [],
     "componentType": "CodeCell",
     "copiedOriginId": null,
     "diskcache": false,
     "headerColor": "inherit",
     "id": "d362d9ce-f960-4fbc-a422-e37a845e4aa3",
     "isComponent": false,
     "name": "",
     "parents": []
    },
    "hidden": true
   },
   "outputs": [],
   "source": [
    "df52 = df4.copy()"
   ]
  },
  {
   "cell_type": "markdown",
   "metadata": {
    "ExecuteTime": {
     "end_time": "2020-10-20T10:59:53.218703Z",
     "start_time": "2020-10-20T10:59:53.216604Z"
    },
    "canvas": {
     "comments": [],
     "componentType": "CodeCell",
     "copiedOriginId": null,
     "diskcache": false,
     "headerColor": "inherit",
     "id": "f5cebc43-c5af-433c-965e-5f6543b4216f",
     "isComponent": false,
     "name": "",
     "parents": []
    },
    "hidden": true
   },
   "source": [
    "### 5.2.1. Univariate Analysis"
   ]
  },
  {
   "cell_type": "code",
   "execution_count": null,
   "metadata": {
    "ExecuteTime": {
     "end_time": "2022-09-22T10:40:28.200753Z",
     "start_time": "2022-09-22T10:38:58.833228Z"
    },
    "canvas": {
     "comments": [],
     "componentType": "CodeCell",
     "copiedOriginId": null,
     "diskcache": false,
     "headerColor": "inherit",
     "id": "9b2ca49e-26cf-48f0-afb9-0d44a8fc8c37",
     "isComponent": false,
     "name": "",
     "parents": []
    },
    "hidden": true
   },
   "outputs": [
    {
     "data": {
      "application/json": {
       "ascii": false,
       "bar_format": null,
       "colour": null,
       "elapsed": 0.014988422393798828,
       "initial": 0,
       "n": 0,
       "ncols": null,
       "nrows": null,
       "postfix": null,
       "prefix": "Summarize dataset",
       "rate": null,
       "total": 5,
       "unit": "it",
       "unit_divisor": 1000,
       "unit_scale": false
      },
      "application/vnd.jupyter.widget-view+json": {
       "model_id": "65bca41a7e7b4d63b8665175528655b8",
       "version_major": 2,
       "version_minor": 0
      },
      "text/plain": [
       "Summarize dataset:   0%|          | 0/5 [00:00<?, ?it/s]"
      ]
     },
     "metadata": {},
     "output_type": "display_data"
    },
    {
     "name": "stderr",
     "output_type": "stream",
     "text": [
      "c:\\Users\\Utente77\\Anaconda3\\envs\\classificazione\\lib\\site-packages\\scipy\\stats\\_stats_py.py:4868: RuntimeWarning: overflow encountered in longlong_scalars\n",
      "  (2 * xtie * ytie) / m + x0 * y0 / (9 * m * (size - 2)))\n"
     ]
    },
    {
     "data": {
      "application/json": {
       "ascii": false,
       "bar_format": null,
       "colour": null,
       "elapsed": 0.013962984085083008,
       "initial": 0,
       "n": 0,
       "ncols": null,
       "nrows": null,
       "postfix": null,
       "prefix": "Generate report structure",
       "rate": null,
       "total": 1,
       "unit": "it",
       "unit_divisor": 1000,
       "unit_scale": false
      },
      "application/vnd.jupyter.widget-view+json": {
       "model_id": "12717bcad3e744b48c1bad2904b0f26d",
       "version_major": 2,
       "version_minor": 0
      },
      "text/plain": [
       "Generate report structure:   0%|          | 0/1 [00:00<?, ?it/s]"
      ]
     },
     "metadata": {},
     "output_type": "display_data"
    },
    {
     "data": {
      "application/json": {
       "ascii": false,
       "bar_format": null,
       "colour": null,
       "elapsed": 0.01498866081237793,
       "initial": 0,
       "n": 0,
       "ncols": null,
       "nrows": null,
       "postfix": null,
       "prefix": "Render HTML",
       "rate": null,
       "total": 1,
       "unit": "it",
       "unit_divisor": 1000,
       "unit_scale": false
      },
      "application/vnd.jupyter.widget-view+json": {
       "model_id": "8f5a29888a8a43e1bc60a17c77440aee",
       "version_major": 2,
       "version_minor": 0
      },
      "text/plain": [
       "Render HTML:   0%|          | 0/1 [00:00<?, ?it/s]"
      ]
     },
     "metadata": {},
     "output_type": "display_data"
    },
    {
     "data": {
      "application/json": {
       "ascii": false,
       "bar_format": null,
       "colour": null,
       "elapsed": 0.012929201126098633,
       "initial": 0,
       "n": 0,
       "ncols": null,
       "nrows": null,
       "postfix": null,
       "prefix": "Export report to file",
       "rate": null,
       "total": 1,
       "unit": "it",
       "unit_divisor": 1000,
       "unit_scale": false
      },
      "application/vnd.jupyter.widget-view+json": {
       "model_id": "20a8b4d97fd5445ebe62bfbbfaf0e945",
       "version_major": 2,
       "version_minor": 0
      },
      "text/plain": [
       "Export report to file:   0%|          | 0/1 [00:00<?, ?it/s]"
      ]
     },
     "metadata": {},
     "output_type": "display_data"
    }
   ],
   "source": [
    "profile = ProfileReport( df52, title='Airbnb Booking' )\n",
    "#profile.to_notebook_iframe()\n",
    "profile.to_file( output_file='airbnb_booking_statistics_after_cleaning.html' )"
   ]
  },
  {
   "cell_type": "code",
   "execution_count": null,
   "metadata": {
    "ExecuteTime": {
     "end_time": "2022-09-22T10:40:28.216682Z",
     "start_time": "2022-09-22T10:40:28.201751Z"
    },
    "canvas": {
     "comments": [],
     "componentType": "CodeCell",
     "copiedOriginId": null,
     "diskcache": false,
     "headerColor": "inherit",
     "id": "0b14685c-f129-4637-9397-57e0ea7ef6cb",
     "isComponent": false,
     "name": "",
     "parents": []
    },
    "hidden": true
   },
   "outputs": [],
   "source": [
    "# ===================== High Correlation  ===================== \n",
    "# days_from_first_active_until_booking x days_from_account_created_until_first_booking\n",
    "# Remove: days_from_first_active_until_booking\n",
    "\n",
    "# year_first_active x year_account_created\n",
    "# Remove: year_first_active\n",
    "\n",
    "# month_first_active x month_account_created\n",
    "# Remove: month_first_active\n",
    "\n",
    "# day_first_active x day_account_created\n",
    "# Remove: day_first_active\n",
    "\n",
    "# day_of_week_first_active x day_of_week_account_created\n",
    "# Remove: day_of_week_first_active\n",
    "\n",
    "# week_of_year_first_active x week_of_year_account_created\n",
    "# Remove: week_of_year_first_active\n",
    "\n",
    "# month_first_booking x week_of_year_first_booking\n",
    "# Remove: month_first_booking\n",
    "\n",
    "# month_account_created x week_of_year_account_created\n",
    "# Remove: month_account_created\n",
    "\n",
    "# year_first_booking x year_account_created\n",
    "# Remove: year_first_booking\n",
    "\n",
    "# week_of_year_first_booking x week_of_year_account_created\n",
    "# Remove: week_of_year_first_booking\n",
    "\n",
    "# affiliate_channel x affiliate_provider\n",
    "# Remove: affiliate_provider\n",
    "\n",
    "# first_device_type x first_browser\n",
    "# Remove: first_browser\n",
    "\n",
    "#first_device_type x sigup_app\n",
    "#Remove: first_device_type"
   ]
  },
  {
   "cell_type": "markdown",
   "metadata": {
    "ExecuteTime": {
     "end_time": "2020-10-20T10:59:53.218703Z",
     "start_time": "2020-10-20T10:59:53.216604Z"
    },
    "canvas": {
     "comments": [],
     "componentType": "CodeCell",
     "copiedOriginId": null,
     "diskcache": false,
     "headerColor": "inherit",
     "id": "840597f0-266a-4b5c-8e8e-9225de172b86",
     "isComponent": false,
     "name": "",
     "parents": []
    },
    "hidden": true,
    "jp-MarkdownHeadingCollapsed": true,
    "tags": []
   },
   "source": [
    "### 5.2.2. Bivariate Analysis"
   ]
  },
  {
   "cell_type": "markdown",
   "metadata": {
    "ExecuteTime": {
     "end_time": "2020-10-20T10:59:53.218703Z",
     "start_time": "2020-10-20T10:59:53.216604Z"
    },
    "canvas": {
     "comments": [],
     "componentType": "CodeCell",
     "copiedOriginId": null,
     "diskcache": false,
     "headerColor": "inherit",
     "id": "8cf7152f-c090-4578-acac-5ac5e7c19b9d",
     "isComponent": false,
     "name": "",
     "parents": []
    },
    "hidden": true,
    "tags": []
   },
   "source": [
    "### 5.2.3. Multivariate Analysis"
   ]
  },
  {
   "cell_type": "code",
   "execution_count": null,
   "metadata": {
    "ExecuteTime": {
     "end_time": "2022-09-22T10:40:28.232639Z",
     "start_time": "2022-09-22T10:40:28.217719Z"
    },
    "canvas": {
     "comments": [],
     "componentType": "CodeCell",
     "copiedOriginId": null,
     "diskcache": false,
     "headerColor": "inherit",
     "id": "ee2a2e5d-1558-4cc3-b384-45a64737a54c",
     "isComponent": false,
     "name": "",
     "parents": []
    },
    "hidden": true
   },
   "outputs": [],
   "source": [
    "cols = ['days_from_first_active_until_booking',  'year_first_active',  'month_first_active', 'day_first_active',\n",
    "        'day_of_week_first_active', 'week_of_year_first_active', 'month_first_booking', 'month_account_created',\n",
    "        'year_first_booking', 'week_of_year_first_booking', 'affiliate_provider',\n",
    "        'first_browser', 'first_device_type', 'language'] # high correlation"
   ]
  },
  {
   "cell_type": "markdown",
   "metadata": {
    "canvas": {
     "comments": [],
     "componentType": "CodeCell",
     "copiedOriginId": null,
     "diskcache": false,
     "headerColor": "inherit",
     "id": "cf0d34ab-46eb-4181-b9f1-a78ac9f78eb6",
     "isComponent": false,
     "name": "",
     "parents": []
    },
    "heading_collapsed": true
   },
   "source": [
    "# Data Preparation"
   ]
  },
  {
   "cell_type": "code",
   "execution_count": null,
   "metadata": {
    "ExecuteTime": {
     "end_time": "2022-09-22T10:40:28.371756Z",
     "start_time": "2022-09-22T10:40:28.233637Z"
    },
    "canvas": {
     "comments": [],
     "componentType": "CodeCell",
     "copiedOriginId": null,
     "diskcache": false,
     "headerColor": "inherit",
     "id": "69ebee88-7771-4eaf-a819-ec5adc3a804b",
     "isComponent": false,
     "name": "",
     "parents": []
    },
    "hidden": true
   },
   "outputs": [
    {
     "data": {
      "text/plain": [
       "(546605, 16)"
      ]
     },
     "execution_count": 181,
     "metadata": {},
     "output_type": "execute_result"
    }
   ],
   "source": [
    "df6 = df46.drop( cols, axis=1 )\n",
    "df6.shape"
   ]
  },
  {
   "cell_type": "code",
   "execution_count": null,
   "metadata": {
    "ExecuteTime": {
     "end_time": "2022-09-22T10:40:28.387821Z",
     "start_time": "2022-09-22T10:40:28.373755Z"
    },
    "canvas": {
     "comments": [],
     "componentType": "CodeCell",
     "copiedOriginId": null,
     "diskcache": false,
     "headerColor": "inherit",
     "id": "93fa5432-16c9-480b-93b3-53be4d09f7e7",
     "isComponent": false,
     "name": "",
     "parents": []
    },
    "hidden": true
   },
   "outputs": [
    {
     "data": {
      "text/plain": [
       "signup_flow                                       int64\n",
       "days_from_first_active_until_account_created      int64\n",
       "days_from_account_created_until_first_booking     int64\n",
       "day_first_booking                                 int64\n",
       "day_of_week_first_booking                         int64\n",
       "year_account_created                              int64\n",
       "day_account_created                               int64\n",
       "day_of_week_account_created                       int64\n",
       "week_of_year_account_created                      int64\n",
       "gender                                           object\n",
       "age                                              object\n",
       "signup_method                                    object\n",
       "affiliate_channel                                object\n",
       "first_affiliate_tracked                          object\n",
       "signup_app                                       object\n",
       "country_destination                              object\n",
       "dtype: object"
      ]
     },
     "execution_count": 182,
     "metadata": {},
     "output_type": "execute_result"
    }
   ],
   "source": [
    "df6.dtypes"
   ]
  },
  {
   "cell_type": "markdown",
   "metadata": {
    "canvas": {
     "comments": [],
     "componentType": "CodeCell",
     "copiedOriginId": null,
     "diskcache": false,
     "headerColor": "inherit",
     "id": "72f1cb66-b9fd-4723-9235-9c588485ff53",
     "isComponent": false,
     "name": "",
     "parents": []
    },
    "hidden": true
   },
   "source": [
    "## 6.1. Rescaling"
   ]
  },
  {
   "cell_type": "code",
   "execution_count": null,
   "metadata": {
    "ExecuteTime": {
     "end_time": "2022-09-22T10:40:28.403784Z",
     "start_time": "2022-09-22T10:40:28.389817Z"
    },
    "canvas": {
     "comments": [],
     "componentType": "CodeCell",
     "copiedOriginId": null,
     "diskcache": false,
     "headerColor": "inherit",
     "id": "aa052cd5-183f-4567-bfef-a4202574ddcb",
     "isComponent": false,
     "name": "",
     "parents": []
    },
    "hidden": true
   },
   "outputs": [],
   "source": [
    "ss = pp.StandardScaler()\n",
    "rs = pp.RobustScaler()\n",
    "mms = pp.MinMaxScaler()"
   ]
  },
  {
   "cell_type": "code",
   "execution_count": null,
   "metadata": {
    "ExecuteTime": {
     "end_time": "2022-09-22T10:40:28.626604Z",
     "start_time": "2022-09-22T10:40:28.404774Z"
    },
    "canvas": {
     "comments": [],
     "componentType": "CodeCell",
     "copiedOriginId": null,
     "diskcache": false,
     "headerColor": "inherit",
     "id": "f9131eaf-a7dc-412a-8a0e-c755a676b5fe",
     "isComponent": false,
     "name": "",
     "parents": []
    },
    "hidden": true
   },
   "outputs": [],
   "source": [
    "# age - Standardization\n",
    "df6['age'] = ss.fit_transform( df6[['age']].values )\n",
    "\n",
    "# signup_flow - Robust Scaler\n",
    "df6['signup_flow'] = rs.fit_transform( df6[['signup_flow']].values )\n",
    "\n",
    "# days_from_first_active_until_account_created - Robust Scaler\n",
    "df6['days_from_first_active_until_account_created'] = rs.fit_transform( df6[['days_from_first_active_until_account_created']].values )\n",
    "\n",
    "# days_from_account_created_until_first_booking - Robust Scaler\n",
    "df6['days_from_account_created_until_first_booking'] = rs.fit_transform( df6[['days_from_account_created_until_first_booking']].values )\n",
    "\n",
    "# year_account_created - MinMax Scaler\n",
    "df6['year_account_created'] = mms.fit_transform( df6[['year_account_created']].values )"
   ]
  },
  {
   "cell_type": "markdown",
   "metadata": {
    "canvas": {
     "comments": [],
     "componentType": "CodeCell",
     "copiedOriginId": null,
     "diskcache": false,
     "headerColor": "inherit",
     "id": "5d60c177-5cbe-4f18-b9ee-7b7c08223331",
     "isComponent": false,
     "name": "",
     "parents": []
    },
    "hidden": true
   },
   "source": [
    "## 6.2. Encoding"
   ]
  },
  {
   "cell_type": "code",
   "execution_count": null,
   "metadata": {
    "ExecuteTime": {
     "end_time": "2022-09-22T10:40:28.642630Z",
     "start_time": "2022-09-22T10:40:28.627659Z"
    },
    "canvas": {
     "comments": [],
     "componentType": "CodeCell",
     "copiedOriginId": null,
     "diskcache": false,
     "headerColor": "inherit",
     "id": "b0132927-3d44-4347-b43a-4ef0405068c9",
     "isComponent": false,
     "name": "",
     "parents": []
    },
    "hidden": true
   },
   "outputs": [
    {
     "name": "stderr",
     "output_type": "stream",
     "text": [
      "c:\\Users\\Utente77\\Anaconda3\\envs\\classificazione\\lib\\site-packages\\category_encoders\\target_encoder.py:92: FutureWarning: Default parameter min_samples_leaf will change in version 2.6.See https://github.com/scikit-learn-contrib/category_encoders/issues/327\n",
      "  warnings.warn(\"Default parameter min_samples_leaf will change in version 2.6.\"\n",
      "c:\\Users\\Utente77\\Anaconda3\\envs\\classificazione\\lib\\site-packages\\category_encoders\\target_encoder.py:97: FutureWarning: Default parameter smoothing will change in version 2.6.See https://github.com/scikit-learn-contrib/category_encoders/issues/327\n",
      "  warnings.warn(\"Default parameter smoothing will change in version 2.6.\"\n"
     ]
    }
   ],
   "source": [
    "te = TargetEncoder()"
   ]
  },
  {
   "cell_type": "code",
   "execution_count": null,
   "metadata": {
    "ExecuteTime": {
     "end_time": "2022-09-22T10:40:30.077323Z",
     "start_time": "2022-09-22T10:40:28.643639Z"
    },
    "canvas": {
     "comments": [],
     "componentType": "CodeCell",
     "copiedOriginId": null,
     "diskcache": false,
     "headerColor": "inherit",
     "id": "3640dc12-0a3c-4ae2-9f3d-8fe2e9bb8306",
     "isComponent": false,
     "name": "",
     "parents": []
    },
    "hidden": true
   },
   "outputs": [],
   "source": [
    "# gender - One Hot Encoder\n",
    "df6 = pd.get_dummies( df6, prefix=['gender'], columns=['gender'] )\n",
    "\n",
    "# signup_method - One Hot Encoder\n",
    "df6 = pd.get_dummies( df6, prefix=['signup_method'], columns=['signup_method'] )\n",
    "\n",
    "# signup_app - One Hot Encoder\n",
    "df6 = pd.get_dummies( df6, prefix=['signup_app'], columns=['signup_app'] )\n",
    "\n",
    "# affiliate_channel - Target Encoder\n",
    "c = {'NDF':0, 'US':1, 'other':2, 'CA':3, 'FR':4, 'IT':5, 'ES':6, 'GB':7, 'NL':8, 'DE':9, 'AU':10, 'PT':11}\n",
    "df6['affiliate_channel'] = te.fit_transform( df6[['affiliate_channel']].values, df6['country_destination'].map( c ) )\n",
    "\n",
    "# first_affiliate_tracked - Target Encoder\n",
    "df6['first_affiliate_tracked'] = te.fit_transform( df6[['first_affiliate_tracked']].values, df6['country_destination'].map( c ) )"
   ]
  },
  {
   "cell_type": "markdown",
   "metadata": {
    "canvas": {
     "comments": [],
     "componentType": "CodeCell",
     "copiedOriginId": null,
     "diskcache": false,
     "headerColor": "inherit",
     "id": "8c0e7dfb-788e-473e-87cd-17bbdd639d30",
     "isComponent": false,
     "name": "",
     "parents": []
    },
    "hidden": true
   },
   "source": [
    "## 6.3. Transformation"
   ]
  },
  {
   "cell_type": "code",
   "execution_count": null,
   "metadata": {
    "ExecuteTime": {
     "end_time": "2022-09-22T10:40:34.313498Z",
     "start_time": "2022-09-22T10:40:30.079313Z"
    },
    "canvas": {
     "comments": [],
     "componentType": "CodeCell",
     "copiedOriginId": null,
     "diskcache": false,
     "headerColor": "inherit",
     "id": "fe79a2ff-576e-4d2d-a48e-05dec836dba8",
     "isComponent": false,
     "name": "",
     "parents": []
    },
    "hidden": true
   },
   "outputs": [],
   "source": [
    "# week_of_year_account_created\n",
    "df6['week_of_year_account_created_sin'] = df6['week_of_year_account_created'].apply( lambda x: np.sin( x * (2*np.pi/52 ) ) )\n",
    "df6['week_of_year_account_created_cos'] = df6['week_of_year_account_created'].apply( lambda x: np.cos( x * (2*np.pi/52 ) ) )\n",
    "\n",
    "# day_of_week_first_booking\n",
    "df6['day_of_week_first_booking_sin'] = df6['day_of_week_first_booking'].apply( lambda x: np.sin( x * (2*np.pi/7 ) ) )\n",
    "df6['day_of_week_first_booking_cos'] = df6['day_of_week_first_booking'].apply( lambda x: np.cos( x * (2*np.pi/7 ) ) )\n",
    "\n",
    "# day_account_created\n",
    "df6['day_account_created_sin'] = df6['day_account_created'].apply( lambda x: np.sin( x * (2*np.pi/31 ) ) )\n",
    "df6['day_account_created_cos'] = df6['day_account_created'].apply( lambda x: np.cos( x * (2*np.pi/31 ) ) )\n",
    "\n",
    "# day_of_week_account_created\n",
    "df6['day_of_week_account_created_sin'] = df6['day_of_week_account_created'].apply( lambda x: np.sin( x * (2*np.pi/7 ) ) )\n",
    "df6['day_of_week_account_created_cos'] = df6['day_of_week_account_created'].apply( lambda x: np.cos( x * (2*np.pi/7 ) ) )"
   ]
  },
  {
   "cell_type": "markdown",
   "metadata": {
    "canvas": {
     "comments": [],
     "componentType": "CodeCell",
     "copiedOriginId": null,
     "diskcache": false,
     "headerColor": "inherit",
     "id": "7faabd6d-12e0-4edc-97b6-b4aaf960a7ab",
     "isComponent": false,
     "name": "",
     "parents": []
    }
   },
   "source": [
    "# Feature Selection"
   ]
  },
  {
   "cell_type": "code",
   "execution_count": null,
   "metadata": {
    "ExecuteTime": {
     "end_time": "2022-09-22T11:21:59.282856Z",
     "start_time": "2022-09-22T11:21:59.236989Z"
    },
    "canvas": {
     "comments": [],
     "componentType": "CodeCell",
     "copiedOriginId": null,
     "diskcache": false,
     "headerColor": "inherit",
     "id": "851fb6ce-0b25-4e6c-ba8d-2820fe2468fe",
     "isComponent": false,
     "name": "",
     "parents": []
    }
   },
   "outputs": [],
   "source": [
    "df7 = df6.copy()"
   ]
  },
  {
   "cell_type": "code",
   "execution_count": null,
   "metadata": {
    "ExecuteTime": {
     "end_time": "2022-09-22T11:22:48.666299Z",
     "start_time": "2022-09-22T11:22:48.611296Z"
    },
    "canvas": {
     "comments": [],
     "componentType": "CodeCell",
     "copiedOriginId": null,
     "diskcache": false,
     "headerColor": "inherit",
     "id": "e7022eba-f47f-47e0-9810-a6e02b3e7af8",
     "isComponent": false,
     "name": "",
     "parents": []
    }
   },
   "outputs": [],
   "source": [
    "def new_func():\n",
    "    X = df7.drop( 'country_destination', axis=1 )\n",
    "    y = df7['country_destination'].copy()\n",
    "\n",
    "new_func()"
   ]
  },
  {
   "cell_type": "code",
   "execution_count": null,
   "metadata": {
    "ExecuteTime": {
     "end_time": "2022-09-22T11:22:49.092732Z",
     "start_time": "2022-09-22T11:22:48.895731Z"
    },
    "canvas": {
     "comments": [],
     "componentType": "CodeCell",
     "copiedOriginId": null,
     "diskcache": false,
     "headerColor": "inherit",
     "id": "7ba52b2e-f306-4e79-b593-8e4ccafa2c52",
     "isComponent": false,
     "name": "",
     "parents": []
    }
   },
   "outputs": [
    {
     "data": {
      "text/plain": [
       "(437284, 31)"
      ]
     },
     "execution_count": 226,
     "metadata": {},
     "output_type": "execute_result"
    }
   ],
   "source": [
    "# Split dataset into training and val\n",
    "x_train, x_val, y_train, y_val = ms.train_test_split( X, y, test_size=0.2, random_state=32 )\n",
    "x_train.shape"
   ]
  },
  {
   "cell_type": "markdown",
   "metadata": {},
   "source": [
    "## PCA"
   ]
  },
  {
   "cell_type": "code",
   "execution_count": null,
   "metadata": {
    "ExecuteTime": {
     "end_time": "2022-09-22T11:22:51.560239Z",
     "start_time": "2022-09-22T11:22:50.643418Z"
    }
   },
   "outputs": [],
   "source": [
    "#standardization ( centralizao e rescala)\n",
    "ss = pp.StandardScaler()\n",
    "x_train_scaler = ss.fit_transform( x_train )\n",
    "x_val_scaler = ss.transform( x_val )\n",
    "\n",
    "# define the number of eigenvectors ( autovetor ) + eigenvalues ( autovalores )\n",
    "pca = d.PCA().fit(x_train_scaler )\n",
    "k = np.argmax( np.cumsum( pca.explained_variance_ratio_ ) > 0.97 )"
   ]
  },
  {
   "cell_type": "code",
   "execution_count": null,
   "metadata": {
    "ExecuteTime": {
     "end_time": "2022-09-22T11:22:51.951673Z",
     "start_time": "2022-09-22T11:22:51.840963Z"
    },
    "run_control": {
     "marked": true
    },
    "scrolled": true
   },
   "outputs": [
    {
     "data": {
      "text/plain": [
       "<matplotlib.lines.Line2D at 0x19cda5660d0>"
      ]
     },
     "execution_count": 217,
     "metadata": {},
     "output_type": "execute_result"
    },
    {
     "data": {
      "image/png": "[encoded data removed]",
      "text/plain": [
       "<Figure size 800x300 with 1 Axes>"
      ]
     },
     "metadata": {},
     "output_type": "display_data"
    }
   ],
   "source": [
    "plt.figure(figsize=(8,3) )\n",
    "plt.plot( np.cumsum( pca.explained_variance_ratio_ ) )\n",
    "plt.axvline( 22, color='red', linestyle='--')\n",
    "plt.axhline( 0.97, color='red', linestyle='--')"
   ]
  },
  {
   "cell_type": "code",
   "execution_count": null,
   "metadata": {
    "ExecuteTime": {
     "end_time": "2022-09-22T11:22:55.115148Z",
     "start_time": "2022-09-22T11:22:52.739517Z"
    },
    "tags": []
   },
   "outputs": [
    {
     "data": {
      "text/plain": [
       "22"
      ]
     },
     "execution_count": 218,
     "metadata": {},
     "output_type": "execute_result"
    }
   ],
   "source": [
    "# change data to new space\n",
    "pca = d.PCA( k ).fit( x_train_scaler )\n",
    "\n",
    "x_train = pca.transform( x_train_scaler )\n",
    "x_val = pca.transform( x_val_scaler )\n",
    "k\n"
   ]
  },
  {
   "cell_type": "markdown",
   "metadata": {
    "canvas": {
     "comments": [],
     "componentType": "CodeCell",
     "copiedOriginId": null,
     "diskcache": false,
     "headerColor": "inherit",
     "id": "b03c6271-04bf-4418-849a-b32519001c61",
     "isComponent": false,
     "name": "",
     "parents": []
    },
    "heading_collapsed": true
   },
   "source": [
    "# Machine Learning Model"
   ]
  },
  {
   "cell_type": "markdown",
   "metadata": {
    "canvas": {
     "comments": [],
     "componentType": "CodeCell",
     "copiedOriginId": null,
     "diskcache": false,
     "headerColor": "inherit",
     "id": "923d4e95-6d36-4819-a477-bc3ded716f69",
     "isComponent": false,
     "name": "",
     "parents": []
    },
    "hidden": true
   },
   "source": [
    "## Baseline Model"
   ]
  },
  {
   "cell_type": "code",
   "execution_count": null,
   "metadata": {
    "ExecuteTime": {
     "end_time": "2022-09-16T10:03:55.038440Z",
     "start_time": "2022-09-16T10:03:54.993886Z"
    },
    "canvas": {
     "comments": [],
     "componentType": "CodeCell",
     "copiedOriginId": null,
     "diskcache": false,
     "headerColor": "inherit",
     "id": "d8dd509f-405d-4235-891c-d4ec89d48767",
     "isComponent": false,
     "name": "",
     "parents": []
    },
    "hidden": true
   },
   "outputs": [],
   "source": [
    "def new_func():\n",
    "    country_destination_list = df1['country_destination'].drop_duplicates().sort_values().tolist()\n",
    "    k_num = y_val.shape[0]\n",
    "    country_destination_weights = df1['country_destination'].value_counts( normalize=True ).sort_index().tolist()\n",
    "\n",
    "    yhat_random = random.choices( population=country_destination_list,  \n",
    "                              weights=country_destination_weights,\n",
    "                              k=k_num )\n",
    "\n",
    "new_func()"
   ]
  },
  {
   "cell_type": "markdown",
   "metadata": {
    "canvas": {
     "comments": [],
     "componentType": "CodeCell",
     "copiedOriginId": null,
     "diskcache": false,
     "headerColor": "inherit",
     "id": "e793624b-f9ce-4566-9b85-65b90517cc90",
     "isComponent": false,
     "name": "",
     "parents": []
    },
    "hidden": true
   },
   "source": [
    "### Baseline Model Performance"
   ]
  },
  {
   "cell_type": "code",
   "execution_count": null,
   "metadata": {
    "ExecuteTime": {
     "end_time": "2022-09-16T10:03:59.267706Z",
     "start_time": "2022-09-16T10:03:55.040341Z"
    },
    "canvas": {
     "comments": [],
     "componentType": "CodeCell",
     "copiedOriginId": null,
     "diskcache": false,
     "headerColor": "inherit",
     "id": "93ef2a93-2122-44f5-a71b-ddecfdbbaee7",
     "isComponent": false,
     "name": "",
     "parents": []
    },
    "hidden": true
   },
   "outputs": [
    {
     "name": "stdout",
     "output_type": "stream",
     "text": [
      "Accuracy: 0.0914188490774874\n",
      "Balanced Accuracy:0.08287080593748626\n",
      "Kappa Score: -0.000467775223891298\n",
      "              precision    recall  f1-score   support\n",
      "\n",
      "          AU       0.07      0.00      0.01      7338\n",
      "          CA       0.07      0.01      0.01      8519\n",
      "          DE       0.07      0.01      0.01      7487\n",
      "          ES       0.09      0.01      0.03     10096\n",
      "          FR       0.08      0.03      0.04      8776\n",
      "          GB       0.08      0.01      0.02     10551\n",
      "          IT       0.07      0.01      0.02      8037\n",
      "         NDF       0.10      0.45      0.16     10888\n",
      "          NL       0.08      0.00      0.01      9532\n",
      "          PT       0.08      0.00      0.00      9621\n",
      "          US       0.09      0.39      0.14      9510\n",
      "       other       0.08      0.06      0.07      8966\n",
      "\n",
      "    accuracy                           0.09    109321\n",
      "   macro avg       0.08      0.08      0.04    109321\n",
      "weighted avg       0.08      0.09      0.05    109321\n",
      "\n"
     ]
    },
    {
     "data": {
      "text/plain": [
       "<AxesSubplot:title={'center':'Confusion Matrix'}, xlabel='Predicted label', ylabel='True label'>"
      ]
     },
     "execution_count": 245,
     "metadata": {},
     "output_type": "execute_result"
    },
    {
     "data": {
      "image/png": "[encoded data removed]",
      "text/plain": [
       "<Figure size 1200x1200 with 2 Axes>"
      ]
     },
     "metadata": {},
     "output_type": "display_data"
    }
   ],
   "source": [
    "# Accuracy\n",
    "acc_random = m.accuracy_score( y_val, yhat_random )\n",
    "print( 'Accuracy: {}'.format( acc_random ) )\n",
    "\n",
    "# Balanced Accuray\n",
    "balanced_acc_random = m.balanced_accuracy_score( y_val, yhat_random )\n",
    "print( 'Balanced Accuracy:{}'.format( balanced_acc_random ) )\n",
    "\n",
    "# Kappa Metrics\n",
    "kappa_random = m.cohen_kappa_score( y_val, yhat_random )\n",
    "print( 'Kappa Score: {}'.format( kappa_random ) )\n",
    "\n",
    "# Classification report\n",
    "print( m.classification_report( y_val, yhat_random ) )\n",
    "\n",
    "# Confusion Matrix\n",
    "mt.plot_confusion_matrix( y_val, yhat_random, normalize=False, figsize=(12,12))"
   ]
  },
  {
   "cell_type": "markdown",
   "metadata": {},
   "source": [
    "## Neural Net with PCA"
   ]
  },
  {
   "cell_type": "code",
   "execution_count": null,
   "metadata": {
    "ExecuteTime": {
     "end_time": "2022-09-22T11:23:10.168976Z",
     "start_time": "2022-09-22T11:23:09.955018Z"
    }
   },
   "outputs": [
    {
     "name": "stdout",
     "output_type": "stream",
     "text": [
      "Epoch 1/100\n",
      "13666/13666 [==============================] - 17s 1ms/step - loss: 2.0540 - accuracy: 0.2693 - val_loss: 1.9962 - val_accuracy: 0.2944\n",
      "Epoch 2/100\n",
      "13666/13666 [==============================] - 14s 997us/step - loss: 1.9751 - accuracy: 0.3027 - val_loss: 1.9577 - val_accuracy: 0.3092\n",
      "Epoch 3/100\n",
      "13666/13666 [==============================] - 12s 913us/step - loss: 1.9440 - accuracy: 0.3132 - val_loss: 1.9291 - val_accuracy: 0.3168\n",
      "Epoch 4/100\n",
      "13666/13666 [==============================] - 13s 921us/step - loss: 1.9223 - accuracy: 0.3209 - val_loss: 1.9127 - val_accuracy: 0.3233\n",
      "Epoch 5/100\n",
      "13666/13666 [==============================] - 12s 910us/step - loss: 1.9070 - accuracy: 0.3252 - val_loss: 1.9012 - val_accuracy: 0.3276\n",
      "Epoch 6/100\n",
      "13666/13666 [==============================] - 13s 916us/step - loss: 1.8954 - accuracy: 0.3289 - val_loss: 1.8893 - val_accuracy: 0.3297\n",
      "Epoch 7/100\n",
      "13666/13666 [==============================] - 13s 925us/step - loss: 1.8869 - accuracy: 0.3311 - val_loss: 1.8837 - val_accuracy: 0.3322\n",
      "Epoch 8/100\n",
      "13666/13666 [==============================] - 12s 907us/step - loss: 1.8799 - accuracy: 0.3335 - val_loss: 1.8810 - val_accuracy: 0.3327\n",
      "Epoch 9/100\n",
      "13666/13666 [==============================] - 12s 913us/step - loss: 1.8752 - accuracy: 0.3340 - val_loss: 1.8750 - val_accuracy: 0.3316\n",
      "Epoch 10/100\n",
      "13666/13666 [==============================] - 13s 928us/step - loss: 1.8707 - accuracy: 0.3359 - val_loss: 1.8679 - val_accuracy: 0.3370\n",
      "Epoch 11/100\n",
      "13666/13666 [==============================] - 13s 917us/step - loss: 1.8675 - accuracy: 0.3362 - val_loss: 1.8686 - val_accuracy: 0.3381\n",
      "Epoch 12/100\n",
      "13666/13666 [==============================] - 12s 910us/step - loss: 1.8652 - accuracy: 0.3368 - val_loss: 1.8703 - val_accuracy: 0.3366\n",
      "Epoch 13/100\n",
      "13666/13666 [==============================] - 13s 923us/step - loss: 1.8632 - accuracy: 0.3376 - val_loss: 1.8646 - val_accuracy: 0.3381\n",
      "Epoch 14/100\n",
      "13666/13666 [==============================] - 14s 1ms/step - loss: 1.8608 - accuracy: 0.3382 - val_loss: 1.8643 - val_accuracy: 0.3382\n",
      "Epoch 15/100\n",
      "13666/13666 [==============================] - 13s 932us/step - loss: 1.8595 - accuracy: 0.3388 - val_loss: 1.8621 - val_accuracy: 0.3395\n",
      "Epoch 16/100\n",
      "13666/13666 [==============================] - 12s 912us/step - loss: 1.8582 - accuracy: 0.3389 - val_loss: 1.8582 - val_accuracy: 0.3382\n",
      "Epoch 17/100\n",
      "13666/13666 [==============================] - 12s 897us/step - loss: 1.8566 - accuracy: 0.3399 - val_loss: 1.8594 - val_accuracy: 0.3353\n",
      "Epoch 18/100\n",
      "13666/13666 [==============================] - 12s 913us/step - loss: 1.8548 - accuracy: 0.3403 - val_loss: 1.8606 - val_accuracy: 0.3394\n",
      "Epoch 19/100\n",
      "13666/13666 [==============================] - 12s 911us/step - loss: 1.8535 - accuracy: 0.3400 - val_loss: 1.8516 - val_accuracy: 0.3425\n",
      "Epoch 20/100\n",
      "13666/13666 [==============================] - 13s 934us/step - loss: 1.8517 - accuracy: 0.3411 - val_loss: 1.8532 - val_accuracy: 0.3388\n",
      "Epoch 21/100\n",
      "13666/13666 [==============================] - 13s 947us/step - loss: 1.8505 - accuracy: 0.3413 - val_loss: 1.8488 - val_accuracy: 0.3411\n",
      "Epoch 22/100\n",
      "13666/13666 [==============================] - 12s 904us/step - loss: 1.8490 - accuracy: 0.3416 - val_loss: 1.8535 - val_accuracy: 0.3417\n",
      "Epoch 23/100\n",
      "13666/13666 [==============================] - 12s 912us/step - loss: 1.8479 - accuracy: 0.3422 - val_loss: 1.8520 - val_accuracy: 0.3377\n",
      "Epoch 24/100\n",
      "13666/13666 [==============================] - 13s 919us/step - loss: 1.8462 - accuracy: 0.3428 - val_loss: 1.8495 - val_accuracy: 0.3401\n",
      "Epoch 25/100\n",
      "13666/13666 [==============================] - 13s 919us/step - loss: 1.8450 - accuracy: 0.3424 - val_loss: 1.8436 - val_accuracy: 0.3448\n",
      "Epoch 26/100\n",
      "13666/13666 [==============================] - 12s 910us/step - loss: 1.8443 - accuracy: 0.3433 - val_loss: 1.8466 - val_accuracy: 0.3445\n",
      "Epoch 27/100\n",
      "13666/13666 [==============================] - 12s 910us/step - loss: 1.8439 - accuracy: 0.3432 - val_loss: 1.8489 - val_accuracy: 0.3418\n",
      "Epoch 28/100\n",
      "13666/13666 [==============================] - 12s 909us/step - loss: 1.8430 - accuracy: 0.3429 - val_loss: 1.8490 - val_accuracy: 0.3399\n",
      "Epoch 29/100\n",
      "13666/13666 [==============================] - 12s 914us/step - loss: 1.8422 - accuracy: 0.3433 - val_loss: 1.8440 - val_accuracy: 0.3457\n",
      "Epoch 30/100\n",
      "13666/13666 [==============================] - 13s 924us/step - loss: 1.8417 - accuracy: 0.3437 - val_loss: 1.8464 - val_accuracy: 0.3421\n",
      "Epoch 31/100\n",
      "13666/13666 [==============================] - 12s 901us/step - loss: 1.8406 - accuracy: 0.3436 - val_loss: 1.8392 - val_accuracy: 0.3417\n",
      "Epoch 32/100\n",
      "13666/13666 [==============================] - 12s 910us/step - loss: 1.8398 - accuracy: 0.3436 - val_loss: 1.8488 - val_accuracy: 0.3406\n",
      "Epoch 33/100\n",
      "13666/13666 [==============================] - 13s 929us/step - loss: 1.8392 - accuracy: 0.3447 - val_loss: 1.8436 - val_accuracy: 0.3430\n",
      "Epoch 34/100\n",
      "13666/13666 [==============================] - 13s 920us/step - loss: 1.8387 - accuracy: 0.3450 - val_loss: 1.8444 - val_accuracy: 0.3441\n",
      "Epoch 35/100\n",
      "13666/13666 [==============================] - 13s 919us/step - loss: 1.8382 - accuracy: 0.3450 - val_loss: 1.8367 - val_accuracy: 0.3452\n",
      "Epoch 36/100\n",
      "13666/13666 [==============================] - 12s 911us/step - loss: 1.8377 - accuracy: 0.3444 - val_loss: 1.8442 - val_accuracy: 0.3437\n",
      "Epoch 37/100\n",
      "13666/13666 [==============================] - 12s 909us/step - loss: 1.8371 - accuracy: 0.3447 - val_loss: 1.8407 - val_accuracy: 0.3424\n",
      "Epoch 38/100\n",
      "13666/13666 [==============================] - 12s 914us/step - loss: 1.8369 - accuracy: 0.3454 - val_loss: 1.8372 - val_accuracy: 0.3468\n",
      "Epoch 39/100\n",
      "13666/13666 [==============================] - 13s 923us/step - loss: 1.8367 - accuracy: 0.3452 - val_loss: 1.8344 - val_accuracy: 0.3453\n",
      "Epoch 40/100\n",
      "13666/13666 [==============================] - 13s 955us/step - loss: 1.8363 - accuracy: 0.3456 - val_loss: 1.8379 - val_accuracy: 0.3476\n",
      "Epoch 41/100\n",
      "13666/13666 [==============================] - 12s 908us/step - loss: 1.8360 - accuracy: 0.3462 - val_loss: 1.8382 - val_accuracy: 0.3414\n",
      "Epoch 42/100\n",
      "13666/13666 [==============================] - 13s 916us/step - loss: 1.8357 - accuracy: 0.3459 - val_loss: 1.8407 - val_accuracy: 0.3432\n",
      "Epoch 43/100\n",
      "13666/13666 [==============================] - 12s 912us/step - loss: 1.8351 - accuracy: 0.3462 - val_loss: 1.8477 - val_accuracy: 0.3436\n",
      "Epoch 44/100\n",
      "13666/13666 [==============================] - 13s 924us/step - loss: 1.8348 - accuracy: 0.3460 - val_loss: 1.8433 - val_accuracy: 0.3419\n",
      "Epoch 45/100\n",
      "13666/13666 [==============================] - 12s 909us/step - loss: 1.8351 - accuracy: 0.3455 - val_loss: 1.8430 - val_accuracy: 0.3438\n",
      "Epoch 46/100\n",
      "13666/13666 [==============================] - 13s 918us/step - loss: 1.8345 - accuracy: 0.3464 - val_loss: 1.8444 - val_accuracy: 0.3444\n",
      "Epoch 47/100\n",
      "13666/13666 [==============================] - 13s 921us/step - loss: 1.8345 - accuracy: 0.3460 - val_loss: 1.8340 - val_accuracy: 0.3474\n",
      "Epoch 48/100\n",
      "13666/13666 [==============================] - 13s 921us/step - loss: 1.8339 - accuracy: 0.3468 - val_loss: 1.8392 - val_accuracy: 0.3436\n",
      "Epoch 49/100\n",
      "13666/13666 [==============================] - 13s 966us/step - loss: 1.8339 - accuracy: 0.3462 - val_loss: 1.8344 - val_accuracy: 0.3485\n",
      "Epoch 50/100\n",
      "13666/13666 [==============================] - 13s 936us/step - loss: 1.8334 - accuracy: 0.3465 - val_loss: 1.8363 - val_accuracy: 0.3471\n",
      "Epoch 51/100\n",
      "13666/13666 [==============================] - 13s 915us/step - loss: 1.8334 - accuracy: 0.3456 - val_loss: 1.8329 - val_accuracy: 0.3429\n",
      "Epoch 52/100\n",
      "13666/13666 [==============================] - 13s 919us/step - loss: 1.8331 - accuracy: 0.3467 - val_loss: 1.8338 - val_accuracy: 0.3487\n",
      "Epoch 53/100\n",
      "13666/13666 [==============================] - 13s 943us/step - loss: 1.8331 - accuracy: 0.3465 - val_loss: 1.8328 - val_accuracy: 0.3503\n",
      "Epoch 54/100\n",
      "13666/13666 [==============================] - 13s 935us/step - loss: 1.8323 - accuracy: 0.3468 - val_loss: 1.8350 - val_accuracy: 0.3445\n",
      "Epoch 55/100\n",
      "13666/13666 [==============================] - 12s 912us/step - loss: 1.8329 - accuracy: 0.3458 - val_loss: 1.8375 - val_accuracy: 0.3482\n",
      "Epoch 56/100\n",
      "13666/13666 [==============================] - 12s 911us/step - loss: 1.8323 - accuracy: 0.3473 - val_loss: 1.8327 - val_accuracy: 0.3465\n",
      "Epoch 57/100\n",
      "13666/13666 [==============================] - 13s 917us/step - loss: 1.8321 - accuracy: 0.3473 - val_loss: 1.8348 - val_accuracy: 0.3489\n",
      "Epoch 58/100\n",
      "13666/13666 [==============================] - 13s 925us/step - loss: 1.8318 - accuracy: 0.3463 - val_loss: 1.8362 - val_accuracy: 0.3490\n",
      "Epoch 59/100\n",
      "13666/13666 [==============================] - 12s 912us/step - loss: 1.8321 - accuracy: 0.3482 - val_loss: 1.8345 - val_accuracy: 0.3473\n",
      "Epoch 60/100\n",
      "13666/13666 [==============================] - 12s 909us/step - loss: 1.8320 - accuracy: 0.3465 - val_loss: 1.8350 - val_accuracy: 0.3478\n",
      "Epoch 61/100\n",
      "13666/13666 [==============================] - 13s 954us/step - loss: 1.8319 - accuracy: 0.3471 - val_loss: 1.8358 - val_accuracy: 0.3473\n",
      "Epoch 62/100\n",
      "13666/13666 [==============================] - 13s 959us/step - loss: 1.8317 - accuracy: 0.3472 - val_loss: 1.8366 - val_accuracy: 0.3447\n",
      "Epoch 63/100\n",
      "13666/13666 [==============================] - 13s 915us/step - loss: 1.8317 - accuracy: 0.3471 - val_loss: 1.8334 - val_accuracy: 0.3471\n",
      "Epoch 64/100\n",
      "13666/13666 [==============================] - 12s 912us/step - loss: 1.8315 - accuracy: 0.3478 - val_loss: 1.8338 - val_accuracy: 0.3458\n",
      "Epoch 65/100\n",
      "13666/13666 [==============================] - 12s 913us/step - loss: 1.8318 - accuracy: 0.3469 - val_loss: 1.8401 - val_accuracy: 0.3439\n",
      "Epoch 66/100\n",
      "13666/13666 [==============================] - 13s 915us/step - loss: 1.8313 - accuracy: 0.3473 - val_loss: 1.8327 - val_accuracy: 0.3494\n",
      "Epoch 67/100\n",
      "13666/13666 [==============================] - 13s 926us/step - loss: 1.8312 - accuracy: 0.3480 - val_loss: 1.8320 - val_accuracy: 0.3473\n",
      "Epoch 68/100\n",
      "13666/13666 [==============================] - 13s 915us/step - loss: 1.8310 - accuracy: 0.3477 - val_loss: 1.8407 - val_accuracy: 0.3443\n",
      "Epoch 69/100\n",
      "13666/13666 [==============================] - 12s 906us/step - loss: 1.8312 - accuracy: 0.3471 - val_loss: 1.8314 - val_accuracy: 0.3477\n",
      "Epoch 70/100\n",
      "13666/13666 [==============================] - 12s 911us/step - loss: 1.8310 - accuracy: 0.3477 - val_loss: 1.8365 - val_accuracy: 0.3480\n",
      "Epoch 71/100\n",
      "13666/13666 [==============================] - 13s 917us/step - loss: 1.8309 - accuracy: 0.3474 - val_loss: 1.8364 - val_accuracy: 0.3498\n",
      "Epoch 72/100\n",
      "13666/13666 [==============================] - 12s 909us/step - loss: 1.8304 - accuracy: 0.3480 - val_loss: 1.8296 - val_accuracy: 0.3496\n",
      "Epoch 73/100\n",
      "13666/13666 [==============================] - 12s 911us/step - loss: 1.8303 - accuracy: 0.3477 - val_loss: 1.8299 - val_accuracy: 0.3484\n",
      "Epoch 74/100\n",
      "13666/13666 [==============================] - 12s 907us/step - loss: 1.8305 - accuracy: 0.3472 - val_loss: 1.8318 - val_accuracy: 0.3479\n",
      "Epoch 75/100\n",
      "13666/13666 [==============================] - 12s 913us/step - loss: 1.8301 - accuracy: 0.3483 - val_loss: 1.8309 - val_accuracy: 0.3463\n",
      "Epoch 76/100\n",
      "13666/13666 [==============================] - 13s 917us/step - loss: 1.8299 - accuracy: 0.3480 - val_loss: 1.8339 - val_accuracy: 0.3503\n",
      "Epoch 77/100\n",
      "13666/13666 [==============================] - 12s 913us/step - loss: 1.8289 - accuracy: 0.3475 - val_loss: 1.8313 - val_accuracy: 0.3486\n",
      "Epoch 78/100\n",
      "13666/13666 [==============================] - 12s 911us/step - loss: 1.8294 - accuracy: 0.3479 - val_loss: 1.8398 - val_accuracy: 0.3479\n",
      "Epoch 79/100\n",
      "13666/13666 [==============================] - 13s 920us/step - loss: 1.8293 - accuracy: 0.3476 - val_loss: 1.8318 - val_accuracy: 0.3464\n",
      "Epoch 80/100\n",
      "13666/13666 [==============================] - 12s 909us/step - loss: 1.8291 - accuracy: 0.3484 - val_loss: 1.8328 - val_accuracy: 0.3461\n",
      "Epoch 81/100\n",
      "13666/13666 [==============================] - 13s 917us/step - loss: 1.8290 - accuracy: 0.3483 - val_loss: 1.8295 - val_accuracy: 0.3487\n",
      "Epoch 82/100\n",
      "13666/13666 [==============================] - 13s 917us/step - loss: 1.8293 - accuracy: 0.3480 - val_loss: 1.8283 - val_accuracy: 0.3480\n",
      "Epoch 83/100\n",
      "13666/13666 [==============================] - 13s 917us/step - loss: 1.8287 - accuracy: 0.3481 - val_loss: 1.8306 - val_accuracy: 0.3504\n",
      "Epoch 84/100\n",
      "13666/13666 [==============================] - 12s 912us/step - loss: 1.8290 - accuracy: 0.3478 - val_loss: 1.8301 - val_accuracy: 0.3485\n",
      "Epoch 85/100\n",
      "13666/13666 [==============================] - 13s 918us/step - loss: 1.8287 - accuracy: 0.3487 - val_loss: 1.8279 - val_accuracy: 0.3521\n",
      "Epoch 86/100\n",
      "13666/13666 [==============================] - 13s 915us/step - loss: 1.8292 - accuracy: 0.3487 - val_loss: 1.8319 - val_accuracy: 0.3496\n",
      "Epoch 87/100\n",
      "13666/13666 [==============================] - 12s 905us/step - loss: 1.8289 - accuracy: 0.3480 - val_loss: 1.8259 - val_accuracy: 0.3512\n",
      "Epoch 88/100\n",
      "13666/13666 [==============================] - 13s 919us/step - loss: 1.8289 - accuracy: 0.3482 - val_loss: 1.8293 - val_accuracy: 0.3487\n",
      "Epoch 89/100\n",
      "13666/13666 [==============================] - 13s 917us/step - loss: 1.8291 - accuracy: 0.3486 - val_loss: 1.8378 - val_accuracy: 0.3463\n",
      "Epoch 90/100\n",
      "13666/13666 [==============================] - 12s 914us/step - loss: 1.8286 - accuracy: 0.3486 - val_loss: 1.8403 - val_accuracy: 0.3450\n",
      "Epoch 91/100\n",
      "13666/13666 [==============================] - 12s 913us/step - loss: 1.8289 - accuracy: 0.3482 - val_loss: 1.8321 - val_accuracy: 0.3479\n",
      "Epoch 92/100\n",
      "13666/13666 [==============================] - 12s 914us/step - loss: 1.8284 - accuracy: 0.3480 - val_loss: 1.8328 - val_accuracy: 0.3474\n",
      "Epoch 93/100\n",
      "13666/13666 [==============================] - 13s 927us/step - loss: 1.8283 - accuracy: 0.3485 - val_loss: 1.8331 - val_accuracy: 0.3496\n",
      "Epoch 94/100\n",
      "13666/13666 [==============================] - 13s 921us/step - loss: 1.8284 - accuracy: 0.3486 - val_loss: 1.8400 - val_accuracy: 0.3498\n",
      "Epoch 95/100\n",
      "13666/13666 [==============================] - 12s 915us/step - loss: 1.8283 - accuracy: 0.3486 - val_loss: 1.8278 - val_accuracy: 0.3484\n",
      "Epoch 96/100\n",
      "13666/13666 [==============================] - 12s 904us/step - loss: 1.8279 - accuracy: 0.3484 - val_loss: 1.8353 - val_accuracy: 0.3478\n",
      "Epoch 97/100\n",
      "13666/13666 [==============================] - 13s 924us/step - loss: 1.8279 - accuracy: 0.3484 - val_loss: 1.8342 - val_accuracy: 0.3472\n",
      "13666/13666 [==============================] - 10s 724us/step - loss: 1.8278 - accuracy: 0.3475\n",
      "3417/3417 [==============================] - 3s 730us/step - loss: 1.8342 - accuracy: 0.3472\n",
      "Train ACC:0.3475498855113983 - Val ACC:0.3472342789173126\n"
     ]
    }
   ],
   "source": [
    "# y for NN\n",
    "ohe = pp.OneHotEncoder()\n",
    "y_train = ohe.fit_transform( y_train.values.reshape( -1, 1 ) ).toarray() \n",
    "y_val = ohe.transform( y_val.values.reshape( -1, 1 ) ).toarray()\n",
    "\n",
    "\n",
    "# MLP: Neural Network \n",
    "## model definition\n",
    "model = Sequential()\n",
    "model.add( Dense( 64, input_dim=x_train.shape[1], activation='relu' ) ) # 2 neurons on Hidden Layer + Input Layer\n",
    "model.add( Dense( 12, activation='softmax' ) )\n",
    "\n",
    "## model compile\n",
    "model.compile( loss='categorical_crossentropy', optimizer='adam', metrics=['accuracy'] )\n",
    "\n",
    "### model fit ( training)\n",
    "es = EarlyStopping( monitor='val_loss', patience=10 )\n",
    "history = model.fit( x_train, y_train, validation_data=(x_val, y_val), epochs=100, callbacks=[es], verbose=1 )\n",
    "\n",
    "## model evaluate\n",
    "_, train_acc = model.evaluate( x_train, y_train, verbose=1 )\n",
    "_, val_acc = model.evaluate( x_val, y_val, verbose=1 )\n",
    "\n",
    "print( 'Train ACC:{} - Val ACC:{}'.format( train_acc, val_acc ) )\n",
    "train_acc_list.append( train_acc )\n",
    "val_acc_list.append( val_acc )"
   ]
  },
  {
   "cell_type": "markdown",
   "metadata": {
    "canvas": {
     "comments": [],
     "componentType": "CodeCell",
     "copiedOriginId": null,
     "diskcache": false,
     "headerColor": "inherit",
     "id": "313a120b-2887-4c11-846d-00172f0e5228",
     "isComponent": false,
     "name": "",
     "parents": []
    },
    "hidden": true
   },
   "source": [
    "## Neural Network (without PCA) - MLP"
   ]
  },
  {
   "cell_type": "code",
   "execution_count": null,
   "metadata": {
    "ExecuteTime": {
     "end_time": "2022-09-16T10:03:59.439318Z",
     "start_time": "2022-09-16T10:03:59.269676Z"
    },
    "canvas": {
     "comments": [],
     "componentType": "CodeCell",
     "copiedOriginId": null,
     "diskcache": false,
     "headerColor": "inherit",
     "id": "692effc6-22f2-467f-a3ae-fdaddecb43dd",
     "isComponent": false,
     "name": "",
     "parents": []
    },
    "hidden": true
   },
   "outputs": [],
   "source": [
    "# ohe = pp.OneHotEncoder()\n",
    "y_train_nn = ohe.fit_transform( y_train.values.reshape( -1, 1 ) ).toarray()"
   ]
  },
  {
   "cell_type": "code",
   "execution_count": null,
   "metadata": {
    "ExecuteTime": {
     "end_time": "2022-09-16T10:03:59.499984Z",
     "start_time": "2022-09-16T10:03:59.444257Z"
    },
    "canvas": {
     "comments": [],
     "componentType": "CodeCell",
     "copiedOriginId": null,
     "diskcache": false,
     "headerColor": "inherit",
     "id": "a3b161f1-d6ae-4eed-a2c7-934044559c54",
     "isComponent": false,
     "name": "",
     "parents": []
    },
    "hidden": true
   },
   "outputs": [
    {
     "name": "stdout",
     "output_type": "stream",
     "text": [
      "Number of Rows: 437284\n",
      "Number of Features: 31\n",
      "Number of Classes: 12\n"
     ]
    }
   ],
   "source": [
    "print( 'Number of Rows: {}'.format( x_train.shape[0] ) )\n",
    "print( 'Number of Features: {}'.format( x_train.shape[1] ) )\n",
    "print( 'Number of Classes: {}'.format( y_train.nunique() ) )"
   ]
  },
  {
   "cell_type": "code",
   "execution_count": null,
   "metadata": {
    "ExecuteTime": {
     "end_time": "2022-09-16T10:21:42.877048Z",
     "start_time": "2022-09-16T10:03:59.501983Z"
    },
    "canvas": {
     "comments": [],
     "componentType": "CodeCell",
     "copiedOriginId": null,
     "diskcache": false,
     "headerColor": "inherit",
     "id": "6a1a5f62-2285-427e-8f77-167dbf4bf534",
     "isComponent": false,
     "name": "",
     "parents": []
    },
    "hidden": true
   },
   "outputs": [
    {
     "name": "stdout",
     "output_type": "stream",
     "text": [
      "Epoch 1/100\n",
      "13666/13666 [==============================] - 10s 745us/step - loss: 2.1170 - accuracy: 0.2442\n",
      "Epoch 2/100\n",
      "13666/13666 [==============================] - 10s 754us/step - loss: 2.0089 - accuracy: 0.2889\n",
      "Epoch 3/100\n",
      "13666/13666 [==============================] - 10s 760us/step - loss: 1.9676 - accuracy: 0.3047\n",
      "Epoch 4/100\n",
      "13666/13666 [==============================] - 10s 764us/step - loss: 1.9431 - accuracy: 0.3136\n",
      "Epoch 5/100\n",
      "13666/13666 [==============================] - 10s 762us/step - loss: 1.9284 - accuracy: 0.3187\n",
      "Epoch 6/100\n",
      "13666/13666 [==============================] - 10s 764us/step - loss: 1.9188 - accuracy: 0.3216\n",
      "Epoch 7/100\n",
      "13666/13666 [==============================] - 10s 762us/step - loss: 1.9113 - accuracy: 0.3237\n",
      "Epoch 8/100\n",
      "13666/13666 [==============================] - 10s 766us/step - loss: 1.9052 - accuracy: 0.3259\n",
      "Epoch 9/100\n",
      "13666/13666 [==============================] - 10s 758us/step - loss: 1.9009 - accuracy: 0.3268\n",
      "Epoch 10/100\n",
      "13666/13666 [==============================] - 10s 763us/step - loss: 1.8973 - accuracy: 0.3282\n",
      "Epoch 11/100\n",
      "13666/13666 [==============================] - 10s 760us/step - loss: 1.8933 - accuracy: 0.3288\n",
      "Epoch 12/100\n",
      "13666/13666 [==============================] - 10s 762us/step - loss: 1.8912 - accuracy: 0.3297\n",
      "Epoch 13/100\n",
      "13666/13666 [==============================] - 10s 761us/step - loss: 1.8882 - accuracy: 0.3306\n",
      "Epoch 14/100\n",
      "13666/13666 [==============================] - 10s 764us/step - loss: 1.8854 - accuracy: 0.3311\n",
      "Epoch 15/100\n",
      "13666/13666 [==============================] - 10s 768us/step - loss: 1.8836 - accuracy: 0.3319\n",
      "Epoch 16/100\n",
      "13666/13666 [==============================] - 11s 769us/step - loss: 1.8813 - accuracy: 0.3332\n",
      "Epoch 17/100\n",
      "13666/13666 [==============================] - 11s 776us/step - loss: 1.8795 - accuracy: 0.3335\n",
      "Epoch 18/100\n",
      "13666/13666 [==============================] - 11s 770us/step - loss: 1.8778 - accuracy: 0.3345\n",
      "Epoch 19/100\n",
      "13666/13666 [==============================] - 11s 768us/step - loss: 1.8758 - accuracy: 0.3350\n",
      "Epoch 20/100\n",
      "13666/13666 [==============================] - 10s 768us/step - loss: 1.8745 - accuracy: 0.3360\n",
      "Epoch 21/100\n",
      "13666/13666 [==============================] - 11s 770us/step - loss: 1.8732 - accuracy: 0.3361\n",
      "Epoch 22/100\n",
      "13666/13666 [==============================] - 11s 772us/step - loss: 1.8717 - accuracy: 0.3371\n",
      "Epoch 23/100\n",
      "13666/13666 [==============================] - 11s 775us/step - loss: 1.8705 - accuracy: 0.3368\n",
      "Epoch 24/100\n",
      "13666/13666 [==============================] - 10s 766us/step - loss: 1.8686 - accuracy: 0.3382\n",
      "Epoch 25/100\n",
      "13666/13666 [==============================] - 11s 769us/step - loss: 1.8678 - accuracy: 0.3379\n",
      "Epoch 26/100\n",
      "13666/13666 [==============================] - 10s 768us/step - loss: 1.8665 - accuracy: 0.3384\n",
      "Epoch 27/100\n",
      "13666/13666 [==============================] - 11s 770us/step - loss: 1.8652 - accuracy: 0.3387\n",
      "Epoch 28/100\n",
      "13666/13666 [==============================] - 10s 765us/step - loss: 1.8645 - accuracy: 0.3397\n",
      "Epoch 29/100\n",
      "13666/13666 [==============================] - 11s 770us/step - loss: 1.8635 - accuracy: 0.3399\n",
      "Epoch 30/100\n",
      "13666/13666 [==============================] - 11s 774us/step - loss: 1.8628 - accuracy: 0.3407\n",
      "Epoch 31/100\n",
      "13666/13666 [==============================] - 11s 770us/step - loss: 1.8624 - accuracy: 0.3396\n",
      "Epoch 32/100\n",
      "13666/13666 [==============================] - 11s 800us/step - loss: 1.8610 - accuracy: 0.3406\n",
      "Epoch 33/100\n",
      "13666/13666 [==============================] - 11s 811us/step - loss: 1.8611 - accuracy: 0.3399\n",
      "Epoch 34/100\n",
      "13666/13666 [==============================] - 11s 768us/step - loss: 1.8594 - accuracy: 0.3405\n",
      "Epoch 35/100\n",
      "13666/13666 [==============================] - 10s 766us/step - loss: 1.8598 - accuracy: 0.3405\n",
      "Epoch 36/100\n",
      "13666/13666 [==============================] - 10s 766us/step - loss: 1.8586 - accuracy: 0.3412\n",
      "Epoch 37/100\n",
      "13666/13666 [==============================] - 10s 765us/step - loss: 1.8575 - accuracy: 0.3421\n",
      "Epoch 38/100\n",
      "13666/13666 [==============================] - 11s 773us/step - loss: 1.8565 - accuracy: 0.3420\n",
      "Epoch 39/100\n",
      "13666/13666 [==============================] - 10s 766us/step - loss: 1.8566 - accuracy: 0.3420\n",
      "Epoch 40/100\n",
      "13666/13666 [==============================] - 11s 777us/step - loss: 1.8556 - accuracy: 0.3422\n",
      "Epoch 41/100\n",
      "13666/13666 [==============================] - 10s 765us/step - loss: 1.8546 - accuracy: 0.3431\n",
      "Epoch 42/100\n",
      "13666/13666 [==============================] - 11s 773us/step - loss: 1.8549 - accuracy: 0.3419\n",
      "Epoch 43/100\n",
      "13666/13666 [==============================] - 11s 772us/step - loss: 1.8543 - accuracy: 0.3431\n",
      "Epoch 44/100\n",
      "13666/13666 [==============================] - 11s 781us/step - loss: 1.8545 - accuracy: 0.3426\n",
      "Epoch 45/100\n",
      "13666/13666 [==============================] - 11s 769us/step - loss: 1.8537 - accuracy: 0.3432\n",
      "Epoch 46/100\n",
      "13666/13666 [==============================] - 10s 768us/step - loss: 1.8531 - accuracy: 0.3434\n",
      "Epoch 47/100\n",
      "13666/13666 [==============================] - 10s 768us/step - loss: 1.8526 - accuracy: 0.3438\n",
      "Epoch 48/100\n",
      "13666/13666 [==============================] - 10s 767us/step - loss: 1.8528 - accuracy: 0.3436\n",
      "Epoch 49/100\n",
      "13666/13666 [==============================] - 10s 766us/step - loss: 1.8526 - accuracy: 0.3434\n",
      "Epoch 50/100\n",
      "13666/13666 [==============================] - 11s 770us/step - loss: 1.8520 - accuracy: 0.3441\n",
      "Epoch 51/100\n",
      "13666/13666 [==============================] - 11s 769us/step - loss: 1.8525 - accuracy: 0.3446\n",
      "Epoch 52/100\n",
      "13666/13666 [==============================] - 11s 790us/step - loss: 1.8505 - accuracy: 0.3442\n",
      "Epoch 53/100\n",
      "13666/13666 [==============================] - 11s 807us/step - loss: 1.8506 - accuracy: 0.3443\n",
      "Epoch 54/100\n",
      "13666/13666 [==============================] - 10s 768us/step - loss: 1.8500 - accuracy: 0.3444\n",
      "Epoch 55/100\n",
      "13666/13666 [==============================] - 10s 767us/step - loss: 1.8506 - accuracy: 0.3444\n",
      "Epoch 56/100\n",
      "13666/13666 [==============================] - 11s 768us/step - loss: 1.8497 - accuracy: 0.3444\n",
      "Epoch 57/100\n",
      "13666/13666 [==============================] - 10s 765us/step - loss: 1.8501 - accuracy: 0.3450\n",
      "Epoch 58/100\n",
      "13666/13666 [==============================] - 10s 765us/step - loss: 1.8492 - accuracy: 0.3450\n",
      "Epoch 59/100\n",
      "13666/13666 [==============================] - 10s 764us/step - loss: 1.8490 - accuracy: 0.3451\n",
      "Epoch 60/100\n",
      "13666/13666 [==============================] - 10s 763us/step - loss: 1.8485 - accuracy: 0.3452\n",
      "Epoch 61/100\n",
      "13666/13666 [==============================] - 10s 760us/step - loss: 1.8485 - accuracy: 0.3451\n",
      "Epoch 62/100\n",
      "13666/13666 [==============================] - 10s 764us/step - loss: 1.8491 - accuracy: 0.3454\n",
      "Epoch 63/100\n",
      "13666/13666 [==============================] - 10s 766us/step - loss: 1.8482 - accuracy: 0.3447\n",
      "Epoch 64/100\n",
      "13666/13666 [==============================] - 10s 761us/step - loss: 1.8490 - accuracy: 0.3453\n",
      "Epoch 65/100\n",
      "13666/13666 [==============================] - 10s 761us/step - loss: 1.8473 - accuracy: 0.3453\n",
      "Epoch 66/100\n",
      "13666/13666 [==============================] - 10s 763us/step - loss: 1.8470 - accuracy: 0.3460\n",
      "Epoch 67/100\n",
      "13666/13666 [==============================] - 10s 767us/step - loss: 1.8471 - accuracy: 0.3461\n",
      "Epoch 68/100\n",
      "13666/13666 [==============================] - 11s 776us/step - loss: 1.8483 - accuracy: 0.3454\n",
      "Epoch 69/100\n",
      "13666/13666 [==============================] - 10s 767us/step - loss: 1.8458 - accuracy: 0.3460\n",
      "Epoch 70/100\n",
      "13666/13666 [==============================] - 10s 761us/step - loss: 1.8469 - accuracy: 0.3460\n",
      "Epoch 71/100\n",
      "13666/13666 [==============================] - 10s 766us/step - loss: 1.8465 - accuracy: 0.3461\n",
      "Epoch 72/100\n",
      "13666/13666 [==============================] - 10s 764us/step - loss: 1.8467 - accuracy: 0.3455\n",
      "Epoch 73/100\n",
      "13666/13666 [==============================] - 10s 764us/step - loss: 1.8463 - accuracy: 0.3462\n",
      "Epoch 74/100\n",
      "13666/13666 [==============================] - 11s 771us/step - loss: 1.8454 - accuracy: 0.3456\n",
      "Epoch 75/100\n",
      "13666/13666 [==============================] - 11s 773us/step - loss: 1.8458 - accuracy: 0.3457\n",
      "Epoch 76/100\n",
      "13666/13666 [==============================] - 10s 765us/step - loss: 1.8466 - accuracy: 0.3448\n",
      "Epoch 77/100\n",
      "13666/13666 [==============================] - 10s 762us/step - loss: 1.8460 - accuracy: 0.3460\n",
      "Epoch 78/100\n",
      "13666/13666 [==============================] - 10s 760us/step - loss: 1.8449 - accuracy: 0.3453\n",
      "Epoch 79/100\n",
      "13666/13666 [==============================] - 11s 770us/step - loss: 1.8454 - accuracy: 0.3461\n",
      "Epoch 80/100\n",
      "13666/13666 [==============================] - 10s 766us/step - loss: 1.8452 - accuracy: 0.3457\n",
      "Epoch 81/100\n",
      "13666/13666 [==============================] - 10s 760us/step - loss: 1.8442 - accuracy: 0.3464\n",
      "Epoch 82/100\n",
      "13666/13666 [==============================] - 10s 761us/step - loss: 1.8452 - accuracy: 0.3460\n",
      "Epoch 83/100\n",
      "13666/13666 [==============================] - 10s 765us/step - loss: 1.8447 - accuracy: 0.3464\n",
      "Epoch 84/100\n",
      "13666/13666 [==============================] - 10s 767us/step - loss: 1.8444 - accuracy: 0.3461\n",
      "Epoch 85/100\n",
      "13666/13666 [==============================] - 10s 761us/step - loss: 1.8442 - accuracy: 0.3459\n",
      "Epoch 86/100\n",
      "13666/13666 [==============================] - 10s 764us/step - loss: 1.8436 - accuracy: 0.3470\n",
      "Epoch 87/100\n",
      "13666/13666 [==============================] - 10s 761us/step - loss: 1.8446 - accuracy: 0.3458\n",
      "Epoch 88/100\n",
      "13666/13666 [==============================] - 10s 763us/step - loss: 1.8427 - accuracy: 0.3464\n",
      "Epoch 89/100\n",
      "13666/13666 [==============================] - 11s 780us/step - loss: 1.8425 - accuracy: 0.3465\n",
      "Epoch 90/100\n",
      "13666/13666 [==============================] - 11s 803us/step - loss: 1.8425 - accuracy: 0.3461\n",
      "Epoch 91/100\n",
      "13666/13666 [==============================] - 10s 760us/step - loss: 1.8430 - accuracy: 0.3462\n",
      "Epoch 92/100\n",
      "13666/13666 [==============================] - 10s 763us/step - loss: 1.8424 - accuracy: 0.3456\n",
      "Epoch 93/100\n",
      "13666/13666 [==============================] - 10s 764us/step - loss: 1.8424 - accuracy: 0.3462\n",
      "Epoch 94/100\n",
      "13666/13666 [==============================] - 11s 769us/step - loss: 1.8421 - accuracy: 0.3464\n",
      "Epoch 95/100\n",
      "13666/13666 [==============================] - 10s 767us/step - loss: 1.8416 - accuracy: 0.3468\n",
      "Epoch 96/100\n",
      "13666/13666 [==============================] - 11s 770us/step - loss: 1.8412 - accuracy: 0.3474\n",
      "Epoch 97/100\n",
      "13666/13666 [==============================] - 11s 775us/step - loss: 1.8431 - accuracy: 0.3457\n",
      "Epoch 98/100\n",
      "13666/13666 [==============================] - 11s 772us/step - loss: 1.8417 - accuracy: 0.3462\n",
      "Epoch 99/100\n",
      "13666/13666 [==============================] - 10s 768us/step - loss: 1.8410 - accuracy: 0.3462\n",
      "Epoch 100/100\n",
      "13666/13666 [==============================] - 11s 778us/step - loss: 1.8402 - accuracy: 0.3469\n"
     ]
    },
    {
     "data": {
      "text/plain": [
       "<keras.callbacks.History at 0x19c452feb80>"
      ]
     },
     "execution_count": 234,
     "metadata": {},
     "output_type": "execute_result"
    }
   ],
   "source": [
    "# model definition\n",
    "model = ml.Sequential()\n",
    "model.add( l.Dense( 64, input_dim=x_train.shape[1], activation='relu' ) )\n",
    "model.add( l.Dense( 12, activation='softmax') )\n",
    "\n",
    "# model compile\n",
    "model.compile( loss='categorical_crossentropy', optimizer='adam', metrics=['accuracy'] )\n",
    "\n",
    "# train model\n",
    "model.fit( x_train, y_train_nn, epochs=100 )"
   ]
  },
  {
   "cell_type": "markdown",
   "metadata": {
    "canvas": {
     "comments": [],
     "componentType": "CodeCell",
     "copiedOriginId": null,
     "diskcache": false,
     "headerColor": "inherit",
     "id": "2a5f2bd9-a801-4134-8434-e567744c137d",
     "isComponent": false,
     "name": "",
     "parents": []
    },
    "hidden": true
   },
   "source": [
    "### NN Performance"
   ]
  },
  {
   "cell_type": "code",
   "execution_count": null,
   "metadata": {
    "ExecuteTime": {
     "end_time": "2022-09-16T10:21:45.522442Z",
     "start_time": "2022-09-16T10:21:42.878078Z"
    },
    "canvas": {
     "comments": [],
     "componentType": "CodeCell",
     "copiedOriginId": null,
     "diskcache": false,
     "headerColor": "inherit",
     "id": "ad4d1e4b-722a-406e-8746-d01059190d2d",
     "isComponent": false,
     "name": "",
     "parents": []
    },
    "hidden": true
   },
   "outputs": [
    {
     "name": "stdout",
     "output_type": "stream",
     "text": [
      "3417/3417 [==============================] - 4s 1ms/step\n"
     ]
    }
   ],
   "source": [
    "# prediction\n",
    "pred_nn = model.predict( x_val )\n",
    "\n",
    "# invert prediction\n",
    "yhat_nn = ohe.inverse_transform( pred_nn )\n",
    "\n",
    "# prediction prepare\n",
    "y_test_nn = y_test.to_numpy()\n",
    "yhat_nn = yhat_nn.reshape( 1, -1 )[0]"
   ]
  },
  {
   "cell_type": "code",
   "execution_count": null,
   "metadata": {
    "ExecuteTime": {
     "end_time": "2022-09-16T10:21:51.149561Z",
     "start_time": "2022-09-16T10:21:45.526436Z"
    },
    "canvas": {
     "comments": [],
     "componentType": "CodeCell",
     "copiedOriginId": null,
     "diskcache": false,
     "headerColor": "inherit",
     "id": "015e36e9-3183-4cc0-bb9a-238a22c279c7",
     "isComponent": false,
     "name": "",
     "parents": []
    },
    "hidden": true
   },
   "outputs": [
    {
     "ename": "ValueError",
     "evalue": "Found input variables with inconsistent numbers of samples: [546605, 109321]",
     "output_type": "error",
     "traceback": [
      "\u001b[1;31m---------------------------------------------------------------------------\u001b[0m",
      "\u001b[1;31mValueError\u001b[0m                                Traceback (most recent call last)",
      "\u001b[1;32mc:\\Users\\Utente77\\repos\\airbnb_predict_first_booking\\09_ab_Features_selection.ipynb Cella 135\u001b[0m in \u001b[0;36m<cell line: 2>\u001b[1;34m()\u001b[0m\n\u001b[0;32m      <a href='vscode-notebook-cell:/c%3A/Users/Utente77/repos/airbnb_predict_first_booking/09_ab_Features_selection.ipynb#Y332sZmlsZQ%3D%3D?line=0'>1</a>\u001b[0m \u001b[39m# Accuracy\u001b[39;00m\n\u001b[1;32m----> <a href='vscode-notebook-cell:/c%3A/Users/Utente77/repos/airbnb_predict_first_booking/09_ab_Features_selection.ipynb#Y332sZmlsZQ%3D%3D?line=1'>2</a>\u001b[0m acc_nn \u001b[39m=\u001b[39m m\u001b[39m.\u001b[39;49maccuracy_score( y_test_nn, yhat_nn )\n\u001b[0;32m      <a href='vscode-notebook-cell:/c%3A/Users/Utente77/repos/airbnb_predict_first_booking/09_ab_Features_selection.ipynb#Y332sZmlsZQ%3D%3D?line=2'>3</a>\u001b[0m \u001b[39mprint\u001b[39m( \u001b[39m'\u001b[39m\u001b[39mAccuracy: \u001b[39m\u001b[39m{}\u001b[39;00m\u001b[39m'\u001b[39m\u001b[39m.\u001b[39mformat( acc_nn ) )\n\u001b[0;32m      <a href='vscode-notebook-cell:/c%3A/Users/Utente77/repos/airbnb_predict_first_booking/09_ab_Features_selection.ipynb#Y332sZmlsZQ%3D%3D?line=4'>5</a>\u001b[0m \u001b[39m# Balanced Accuray\u001b[39;00m\n",
      "File \u001b[1;32mc:\\Users\\Utente77\\Anaconda3\\envs\\classificazione\\lib\\site-packages\\sklearn\\metrics\\_classification.py:211\u001b[0m, in \u001b[0;36maccuracy_score\u001b[1;34m(y_true, y_pred, normalize, sample_weight)\u001b[0m\n\u001b[0;32m    145\u001b[0m \u001b[39m\"\"\"Accuracy classification score.\u001b[39;00m\n\u001b[0;32m    146\u001b[0m \n\u001b[0;32m    147\u001b[0m \u001b[39mIn multilabel classification, this function computes subset accuracy:\u001b[39;00m\n\u001b[1;32m   (...)\u001b[0m\n\u001b[0;32m    207\u001b[0m \u001b[39m0.5\u001b[39;00m\n\u001b[0;32m    208\u001b[0m \u001b[39m\"\"\"\u001b[39;00m\n\u001b[0;32m    210\u001b[0m \u001b[39m# Compute accuracy for each possible representation\u001b[39;00m\n\u001b[1;32m--> 211\u001b[0m y_type, y_true, y_pred \u001b[39m=\u001b[39m _check_targets(y_true, y_pred)\n\u001b[0;32m    212\u001b[0m check_consistent_length(y_true, y_pred, sample_weight)\n\u001b[0;32m    213\u001b[0m \u001b[39mif\u001b[39;00m y_type\u001b[39m.\u001b[39mstartswith(\u001b[39m\"\u001b[39m\u001b[39mmultilabel\u001b[39m\u001b[39m\"\u001b[39m):\n",
      "File \u001b[1;32mc:\\Users\\Utente77\\Anaconda3\\envs\\classificazione\\lib\\site-packages\\sklearn\\metrics\\_classification.py:84\u001b[0m, in \u001b[0;36m_check_targets\u001b[1;34m(y_true, y_pred)\u001b[0m\n\u001b[0;32m     57\u001b[0m \u001b[39mdef\u001b[39;00m \u001b[39m_check_targets\u001b[39m(y_true, y_pred):\n\u001b[0;32m     58\u001b[0m     \u001b[39m\"\"\"Check that y_true and y_pred belong to the same classification task.\u001b[39;00m\n\u001b[0;32m     59\u001b[0m \n\u001b[0;32m     60\u001b[0m \u001b[39m    This converts multiclass or binary types to a common shape, and raises a\u001b[39;00m\n\u001b[1;32m   (...)\u001b[0m\n\u001b[0;32m     82\u001b[0m \u001b[39m    y_pred : array or indicator matrix\u001b[39;00m\n\u001b[0;32m     83\u001b[0m \u001b[39m    \"\"\"\u001b[39;00m\n\u001b[1;32m---> 84\u001b[0m     check_consistent_length(y_true, y_pred)\n\u001b[0;32m     85\u001b[0m     type_true \u001b[39m=\u001b[39m type_of_target(y_true, input_name\u001b[39m=\u001b[39m\u001b[39m\"\u001b[39m\u001b[39my_true\u001b[39m\u001b[39m\"\u001b[39m)\n\u001b[0;32m     86\u001b[0m     type_pred \u001b[39m=\u001b[39m type_of_target(y_pred, input_name\u001b[39m=\u001b[39m\u001b[39m\"\u001b[39m\u001b[39my_pred\u001b[39m\u001b[39m\"\u001b[39m)\n",
      "File \u001b[1;32mc:\\Users\\Utente77\\Anaconda3\\envs\\classificazione\\lib\\site-packages\\sklearn\\utils\\validation.py:387\u001b[0m, in \u001b[0;36mcheck_consistent_length\u001b[1;34m(*arrays)\u001b[0m\n\u001b[0;32m    385\u001b[0m uniques \u001b[39m=\u001b[39m np\u001b[39m.\u001b[39munique(lengths)\n\u001b[0;32m    386\u001b[0m \u001b[39mif\u001b[39;00m \u001b[39mlen\u001b[39m(uniques) \u001b[39m>\u001b[39m \u001b[39m1\u001b[39m:\n\u001b[1;32m--> 387\u001b[0m     \u001b[39mraise\u001b[39;00m \u001b[39mValueError\u001b[39;00m(\n\u001b[0;32m    388\u001b[0m         \u001b[39m\"\u001b[39m\u001b[39mFound input variables with inconsistent numbers of samples: \u001b[39m\u001b[39m%r\u001b[39;00m\u001b[39m\"\u001b[39m\n\u001b[0;32m    389\u001b[0m         \u001b[39m%\u001b[39m [\u001b[39mint\u001b[39m(l) \u001b[39mfor\u001b[39;00m l \u001b[39min\u001b[39;00m lengths]\n\u001b[0;32m    390\u001b[0m     )\n",
      "\u001b[1;31mValueError\u001b[0m: Found input variables with inconsistent numbers of samples: [546605, 109321]"
     ]
    }
   ],
   "source": [
    "# Accuracy\n",
    "acc_nn = m.accuracy_score( y_test_nn, yhat_nn )\n",
    "print( 'Accuracy: {}'.format( acc_nn ) )\n",
    "\n",
    "# Balanced Accuray\n",
    "balanced_acc_nn = m.balanced_accuracy_score( y_test_nn, yhat_nn )\n",
    "print( 'Balanced Accuracy:{}'.format( balanced_acc_nn ) )\n",
    "\n",
    "# # Kappa Metrics\n",
    "# kappa_nn = m.cohen_kappa_score( y_test_nn, yhat_nn )\n",
    "# print( 'Kappa Score: {}'.format( kappa_nn ) )\n",
    "\n",
    "# # Classification report\n",
    "# print( m.classification_report( y_test_nn, yhat_nn ) )\n",
    "\n",
    "# # Confusion Matrix\n",
    "# mt.plot_confusion_matrix( y_test_nn, yhat_nn, normalize=False, figsize=(12,12))"
   ]
  },
  {
   "cell_type": "markdown",
   "metadata": {
    "canvas": {
     "comments": [],
     "componentType": "CodeCell",
     "copiedOriginId": null,
     "diskcache": false,
     "headerColor": "inherit",
     "id": "c611dbc7-5340-410d-80c1-822dcb8e16fc",
     "isComponent": false,
     "name": "",
     "parents": []
    },
    "hidden": true
   },
   "source": [
    "### NN Performance - Cross-Validation"
   ]
  },
  {
   "cell_type": "code",
   "execution_count": null,
   "metadata": {
    "ExecuteTime": {
     "end_time": "2022-09-16T11:28:27.820294Z",
     "start_time": "2022-09-16T10:21:51.150525Z"
    },
    "canvas": {
     "comments": [],
     "componentType": "CodeCell",
     "copiedOriginId": null,
     "diskcache": false,
     "headerColor": "inherit",
     "id": "e8fe3b3d-ddf2-47f6-b5d3-7d9ee12f829c",
     "isComponent": false,
     "name": "",
     "parents": []
    },
    "hidden": true
   },
   "outputs": [
    {
     "name": "stdout",
     "output_type": "stream",
     "text": [
      "Fold Number: 1/5\n",
      "2734/2734 [==============================] - 2s 577us/step\n",
      "Fold Number: 2/5\n",
      "2734/2734 [==============================] - 2s 598us/step\n",
      "Fold Number: 3/5\n",
      "2734/2734 [==============================] - 2s 574us/step\n",
      "Fold Number: 4/5\n",
      "2734/2734 [==============================] - 2s 585us/step\n",
      "Fold Number: 5/5\n",
      "2733/2733 [==============================] - 2s 562us/step\n"
     ]
    }
   ],
   "source": [
    "# # generate k-fold\n",
    "# num_folds = 3\n",
    "# kfold = ms.StratifiedKFold( n_splits=num_folds, shuffle=True, random_state=32 )\n",
    "\n",
    "# balanced_acc_list = []\n",
    "# kappa_acc_list = []\n",
    "\n",
    "# i = 1\n",
    "# for train_ix, val_ix in kfold.split( x_train, y_train ):\n",
    "#     print( 'Fold Number: {}/{}'.format( i, num_folds ) )\n",
    "    \n",
    "#     # get fold\n",
    "#     x_train_fold = x_train.iloc[train_ix]\n",
    "#     y_train_fold = y_train.iloc[train_ix]\n",
    "    \n",
    "#     x_val_fold = x_train.iloc[val_ix]\n",
    "#     y_val_fold = y_train.iloc[val_ix]\n",
    "    \n",
    "#     # target hot-encoding\n",
    "#     ohe = pp.OneHotEncoder()\n",
    "#     y_train_fold_nn = ohe.fit_transform( y_train_fold.values.reshape( -1, 1 ) ).toarray()\n",
    "\n",
    "    # # model definition\n",
    "    # model = ml.Sequential()\n",
    "    # model.add( l.Dense( 256, input_dim=x_train.shape[1], activation='relu' ) )\n",
    "    # model.add( l.Dense( 12, activation='softmax') )\n",
    "\n",
    "    # # compile model\n",
    "    # model.compile( loss='categorical_crossentropy', optimizer='adam', metrics=['accuracy'] )\n",
    "\n",
    "    # # training model\n",
    "    # model.fit( x_train_fold, y_train_fold_nn, epochs=100, batch_size=32, verbose=0 )\n",
    "\n",
    "    # # prediction\n",
    "    # pred_nn = model.predict( x_val_fold )\n",
    "    # yhat_nn = ohe.inverse_transform( pred_nn )\n",
    "    \n",
    "    # # prepare data\n",
    "    # y_test_nn = y_val_fold.to_numpy()\n",
    "    # yhat_nn = yhat_nn.reshape( 1, -1 )[0]\n",
    "\n",
    "    # # metrics\n",
    "    # ## Balanced Accuracy \n",
    "    # balanced_acc_nn = m.balanced_accuracy_score( y_test_nn, yhat_nn )\n",
    "    # balanced_acc_list.append( balanced_acc_nn )\n",
    "    \n",
    "    # ## Kappa Metrics\n",
    "    # kappa_acc_nn = m.cohen_kappa_score( y_test_nn, yhat_nn )\n",
    "    # kappa_acc_list.append( kappa_acc_nn )\n",
    "    \n",
    "    # i += 1"
   ]
  },
  {
   "cell_type": "code",
   "execution_count": null,
   "metadata": {
    "ExecuteTime": {
     "end_time": "2022-09-16T11:28:27.836288Z",
     "start_time": "2022-09-16T11:28:27.820294Z"
    },
    "canvas": {
     "comments": [],
     "componentType": "CodeCell",
     "copiedOriginId": null,
     "diskcache": false,
     "headerColor": "inherit",
     "id": "b122fc62-cb0c-4370-b89c-dbf1f4e5636f",
     "isComponent": false,
     "name": "",
     "parents": []
    },
    "hidden": true
   },
   "outputs": [
    {
     "name": "stdout",
     "output_type": "stream",
     "text": [
      "Avg Balanced Accuracy: 0.4429 +/- 0.0034\n",
      "Avg Kappa: 0.4014 +/- 0.0027\n"
     ]
    }
   ],
   "source": [
    "# print( 'Avg Balanced Accuracy: {} +/- {}'.format( np.round( np.mean( balanced_acc_list ), 4 ), np.round( np.std( balanced_acc_list ), 4 ) ) )\n",
    "# print( 'Avg Kappa: {} +/- {}'.format( np.round( np.mean( kappa_acc_list ), 4 ), np.round( np.std( kappa_acc_list ), 4 ) ) )"
   ]
  },
  {
   "cell_type": "markdown",
   "metadata": {},
   "source": [
    "# Test Dataframe"
   ]
  },
  {
   "cell_type": "code",
   "execution_count": null,
   "metadata": {},
   "outputs": [
    {
     "data": {
      "text/plain": [
       "(62096, 15)"
      ]
     },
     "execution_count": 204,
     "metadata": {},
     "output_type": "execute_result"
    }
   ],
   "source": [
    "df_test = pd.read_csv('datasets/test_users.csv', low_memory=True )\n",
    "df_test.shape"
   ]
  },
  {
   "cell_type": "code",
   "execution_count": null,
   "metadata": {},
   "outputs": [],
   "source": [
    "x_test = df7.drop( 'country_destination', axis=1 )\n",
    "y_test = df7['country_destination'].copy()"
   ]
  },
  {
   "cell_type": "code",
   "execution_count": null,
   "metadata": {},
   "outputs": [],
   "source": [
    "#standardization ( centralizao e rescala)\n",
    "ss = pp.StandardScaler()\n",
    "x_test_scaler = ss.fit_transform( x_test )\n"
   ]
  },
  {
   "cell_type": "code",
   "execution_count": null,
   "metadata": {},
   "outputs": [],
   "source": [
    "# Features selection df test\n",
    "pca = d.PCA( k ).fit( x_test_scaler )\n",
    "x_test = pca.transform( x_test_scaler )"
   ]
  },
  {
   "cell_type": "code",
   "execution_count": null,
   "metadata": {},
   "outputs": [
    {
     "name": "stdout",
     "output_type": "stream",
     "text": [
      "Test ACC:0.2777508497238159\n"
     ]
    }
   ],
   "source": [
    "# Fit model df test\n",
    "y_test_nn = ohe.transform( y_test.values.reshape( -1, 1 ) ).toarray()\n",
    "_, test_acc = model.evaluate( x_test, y_test_nn, verbose=0 )\n",
    "\n",
    "print( 'Test ACC:{}'.format( test_acc ) )"
   ]
  }
 ],
 "metadata": {
  "canvas": {
   "colorPalette": [
    "inherit",
    "inherit",
    "inherit",
    "inherit",
    "inherit",
    "inherit",
    "inherit",
    "inherit",
    "inherit",
    "inherit"
   ],
   "parameters": [],
   "version": "1.0"
  },
  "hide_input": false,
  "kernelspec": {
   "display_name": "Python 3 (ipykernel)",
   "language": "python",
   "name": "python3"
  },
  "language_info": {
   "codemirror_mode": {
    "name": "ipython",
    "version": 3
   },
   "file_extension": ".py",
   "mimetype": "text/x-python",
   "name": "python",
   "nbconvert_exporter": "python",
   "pygments_lexer": "ipython3",
   "version": "3.8.13"
  },
  "toc": {
   "base_numbering": 1,
   "nav_menu": {},
   "number_sections": true,
   "sideBar": true,
   "skip_h1_title": false,
   "title_cell": "Table of Contents",
   "title_sidebar": "Contents",
   "toc_cell": false,
   "toc_position": {
    "height": "calc(100% - 180px)",
    "left": "10px",
    "top": "150px",
    "width": "439px"
   },
   "toc_section_display": true,
   "toc_window_display": true
  },
  "toc-showmarkdowntxt": false,
  "vscode": {
   "interpreter": {
    "hash": "f090cc9c0aa5c423d6d880ca682b70db6cd5abc1a8c67959c0121f4539369e24"
   }
  }
 },
 "nbformat": 4,
 "nbformat_minor": 4
}
