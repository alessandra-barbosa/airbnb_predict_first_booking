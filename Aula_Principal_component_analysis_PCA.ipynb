{
 "cells": [
  {
   "cell_type": "markdown",
   "metadata": {},
   "source": [
    "# Live 014 - PCA ( Principal Component Analysis )"
   ]
  },
  {
   "cell_type": "markdown",
   "metadata": {
    "ExecuteTime": {
     "end_time": "2021-01-09T18:58:12.645306Z",
     "start_time": "2021-01-09T18:58:12.641306Z"
    }
   },
   "source": [
    "### Nesse notebook, você vai encontrar os códigos para aplicar PCA sobre um modelo de redes neurais"
   ]
  },
  {
   "cell_type": "markdown",
   "metadata": {},
   "source": [
    "## 0.0. Imports"
   ]
  },
  {
   "cell_type": "code",
   "execution_count": 1,
   "metadata": {
    "ExecuteTime": {
     "end_time": "2022-09-22T10:02:45.311452Z",
     "start_time": "2022-09-22T10:02:30.726208Z"
    },
    "tags": []
   },
   "outputs": [],
   "source": [
    "import pandas as pd\n",
    "import numpy  as np\n",
    "import seaborn as sns\n",
    "\n",
    "from sklearn import model_selection as ms\n",
    "from sklearn import preprocessing   as pp\n",
    "from sklearn import decomposition   as d\n",
    "\n",
    "from keras.models    import Sequential\n",
    "from keras.layers    import Dense\n",
    "from keras.callbacks import EarlyStopping\n",
    "\n",
    "from matplotlib import pyplot as plt"
   ]
  },
  {
   "cell_type": "code",
   "execution_count": 2,
   "metadata": {
    "ExecuteTime": {
     "end_time": "2022-09-22T10:02:45.327464Z",
     "start_time": "2022-09-22T10:02:45.313450Z"
    }
   },
   "outputs": [],
   "source": [
    "np.set_printoptions(suppress=True)"
   ]
  },
  {
   "cell_type": "markdown",
   "metadata": {
    "tags": []
   },
   "source": [
    "## 0.1. Load Dataset"
   ]
  },
  {
   "cell_type": "code",
   "execution_count": 3,
   "metadata": {
    "ExecuteTime": {
     "end_time": "2022-09-22T10:02:45.374683Z",
     "start_time": "2022-09-22T10:02:45.328457Z"
    },
    "tags": []
   },
   "outputs": [
    {
     "data": {
      "text/html": [
       "<div>\n",
       "<style scoped>\n",
       "    .dataframe tbody tr th:only-of-type {\n",
       "        vertical-align: middle;\n",
       "    }\n",
       "\n",
       "    .dataframe tbody tr th {\n",
       "        vertical-align: top;\n",
       "    }\n",
       "\n",
       "    .dataframe thead th {\n",
       "        text-align: right;\n",
       "    }\n",
       "</style>\n",
       "<table border=\"1\" class=\"dataframe\">\n",
       "  <thead>\n",
       "    <tr style=\"text-align: right;\">\n",
       "      <th></th>\n",
       "      <th>compactness</th>\n",
       "      <th>circularity</th>\n",
       "      <th>distance_circularity</th>\n",
       "      <th>radius_ratio</th>\n",
       "      <th>pr.axis_aspect_ratio</th>\n",
       "      <th>max.length_aspect_ratio</th>\n",
       "      <th>scatter_ratio</th>\n",
       "      <th>elongatedness</th>\n",
       "      <th>pr.axis_rectangularity</th>\n",
       "      <th>max.length_rectangularity</th>\n",
       "      <th>scaled_variance</th>\n",
       "      <th>scaled_variance.1</th>\n",
       "      <th>scaled_radius_of_gyration</th>\n",
       "      <th>scaled_radius_of_gyration.1</th>\n",
       "      <th>skewness_about</th>\n",
       "      <th>skewness_about.1</th>\n",
       "      <th>skewness_about.2</th>\n",
       "      <th>hollows_ratio</th>\n",
       "      <th>class</th>\n",
       "    </tr>\n",
       "  </thead>\n",
       "  <tbody>\n",
       "    <tr>\n",
       "      <th>0</th>\n",
       "      <td>95</td>\n",
       "      <td>48.0</td>\n",
       "      <td>83.0</td>\n",
       "      <td>178.0</td>\n",
       "      <td>72.0</td>\n",
       "      <td>10</td>\n",
       "      <td>162.0</td>\n",
       "      <td>42.0</td>\n",
       "      <td>20.0</td>\n",
       "      <td>159</td>\n",
       "      <td>176.0</td>\n",
       "      <td>379.0</td>\n",
       "      <td>184.0</td>\n",
       "      <td>70.0</td>\n",
       "      <td>6.0</td>\n",
       "      <td>16.0</td>\n",
       "      <td>187.0</td>\n",
       "      <td>197</td>\n",
       "      <td>van</td>\n",
       "    </tr>\n",
       "    <tr>\n",
       "      <th>1</th>\n",
       "      <td>91</td>\n",
       "      <td>41.0</td>\n",
       "      <td>84.0</td>\n",
       "      <td>141.0</td>\n",
       "      <td>57.0</td>\n",
       "      <td>9</td>\n",
       "      <td>149.0</td>\n",
       "      <td>45.0</td>\n",
       "      <td>19.0</td>\n",
       "      <td>143</td>\n",
       "      <td>170.0</td>\n",
       "      <td>330.0</td>\n",
       "      <td>158.0</td>\n",
       "      <td>72.0</td>\n",
       "      <td>9.0</td>\n",
       "      <td>14.0</td>\n",
       "      <td>189.0</td>\n",
       "      <td>199</td>\n",
       "      <td>van</td>\n",
       "    </tr>\n",
       "    <tr>\n",
       "      <th>2</th>\n",
       "      <td>104</td>\n",
       "      <td>50.0</td>\n",
       "      <td>106.0</td>\n",
       "      <td>209.0</td>\n",
       "      <td>66.0</td>\n",
       "      <td>10</td>\n",
       "      <td>207.0</td>\n",
       "      <td>32.0</td>\n",
       "      <td>23.0</td>\n",
       "      <td>158</td>\n",
       "      <td>223.0</td>\n",
       "      <td>635.0</td>\n",
       "      <td>220.0</td>\n",
       "      <td>73.0</td>\n",
       "      <td>14.0</td>\n",
       "      <td>9.0</td>\n",
       "      <td>188.0</td>\n",
       "      <td>196</td>\n",
       "      <td>car</td>\n",
       "    </tr>\n",
       "    <tr>\n",
       "      <th>3</th>\n",
       "      <td>93</td>\n",
       "      <td>41.0</td>\n",
       "      <td>82.0</td>\n",
       "      <td>159.0</td>\n",
       "      <td>63.0</td>\n",
       "      <td>9</td>\n",
       "      <td>144.0</td>\n",
       "      <td>46.0</td>\n",
       "      <td>19.0</td>\n",
       "      <td>143</td>\n",
       "      <td>160.0</td>\n",
       "      <td>309.0</td>\n",
       "      <td>127.0</td>\n",
       "      <td>63.0</td>\n",
       "      <td>6.0</td>\n",
       "      <td>10.0</td>\n",
       "      <td>199.0</td>\n",
       "      <td>207</td>\n",
       "      <td>van</td>\n",
       "    </tr>\n",
       "    <tr>\n",
       "      <th>4</th>\n",
       "      <td>85</td>\n",
       "      <td>44.0</td>\n",
       "      <td>70.0</td>\n",
       "      <td>205.0</td>\n",
       "      <td>103.0</td>\n",
       "      <td>52</td>\n",
       "      <td>149.0</td>\n",
       "      <td>45.0</td>\n",
       "      <td>19.0</td>\n",
       "      <td>144</td>\n",
       "      <td>241.0</td>\n",
       "      <td>325.0</td>\n",
       "      <td>188.0</td>\n",
       "      <td>127.0</td>\n",
       "      <td>9.0</td>\n",
       "      <td>11.0</td>\n",
       "      <td>180.0</td>\n",
       "      <td>183</td>\n",
       "      <td>bus</td>\n",
       "    </tr>\n",
       "  </tbody>\n",
       "</table>\n",
       "</div>"
      ],
      "text/plain": [
       "   compactness  circularity  distance_circularity  radius_ratio  \\\n",
       "0           95         48.0                  83.0         178.0   \n",
       "1           91         41.0                  84.0         141.0   \n",
       "2          104         50.0                 106.0         209.0   \n",
       "3           93         41.0                  82.0         159.0   \n",
       "4           85         44.0                  70.0         205.0   \n",
       "\n",
       "   pr.axis_aspect_ratio  max.length_aspect_ratio  scatter_ratio  \\\n",
       "0                  72.0                       10          162.0   \n",
       "1                  57.0                        9          149.0   \n",
       "2                  66.0                       10          207.0   \n",
       "3                  63.0                        9          144.0   \n",
       "4                 103.0                       52          149.0   \n",
       "\n",
       "   elongatedness  pr.axis_rectangularity  max.length_rectangularity  \\\n",
       "0           42.0                    20.0                        159   \n",
       "1           45.0                    19.0                        143   \n",
       "2           32.0                    23.0                        158   \n",
       "3           46.0                    19.0                        143   \n",
       "4           45.0                    19.0                        144   \n",
       "\n",
       "   scaled_variance  scaled_variance.1  scaled_radius_of_gyration  \\\n",
       "0            176.0              379.0                      184.0   \n",
       "1            170.0              330.0                      158.0   \n",
       "2            223.0              635.0                      220.0   \n",
       "3            160.0              309.0                      127.0   \n",
       "4            241.0              325.0                      188.0   \n",
       "\n",
       "   scaled_radius_of_gyration.1  skewness_about  skewness_about.1  \\\n",
       "0                         70.0             6.0              16.0   \n",
       "1                         72.0             9.0              14.0   \n",
       "2                         73.0            14.0               9.0   \n",
       "3                         63.0             6.0              10.0   \n",
       "4                        127.0             9.0              11.0   \n",
       "\n",
       "   skewness_about.2  hollows_ratio class  \n",
       "0             187.0            197   van  \n",
       "1             189.0            199   van  \n",
       "2             188.0            196   car  \n",
       "3             199.0            207   van  \n",
       "4             180.0            183   bus  "
      ]
     },
     "execution_count": 3,
     "metadata": {},
     "output_type": "execute_result"
    }
   ],
   "source": [
    "# load dataset\n",
    "df_raw = pd.read_csv( 'datasets/vehicle.csv' )\n",
    "df_raw.head()"
   ]
  },
  {
   "cell_type": "code",
   "execution_count": 4,
   "metadata": {
    "ExecuteTime": {
     "end_time": "2022-09-22T10:02:45.389647Z",
     "start_time": "2022-09-22T10:02:45.376678Z"
    }
   },
   "outputs": [
    {
     "data": {
      "text/plain": [
       "car    0.507092\n",
       "bus    0.257683\n",
       "van    0.235225\n",
       "Name: class, dtype: float64"
      ]
     },
     "execution_count": 4,
     "metadata": {},
     "output_type": "execute_result"
    }
   ],
   "source": [
    "df_raw['class'].value_counts( normalize=True )"
   ]
  },
  {
   "cell_type": "code",
   "execution_count": 5,
   "metadata": {
    "ExecuteTime": {
     "end_time": "2022-09-22T10:02:45.405596Z",
     "start_time": "2022-09-22T10:02:45.391639Z"
    }
   },
   "outputs": [],
   "source": [
    "# select only car and bus\n",
    "df1 = df_raw[df_raw['class'].isin( ['car', 'bus'] )]\n",
    "\n",
    "# cleaning\n",
    "df1 = df1.dropna()\n",
    "\n",
    "# features and response variable\n",
    "X = df1.drop( 'class', axis=1 )\n",
    "y = df1['class']\n",
    "\n",
    "# split training and test\n",
    "x, x_test, y, y_test = ms.train_test_split( X, y, test_size=0.1 )"
   ]
  },
  {
   "cell_type": "markdown",
   "metadata": {
    "tags": []
   },
   "source": [
    "# 1.0. Neural Network Model without PCA"
   ]
  },
  {
   "cell_type": "code",
   "execution_count": 6,
   "metadata": {
    "ExecuteTime": {
     "end_time": "2022-09-22T10:04:48.829290Z",
     "start_time": "2022-09-22T10:02:45.406635Z"
    },
    "tags": []
   },
   "outputs": [],
   "source": [
    "# HOLD OUT\n",
    "train_acc_list = []\n",
    "val_acc_list = []\n",
    "for i in range( 0, 50 ):\n",
    "    # split training and validation\n",
    "    x_train, x_val, y_train, y_val = ms.train_test_split( x, y, test_size=0.2 )\n",
    "\n",
    "    # y for NN\n",
    "    ohe = pp.OneHotEncoder()\n",
    "    y_train = ohe.fit_transform( y_train.values.reshape( -1, 1 ) ).toarray()\n",
    "    y_val = ohe.transform( y_val.values.reshape( -1, 1 ) ).toarray()\n",
    "\n",
    "\n",
    "    # MLP: Neural Network \n",
    "    ## model definition\n",
    "    model = Sequential()\n",
    "    model.add( Dense( 2, input_dim=x_train.shape[1], activation='relu' ) ) # 2 neurons on Hidden Layer + Input Layer\n",
    "    model.add( Dense( 2, activation='softmax' ) )\n",
    "\n",
    "    ## model compile\n",
    "    model.compile( loss='categorical_crossentropy', optimizer='adam', metrics=['accuracy'] )\n",
    "\n",
    "    ### model fit ( training)\n",
    "    es = EarlyStopping( monitor='val_loss', patience=10 )\n",
    "    history = model.fit( x_train, y_train, validation_data=(x_val, y_val), epochs=100, callbacks=[es], verbose=0 )\n",
    "\n",
    "    ## model evaluate\n",
    "    _, train_acc = model.evaluate( x_train, y_train, verbose=0 )\n",
    "    _, val_acc = model.evaluate( x_val, y_val, verbose=0 )\n",
    "\n",
    "    #print( 'Train ACC:{} - Val ACC:{}'.format( train_acc, val_acc ) )\n",
    "    train_acc_list.append( train_acc )\n",
    "    val_acc_list.append( val_acc )"
   ]
  },
  {
   "cell_type": "code",
   "execution_count": 7,
   "metadata": {
    "ExecuteTime": {
     "end_time": "2022-09-22T10:04:48.845114Z",
     "start_time": "2022-09-22T10:04:48.830154Z"
    }
   },
   "outputs": [
    {
     "name": "stdout",
     "output_type": "stream",
     "text": [
      "Train ACC AVG: 0.6931982028484345 +/- 0.04168624116176049\n",
      "Val ACC AVG: 0.7055357158184051 +/- 0.05274632440529618\n"
     ]
    }
   ],
   "source": [
    "print( 'Train ACC AVG: {} +/- {}'.format( np.mean( train_acc_list ), np.std( train_acc_list ) ) )\n",
    "print( 'Val ACC AVG: {} +/- {}'.format( np.mean( val_acc_list ), np.std( val_acc_list ) ) )"
   ]
  },
  {
   "cell_type": "code",
   "execution_count": 8,
   "metadata": {
    "ExecuteTime": {
     "end_time": "2022-09-22T10:04:49.300324Z",
     "start_time": "2022-09-22T10:04:48.847109Z"
    }
   },
   "outputs": [
    {
     "data": {
      "text/plain": [
       "<matplotlib.legend.Legend at 0x1a2b9e35f70>"
      ]
     },
     "execution_count": 8,
     "metadata": {},
     "output_type": "execute_result"
    },
    {
     "data": {
      "image/png": "[encoded data removed]",
      "text/plain": [
       "<Figure size 640x480 with 1 Axes>"
      ]
     },
     "metadata": {},
     "output_type": "display_data"
    }
   ],
   "source": [
    "plt.plot( train_acc_list, label='training'  )\n",
    "plt.plot( val_acc_list, label='validation' )\n",
    "plt.legend()"
   ]
  },
  {
   "cell_type": "code",
   "execution_count": 9,
   "metadata": {
    "ExecuteTime": {
     "end_time": "2022-09-22T10:04:49.362166Z",
     "start_time": "2022-09-22T10:04:49.301321Z"
    }
   },
   "outputs": [
    {
     "name": "stdout",
     "output_type": "stream",
     "text": [
      "Test ACC:0.6451612710952759\n"
     ]
    }
   ],
   "source": [
    "y_test_nn = ohe.transform( y_test.values.reshape( -1, 1 ) ).toarray()\n",
    "_, test_acc = model.evaluate( x_test, y_test_nn, verbose=0 )\n",
    "\n",
    "print( 'Test ACC:{}'.format( test_acc ) )"
   ]
  },
  {
   "cell_type": "markdown",
   "metadata": {},
   "source": [
    "# 2.0. Neural Network Model with PCA"
   ]
  },
  {
   "cell_type": "code",
   "execution_count": 10,
   "metadata": {
    "ExecuteTime": {
     "end_time": "2022-09-22T11:08:23.642117Z",
     "start_time": "2022-09-22T11:08:20.804031Z"
    },
    "scrolled": true,
    "tags": []
   },
   "outputs": [
    {
     "name": "stdout",
     "output_type": "stream",
     "text": [
      "Train ACC:0.8963963985443115 - Val ACC:0.875\n"
     ]
    }
   ],
   "source": [
    "# split training and validation\n",
    "x_train, x_val, y_train, y_val = ms.train_test_split( x, y, test_size=0.2 )\n",
    "\n",
    "# PCA \n",
    "#standardization ( centralizao e rescala)\n",
    "ss = pp.StandardScaler()\n",
    "x_train_scaler = ss.fit_transform( x_train )\n",
    "x_val_scaler = ss.transform( x_val )\n",
    "\n",
    "# define the number of eigenvectors ( autovetor ) + eigenvalues ( autovalores )\n",
    "pca = d.PCA().fit( x_train_scaler )\n",
    "k = np.argmax( np.cumsum( pca.explained_variance_ratio_ ) > 0.99 )\n",
    "\n",
    "# change data to new space\n",
    "pca = d.PCA( k ).fit( x_train_scaler )\n",
    "\n",
    "x_train = pca.transform( x_train_scaler )\n",
    "x_val = pca.transform( x_val_scaler )\n",
    "\n",
    "# y for NN\n",
    "ohe = pp.OneHotEncoder()\n",
    "y_train = ohe.fit_transform( y_train.values.reshape( -1, 1 ) ).toarray()\n",
    "y_val = ohe.transform( y_val.values.reshape( -1, 1 ) ).toarray()\n",
    "\n",
    "\n",
    "# MLP: Neural Network \n",
    "## model definition\n",
    "model = Sequential()\n",
    "model.add( Dense( 2, input_dim=x_train.shape[1], activation='relu' ) ) # 2 neurons on Hidden Layer + Input Layer\n",
    "model.add( Dense( 2, activation='softmax' ) )\n",
    "\n",
    "## model compile\n",
    "model.compile( loss='categorical_crossentropy', optimizer='adam', metrics=['accuracy'] )\n",
    "\n",
    "### model fit ( training)\n",
    "es = EarlyStopping( monitor='val_loss', patience=10 )\n",
    "history = model.fit( x_train, y_train, validation_data=(x_val, y_val), epochs=100, callbacks=[es], verbose=0 )\n",
    "\n",
    "## model evaluate\n",
    "_, train_acc = model.evaluate( x_train, y_train, verbose=0 )\n",
    "_, val_acc = model.evaluate( x_val, y_val, verbose=0 )\n",
    "\n",
    "print( 'Train ACC:{} - Val ACC:{}'.format( train_acc, val_acc ) )\n",
    "train_acc_list.append( train_acc )\n",
    "val_acc_list.append( val_acc )"
   ]
  },
  {
   "cell_type": "code",
   "execution_count": 11,
   "metadata": {
    "ExecuteTime": {
     "end_time": "2022-09-22T10:04:52.467851Z",
     "start_time": "2022-09-22T10:04:52.408849Z"
    }
   },
   "outputs": [
    {
     "name": "stdout",
     "output_type": "stream",
     "text": [
      "Test ACC:0.9032257795333862\n"
     ]
    }
   ],
   "source": [
    "x_test_nn = pca.transform( ss.transform( x_test ) )\n",
    "y_test_nn = ohe.transform( y_test.values.reshape( -1, 1 ) ).toarray()\n",
    "_, test_acc = model.evaluate( x_test_nn, y_test_nn, verbose=0 )\n",
    "\n",
    "print( 'Test ACC:{}'.format( test_acc ) )"
   ]
  },
  {
   "cell_type": "code",
   "execution_count": 12,
   "metadata": {
    "ExecuteTime": {
     "end_time": "2022-09-22T10:04:52.483491Z",
     "start_time": "2022-09-22T10:04:52.469747Z"
    },
    "tags": []
   },
   "outputs": [
    {
     "data": {
      "text/plain": [
       "(62, 9)"
      ]
     },
     "execution_count": 12,
     "metadata": {},
     "output_type": "execute_result"
    }
   ],
   "source": [
    "x_test_nn.shape"
   ]
  },
  {
   "cell_type": "markdown",
   "metadata": {},
   "source": [
    "# 4.0. How to determine the number of principal components ?"
   ]
  },
  {
   "cell_type": "code",
   "execution_count": 13,
   "metadata": {
    "ExecuteTime": {
     "end_time": "2022-09-22T10:04:52.498498Z",
     "start_time": "2022-09-22T10:04:52.484490Z"
    },
    "tags": []
   },
   "outputs": [],
   "source": [
    "# return autovalores\n",
    "pca.explained_variance_ratio_ #eigenvalues - autovalores\n",
    "\n",
    "# accumulated sum of autovalores\n",
    "np.cumsum( pca.explained_variance_ratio_ )\n",
    "\n",
    "# determine the number of eigenvalues that represents 95% of the variability\n",
    "k = np.argmax( np.cumsum( pca.explained_variance_ratio_ ) > 0.95 )"
   ]
  },
  {
   "cell_type": "code",
   "execution_count": 14,
   "metadata": {
    "ExecuteTime": {
     "end_time": "2022-09-22T10:04:52.671901Z",
     "start_time": "2022-09-22T10:04:52.499597Z"
    }
   },
   "outputs": [
    {
     "data": {
      "text/plain": [
       "<matplotlib.lines.Line2D at 0x1a2bd2ca1f0>"
      ]
     },
     "execution_count": 14,
     "metadata": {},
     "output_type": "execute_result"
    },
    {
     "data": {
      "image/png": "[encoded data removed]",
      "text/plain": [
       "<Figure size 2000x1000 with 1 Axes>"
      ]
     },
     "metadata": {},
     "output_type": "display_data"
    }
   ],
   "source": [
    "plt.figure(figsize=(20,10) )\n",
    "plt.plot( np.cumsum( pca.explained_variance_ratio_ ) )\n",
    "plt.axvline( 5, color='red', linestyle='--')\n",
    "plt.axhline( 0.95, color='red', linestyle='--')"
   ]
  },
  {
   "cell_type": "markdown",
   "metadata": {},
   "source": [
    "# 5.0. Why does PCA increase model performance?"
   ]
  },
  {
   "cell_type": "markdown",
   "metadata": {},
   "source": [
    "## Data space\n",
    "- Espaco mais organizado \n",
    "\n",
    "## Principais aplicações\n",
    "- PCA = Processamento de Imagem - Redutor de ruido\n",
    "- PCA antes de redes neurais\n",
    "\n",
    "## Uso na estatística\n",
    "- PCA = Estudo do Espacos\n",
    "\n",
    "## PCA não permite explicabilidade\n",
    "- PCA + NN = 95% - 0 Explicabilidade\n",
    "- Random Forest - 85% - Explicabilidades\n",
    "\n",
    "## PCA diminui o tamanho do modelo treinado em memória\n",
    "- Random Forest - Treinada 22GB - U$ 5,00\n",
    "\n",
    "- XGBoost -%4 - 200MB - U$0,04"
   ]
  },
  {
   "cell_type": "code",
   "execution_count": null,
   "metadata": {},
   "outputs": [],
   "source": []
  },
  {
   "cell_type": "code",
   "execution_count": null,
   "metadata": {},
   "outputs": [],
   "source": []
  }
 ],
 "metadata": {
  "hide_input": false,
  "kernelspec": {
   "display_name": "Python 3.8.13 ('classificazione')",
   "language": "python",
   "name": "python3"
  },
  "language_info": {
   "codemirror_mode": {
    "name": "ipython",
    "version": 3
   },
   "file_extension": ".py",
   "mimetype": "text/x-python",
   "name": "python",
   "nbconvert_exporter": "python",
   "pygments_lexer": "ipython3",
   "version": "3.8.13"
  },
  "toc": {
   "base_numbering": 1,
   "nav_menu": {},
   "number_sections": true,
   "sideBar": true,
   "skip_h1_title": false,
   "title_cell": "Table of Contents",
   "title_sidebar": "Contents",
   "toc_cell": false,
   "toc_position": {},
   "toc_section_display": true,
   "toc_window_display": false
  },
  "vscode": {
   "interpreter": {
    "hash": "f090cc9c0aa5c423d6d880ca682b70db6cd5abc1a8c67959c0121f4539369e24"
   }
  }
 },
 "nbformat": 4,
 "nbformat_minor": 4
}
