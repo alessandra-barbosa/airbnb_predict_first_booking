{
 "cells": [
  {
   "cell_type": "markdown",
   "metadata": {
    "heading_collapsed": true
   },
   "source": [
    "# 0.0. Entender Problema"
   ]
  },
  {
   "cell_type": "markdown",
   "metadata": {
    "ExecuteTime": {
     "end_time": "2020-09-02T10:40:18.252578Z",
     "start_time": "2020-09-02T10:40:18.247319Z"
    },
    "hidden": true
   },
   "source": [
    "-- Objetivo do Problema:\n",
    "    -- 1.0. Previsao do primeiro destino que um novo usuário irá escolher.\n",
    "    \n",
    "    -- Porque?\n",
    "        -- Qual tipo de modelo de negócio do Airbnb?\n",
    "            -- Marketplace ( Conectar pessoas que oferecem acomodacao, com pessoas que estao procurando acomodacao)\n",
    "            -- Oferta ( pessoas oferecendo acomodacao )\n",
    "                -- Tamanho do portfólio.\n",
    "                -- Diversidade/Densidade de Portfólio.\n",
    "                -- Preco Medio\n",
    "                \n",
    "            -- Demanda ( pessoas procurando acomodacao )\n",
    "                -- Numero de Usuários\n",
    "                -- LTV ( Lifetime Value )\n",
    "                -- CAC ( Client Acquisition Cost )\n",
    "                \n",
    "                \n",
    "               Gross Revenue = ( Fee*Numero cliente ) - CAC \n",
    "    \n",
    "-- Proposta da Solucao\n",
    "\n",
    "    --- Modelo de Predivao do primeiro destino de um novo usario.\n",
    "    --- 1.0. Predicoes e salva em tabela do banco de dados. \n",
    "    --- 2.0. API \n",
    "            --- Input: usuario e suas caracteristicas\n",
    "            --- Output: usuario e suas caracteristicas com a **predicao do destino**\n",
    "            \n",
    "    --- 16 ciclos"
   ]
  },
  {
   "cell_type": "markdown",
   "metadata": {
    "ExecuteTime": {
     "end_time": "2020-09-02T00:08:29.136234Z",
     "start_time": "2020-09-02T00:08:29.133768Z"
    },
    "heading_collapsed": true
   },
   "source": [
    "# <font color='red'> Ciclo01: End to End </font>"
   ]
  },
  {
   "cell_type": "markdown",
   "metadata": {},
   "source": [
    "# 0.0. Imports"
   ]
  },
  {
   "cell_type": "code",
   "execution_count": 57,
   "metadata": {
    "ExecuteTime": {
     "end_time": "2020-09-16T00:40:08.376802Z",
     "start_time": "2020-09-16T00:40:08.373968Z"
    }
   },
   "outputs": [],
   "source": [
    "import random\n",
    "import numpy  as np\n",
    "import pandas as pd\n",
    "\n",
    "from sklearn import model_selection as ms\n",
    "from sklearn import preprocessing   as pp\n",
    "from sklearn import metrics         as m\n",
    "from scikitplot import metrics      as mt\n",
    "\n",
    "from keras import models as ml\n",
    "from keras import layers as l"
   ]
  },
  {
   "cell_type": "markdown",
   "metadata": {},
   "source": [
    "## 0.1. Helper Functions"
   ]
  },
  {
   "cell_type": "markdown",
   "metadata": {
    "heading_collapsed": true
   },
   "source": [
    "## 0.2. Loading Data"
   ]
  },
  {
   "cell_type": "code",
   "execution_count": 22,
   "metadata": {
    "ExecuteTime": {
     "end_time": "2020-09-15T23:48:41.413441Z",
     "start_time": "2020-09-15T23:48:40.949932Z"
    },
    "hidden": true
   },
   "outputs": [
    {
     "data": {
      "text/plain": [
       "(213451, 16)"
      ]
     },
     "execution_count": 22,
     "metadata": {},
     "output_type": "execute_result"
    }
   ],
   "source": [
    "df_raw = pd.read_csv( 'dataset/training_users.csv', low_memory=True )\n",
    "df_raw.shape"
   ]
  },
  {
   "cell_type": "code",
   "execution_count": 23,
   "metadata": {
    "ExecuteTime": {
     "end_time": "2020-09-15T23:48:41.419367Z",
     "start_time": "2020-09-15T23:48:41.416863Z"
    },
    "hidden": true
   },
   "outputs": [],
   "source": [
    "#df_sessions = pd.read_csv( 'dataset/sessions.csv', low_memory=True )\n",
    "#df_sessions.shape"
   ]
  },
  {
   "cell_type": "markdown",
   "metadata": {},
   "source": [
    "# 1.0. Data Description"
   ]
  },
  {
   "cell_type": "code",
   "execution_count": 24,
   "metadata": {
    "ExecuteTime": {
     "end_time": "2020-09-15T23:48:41.440343Z",
     "start_time": "2020-09-15T23:48:41.423227Z"
    }
   },
   "outputs": [],
   "source": [
    "df1 = df_raw.copy()"
   ]
  },
  {
   "cell_type": "code",
   "execution_count": 25,
   "metadata": {
    "ExecuteTime": {
     "end_time": "2020-09-15T23:48:41.445466Z",
     "start_time": "2020-09-15T23:48:41.442014Z"
    }
   },
   "outputs": [
    {
     "name": "stdout",
     "output_type": "stream",
     "text": [
      "Number of rows: 213451\n",
      "Number of columns: 16\n"
     ]
    }
   ],
   "source": [
    "print( 'Number of rows: {}'.format( df1.shape[0] ) )\n",
    "print( 'Number of columns: {}'.format( df1.shape[1] ) )"
   ]
  },
  {
   "cell_type": "markdown",
   "metadata": {},
   "source": [
    "## 1.1. Data Type"
   ]
  },
  {
   "cell_type": "code",
   "execution_count": 26,
   "metadata": {
    "ExecuteTime": {
     "end_time": "2020-09-15T23:48:41.455250Z",
     "start_time": "2020-09-15T23:48:41.448437Z"
    }
   },
   "outputs": [
    {
     "data": {
      "text/plain": [
       "id                          object\n",
       "date_account_created        object\n",
       "timestamp_first_active       int64\n",
       "date_first_booking          object\n",
       "gender                      object\n",
       "age                        float64\n",
       "signup_method               object\n",
       "signup_flow                  int64\n",
       "language                    object\n",
       "affiliate_channel           object\n",
       "affiliate_provider          object\n",
       "first_affiliate_tracked     object\n",
       "signup_app                  object\n",
       "first_device_type           object\n",
       "first_browser               object\n",
       "country_destination         object\n",
       "dtype: object"
      ]
     },
     "execution_count": 26,
     "metadata": {},
     "output_type": "execute_result"
    }
   ],
   "source": [
    "df1.dtypes"
   ]
  },
  {
   "cell_type": "markdown",
   "metadata": {},
   "source": [
    "## 1.2. NA Check"
   ]
  },
  {
   "cell_type": "code",
   "execution_count": 27,
   "metadata": {
    "ExecuteTime": {
     "end_time": "2020-09-15T23:48:41.579559Z",
     "start_time": "2020-09-15T23:48:41.457245Z"
    }
   },
   "outputs": [
    {
     "data": {
      "text/plain": [
       "id                              0\n",
       "date_account_created            0\n",
       "timestamp_first_active          0\n",
       "date_first_booking         124543\n",
       "gender                          0\n",
       "age                         87990\n",
       "signup_method                   0\n",
       "signup_flow                     0\n",
       "language                        0\n",
       "affiliate_channel               0\n",
       "affiliate_provider              0\n",
       "first_affiliate_tracked      6065\n",
       "signup_app                      0\n",
       "first_device_type               0\n",
       "first_browser                   0\n",
       "country_destination             0\n",
       "dtype: int64"
      ]
     },
     "execution_count": 27,
     "metadata": {},
     "output_type": "execute_result"
    }
   ],
   "source": [
    "df1.isna().sum()"
   ]
  },
  {
   "cell_type": "code",
   "execution_count": 28,
   "metadata": {
    "ExecuteTime": {
     "end_time": "2020-09-15T23:48:41.714943Z",
     "start_time": "2020-09-15T23:48:41.583597Z"
    }
   },
   "outputs": [
    {
     "data": {
      "text/plain": [
       "(68171, 16)"
      ]
     },
     "execution_count": 28,
     "metadata": {},
     "output_type": "execute_result"
    }
   ],
   "source": [
    "# remove missing value completly\n",
    "df1 = df1.dropna()\n",
    "df1.shape"
   ]
  },
  {
   "cell_type": "markdown",
   "metadata": {},
   "source": [
    "## 1.3. Change Data Type"
   ]
  },
  {
   "cell_type": "code",
   "execution_count": 29,
   "metadata": {
    "ExecuteTime": {
     "end_time": "2020-09-15T23:48:41.725770Z",
     "start_time": "2020-09-15T23:48:41.719359Z"
    }
   },
   "outputs": [
    {
     "data": {
      "text/plain": [
       "id                          object\n",
       "date_account_created        object\n",
       "timestamp_first_active       int64\n",
       "date_first_booking          object\n",
       "gender                      object\n",
       "age                        float64\n",
       "signup_method               object\n",
       "signup_flow                  int64\n",
       "language                    object\n",
       "affiliate_channel           object\n",
       "affiliate_provider          object\n",
       "first_affiliate_tracked     object\n",
       "signup_app                  object\n",
       "first_device_type           object\n",
       "first_browser               object\n",
       "country_destination         object\n",
       "dtype: object"
      ]
     },
     "execution_count": 29,
     "metadata": {},
     "output_type": "execute_result"
    }
   ],
   "source": [
    "df1.dtypes"
   ]
  },
  {
   "cell_type": "code",
   "execution_count": 30,
   "metadata": {
    "ExecuteTime": {
     "end_time": "2020-09-15T23:48:42.068254Z",
     "start_time": "2020-09-15T23:48:41.729370Z"
    }
   },
   "outputs": [],
   "source": [
    "# date_account_created\n",
    "df1['date_account_created'] = pd.to_datetime( df1['date_account_created'] )\n",
    "\n",
    "# timestamp_first_active\n",
    "df1['timestamp_first_active'] = pd.to_datetime( df1['timestamp_first_active'], format='%Y%m%d%H%M%S' )\n",
    "\n",
    "# date_first_booking\n",
    "df1['date_first_booking'] = pd.to_datetime( df1['date_first_booking'] )\n",
    "\n",
    "# age\n",
    "df1['age'] = df1['age'].astype( int )"
   ]
  },
  {
   "cell_type": "markdown",
   "metadata": {},
   "source": [
    "## 1.4. Check Balanced Data"
   ]
  },
  {
   "cell_type": "code",
   "execution_count": 31,
   "metadata": {
    "ExecuteTime": {
     "end_time": "2020-09-15T23:48:42.082846Z",
     "start_time": "2020-09-15T23:48:42.070289Z"
    }
   },
   "outputs": [
    {
     "data": {
      "text/plain": [
       "US       0.708864\n",
       "other    0.110854\n",
       "FR       0.054085\n",
       "IT       0.029763\n",
       "GB       0.025935\n",
       "ES       0.024864\n",
       "CA       0.015696\n",
       "DE       0.012454\n",
       "NL       0.008801\n",
       "AU       0.006366\n",
       "PT       0.002318\n",
       "Name: country_destination, dtype: float64"
      ]
     },
     "execution_count": 31,
     "metadata": {},
     "output_type": "execute_result"
    }
   ],
   "source": [
    "df1['country_destination'].value_counts( normalize=True )"
   ]
  },
  {
   "cell_type": "markdown",
   "metadata": {
    "heading_collapsed": true
   },
   "source": [
    "# 2.0. Data Filtering"
   ]
  },
  {
   "cell_type": "code",
   "execution_count": 32,
   "metadata": {
    "ExecuteTime": {
     "end_time": "2020-09-15T23:48:42.095065Z",
     "start_time": "2020-09-15T23:48:42.084612Z"
    },
    "hidden": true
   },
   "outputs": [],
   "source": [
    "df2 = df1.copy()"
   ]
  },
  {
   "cell_type": "markdown",
   "metadata": {
    "hidden": true
   },
   "source": [
    "## 2.1. Filtering Rows"
   ]
  },
  {
   "cell_type": "markdown",
   "metadata": {
    "hidden": true
   },
   "source": [
    "## 2.2. Columns Selection"
   ]
  },
  {
   "cell_type": "markdown",
   "metadata": {
    "heading_collapsed": true
   },
   "source": [
    "# 3.0. Data Preparation"
   ]
  },
  {
   "cell_type": "code",
   "execution_count": 33,
   "metadata": {
    "ExecuteTime": {
     "end_time": "2020-09-15T23:48:42.104344Z",
     "start_time": "2020-09-15T23:48:42.097143Z"
    },
    "hidden": true
   },
   "outputs": [],
   "source": [
    "df3 = df2.copy()"
   ]
  },
  {
   "cell_type": "code",
   "execution_count": 34,
   "metadata": {
    "ExecuteTime": {
     "end_time": "2020-09-15T23:48:42.221613Z",
     "start_time": "2020-09-15T23:48:42.106176Z"
    },
    "hidden": true
   },
   "outputs": [],
   "source": [
    "# dummy variable\n",
    "df3_dummy = pd.get_dummies( df3.drop( ['id', 'country_destination'], axis=1 ) )\n",
    "\n",
    "# join id and country destination\n",
    "df3 = pd.concat( [df3[['id', 'country_destination']], df3_dummy], axis=1 )"
   ]
  },
  {
   "cell_type": "markdown",
   "metadata": {
    "heading_collapsed": true
   },
   "source": [
    "# 4.0. Feature Selection"
   ]
  },
  {
   "cell_type": "code",
   "execution_count": 35,
   "metadata": {
    "ExecuteTime": {
     "end_time": "2020-09-15T23:48:42.245060Z",
     "start_time": "2020-09-15T23:48:42.224193Z"
    },
    "hidden": true
   },
   "outputs": [],
   "source": [
    "cols_drop = ['date_account_created', 'timestamp_first_active', 'date_first_booking'] # original dates\n",
    "df4 = df3.drop( cols_drop, axis=1 )"
   ]
  },
  {
   "cell_type": "code",
   "execution_count": 36,
   "metadata": {
    "ExecuteTime": {
     "end_time": "2020-09-15T23:48:42.261913Z",
     "start_time": "2020-09-15T23:48:42.246823Z"
    },
    "hidden": true
   },
   "outputs": [],
   "source": [
    "X = df4.drop( 'country_destination', axis=1 )\n",
    "y = df4['country_destination'].copy()"
   ]
  },
  {
   "cell_type": "code",
   "execution_count": 37,
   "metadata": {
    "ExecuteTime": {
     "end_time": "2020-09-15T23:48:42.303722Z",
     "start_time": "2020-09-15T23:48:42.264645Z"
    },
    "hidden": true
   },
   "outputs": [],
   "source": [
    "# Split dataset into training and test\n",
    "X_train, X_test, y_train, y_test = ms.train_test_split( X, y, test_size=0.2, random_state=32 )"
   ]
  },
  {
   "cell_type": "markdown",
   "metadata": {},
   "source": [
    "# 5.0. Machine Learning Model"
   ]
  },
  {
   "cell_type": "code",
   "execution_count": 38,
   "metadata": {
    "ExecuteTime": {
     "end_time": "2020-09-15T23:48:42.317050Z",
     "start_time": "2020-09-15T23:48:42.306411Z"
    }
   },
   "outputs": [],
   "source": [
    "x_train = X_train.drop( 'id', axis=1 )\n",
    "x_test = X_test.drop( 'id', axis=1 )"
   ]
  },
  {
   "cell_type": "markdown",
   "metadata": {},
   "source": [
    "## 5.1. Baseline Model"
   ]
  },
  {
   "cell_type": "code",
   "execution_count": 39,
   "metadata": {
    "ExecuteTime": {
     "end_time": "2020-09-15T23:48:42.346552Z",
     "start_time": "2020-09-15T23:48:42.319847Z"
    }
   },
   "outputs": [
    {
     "data": {
      "text/plain": [
       "13635"
      ]
     },
     "execution_count": 39,
     "metadata": {},
     "output_type": "execute_result"
    }
   ],
   "source": [
    "country_destination_list = df1['country_destination'].drop_duplicates().sort_values().tolist()\n",
    "k_num = y_test.shape[0]\n",
    "country_destination_weights = df1['country_destination'].value_counts( normalize=True ).sort_index().tolist()\n",
    "\n",
    "yhat_random = random.choices( population=country_destination_list,  \n",
    "                              weights=country_destination_weights,\n",
    "                              k=k_num )\n",
    "len( yhat_random )"
   ]
  },
  {
   "cell_type": "markdown",
   "metadata": {},
   "source": [
    "### 5.1. Baseline Model Performance"
   ]
  },
  {
   "cell_type": "code",
   "execution_count": 40,
   "metadata": {
    "ExecuteTime": {
     "end_time": "2020-09-15T23:48:44.030862Z",
     "start_time": "2020-09-15T23:48:42.349804Z"
    }
   },
   "outputs": [
    {
     "name": "stdout",
     "output_type": "stream",
     "text": [
      "Accuracy: 0.5232856618995233\n",
      "Balanced Accuracy:0.09102296161753559\n",
      "Kappa Score: 0.002814139452483544\n",
      "              precision    recall  f1-score   support\n",
      "\n",
      "          AU       0.02      0.02      0.02       101\n",
      "          CA       0.02      0.02      0.02       214\n",
      "          DE       0.00      0.00      0.00       170\n",
      "          ES       0.01      0.01      0.01       345\n",
      "          FR       0.07      0.06      0.07       710\n",
      "          GB       0.03      0.03      0.03       344\n",
      "          IT       0.03      0.03      0.03       423\n",
      "          NL       0.00      0.00      0.00       128\n",
      "          PT       0.00      0.00      0.00        36\n",
      "          US       0.71      0.72      0.71      9624\n",
      "       other       0.11      0.11      0.11      1540\n",
      "\n",
      "    accuracy                           0.52     13635\n",
      "   macro avg       0.09      0.09      0.09     13635\n",
      "weighted avg       0.52      0.52      0.52     13635\n",
      "\n"
     ]
    },
    {
     "data": {
      "text/plain": [
       "<AxesSubplot:title={'center':'Confusion Matrix'}, xlabel='Predicted label', ylabel='True label'>"
      ]
     },
     "execution_count": 40,
     "metadata": {},
     "output_type": "execute_result"
    },
    {
     "data": {
      "image/png": "[encoded data removed]",
      "text/plain": [
       "<Figure size 864x864 with 2 Axes>"
      ]
     },
     "metadata": {
      "needs_background": "light"
     },
     "output_type": "display_data"
    }
   ],
   "source": [
    "# Accuracy\n",
    "acc_random = m.accuracy_score( y_test, yhat_random )\n",
    "print( 'Accuracy: {}'.format( acc_random ) )\n",
    "\n",
    "# Balanced Accuray\n",
    "balanced_acc_random = m.balanced_accuracy_score( y_test, yhat_random )\n",
    "print( 'Balanced Accuracy:{}'.format( balanced_acc_random ) )\n",
    "\n",
    "# Kappa Metrics\n",
    "kappa_random = m.cohen_kappa_score( y_test, yhat_random )\n",
    "print( 'Kappa Score: {}'.format( kappa_random ) )\n",
    "\n",
    "# Classification report\n",
    "print( m.classification_report( y_test, yhat_random ) )\n",
    "\n",
    "# Confusion Matrix\n",
    "mt.plot_confusion_matrix( y_test, yhat_random, normalize=False, figsize=(12,12))"
   ]
  },
  {
   "cell_type": "markdown",
   "metadata": {
    "heading_collapsed": true
   },
   "source": [
    "## 5.2. Neural Network - MLP"
   ]
  },
  {
   "cell_type": "code",
   "execution_count": 41,
   "metadata": {
    "ExecuteTime": {
     "end_time": "2020-09-15T23:48:44.053281Z",
     "start_time": "2020-09-15T23:48:44.032344Z"
    },
    "hidden": true
   },
   "outputs": [],
   "source": [
    "ohe = pp.OneHotEncoder()\n",
    "y_train_nn = ohe.fit_transform( y_train.values.reshape( -1, 1 ) ).toarray()"
   ]
  },
  {
   "cell_type": "code",
   "execution_count": 42,
   "metadata": {
    "ExecuteTime": {
     "end_time": "2020-09-15T23:50:32.171439Z",
     "start_time": "2020-09-15T23:48:44.056798Z"
    },
    "hidden": true
   },
   "outputs": [
    {
     "name": "stdout",
     "output_type": "stream",
     "text": [
      "Epoch 1/100\n",
      "1705/1705 [==============================] - 1s 802us/step - loss: 1.4312 - accuracy: 0.6953\n",
      "Epoch 2/100\n",
      "1705/1705 [==============================] - 2s 1ms/step - loss: 1.2497 - accuracy: 0.7069\n",
      "Epoch 3/100\n",
      "1705/1705 [==============================] - 1s 659us/step - loss: 1.2187 - accuracy: 0.7084\n",
      "Epoch 4/100\n",
      "1705/1705 [==============================] - 1s 688us/step - loss: 1.1926 - accuracy: 0.7084\n",
      "Epoch 5/100\n",
      "1705/1705 [==============================] - 1s 621us/step - loss: 1.1763 - accuracy: 0.7087\n",
      "Epoch 6/100\n",
      "1705/1705 [==============================] - 1s 601us/step - loss: 1.1623 - accuracy: 0.7085\n",
      "Epoch 7/100\n",
      "1705/1705 [==============================] - 1s 603us/step - loss: 1.1497 - accuracy: 0.7087\n",
      "Epoch 8/100\n",
      "1705/1705 [==============================] - 1s 606us/step - loss: 1.1411 - accuracy: 0.7087\n",
      "Epoch 9/100\n",
      "1705/1705 [==============================] - 1s 691us/step - loss: 1.1377 - accuracy: 0.7089\n",
      "Epoch 10/100\n",
      "1705/1705 [==============================] - 1s 716us/step - loss: 1.1342 - accuracy: 0.7095\n",
      "Epoch 11/100\n",
      "1705/1705 [==============================] - 1s 700us/step - loss: 1.1329 - accuracy: 0.7094\n",
      "Epoch 12/100\n",
      "1705/1705 [==============================] - 1s 647us/step - loss: 1.1314 - accuracy: 0.7096\n",
      "Epoch 13/100\n",
      "1705/1705 [==============================] - 1s 703us/step - loss: 1.1317 - accuracy: 0.7095\n",
      "Epoch 14/100\n",
      "1705/1705 [==============================] - 1s 655us/step - loss: 1.1304 - accuracy: 0.7096\n",
      "Epoch 15/100\n",
      "1705/1705 [==============================] - 1s 659us/step - loss: 1.1295 - accuracy: 0.7096\n",
      "Epoch 16/100\n",
      "1705/1705 [==============================] - 1s 672us/step - loss: 1.1290 - accuracy: 0.7096\n",
      "Epoch 17/100\n",
      "1705/1705 [==============================] - 1s 655us/step - loss: 1.1271 - accuracy: 0.7096\n",
      "Epoch 18/100\n",
      "1705/1705 [==============================] - 1s 703us/step - loss: 1.1269 - accuracy: 0.7096\n",
      "Epoch 19/100\n",
      "1705/1705 [==============================] - 1s 618us/step - loss: 1.1258 - accuracy: 0.7098\n",
      "Epoch 20/100\n",
      "1705/1705 [==============================] - 1s 653us/step - loss: 1.1249 - accuracy: 0.7097\n",
      "Epoch 21/100\n",
      "1705/1705 [==============================] - 1s 610us/step - loss: 1.1241 - accuracy: 0.7098\n",
      "Epoch 22/100\n",
      "1705/1705 [==============================] - 1s 634us/step - loss: 1.1228 - accuracy: 0.7098\n",
      "Epoch 23/100\n",
      "1705/1705 [==============================] - 1s 632us/step - loss: 1.1227 - accuracy: 0.7098\n",
      "Epoch 24/100\n",
      "1705/1705 [==============================] - 1s 623us/step - loss: 1.1216 - accuracy: 0.7099\n",
      "Epoch 25/100\n",
      "1705/1705 [==============================] - 1s 641us/step - loss: 1.1213 - accuracy: 0.7097\n",
      "Epoch 26/100\n",
      "1705/1705 [==============================] - 1s 643us/step - loss: 1.1208 - accuracy: 0.7098\n",
      "Epoch 27/100\n",
      "1705/1705 [==============================] - 1s 624us/step - loss: 1.1197 - accuracy: 0.7099\n",
      "Epoch 28/100\n",
      "1705/1705 [==============================] - 1s 653us/step - loss: 1.1189 - accuracy: 0.7099\n",
      "Epoch 29/100\n",
      "1705/1705 [==============================] - 1s 649us/step - loss: 1.1191 - accuracy: 0.7099\n",
      "Epoch 30/100\n",
      "1705/1705 [==============================] - 1s 613us/step - loss: 1.1179 - accuracy: 0.7099\n",
      "Epoch 31/100\n",
      "1705/1705 [==============================] - 1s 625us/step - loss: 1.1173 - accuracy: 0.7099\n",
      "Epoch 32/100\n",
      "1705/1705 [==============================] - 1s 598us/step - loss: 1.1165 - accuracy: 0.7100\n",
      "Epoch 33/100\n",
      "1705/1705 [==============================] - 1s 575us/step - loss: 1.1155 - accuracy: 0.7101\n",
      "Epoch 34/100\n",
      "1705/1705 [==============================] - 1s 603us/step - loss: 1.1174 - accuracy: 0.7100\n",
      "Epoch 35/100\n",
      "1705/1705 [==============================] - 1s 585us/step - loss: 1.1151 - accuracy: 0.7102\n",
      "Epoch 36/100\n",
      "1705/1705 [==============================] - 1s 610us/step - loss: 1.1142 - accuracy: 0.7103\n",
      "Epoch 37/100\n",
      "1705/1705 [==============================] - 1s 580us/step - loss: 1.1136 - accuracy: 0.7101\n",
      "Epoch 38/100\n",
      "1705/1705 [==============================] - 1s 578us/step - loss: 1.1145 - accuracy: 0.7103\n",
      "Epoch 39/100\n",
      "1705/1705 [==============================] - 1s 583us/step - loss: 1.1128 - accuracy: 0.7104\n",
      "Epoch 40/100\n",
      "1705/1705 [==============================] - 1s 583us/step - loss: 1.1128 - accuracy: 0.7102\n",
      "Epoch 41/100\n",
      "1705/1705 [==============================] - 1s 601us/step - loss: 1.1122 - accuracy: 0.7104\n",
      "Epoch 42/100\n",
      "1705/1705 [==============================] - 1s 593us/step - loss: 1.1117 - accuracy: 0.7104\n",
      "Epoch 43/100\n",
      "1705/1705 [==============================] - 1s 582us/step - loss: 1.1112 - accuracy: 0.7105\n",
      "Epoch 44/100\n",
      "1705/1705 [==============================] - 1s 574us/step - loss: 1.1111 - accuracy: 0.7105\n",
      "Epoch 45/100\n",
      "1705/1705 [==============================] - 1s 584us/step - loss: 1.1109 - accuracy: 0.7105\n",
      "Epoch 46/100\n",
      "1705/1705 [==============================] - 1s 628us/step - loss: 1.1098 - accuracy: 0.71040s - los\n",
      "Epoch 47/100\n",
      "1705/1705 [==============================] - 1s 600us/step - loss: 1.1100 - accuracy: 0.7106\n",
      "Epoch 48/100\n",
      "1705/1705 [==============================] - 1s 581us/step - loss: 1.1093 - accuracy: 0.7105\n",
      "Epoch 49/100\n",
      "1705/1705 [==============================] - 1s 572us/step - loss: 1.1093 - accuracy: 0.7107\n",
      "Epoch 50/100\n",
      "1705/1705 [==============================] - 1s 611us/step - loss: 1.1084 - accuracy: 0.7108\n",
      "Epoch 51/100\n",
      "1705/1705 [==============================] - 1s 639us/step - loss: 1.1077 - accuracy: 0.7108\n",
      "Epoch 52/100\n",
      "1705/1705 [==============================] - 1s 588us/step - loss: 1.1074 - accuracy: 0.71080s - loss: 1.1078 - ac\n",
      "Epoch 53/100\n",
      "1705/1705 [==============================] - 1s 674us/step - loss: 1.1073 - accuracy: 0.7109\n",
      "Epoch 54/100\n",
      "1705/1705 [==============================] - 1s 662us/step - loss: 1.1074 - accuracy: 0.7108\n",
      "Epoch 55/100\n",
      "1705/1705 [==============================] - 1s 618us/step - loss: 1.1066 - accuracy: 0.7110\n",
      "Epoch 56/100\n",
      "1705/1705 [==============================] - 1s 610us/step - loss: 1.1059 - accuracy: 0.7109\n",
      "Epoch 57/100\n",
      "1705/1705 [==============================] - 1s 589us/step - loss: 1.1056 - accuracy: 0.7109\n",
      "Epoch 58/100\n",
      "1705/1705 [==============================] - 1s 585us/step - loss: 1.1058 - accuracy: 0.7110\n",
      "Epoch 59/100\n",
      "1705/1705 [==============================] - 1s 608us/step - loss: 1.1059 - accuracy: 0.7110\n",
      "Epoch 60/100\n",
      "1705/1705 [==============================] - 1s 610us/step - loss: 1.1052 - accuracy: 0.7110\n",
      "Epoch 61/100\n",
      "1705/1705 [==============================] - 1s 655us/step - loss: 1.1049 - accuracy: 0.7110\n",
      "Epoch 62/100\n",
      "1705/1705 [==============================] - 1s 596us/step - loss: 1.1039 - accuracy: 0.7111\n",
      "Epoch 63/100\n",
      "1705/1705 [==============================] - 1s 592us/step - loss: 1.1044 - accuracy: 0.7110\n",
      "Epoch 64/100\n",
      "1705/1705 [==============================] - 1s 607us/step - loss: 1.1044 - accuracy: 0.7113\n",
      "Epoch 65/100\n",
      "1705/1705 [==============================] - 1s 632us/step - loss: 1.1044 - accuracy: 0.7110\n",
      "Epoch 66/100\n",
      "1705/1705 [==============================] - 1s 606us/step - loss: 1.1034 - accuracy: 0.7110\n",
      "Epoch 67/100\n",
      "1705/1705 [==============================] - 1s 592us/step - loss: 1.1036 - accuracy: 0.7111\n",
      "Epoch 68/100\n",
      "1705/1705 [==============================] - 1s 599us/step - loss: 1.1028 - accuracy: 0.7109\n",
      "Epoch 69/100\n",
      "1705/1705 [==============================] - 1s 607us/step - loss: 1.1026 - accuracy: 0.7112\n",
      "Epoch 70/100\n",
      "1705/1705 [==============================] - 1s 631us/step - loss: 1.1026 - accuracy: 0.7115\n",
      "Epoch 71/100\n",
      "1705/1705 [==============================] - 1s 601us/step - loss: 1.1028 - accuracy: 0.7113\n",
      "Epoch 72/100\n",
      "1705/1705 [==============================] - 1s 586us/step - loss: 1.1022 - accuracy: 0.7113\n",
      "Epoch 73/100\n",
      "1705/1705 [==============================] - 1s 588us/step - loss: 1.1026 - accuracy: 0.7113\n",
      "Epoch 74/100\n",
      "1705/1705 [==============================] - 1s 623us/step - loss: 1.1017 - accuracy: 0.7114\n",
      "Epoch 75/100\n",
      "1705/1705 [==============================] - 1s 629us/step - loss: 1.1014 - accuracy: 0.7113\n",
      "Epoch 76/100\n",
      "1705/1705 [==============================] - 1s 600us/step - loss: 1.1014 - accuracy: 0.7116\n",
      "Epoch 77/100\n",
      "1705/1705 [==============================] - 1s 598us/step - loss: 1.1015 - accuracy: 0.7114\n",
      "Epoch 78/100\n"
     ]
    },
    {
     "name": "stdout",
     "output_type": "stream",
     "text": [
      "1705/1705 [==============================] - 1s 597us/step - loss: 1.1014 - accuracy: 0.7113\n",
      "Epoch 79/100\n",
      "1705/1705 [==============================] - 1s 629us/step - loss: 1.1006 - accuracy: 0.7114\n",
      "Epoch 80/100\n",
      "1705/1705 [==============================] - 1s 641us/step - loss: 1.1008 - accuracy: 0.7113\n",
      "Epoch 81/100\n",
      "1705/1705 [==============================] - 1s 657us/step - loss: 1.1007 - accuracy: 0.7116\n",
      "Epoch 82/100\n",
      "1705/1705 [==============================] - 1s 609us/step - loss: 1.0998 - accuracy: 0.7113\n",
      "Epoch 83/100\n",
      "1705/1705 [==============================] - 1s 663us/step - loss: 1.1000 - accuracy: 0.7114\n",
      "Epoch 84/100\n",
      "1705/1705 [==============================] - 1s 680us/step - loss: 1.0996 - accuracy: 0.7117\n",
      "Epoch 85/100\n",
      "1705/1705 [==============================] - 1s 629us/step - loss: 1.0998 - accuracy: 0.7115\n",
      "Epoch 86/100\n",
      "1705/1705 [==============================] - 1s 714us/step - loss: 1.0996 - accuracy: 0.7118\n",
      "Epoch 87/100\n",
      "1705/1705 [==============================] - 1s 608us/step - loss: 1.0988 - accuracy: 0.7118\n",
      "Epoch 88/100\n",
      "1705/1705 [==============================] - 1s 633us/step - loss: 1.0986 - accuracy: 0.7116\n",
      "Epoch 89/100\n",
      "1705/1705 [==============================] - 1s 658us/step - loss: 1.0997 - accuracy: 0.7113\n",
      "Epoch 90/100\n",
      "1705/1705 [==============================] - 1s 588us/step - loss: 1.0989 - accuracy: 0.7117\n",
      "Epoch 91/100\n",
      "1705/1705 [==============================] - 1s 627us/step - loss: 1.0985 - accuracy: 0.7116\n",
      "Epoch 92/100\n",
      "1705/1705 [==============================] - 1s 638us/step - loss: 1.0987 - accuracy: 0.7119\n",
      "Epoch 93/100\n",
      "1705/1705 [==============================] - 1s 610us/step - loss: 1.0982 - accuracy: 0.7118\n",
      "Epoch 94/100\n",
      "1705/1705 [==============================] - 1s 625us/step - loss: 1.0983 - accuracy: 0.7117\n",
      "Epoch 95/100\n",
      "1705/1705 [==============================] - 1s 653us/step - loss: 1.0980 - accuracy: 0.7117\n",
      "Epoch 96/100\n",
      "1705/1705 [==============================] - 1s 601us/step - loss: 1.0980 - accuracy: 0.7118\n",
      "Epoch 97/100\n",
      "1705/1705 [==============================] - 1s 592us/step - loss: 1.0979 - accuracy: 0.7117\n",
      "Epoch 98/100\n",
      "1705/1705 [==============================] - 1s 662us/step - loss: 1.0976 - accuracy: 0.7120\n",
      "Epoch 99/100\n",
      "1705/1705 [==============================] - 1s 605us/step - loss: 1.0971 - accuracy: 0.7118\n",
      "Epoch 100/100\n",
      "1705/1705 [==============================] - 1s 602us/step - loss: 1.0973 - accuracy: 0.7122\n"
     ]
    },
    {
     "data": {
      "text/plain": [
       "<tensorflow.python.keras.callbacks.History at 0x152553610>"
      ]
     },
     "execution_count": 42,
     "metadata": {},
     "output_type": "execute_result"
    }
   ],
   "source": [
    "# model definition\n",
    "model = ml.Sequential()\n",
    "model.add( l.Dense( 128, input_dim=x_train.shape[1], activation='relu' ) )\n",
    "model.add( l.Dense( 11, activation='softmax') )\n",
    "\n",
    "# model compile\n",
    "model.compile( loss='categorical_crossentropy', optimizer='adam', metrics=['accuracy'] )\n",
    "\n",
    "# train model\n",
    "model.fit( x_train, y_train_nn, epochs=100 )"
   ]
  },
  {
   "cell_type": "markdown",
   "metadata": {
    "heading_collapsed": true,
    "hidden": true
   },
   "source": [
    "### 5.2.1. NN Performance"
   ]
  },
  {
   "cell_type": "code",
   "execution_count": 43,
   "metadata": {
    "ExecuteTime": {
     "end_time": "2020-09-15T23:50:32.429779Z",
     "start_time": "2020-09-15T23:50:32.179735Z"
    },
    "hidden": true
   },
   "outputs": [],
   "source": [
    "# prediction\n",
    "pred_nn = model.predict( x_test )\n",
    "\n",
    "# invert prediction\n",
    "yhat_nn = ohe.inverse_transform( pred_nn )\n",
    "\n",
    "# prediction prepare\n",
    "y_test_nn = y_test.to_numpy()\n",
    "yhat_nn = yhat_nn.reshape( 1, -1 )[0]"
   ]
  },
  {
   "cell_type": "code",
   "execution_count": 44,
   "metadata": {
    "ExecuteTime": {
     "end_time": "2020-09-15T23:50:34.176727Z",
     "start_time": "2020-09-15T23:50:32.431834Z"
    },
    "hidden": true
   },
   "outputs": [
    {
     "name": "stdout",
     "output_type": "stream",
     "text": [
      "Accuracy: 0.7037037037037037\n",
      "Balanced Accuracy:0.09157657747845774\n",
      "Kappa Score: 0.0017449085962158994\n"
     ]
    },
    {
     "name": "stderr",
     "output_type": "stream",
     "text": [
      "/Users/meigarom.lopes/.pyenv/versions/3.8.0/envs/airbnbpredictfirstbooking/lib/python3.8/site-packages/sklearn/metrics/_classification.py:1221: UndefinedMetricWarning: Precision and F-score are ill-defined and being set to 0.0 in labels with no predicted samples. Use `zero_division` parameter to control this behavior.\n",
      "  _warn_prf(average, modifier, msg_start, len(result))\n"
     ]
    },
    {
     "name": "stdout",
     "output_type": "stream",
     "text": [
      "              precision    recall  f1-score   support\n",
      "\n",
      "          AU       0.00      0.00      0.00       101\n",
      "          CA       0.00      0.00      0.00       214\n",
      "          DE       0.33      0.01      0.01       170\n",
      "          ES       0.00      0.00      0.00       345\n",
      "          FR       0.12      0.00      0.00       710\n",
      "          GB       0.00      0.00      0.00       344\n",
      "          IT       0.00      0.00      0.00       423\n",
      "          NL       0.00      0.00      0.00       128\n",
      "          PT       0.00      0.00      0.00        36\n",
      "          US       0.71      1.00      0.83      9624\n",
      "       other       0.16      0.00      0.01      1540\n",
      "\n",
      "    accuracy                           0.70     13635\n",
      "   macro avg       0.12      0.09      0.08     13635\n",
      "weighted avg       0.53      0.70      0.58     13635\n",
      "\n"
     ]
    },
    {
     "data": {
      "text/plain": [
       "<AxesSubplot:title={'center':'Confusion Matrix'}, xlabel='Predicted label', ylabel='True label'>"
      ]
     },
     "execution_count": 44,
     "metadata": {},
     "output_type": "execute_result"
    },
    {
     "data": {
      "image/png": "[encoded data removed]",
      "text/plain": [
       "<Figure size 864x864 with 2 Axes>"
      ]
     },
     "metadata": {
      "needs_background": "light"
     },
     "output_type": "display_data"
    }
   ],
   "source": [
    "# Accuracy\n",
    "acc_nn = m.accuracy_score( y_test_nn, yhat_nn )\n",
    "print( 'Accuracy: {}'.format( acc_nn ) )\n",
    "\n",
    "# Balanced Accuray\n",
    "balanced_acc_nn = m.balanced_accuracy_score( y_test_nn, yhat_nn )\n",
    "print( 'Balanced Accuracy:{}'.format( balanced_acc_nn ) )\n",
    "\n",
    "# Kappa Metrics\n",
    "kappa_nn = m.cohen_kappa_score( y_test_nn, yhat_nn )\n",
    "print( 'Kappa Score: {}'.format( kappa_nn ) )\n",
    "\n",
    "# Classification report\n",
    "print( m.classification_report( y_test_nn, yhat_nn ) )\n",
    "\n",
    "# Confusion Matrix\n",
    "mt.plot_confusion_matrix( y_test_nn, yhat_nn, normalize=False, figsize=(12,12))"
   ]
  },
  {
   "cell_type": "markdown",
   "metadata": {
    "heading_collapsed": true,
    "hidden": true
   },
   "source": [
    "### 5.2.3. NN Performance - Cross-Validation"
   ]
  },
  {
   "cell_type": "code",
   "execution_count": 53,
   "metadata": {
    "ExecuteTime": {
     "end_time": "2020-09-16T00:03:58.347695Z",
     "start_time": "2020-09-15T23:57:18.257667Z"
    },
    "hidden": true
   },
   "outputs": [
    {
     "name": "stdout",
     "output_type": "stream",
     "text": [
      "Fold Number: 1/5\n",
      "Fold Number: 2/5\n",
      "Fold Number: 3/5\n",
      "Fold Number: 4/5\n",
      "Fold Number: 5/5\n"
     ]
    }
   ],
   "source": [
    "# generate k-fold\n",
    "num_folds = 5\n",
    "kfold = ms.StratifiedKFold( n_splits=num_folds, shuffle=True, random_state=32 )\n",
    "\n",
    "balanced_acc_list = []\n",
    "kappa_acc_list = []\n",
    "\n",
    "i = 1\n",
    "for train_ix, val_ix in kfold.split( x_train, y_train ):\n",
    "    print( 'Fold Number: {}/{}'.format( i, num_folds ) )\n",
    "    \n",
    "    # get fold\n",
    "    x_train_fold = x_train.iloc[train_ix]\n",
    "    y_train_fold = y_train.iloc[train_ix]\n",
    "    \n",
    "    x_val_fold = x_train.iloc[val_ix]\n",
    "    y_val_fold = y_train.iloc[val_ix]\n",
    "    \n",
    "    # target hot-encoding\n",
    "    ohe = pp.OneHotEncoder()\n",
    "    y_train_fold_nn = ohe.fit_transform( y_train_fold.values.reshape( -1, 1 ) ).toarray()\n",
    "\n",
    "    # model definition\n",
    "    model = ml.Sequential()\n",
    "    model.add( l.Dense( 256, input_dim=x_train.shape[1], activation='relu' ) )\n",
    "    model.add( l.Dense( 11, activation='softmax') )\n",
    "\n",
    "    # compile model\n",
    "    model.compile( loss='categorical_crossentropy', optimizer='adam', metrics=['accuracy'] )\n",
    "\n",
    "    # training model\n",
    "    model.fit( x_train_fold, y_train_fold_nn, epochs=100, batch_size=32, verbose=0 )\n",
    "\n",
    "    # prediction\n",
    "    pred_nn = model.predict( x_val_fold )\n",
    "    yhat_nn = ohe.inverse_transform( pred_nn )\n",
    "    \n",
    "    # prepare data\n",
    "    y_test_nn = y_val_fold.to_numpy()\n",
    "    yhat_nn = yhat_nn.reshape( 1, -1 )[0]\n",
    "\n",
    "    # metrics\n",
    "    ## Balanced Accuracy \n",
    "    balanced_acc_nn = m.balanced_accuracy_score( y_test_nn, yhat_nn )\n",
    "    balanced_acc_list.append( balanced_acc_nn )\n",
    "    \n",
    "    ## Kappa Metrics\n",
    "    kappa_acc_nn = m.cohen_kappa_score( y_test_nn, yhat_nn )\n",
    "    kappa_acc_list.append( kappa_acc_nn )\n",
    "    \n",
    "    i += 1"
   ]
  },
  {
   "cell_type": "code",
   "execution_count": 74,
   "metadata": {
    "ExecuteTime": {
     "end_time": "2020-09-16T00:42:45.555028Z",
     "start_time": "2020-09-16T00:42:45.550523Z"
    },
    "hidden": true
   },
   "outputs": [
    {
     "name": "stdout",
     "output_type": "stream",
     "text": [
      "Avg Balanced Accuracy: 0.09 +/- 0.0004\n",
      "Avg Kappa: 0.0021 +/- 0.0017\n"
     ]
    }
   ],
   "source": [
    "print( 'Avg Balanced Accuracy: {} +/- {}'.format( np.round( np.mean( balanced_acc_list ), 2 ), \n",
    "                                                  np.round( np.std( balanced_acc_list  ), 4 ) ) )\n",
    "print( 'Avg Kappa: {} +/- {}'.format( np.round( np.mean( kappa_acc_list ), 4 ), \n",
    "                                      np.round( np.std( kappa_acc_list ), 4 ) ) )"
   ]
  },
  {
   "cell_type": "code",
   "execution_count": null,
   "metadata": {
    "hidden": true
   },
   "outputs": [],
   "source": []
  },
  {
   "cell_type": "code",
   "execution_count": null,
   "metadata": {
    "hidden": true
   },
   "outputs": [],
   "source": []
  },
  {
   "cell_type": "code",
   "execution_count": null,
   "metadata": {
    "hidden": true
   },
   "outputs": [],
   "source": []
  },
  {
   "cell_type": "code",
   "execution_count": null,
   "metadata": {
    "hidden": true
   },
   "outputs": [],
   "source": []
  },
  {
   "cell_type": "code",
   "execution_count": null,
   "metadata": {
    "hidden": true
   },
   "outputs": [],
   "source": []
  },
  {
   "cell_type": "code",
   "execution_count": null,
   "metadata": {
    "hidden": true
   },
   "outputs": [],
   "source": []
  },
  {
   "cell_type": "code",
   "execution_count": null,
   "metadata": {
    "hidden": true
   },
   "outputs": [],
   "source": []
  },
  {
   "cell_type": "code",
   "execution_count": null,
   "metadata": {
    "hidden": true
   },
   "outputs": [],
   "source": []
  },
  {
   "cell_type": "code",
   "execution_count": null,
   "metadata": {
    "hidden": true
   },
   "outputs": [],
   "source": []
  },
  {
   "cell_type": "code",
   "execution_count": null,
   "metadata": {
    "hidden": true
   },
   "outputs": [],
   "source": []
  },
  {
   "cell_type": "code",
   "execution_count": null,
   "metadata": {
    "hidden": true
   },
   "outputs": [],
   "source": []
  },
  {
   "cell_type": "code",
   "execution_count": null,
   "metadata": {
    "hidden": true
   },
   "outputs": [],
   "source": []
  }
 ],
 "metadata": {
  "kernelspec": {
   "display_name": "Python 3",
   "language": "python",
   "name": "python3"
  },
  "language_info": {
   "codemirror_mode": {
    "name": "ipython",
    "version": 3
   },
   "file_extension": ".py",
   "mimetype": "text/x-python",
   "name": "python",
   "nbconvert_exporter": "python",
   "pygments_lexer": "ipython3",
   "version": "3.8.0"
  }
 },
 "nbformat": 4,
 "nbformat_minor": 4
}
