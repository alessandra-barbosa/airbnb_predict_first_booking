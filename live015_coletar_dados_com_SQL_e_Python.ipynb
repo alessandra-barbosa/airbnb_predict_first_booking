{
 "cells": [
  {
   "cell_type": "markdown",
   "metadata": {},
   "source": [
    "# Live 015 - Como coletar Dados com SQL e Python"
   ]
  },
  {
   "cell_type": "markdown",
   "metadata": {},
   "source": [
    "# 1.0. Acess Postgres Database with Terminal"
   ]
  },
  {
   "cell_type": "code",
   "execution_count": null,
   "metadata": {},
   "outputs": [],
   "source": [
    "# Instalar PSQL - Iteractive\n",
    "psql\n",
    "\n",
    "# Comands\n",
    "psql -h  -U USERNAME -d DATABASENAME \n",
    "psql -h \n",
    "psql -h comunidade-ds-postgres.c50pcakiuwi3.us-east-1.rds.amazonaws.com \\\n",
    "     -p 5432 \\\n",
    "     -d comunidadedsdb \\\n",
    "     -U member \\\n",
    "     -W cdspa\n",
    "\n",
    "# Main Commands\n",
    "## List Schemas\n",
    "\\dn\n",
    "\n",
    "## List all tables in a schema\n",
    "\\dt pa004.*\n",
    "\n",
    "## List all tables in a schema + memory information\n",
    "\\dt+ pa004.*\n",
    "\n",
    "## get data from tables\n",
    "select * from pa004.users limit 10;\n",
    "\n",
    "## get all data\n",
    "select * from pa004.users u INNER JOIN pa004.vehicle v ON (u.id=v.id) limit 10;\n",
    "\n",
    "## exit database connection \n",
    "\\q\n"
   ]
  },
  {
   "cell_type": "markdown",
   "metadata": {},
   "source": [
    "# 2.0. Acess Postgres Database with DBeaver"
   ]
  },
  {
   "cell_type": "markdown",
   "metadata": {},
   "source": [
    "## 2.1. Check Database"
   ]
  },
  {
   "cell_type": "code",
   "execution_count": null,
   "metadata": {},
   "outputs": [],
   "source": [
    "# Check Schemas\n",
    "\"\"\"\n",
    "    SELECT nspname\n",
    "    FROM pg_catalog.pg_namespace\n",
    "\"\"\"\n",
    "\n",
    "# Check Tables\n",
    "\"\"\"\n",
    "    SELECT tablename\n",
    "    FROM  pg_tables\n",
    "    WHERE schemaname='pa004'\n",
    "\"\"\"\n",
    "\n",
    "# Query Tables\n",
    "\"\"\"\n",
    "    SELECT *\n",
    "    FROM  pa004.users\n",
    "    LIMIT 10;\n",
    "\"\"\"\n",
    "\n",
    "# Query Tables with Joins\n",
    "\"\"\"\n",
    "    SELECT *\n",
    "    FROM \n",
    "        pa004.users u INNER JOIN pa004.vehicle v   ON ( u.id = v.id )\n",
    "                      INNER JOIN pa004.insurance i ON ( u.id = i.id )\n",
    "    LIMIT 10\n",
    "\n",
    "\"\"\""
   ]
  },
  {
   "cell_type": "markdown",
   "metadata": {},
   "source": [
    "# 3.0. Acess Postgres Database by Python"
   ]
  },
  {
   "cell_type": "code",
   "execution_count": 1,
   "metadata": {
    "ExecuteTime": {
     "end_time": "2021-01-09T17:18:46.089573Z",
     "start_time": "2021-01-09T17:18:46.087061Z"
    }
   },
   "outputs": [],
   "source": [
    "# Install libraries\n",
    "# pip install psycopg2-binary\n",
    "#\n",
    "#"
   ]
  },
  {
   "cell_type": "markdown",
   "metadata": {},
   "source": [
    "## 3.1. Libraries"
   ]
  },
  {
   "cell_type": "code",
   "execution_count": 17,
   "metadata": {
    "ExecuteTime": {
     "end_time": "2021-01-09T17:24:26.111329Z",
     "start_time": "2021-01-09T17:24:26.108849Z"
    }
   },
   "outputs": [],
   "source": [
    "import pandas   as pd\n",
    "import pandas.io.sql as psql\n",
    "\n",
    "import psycopg2 as pg"
   ]
  },
  {
   "cell_type": "markdown",
   "metadata": {},
   "source": [
    "## 3.2. Credentials"
   ]
  },
  {
   "cell_type": "code",
   "execution_count": 3,
   "metadata": {
    "ExecuteTime": {
     "end_time": "2021-01-09T17:18:47.705846Z",
     "start_time": "2021-01-09T17:18:47.703402Z"
    }
   },
   "outputs": [],
   "source": [
    "host = 'comunidade-ds-postgres.c50pcakiuwi3.us-east-1.rds.amazonaws.com'\n",
    "port = 5432\n",
    "database = 'comunidadedsdb'\n",
    "username = 'member'\n",
    "pwd = 'cdspa'"
   ]
  },
  {
   "cell_type": "markdown",
   "metadata": {},
   "source": [
    "## 3.3. Check Database"
   ]
  },
  {
   "cell_type": "code",
   "execution_count": 15,
   "metadata": {
    "ExecuteTime": {
     "end_time": "2021-01-09T17:24:11.536991Z",
     "start_time": "2021-01-09T17:24:10.582677Z"
    }
   },
   "outputs": [],
   "source": [
    "# Connect to an existing dataset\n",
    "conn = pg.connect( user = username,\n",
    "                   password = pwd,\n",
    "                   host = host,\n",
    "                   port = port,\n",
    "                   database = database )"
   ]
  },
  {
   "cell_type": "markdown",
   "metadata": {},
   "source": [
    "## 3.4. Check Schemas"
   ]
  },
  {
   "cell_type": "code",
   "execution_count": 45,
   "metadata": {
    "ExecuteTime": {
     "end_time": "2021-01-09T17:16:48.888127Z",
     "start_time": "2021-01-09T17:16:48.567020Z"
    }
   },
   "outputs": [
    {
     "name": "stdout",
     "output_type": "stream",
     "text": [
      "[('pg_toast',), ('pg_temp_1',), ('pg_toast_temp_1',), ('pg_catalog',), ('information_schema',), ('public',), ('pa004',)]\n"
     ]
    }
   ],
   "source": [
    "# Create a cursor to perfor database operations\n",
    "cursor = conn.cursor()\n",
    "\n",
    "# Take a look at Schemas\n",
    "query_schema = \"\"\"\n",
    "    SELECT nspname\n",
    "    FROM pg_catalog.pg_namespace\n",
    "\"\"\"\n",
    "cursor.execute( query_schema )\n",
    "\n",
    "record = cursor.fetchall()\n",
    "print( record )\n",
    "\n",
    "# connection close\n",
    "cursor.close()\n",
    "conn.close()"
   ]
  },
  {
   "cell_type": "markdown",
   "metadata": {},
   "source": [
    "## 3.5. Check Tables"
   ]
  },
  {
   "cell_type": "code",
   "execution_count": 47,
   "metadata": {
    "ExecuteTime": {
     "end_time": "2021-01-09T17:16:50.956028Z",
     "start_time": "2021-01-09T17:16:50.628639Z"
    }
   },
   "outputs": [
    {
     "name": "stdout",
     "output_type": "stream",
     "text": [
      "[('users',), ('vehicle',), ('insurance',)]\n"
     ]
    }
   ],
   "source": [
    "# Create a cursor to perfor database operations\n",
    "cursor = conn.cursor()\n",
    "\n",
    "# Take a look at Schemas\n",
    "query_tables = \"\"\"\n",
    "    SELECT tablename\n",
    "    FROM  pg_tables\n",
    "    WHERE schemaname='pa004'\n",
    "\"\"\"\n",
    "cursor.execute( query_tables )\n",
    "\n",
    "record = cursor.fetchall()\n",
    "print( record )\n",
    "\n",
    "# connection close\n",
    "cursor.close()\n",
    "conn.close()"
   ]
  },
  {
   "cell_type": "markdown",
   "metadata": {},
   "source": [
    "## 3.6. Collect Data with Psycopg2"
   ]
  },
  {
   "cell_type": "code",
   "execution_count": 5,
   "metadata": {
    "ExecuteTime": {
     "end_time": "2021-01-09T17:18:51.955154Z",
     "start_time": "2021-01-09T17:18:51.629678Z"
    }
   },
   "outputs": [
    {
     "name": "stdout",
     "output_type": "stream",
     "text": [
      "[(1, 'Male', 44, 28.0, 26.0), (2, 'Male', 76, 3.0, 26.0), (3, 'Male', 47, 28.0, 26.0), (4, 'Male', 21, 11.0, 152.0), (5, 'Female', 29, 41.0, 152.0), (6, 'Female', 24, 33.0, 160.0), (7, 'Male', 23, 11.0, 152.0), (8, 'Female', 56, 28.0, 26.0), (9, 'Female', 24, 3.0, 152.0), (10, 'Female', 32, 6.0, 152.0)]\n"
     ]
    }
   ],
   "source": [
    "# Create a cursor to perfor database operations\n",
    "cursor = conn.cursor()\n",
    "\n",
    "# Take a look at Schemas\n",
    "query_table_users = \"\"\"\n",
    "    SELECT *\n",
    "    FROM  pa004.users\n",
    "    LIMIT 10;\n",
    "\"\"\"\n",
    "cursor.execute( query_table_users )\n",
    "\n",
    "record = cursor.fetchall()\n",
    "print( record )\n",
    "\n",
    "# connection close\n",
    "cursor.close()\n",
    "conn.close()"
   ]
  },
  {
   "cell_type": "code",
   "execution_count": 12,
   "metadata": {
    "ExecuteTime": {
     "end_time": "2021-01-09T17:20:01.634148Z",
     "start_time": "2021-01-09T17:20:01.630604Z"
    }
   },
   "outputs": [],
   "source": [
    "data = pd.DataFrame( record )\n",
    "data.columns = ['id', 'gender', 'idade', 'A', 'B']"
   ]
  },
  {
   "cell_type": "code",
   "execution_count": 13,
   "metadata": {
    "ExecuteTime": {
     "end_time": "2021-01-09T17:20:01.788330Z",
     "start_time": "2021-01-09T17:20:01.779153Z"
    }
   },
   "outputs": [
    {
     "data": {
      "text/html": [
       "<div>\n",
       "<style scoped>\n",
       "    .dataframe tbody tr th:only-of-type {\n",
       "        vertical-align: middle;\n",
       "    }\n",
       "\n",
       "    .dataframe tbody tr th {\n",
       "        vertical-align: top;\n",
       "    }\n",
       "\n",
       "    .dataframe thead th {\n",
       "        text-align: right;\n",
       "    }\n",
       "</style>\n",
       "<table border=\"1\" class=\"dataframe\">\n",
       "  <thead>\n",
       "    <tr style=\"text-align: right;\">\n",
       "      <th></th>\n",
       "      <th>id</th>\n",
       "      <th>gender</th>\n",
       "      <th>idade</th>\n",
       "      <th>A</th>\n",
       "      <th>B</th>\n",
       "    </tr>\n",
       "  </thead>\n",
       "  <tbody>\n",
       "    <tr>\n",
       "      <th>0</th>\n",
       "      <td>1</td>\n",
       "      <td>Male</td>\n",
       "      <td>44</td>\n",
       "      <td>28.0</td>\n",
       "      <td>26.0</td>\n",
       "    </tr>\n",
       "    <tr>\n",
       "      <th>1</th>\n",
       "      <td>2</td>\n",
       "      <td>Male</td>\n",
       "      <td>76</td>\n",
       "      <td>3.0</td>\n",
       "      <td>26.0</td>\n",
       "    </tr>\n",
       "    <tr>\n",
       "      <th>2</th>\n",
       "      <td>3</td>\n",
       "      <td>Male</td>\n",
       "      <td>47</td>\n",
       "      <td>28.0</td>\n",
       "      <td>26.0</td>\n",
       "    </tr>\n",
       "    <tr>\n",
       "      <th>3</th>\n",
       "      <td>4</td>\n",
       "      <td>Male</td>\n",
       "      <td>21</td>\n",
       "      <td>11.0</td>\n",
       "      <td>152.0</td>\n",
       "    </tr>\n",
       "    <tr>\n",
       "      <th>4</th>\n",
       "      <td>5</td>\n",
       "      <td>Female</td>\n",
       "      <td>29</td>\n",
       "      <td>41.0</td>\n",
       "      <td>152.0</td>\n",
       "    </tr>\n",
       "    <tr>\n",
       "      <th>5</th>\n",
       "      <td>6</td>\n",
       "      <td>Female</td>\n",
       "      <td>24</td>\n",
       "      <td>33.0</td>\n",
       "      <td>160.0</td>\n",
       "    </tr>\n",
       "    <tr>\n",
       "      <th>6</th>\n",
       "      <td>7</td>\n",
       "      <td>Male</td>\n",
       "      <td>23</td>\n",
       "      <td>11.0</td>\n",
       "      <td>152.0</td>\n",
       "    </tr>\n",
       "    <tr>\n",
       "      <th>7</th>\n",
       "      <td>8</td>\n",
       "      <td>Female</td>\n",
       "      <td>56</td>\n",
       "      <td>28.0</td>\n",
       "      <td>26.0</td>\n",
       "    </tr>\n",
       "    <tr>\n",
       "      <th>8</th>\n",
       "      <td>9</td>\n",
       "      <td>Female</td>\n",
       "      <td>24</td>\n",
       "      <td>3.0</td>\n",
       "      <td>152.0</td>\n",
       "    </tr>\n",
       "    <tr>\n",
       "      <th>9</th>\n",
       "      <td>10</td>\n",
       "      <td>Female</td>\n",
       "      <td>32</td>\n",
       "      <td>6.0</td>\n",
       "      <td>152.0</td>\n",
       "    </tr>\n",
       "  </tbody>\n",
       "</table>\n",
       "</div>"
      ],
      "text/plain": [
       "   id  gender  idade     A      B\n",
       "0   1    Male     44  28.0   26.0\n",
       "1   2    Male     76   3.0   26.0\n",
       "2   3    Male     47  28.0   26.0\n",
       "3   4    Male     21  11.0  152.0\n",
       "4   5  Female     29  41.0  152.0\n",
       "5   6  Female     24  33.0  160.0\n",
       "6   7    Male     23  11.0  152.0\n",
       "7   8  Female     56  28.0   26.0\n",
       "8   9  Female     24   3.0  152.0\n",
       "9  10  Female     32   6.0  152.0"
      ]
     },
     "execution_count": 13,
     "metadata": {},
     "output_type": "execute_result"
    }
   ],
   "source": [
    "data"
   ]
  },
  {
   "cell_type": "markdown",
   "metadata": {},
   "source": [
    "# 4.0. Collect Data with Pandas"
   ]
  },
  {
   "cell_type": "code",
   "execution_count": 19,
   "metadata": {
    "ExecuteTime": {
     "end_time": "2021-01-09T17:25:08.680556Z",
     "start_time": "2021-01-09T17:25:08.512185Z"
    }
   },
   "outputs": [
    {
     "data": {
      "text/html": [
       "<div>\n",
       "<style scoped>\n",
       "    .dataframe tbody tr th:only-of-type {\n",
       "        vertical-align: middle;\n",
       "    }\n",
       "\n",
       "    .dataframe tbody tr th {\n",
       "        vertical-align: top;\n",
       "    }\n",
       "\n",
       "    .dataframe thead th {\n",
       "        text-align: right;\n",
       "    }\n",
       "</style>\n",
       "<table border=\"1\" class=\"dataframe\">\n",
       "  <thead>\n",
       "    <tr style=\"text-align: right;\">\n",
       "      <th></th>\n",
       "      <th>id</th>\n",
       "      <th>gender</th>\n",
       "      <th>age</th>\n",
       "      <th>region_code</th>\n",
       "      <th>policy_sales_channel</th>\n",
       "    </tr>\n",
       "  </thead>\n",
       "  <tbody>\n",
       "    <tr>\n",
       "      <th>0</th>\n",
       "      <td>1</td>\n",
       "      <td>Male</td>\n",
       "      <td>44</td>\n",
       "      <td>28.0</td>\n",
       "      <td>26.0</td>\n",
       "    </tr>\n",
       "    <tr>\n",
       "      <th>1</th>\n",
       "      <td>2</td>\n",
       "      <td>Male</td>\n",
       "      <td>76</td>\n",
       "      <td>3.0</td>\n",
       "      <td>26.0</td>\n",
       "    </tr>\n",
       "    <tr>\n",
       "      <th>2</th>\n",
       "      <td>3</td>\n",
       "      <td>Male</td>\n",
       "      <td>47</td>\n",
       "      <td>28.0</td>\n",
       "      <td>26.0</td>\n",
       "    </tr>\n",
       "    <tr>\n",
       "      <th>3</th>\n",
       "      <td>4</td>\n",
       "      <td>Male</td>\n",
       "      <td>21</td>\n",
       "      <td>11.0</td>\n",
       "      <td>152.0</td>\n",
       "    </tr>\n",
       "    <tr>\n",
       "      <th>4</th>\n",
       "      <td>5</td>\n",
       "      <td>Female</td>\n",
       "      <td>29</td>\n",
       "      <td>41.0</td>\n",
       "      <td>152.0</td>\n",
       "    </tr>\n",
       "    <tr>\n",
       "      <th>5</th>\n",
       "      <td>6</td>\n",
       "      <td>Female</td>\n",
       "      <td>24</td>\n",
       "      <td>33.0</td>\n",
       "      <td>160.0</td>\n",
       "    </tr>\n",
       "    <tr>\n",
       "      <th>6</th>\n",
       "      <td>7</td>\n",
       "      <td>Male</td>\n",
       "      <td>23</td>\n",
       "      <td>11.0</td>\n",
       "      <td>152.0</td>\n",
       "    </tr>\n",
       "    <tr>\n",
       "      <th>7</th>\n",
       "      <td>8</td>\n",
       "      <td>Female</td>\n",
       "      <td>56</td>\n",
       "      <td>28.0</td>\n",
       "      <td>26.0</td>\n",
       "    </tr>\n",
       "    <tr>\n",
       "      <th>8</th>\n",
       "      <td>9</td>\n",
       "      <td>Female</td>\n",
       "      <td>24</td>\n",
       "      <td>3.0</td>\n",
       "      <td>152.0</td>\n",
       "    </tr>\n",
       "    <tr>\n",
       "      <th>9</th>\n",
       "      <td>10</td>\n",
       "      <td>Female</td>\n",
       "      <td>32</td>\n",
       "      <td>6.0</td>\n",
       "      <td>152.0</td>\n",
       "    </tr>\n",
       "  </tbody>\n",
       "</table>\n",
       "</div>"
      ],
      "text/plain": [
       "   id  gender  age  region_code  policy_sales_channel\n",
       "0   1    Male   44         28.0                  26.0\n",
       "1   2    Male   76          3.0                  26.0\n",
       "2   3    Male   47         28.0                  26.0\n",
       "3   4    Male   21         11.0                 152.0\n",
       "4   5  Female   29         41.0                 152.0\n",
       "5   6  Female   24         33.0                 160.0\n",
       "6   7    Male   23         11.0                 152.0\n",
       "7   8  Female   56         28.0                  26.0\n",
       "8   9  Female   24          3.0                 152.0\n",
       "9  10  Female   32          6.0                 152.0"
      ]
     },
     "execution_count": 19,
     "metadata": {},
     "output_type": "execute_result"
    }
   ],
   "source": [
    "query_users = \"\"\"\n",
    "    SELECT *\n",
    "    FROM pa004.users\n",
    "    LIMIT 10\n",
    "\"\"\"\n",
    "\n",
    "df = psql.read_sql( 'SELECT * FROM pa004.users LIMIT 10', conn )\n",
    "df"
   ]
  },
  {
   "cell_type": "markdown",
   "metadata": {},
   "source": [
    "# 5.0. Raw Data"
   ]
  },
  {
   "cell_type": "code",
   "execution_count": 32,
   "metadata": {
    "ExecuteTime": {
     "end_time": "2021-01-09T18:19:21.705236Z",
     "start_time": "2021-01-09T18:19:21.045538Z"
    }
   },
   "outputs": [],
   "source": [
    "query_data = \"\"\"\n",
    "    SELECT *\n",
    "    FROM \n",
    "        pa004.users u INNER JOIN pa004.vehicle v   ON ( u.id = v.id )\n",
    "                      INNER JOIN pa004.insurance i ON ( u.id = i.id )\n",
    "    LIMIT 10\n",
    "\"\"\"\n",
    "\n",
    "df = psql.read_sql( query_data, conn )\n",
    "df_raw = df.drop( df.columns[[5, 9]],axis=1)\n",
    "\n",
    "# connection close\n",
    "cursor.close()\n",
    "conn.close()"
   ]
  },
  {
   "cell_type": "code",
   "execution_count": 33,
   "metadata": {
    "ExecuteTime": {
     "end_time": "2021-01-09T18:19:21.723452Z",
     "start_time": "2021-01-09T18:19:21.707847Z"
    }
   },
   "outputs": [
    {
     "data": {
      "text/html": [
       "<div>\n",
       "<style scoped>\n",
       "    .dataframe tbody tr th:only-of-type {\n",
       "        vertical-align: middle;\n",
       "    }\n",
       "\n",
       "    .dataframe tbody tr th {\n",
       "        vertical-align: top;\n",
       "    }\n",
       "\n",
       "    .dataframe thead th {\n",
       "        text-align: right;\n",
       "    }\n",
       "</style>\n",
       "<table border=\"1\" class=\"dataframe\">\n",
       "  <thead>\n",
       "    <tr style=\"text-align: right;\">\n",
       "      <th></th>\n",
       "      <th>gender</th>\n",
       "      <th>age</th>\n",
       "      <th>region_code</th>\n",
       "      <th>policy_sales_channel</th>\n",
       "      <th>driving_license</th>\n",
       "      <th>vehicle_age</th>\n",
       "      <th>vehicle_damage</th>\n",
       "      <th>previously_insured</th>\n",
       "      <th>annual_premium</th>\n",
       "      <th>vintage</th>\n",
       "      <th>response</th>\n",
       "    </tr>\n",
       "  </thead>\n",
       "  <tbody>\n",
       "    <tr>\n",
       "      <th>0</th>\n",
       "      <td>Male</td>\n",
       "      <td>26</td>\n",
       "      <td>28.0</td>\n",
       "      <td>152.0</td>\n",
       "      <td>1</td>\n",
       "      <td>&lt; 1 Year</td>\n",
       "      <td>No</td>\n",
       "      <td>1</td>\n",
       "      <td>40994.0</td>\n",
       "      <td>240</td>\n",
       "      <td>0</td>\n",
       "    </tr>\n",
       "    <tr>\n",
       "      <th>1</th>\n",
       "      <td>Male</td>\n",
       "      <td>59</td>\n",
       "      <td>28.0</td>\n",
       "      <td>26.0</td>\n",
       "      <td>1</td>\n",
       "      <td>1-2 Year</td>\n",
       "      <td>Yes</td>\n",
       "      <td>1</td>\n",
       "      <td>34383.0</td>\n",
       "      <td>213</td>\n",
       "      <td>0</td>\n",
       "    </tr>\n",
       "    <tr>\n",
       "      <th>2</th>\n",
       "      <td>Male</td>\n",
       "      <td>24</td>\n",
       "      <td>36.0</td>\n",
       "      <td>152.0</td>\n",
       "      <td>1</td>\n",
       "      <td>&lt; 1 Year</td>\n",
       "      <td>Yes</td>\n",
       "      <td>0</td>\n",
       "      <td>41164.0</td>\n",
       "      <td>257</td>\n",
       "      <td>0</td>\n",
       "    </tr>\n",
       "    <tr>\n",
       "      <th>3</th>\n",
       "      <td>Male</td>\n",
       "      <td>24</td>\n",
       "      <td>29.0</td>\n",
       "      <td>152.0</td>\n",
       "      <td>1</td>\n",
       "      <td>&lt; 1 Year</td>\n",
       "      <td>No</td>\n",
       "      <td>1</td>\n",
       "      <td>56025.0</td>\n",
       "      <td>257</td>\n",
       "      <td>0</td>\n",
       "    </tr>\n",
       "    <tr>\n",
       "      <th>4</th>\n",
       "      <td>Female</td>\n",
       "      <td>44</td>\n",
       "      <td>28.0</td>\n",
       "      <td>124.0</td>\n",
       "      <td>1</td>\n",
       "      <td>1-2 Year</td>\n",
       "      <td>No</td>\n",
       "      <td>0</td>\n",
       "      <td>52973.0</td>\n",
       "      <td>275</td>\n",
       "      <td>0</td>\n",
       "    </tr>\n",
       "    <tr>\n",
       "      <th>5</th>\n",
       "      <td>Female</td>\n",
       "      <td>78</td>\n",
       "      <td>28.0</td>\n",
       "      <td>124.0</td>\n",
       "      <td>1</td>\n",
       "      <td>&gt; 2 Years</td>\n",
       "      <td>Yes</td>\n",
       "      <td>0</td>\n",
       "      <td>35980.0</td>\n",
       "      <td>93</td>\n",
       "      <td>1</td>\n",
       "    </tr>\n",
       "    <tr>\n",
       "      <th>6</th>\n",
       "      <td>Female</td>\n",
       "      <td>44</td>\n",
       "      <td>3.0</td>\n",
       "      <td>26.0</td>\n",
       "      <td>0</td>\n",
       "      <td>1-2 Year</td>\n",
       "      <td>Yes</td>\n",
       "      <td>0</td>\n",
       "      <td>35644.0</td>\n",
       "      <td>272</td>\n",
       "      <td>1</td>\n",
       "    </tr>\n",
       "    <tr>\n",
       "      <th>7</th>\n",
       "      <td>Female</td>\n",
       "      <td>55</td>\n",
       "      <td>28.0</td>\n",
       "      <td>26.0</td>\n",
       "      <td>1</td>\n",
       "      <td>1-2 Year</td>\n",
       "      <td>No</td>\n",
       "      <td>1</td>\n",
       "      <td>86606.0</td>\n",
       "      <td>19</td>\n",
       "      <td>0</td>\n",
       "    </tr>\n",
       "    <tr>\n",
       "      <th>8</th>\n",
       "      <td>Female</td>\n",
       "      <td>24</td>\n",
       "      <td>30.0</td>\n",
       "      <td>151.0</td>\n",
       "      <td>1</td>\n",
       "      <td>&lt; 1 Year</td>\n",
       "      <td>No</td>\n",
       "      <td>1</td>\n",
       "      <td>38578.0</td>\n",
       "      <td>222</td>\n",
       "      <td>0</td>\n",
       "    </tr>\n",
       "    <tr>\n",
       "      <th>9</th>\n",
       "      <td>Male</td>\n",
       "      <td>22</td>\n",
       "      <td>50.0</td>\n",
       "      <td>152.0</td>\n",
       "      <td>1</td>\n",
       "      <td>&lt; 1 Year</td>\n",
       "      <td>No</td>\n",
       "      <td>1</td>\n",
       "      <td>37635.0</td>\n",
       "      <td>63</td>\n",
       "      <td>0</td>\n",
       "    </tr>\n",
       "  </tbody>\n",
       "</table>\n",
       "</div>"
      ],
      "text/plain": [
       "   gender  age  region_code  policy_sales_channel  driving_license  \\\n",
       "0    Male   26         28.0                 152.0                1   \n",
       "1    Male   59         28.0                  26.0                1   \n",
       "2    Male   24         36.0                 152.0                1   \n",
       "3    Male   24         29.0                 152.0                1   \n",
       "4  Female   44         28.0                 124.0                1   \n",
       "5  Female   78         28.0                 124.0                1   \n",
       "6  Female   44          3.0                  26.0                0   \n",
       "7  Female   55         28.0                  26.0                1   \n",
       "8  Female   24         30.0                 151.0                1   \n",
       "9    Male   22         50.0                 152.0                1   \n",
       "\n",
       "  vehicle_age vehicle_damage  previously_insured  annual_premium  vintage  \\\n",
       "0    < 1 Year             No                   1         40994.0      240   \n",
       "1    1-2 Year            Yes                   1         34383.0      213   \n",
       "2    < 1 Year            Yes                   0         41164.0      257   \n",
       "3    < 1 Year             No                   1         56025.0      257   \n",
       "4    1-2 Year             No                   0         52973.0      275   \n",
       "5   > 2 Years            Yes                   0         35980.0       93   \n",
       "6    1-2 Year            Yes                   0         35644.0      272   \n",
       "7    1-2 Year             No                   1         86606.0       19   \n",
       "8    < 1 Year             No                   1         38578.0      222   \n",
       "9    < 1 Year             No                   1         37635.0       63   \n",
       "\n",
       "   response  \n",
       "0         0  \n",
       "1         0  \n",
       "2         0  \n",
       "3         0  \n",
       "4         0  \n",
       "5         1  \n",
       "6         1  \n",
       "7         0  \n",
       "8         0  \n",
       "9         0  "
      ]
     },
     "execution_count": 33,
     "metadata": {},
     "output_type": "execute_result"
    }
   ],
   "source": [
    "df_raw"
   ]
  },
  {
   "cell_type": "code",
   "execution_count": null,
   "metadata": {},
   "outputs": [],
   "source": []
  },
  {
   "cell_type": "code",
   "execution_count": null,
   "metadata": {},
   "outputs": [],
   "source": []
  },
  {
   "cell_type": "code",
   "execution_count": null,
   "metadata": {},
   "outputs": [],
   "source": []
  },
  {
   "cell_type": "code",
   "execution_count": null,
   "metadata": {},
   "outputs": [],
   "source": []
  }
 ],
 "metadata": {
  "kernelspec": {
   "display_name": "Python 3",
   "language": "python",
   "name": "python3"
  },
  "language_info": {
   "codemirror_mode": {
    "name": "ipython",
    "version": 3
   },
   "file_extension": ".py",
   "mimetype": "text/x-python",
   "name": "python",
   "nbconvert_exporter": "python",
   "pygments_lexer": "ipython3",
   "version": "3.8.0"
  }
 },
 "nbformat": 4,
 "nbformat_minor": 4
}
