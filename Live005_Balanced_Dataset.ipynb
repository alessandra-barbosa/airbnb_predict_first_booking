{
 "cells": [
  {
   "cell_type": "markdown",
   "metadata": {},
   "source": [
    "# 0.0. Entender Problema"
   ]
  },
  {
   "cell_type": "markdown",
   "metadata": {
    "ExecuteTime": {
     "end_time": "2020-09-02T10:40:18.252578Z",
     "start_time": "2020-09-02T10:40:18.247319Z"
    }
   },
   "source": [
    "-- Objetivo do Problema:\n",
    "    -- 1.0. Previsao do primeiro destino que um novo usuário irá escolher.\n",
    "    \n",
    "    -- Porque?\n",
    "        -- Qual tipo de modelo de negócio do Airbnb?\n",
    "            -- Marketplace ( Conectar pessoas que oferecem acomodacao, com pessoas que estao procurando acomodacao)\n",
    "            -- Oferta ( pessoas oferecendo acomodacao )\n",
    "                -- Tamanho do portfólio.\n",
    "                -- Diversidade/Densidade de Portfólio.\n",
    "                -- Preco Medio\n",
    "                \n",
    "            -- Demanda ( pessoas procurando acomodacao )\n",
    "                -- Numero de Usuários\n",
    "                -- LTV ( Lifetime Value )\n",
    "                -- CAC ( Client Acquisition Cost )\n",
    "                \n",
    "                \n",
    "               Gross Revenue = ( Fee*Numero cliente ) - CAC \n",
    "    \n",
    "-- Proposta da Solucao\n",
    "\n",
    "    --- Modelo de Predivao do primeiro destino de um novo usario.\n",
    "    --- 1.0. Predicoes e salva em tabela do banco de dados. \n",
    "    --- 2.0. API \n",
    "            --- Input: usuario e suas caracteristicas\n",
    "            --- Output: usuario e suas caracteristicas com a **predicao do destino**\n",
    "            \n",
    "    --- 16 ciclos"
   ]
  },
  {
   "cell_type": "markdown",
   "metadata": {
    "ExecuteTime": {
     "end_time": "2020-09-02T00:08:29.136234Z",
     "start_time": "2020-09-02T00:08:29.133768Z"
    },
    "heading_collapsed": true
   },
   "source": [
    "# <font color='red'> Ciclo01: End to End </font>"
   ]
  },
  {
   "cell_type": "markdown",
   "metadata": {},
   "source": [
    "# 0.0. Imports"
   ]
  },
  {
   "cell_type": "code",
   "execution_count": 1,
   "metadata": {
    "ExecuteTime": {
     "end_time": "2020-09-30T00:36:41.122344Z",
     "start_time": "2020-09-30T00:36:36.638165Z"
    }
   },
   "outputs": [
    {
     "name": "stderr",
     "output_type": "stream",
     "text": [
      "/Users/meigarom.lopes/.pyenv/versions/3.8.0/envs/airbnbpredictfirstbooking/lib/python3.8/site-packages/pandas/compat/__init__.py:120: UserWarning: Could not import the lzma module. Your installed Python is incomplete. Attempting to use lzma compression will result in a RuntimeError.\n",
      "  warnings.warn(msg)\n"
     ]
    }
   ],
   "source": [
    "import random\n",
    "import numpy   as np\n",
    "import pandas  as pd\n",
    "import seaborn as sns\n",
    "\n",
    "from sklearn    import model_selection as ms\n",
    "from sklearn    import preprocessing   as pp\n",
    "from sklearn    import metrics         as m\n",
    "from scikitplot import metrics         as mt\n",
    "from scipy      import stats           as ss\n",
    "\n",
    "from imblearn   import under_sampling  as us\n",
    "from imblearn   import over_sampling   as oversamp\n",
    "from imblearn   import combine         as c\n",
    "\n",
    "from keras import models as ml\n",
    "from keras import layers as l"
   ]
  },
  {
   "cell_type": "markdown",
   "metadata": {},
   "source": [
    "## 0.1. Helper Functions"
   ]
  },
  {
   "cell_type": "code",
   "execution_count": 2,
   "metadata": {
    "ExecuteTime": {
     "end_time": "2020-09-30T00:36:41.132600Z",
     "start_time": "2020-09-30T00:36:41.126635Z"
    }
   },
   "outputs": [],
   "source": [
    "def cramer_v( x, y ):\n",
    "    cm = pd.crosstab( x, y ).values\n",
    "    n = cm.sum()\n",
    "    r, k = cm.shape\n",
    "    \n",
    "    chi2 = ss.chi2_contingency( cm )[0]\n",
    "    chi2corr = max( 0, chi2 - (k-1)*(r-1)/(n-1) )\n",
    "    \n",
    "    kcorr = k - (k-1)**2/(n-1)\n",
    "    rcorr = r - (r-1)**2/(n-1)\n",
    "    \n",
    "    return np.sqrt( (chi2corr/n) / ( min( kcorr-1, rcorr-1 ) ) )"
   ]
  },
  {
   "cell_type": "markdown",
   "metadata": {},
   "source": [
    "## 0.2. Loading Data"
   ]
  },
  {
   "cell_type": "code",
   "execution_count": 3,
   "metadata": {
    "ExecuteTime": {
     "end_time": "2020-09-30T00:36:41.644380Z",
     "start_time": "2020-09-30T00:36:41.135726Z"
    }
   },
   "outputs": [
    {
     "data": {
      "text/plain": [
       "(213451, 16)"
      ]
     },
     "execution_count": 3,
     "metadata": {},
     "output_type": "execute_result"
    }
   ],
   "source": [
    "df_raw = pd.read_csv( 'dataset/training_users.csv', low_memory=True )\n",
    "df_raw.shape"
   ]
  },
  {
   "cell_type": "code",
   "execution_count": 4,
   "metadata": {
    "ExecuteTime": {
     "end_time": "2020-09-30T00:36:49.638096Z",
     "start_time": "2020-09-30T00:36:41.646576Z"
    }
   },
   "outputs": [
    {
     "data": {
      "text/plain": [
       "(10567737, 6)"
      ]
     },
     "execution_count": 4,
     "metadata": {},
     "output_type": "execute_result"
    }
   ],
   "source": [
    "df_sessions = pd.read_csv( 'dataset/sessions.csv', low_memory=True )\n",
    "df_sessions.shape"
   ]
  },
  {
   "cell_type": "markdown",
   "metadata": {},
   "source": [
    "# 1.0. Data Description"
   ]
  },
  {
   "cell_type": "code",
   "execution_count": 5,
   "metadata": {
    "ExecuteTime": {
     "end_time": "2020-09-30T00:36:49.664459Z",
     "start_time": "2020-09-30T00:36:49.642054Z"
    }
   },
   "outputs": [],
   "source": [
    "df1 = df_raw.copy()"
   ]
  },
  {
   "cell_type": "markdown",
   "metadata": {},
   "source": [
    "## 1.1. Data Dimension"
   ]
  },
  {
   "cell_type": "code",
   "execution_count": 6,
   "metadata": {
    "ExecuteTime": {
     "end_time": "2020-09-30T00:36:49.675470Z",
     "start_time": "2020-09-30T00:36:49.672030Z"
    }
   },
   "outputs": [
    {
     "name": "stdout",
     "output_type": "stream",
     "text": [
      "Number of rows: 213451\n",
      "Number of columns: 16\n"
     ]
    }
   ],
   "source": [
    "print( 'Number of rows: {}'.format( df1.shape[0] ) )\n",
    "print( 'Number of columns: {}'.format( df1.shape[1] ) )"
   ]
  },
  {
   "cell_type": "code",
   "execution_count": 7,
   "metadata": {
    "ExecuteTime": {
     "end_time": "2020-09-30T00:36:49.681584Z",
     "start_time": "2020-09-30T00:36:49.678189Z"
    }
   },
   "outputs": [
    {
     "name": "stdout",
     "output_type": "stream",
     "text": [
      "Number of rows: 10567737\n",
      "Number of columns: 6\n"
     ]
    }
   ],
   "source": [
    "print( 'Number of rows: {}'.format( df_sessions.shape[0] ) )\n",
    "print( 'Number of columns: {}'.format( df_sessions.shape[1] ) )"
   ]
  },
  {
   "cell_type": "markdown",
   "metadata": {},
   "source": [
    "## 1.2. Data Type"
   ]
  },
  {
   "cell_type": "code",
   "execution_count": 8,
   "metadata": {
    "ExecuteTime": {
     "end_time": "2020-09-30T00:36:49.693875Z",
     "start_time": "2020-09-30T00:36:49.685423Z"
    }
   },
   "outputs": [
    {
     "data": {
      "text/plain": [
       "id                          object\n",
       "date_account_created        object\n",
       "timestamp_first_active       int64\n",
       "date_first_booking          object\n",
       "gender                      object\n",
       "age                        float64\n",
       "signup_method               object\n",
       "signup_flow                  int64\n",
       "language                    object\n",
       "affiliate_channel           object\n",
       "affiliate_provider          object\n",
       "first_affiliate_tracked     object\n",
       "signup_app                  object\n",
       "first_device_type           object\n",
       "first_browser               object\n",
       "country_destination         object\n",
       "dtype: object"
      ]
     },
     "execution_count": 8,
     "metadata": {},
     "output_type": "execute_result"
    }
   ],
   "source": [
    "df1.dtypes"
   ]
  },
  {
   "cell_type": "code",
   "execution_count": 9,
   "metadata": {
    "ExecuteTime": {
     "end_time": "2020-09-30T00:36:49.703640Z",
     "start_time": "2020-09-30T00:36:49.697133Z"
    }
   },
   "outputs": [
    {
     "data": {
      "text/plain": [
       "user_id           object\n",
       "action            object\n",
       "action_type       object\n",
       "action_detail     object\n",
       "device_type       object\n",
       "secs_elapsed     float64\n",
       "dtype: object"
      ]
     },
     "execution_count": 9,
     "metadata": {},
     "output_type": "execute_result"
    }
   ],
   "source": [
    "df_sessions.dtypes"
   ]
  },
  {
   "cell_type": "markdown",
   "metadata": {},
   "source": [
    "## 1.3. NA Check"
   ]
  },
  {
   "cell_type": "code",
   "execution_count": 10,
   "metadata": {
    "ExecuteTime": {
     "end_time": "2020-09-30T00:36:49.837030Z",
     "start_time": "2020-09-30T00:36:49.706387Z"
    }
   },
   "outputs": [
    {
     "data": {
      "text/plain": [
       "id                         0.000000\n",
       "date_account_created       0.000000\n",
       "timestamp_first_active     0.000000\n",
       "date_first_booking         0.583473\n",
       "gender                     0.000000\n",
       "age                        0.412226\n",
       "signup_method              0.000000\n",
       "signup_flow                0.000000\n",
       "language                   0.000000\n",
       "affiliate_channel          0.000000\n",
       "affiliate_provider         0.000000\n",
       "first_affiliate_tracked    0.028414\n",
       "signup_app                 0.000000\n",
       "first_device_type          0.000000\n",
       "first_browser              0.000000\n",
       "country_destination        0.000000\n",
       "dtype: float64"
      ]
     },
     "execution_count": 10,
     "metadata": {},
     "output_type": "execute_result"
    }
   ],
   "source": [
    "df1.isna().sum() / len( df1 )"
   ]
  },
  {
   "cell_type": "code",
   "execution_count": 11,
   "metadata": {
    "ExecuteTime": {
     "end_time": "2020-09-30T00:36:51.746218Z",
     "start_time": "2020-09-30T00:36:49.839378Z"
    }
   },
   "outputs": [
    {
     "data": {
      "text/plain": [
       "user_id          0.003264\n",
       "action           0.007535\n",
       "action_type      0.106570\n",
       "action_detail    0.106570\n",
       "device_type      0.000000\n",
       "secs_elapsed     0.012872\n",
       "dtype: float64"
      ]
     },
     "execution_count": 11,
     "metadata": {},
     "output_type": "execute_result"
    }
   ],
   "source": [
    "df_sessions.isna().sum() / len( df_sessions)"
   ]
  },
  {
   "cell_type": "code",
   "execution_count": 12,
   "metadata": {
    "ExecuteTime": {
     "end_time": "2020-09-30T00:37:04.091250Z",
     "start_time": "2020-09-30T00:36:58.606072Z"
    }
   },
   "outputs": [],
   "source": [
    "# remove missing value completly\n",
    "#df1 = df1.dropna()\n",
    "\n",
    "# ========== User =================\n",
    "# date_first_booking\n",
    "date_first_booking_max = pd.to_datetime( df1['date_first_booking'] ).max().strftime( '%Y-%m-%d' )\n",
    "df1['date_first_booking'] = df1['date_first_booking'].fillna( date_first_booking_max )\n",
    "\n",
    "# age\n",
    "df1 = df1[( df1['age'] > 15 ) & ( df1['age'] < 120 )]\n",
    "avg_age = df1['age'].mean().astype( int )\n",
    "df1['age'] = df1['age'].fillna( avg_age )\n",
    "\n",
    "# first_affiliate_tracked\n",
    "df1 = df1[~df1['first_affiliate_tracked'].isna()]\n",
    "\n",
    "# ========== Sessions =================\n",
    "# user_id - 0.3%\n",
    "df_sessions = df_sessions[~df_sessions['user_id'].isna()]\n",
    "\n",
    "# action - 0.7%\n",
    "df_sessions = df_sessions[~df_sessions['action'].isna()]\n",
    "\n",
    "# action_type - 11%\n",
    "df_sessions = df_sessions[~df_sessions['action_type'].isna()]\n",
    "\n",
    "# action_detail - 11%\n",
    "df_sessions = df_sessions[~df_sessions['action_detail'].isna()]\n",
    "\n",
    "# secs_elapsed - 1.2%\n",
    "df_sessions = df_sessions[~df_sessions['secs_elapsed'].isna()]"
   ]
  },
  {
   "cell_type": "code",
   "execution_count": 13,
   "metadata": {
    "ExecuteTime": {
     "end_time": "2020-09-30T00:37:04.171661Z",
     "start_time": "2020-09-30T00:37:04.094189Z"
    }
   },
   "outputs": [
    {
     "data": {
      "text/plain": [
       "id                         0.0\n",
       "date_account_created       0.0\n",
       "timestamp_first_active     0.0\n",
       "date_first_booking         0.0\n",
       "gender                     0.0\n",
       "age                        0.0\n",
       "signup_method              0.0\n",
       "signup_flow                0.0\n",
       "language                   0.0\n",
       "affiliate_channel          0.0\n",
       "affiliate_provider         0.0\n",
       "first_affiliate_tracked    0.0\n",
       "signup_app                 0.0\n",
       "first_device_type          0.0\n",
       "first_browser              0.0\n",
       "country_destination        0.0\n",
       "dtype: float64"
      ]
     },
     "execution_count": 13,
     "metadata": {},
     "output_type": "execute_result"
    }
   ],
   "source": [
    "df1.isna().sum() / len( df1 )"
   ]
  },
  {
   "cell_type": "code",
   "execution_count": 14,
   "metadata": {
    "ExecuteTime": {
     "end_time": "2020-09-30T00:37:05.882237Z",
     "start_time": "2020-09-30T00:37:04.174871Z"
    }
   },
   "outputs": [
    {
     "data": {
      "text/plain": [
       "user_id          0.0\n",
       "action           0.0\n",
       "action_type      0.0\n",
       "action_detail    0.0\n",
       "device_type      0.0\n",
       "secs_elapsed     0.0\n",
       "dtype: float64"
      ]
     },
     "execution_count": 14,
     "metadata": {},
     "output_type": "execute_result"
    }
   ],
   "source": [
    "df_sessions.isna().sum() / len( df_sessions)"
   ]
  },
  {
   "cell_type": "markdown",
   "metadata": {},
   "source": [
    "## 1.4. Change Data Type"
   ]
  },
  {
   "cell_type": "code",
   "execution_count": 15,
   "metadata": {
    "ExecuteTime": {
     "end_time": "2020-09-30T00:37:05.889099Z",
     "start_time": "2020-09-30T00:37:05.884393Z"
    }
   },
   "outputs": [
    {
     "data": {
      "text/plain": [
       "id                          object\n",
       "date_account_created        object\n",
       "timestamp_first_active       int64\n",
       "date_first_booking          object\n",
       "gender                      object\n",
       "age                        float64\n",
       "signup_method               object\n",
       "signup_flow                  int64\n",
       "language                    object\n",
       "affiliate_channel           object\n",
       "affiliate_provider          object\n",
       "first_affiliate_tracked     object\n",
       "signup_app                  object\n",
       "first_device_type           object\n",
       "first_browser               object\n",
       "country_destination         object\n",
       "dtype: object"
      ]
     },
     "execution_count": 15,
     "metadata": {},
     "output_type": "execute_result"
    }
   ],
   "source": [
    "df1.dtypes"
   ]
  },
  {
   "cell_type": "code",
   "execution_count": 16,
   "metadata": {
    "ExecuteTime": {
     "end_time": "2020-09-30T00:37:06.499863Z",
     "start_time": "2020-09-30T00:37:05.890801Z"
    }
   },
   "outputs": [],
   "source": [
    "# date_account_created\n",
    "df1['date_account_created'] = pd.to_datetime( df1['date_account_created'] )\n",
    "\n",
    "# timestamp_first_active\n",
    "df1['timestamp_first_active'] = pd.to_datetime( df1['timestamp_first_active'], format='%Y%m%d%H%M%S' )\n",
    "\n",
    "# date_first_booking\n",
    "df1['date_first_booking'] = pd.to_datetime( df1['date_first_booking'] )\n",
    "\n",
    "# age\n",
    "df1['age'] = df1['age'].astype( int )"
   ]
  },
  {
   "cell_type": "markdown",
   "metadata": {},
   "source": [
    "## 1.5. Check Balanced Data"
   ]
  },
  {
   "cell_type": "code",
   "execution_count": 17,
   "metadata": {
    "ExecuteTime": {
     "end_time": "2020-09-30T00:37:06.520884Z",
     "start_time": "2020-09-30T00:37:06.502376Z"
    }
   },
   "outputs": [
    {
     "data": {
      "text/plain": [
       "NDF      54852\n",
       "US       48057\n",
       "other     7511\n",
       "FR        3669\n",
       "IT        2014\n",
       "GB        1758\n",
       "ES        1685\n",
       "CA        1064\n",
       "DE         841\n",
       "NL         595\n",
       "AU         433\n",
       "PT         157\n",
       "Name: country_destination, dtype: int64"
      ]
     },
     "execution_count": 17,
     "metadata": {},
     "output_type": "execute_result"
    }
   ],
   "source": [
    "#df1['country_destination'].value_counts( normalize=True )\n",
    "df1['country_destination'].value_counts()"
   ]
  },
  {
   "cell_type": "markdown",
   "metadata": {},
   "source": [
    "## 1.6. Descriptive Analysis"
   ]
  },
  {
   "cell_type": "code",
   "execution_count": 18,
   "metadata": {
    "ExecuteTime": {
     "end_time": "2020-09-30T00:37:07.365435Z",
     "start_time": "2020-09-30T00:37:06.833990Z"
    }
   },
   "outputs": [],
   "source": [
    "# Users\n",
    "num_attributes = df1.select_dtypes( include=['int64', 'float64'] )\n",
    "cat_attributes = df1.select_dtypes( exclude=['int64', 'float64', 'datetime64[ns]'] )\n",
    "time_attributes = df1.select_dtypes( include=['datetime64[ns]'] )\n",
    "\n",
    "# Sessions\n",
    "num_attributes_sessions = df_sessions.select_dtypes( include=['int64', 'float64'] )\n",
    "cat_attributes_sessions = df_sessions.select_dtypes( exclude=['int64', 'float64', 'datetime64[ns]'] )\n",
    "time_attributes_sessions = df_sessions.select_dtypes( include=['datetime64[ns]'] )"
   ]
  },
  {
   "cell_type": "markdown",
   "metadata": {},
   "source": [
    "### 1.6.1. Numerical - Users"
   ]
  },
  {
   "cell_type": "code",
   "execution_count": 19,
   "metadata": {
    "ExecuteTime": {
     "end_time": "2020-09-30T00:37:07.474365Z",
     "start_time": "2020-09-30T00:37:07.367813Z"
    }
   },
   "outputs": [
    {
     "data": {
      "text/html": [
       "<div>\n",
       "<style scoped>\n",
       "    .dataframe tbody tr th:only-of-type {\n",
       "        vertical-align: middle;\n",
       "    }\n",
       "\n",
       "    .dataframe tbody tr th {\n",
       "        vertical-align: top;\n",
       "    }\n",
       "\n",
       "    .dataframe thead th {\n",
       "        text-align: right;\n",
       "    }\n",
       "</style>\n",
       "<table border=\"1\" class=\"dataframe\">\n",
       "  <thead>\n",
       "    <tr style=\"text-align: right;\">\n",
       "      <th></th>\n",
       "      <th>attributes</th>\n",
       "      <th>min</th>\n",
       "      <th>max</th>\n",
       "      <th>range</th>\n",
       "      <th>mean</th>\n",
       "      <th>median</th>\n",
       "      <th>std</th>\n",
       "      <th>skew</th>\n",
       "      <th>kurtosis</th>\n",
       "    </tr>\n",
       "  </thead>\n",
       "  <tbody>\n",
       "    <tr>\n",
       "      <th>0</th>\n",
       "      <td>age</td>\n",
       "      <td>16.0</td>\n",
       "      <td>115.0</td>\n",
       "      <td>99.0</td>\n",
       "      <td>37.405591</td>\n",
       "      <td>34.0</td>\n",
       "      <td>13.939844</td>\n",
       "      <td>2.089718</td>\n",
       "      <td>6.516468</td>\n",
       "    </tr>\n",
       "    <tr>\n",
       "      <th>1</th>\n",
       "      <td>signup_flow</td>\n",
       "      <td>0.0</td>\n",
       "      <td>25.0</td>\n",
       "      <td>25.0</td>\n",
       "      <td>2.519513</td>\n",
       "      <td>0.0</td>\n",
       "      <td>6.604696</td>\n",
       "      <td>2.705871</td>\n",
       "      <td>5.928298</td>\n",
       "    </tr>\n",
       "  </tbody>\n",
       "</table>\n",
       "</div>"
      ],
      "text/plain": [
       "    attributes   min    max  range       mean  median        std      skew  \\\n",
       "0          age  16.0  115.0   99.0  37.405591    34.0  13.939844  2.089718   \n",
       "1  signup_flow   0.0   25.0   25.0   2.519513     0.0   6.604696  2.705871   \n",
       "\n",
       "   kurtosis  \n",
       "0  6.516468  \n",
       "1  5.928298  "
      ]
     },
     "execution_count": 19,
     "metadata": {},
     "output_type": "execute_result"
    }
   ],
   "source": [
    "# Central Tendency - Mean, Mediana\n",
    "ct1 = pd.DataFrame( num_attributes.apply( np.mean ) ).T\n",
    "ct2 = pd.DataFrame( num_attributes.apply( np.median ) ).T\n",
    "\n",
    "# Dispersions - Std, Min, Max, Range, Skew, Kurtosis\n",
    "d1 = pd.DataFrame( num_attributes.apply( np.std ) ).T\n",
    "d2 = pd.DataFrame( num_attributes.apply( min ) ).T\n",
    "d3 = pd.DataFrame( num_attributes.apply( max ) ).T\n",
    "d4 = pd.DataFrame( num_attributes.apply( lambda x: x.max() - x.min() ) ).T\n",
    "d5 = pd.DataFrame( num_attributes.apply( lambda x: x.skew() ) ).T\n",
    "d6 = pd.DataFrame( num_attributes.apply( lambda x: x.kurtosis() ) ).T\n",
    "\n",
    "# Concatenar\n",
    "ct = pd.concat( [d2, d3, d4, ct1, ct2, d1, d5, d6] ).T.reset_index()\n",
    "ct.columns = ['attributes', 'min', 'max', 'range', 'mean', 'median', 'std', 'skew', 'kurtosis']\n",
    "ct"
   ]
  },
  {
   "cell_type": "markdown",
   "metadata": {},
   "source": [
    "### 1.6.2. Numerical - Sessions"
   ]
  },
  {
   "cell_type": "code",
   "execution_count": 20,
   "metadata": {
    "ExecuteTime": {
     "end_time": "2020-09-30T00:37:11.523794Z",
     "start_time": "2020-09-30T00:37:08.315651Z"
    }
   },
   "outputs": [
    {
     "data": {
      "text/html": [
       "<div>\n",
       "<style scoped>\n",
       "    .dataframe tbody tr th:only-of-type {\n",
       "        vertical-align: middle;\n",
       "    }\n",
       "\n",
       "    .dataframe tbody tr th {\n",
       "        vertical-align: top;\n",
       "    }\n",
       "\n",
       "    .dataframe thead th {\n",
       "        text-align: right;\n",
       "    }\n",
       "</style>\n",
       "<table border=\"1\" class=\"dataframe\">\n",
       "  <thead>\n",
       "    <tr style=\"text-align: right;\">\n",
       "      <th></th>\n",
       "      <th>attributes</th>\n",
       "      <th>min</th>\n",
       "      <th>max</th>\n",
       "      <th>range</th>\n",
       "      <th>mean</th>\n",
       "      <th>median</th>\n",
       "      <th>std</th>\n",
       "      <th>skew</th>\n",
       "      <th>kurtosis</th>\n",
       "    </tr>\n",
       "  </thead>\n",
       "  <tbody>\n",
       "    <tr>\n",
       "      <th>0</th>\n",
       "      <td>secs_elapsed</td>\n",
       "      <td>0.0</td>\n",
       "      <td>1799977.0</td>\n",
       "      <td>1799977.0</td>\n",
       "      <td>19961.8251</td>\n",
       "      <td>1369.0</td>\n",
       "      <td>88849.388449</td>\n",
       "      <td>11.137761</td>\n",
       "      <td>154.84312</td>\n",
       "    </tr>\n",
       "  </tbody>\n",
       "</table>\n",
       "</div>"
      ],
      "text/plain": [
       "     attributes  min        max      range        mean  median           std  \\\n",
       "0  secs_elapsed  0.0  1799977.0  1799977.0  19961.8251  1369.0  88849.388449   \n",
       "\n",
       "        skew   kurtosis  \n",
       "0  11.137761  154.84312  "
      ]
     },
     "execution_count": 20,
     "metadata": {},
     "output_type": "execute_result"
    }
   ],
   "source": [
    "# Central Tendency - Mean, Mediana\n",
    "ct1 = pd.DataFrame( num_attributes_sessions.apply( np.mean ) ).T\n",
    "ct2 = pd.DataFrame( num_attributes_sessions.apply( np.median ) ).T\n",
    "\n",
    "# Dispersions - Std, Min, Max, Range, Skew, Kurtosis\n",
    "d1 = pd.DataFrame( num_attributes_sessions.apply( np.std ) ).T\n",
    "d2 = pd.DataFrame( num_attributes_sessions.apply( min ) ).T\n",
    "d3 = pd.DataFrame( num_attributes_sessions.apply( max ) ).T\n",
    "d4 = pd.DataFrame( num_attributes_sessions.apply( lambda x: x.max() - x.min() ) ).T\n",
    "d5 = pd.DataFrame( num_attributes_sessions.apply( lambda x: x.skew() ) ).T\n",
    "d6 = pd.DataFrame( num_attributes_sessions.apply( lambda x: x.kurtosis() ) ).T\n",
    "\n",
    "# Concatenar\n",
    "ct = pd.concat( [d2, d3, d4, ct1, ct2, d1, d5, d6] ).T.reset_index()\n",
    "ct.columns = ['attributes', 'min', 'max', 'range', 'mean', 'median', 'std', 'skew', 'kurtosis']\n",
    "ct"
   ]
  },
  {
   "cell_type": "markdown",
   "metadata": {},
   "source": [
    "### 1.6.3. Categorial - Users"
   ]
  },
  {
   "cell_type": "code",
   "execution_count": 21,
   "metadata": {
    "ExecuteTime": {
     "end_time": "2020-09-30T00:37:11.748525Z",
     "start_time": "2020-09-30T00:37:11.526461Z"
    }
   },
   "outputs": [
    {
     "data": {
      "text/html": [
       "<div>\n",
       "<style scoped>\n",
       "    .dataframe tbody tr th:only-of-type {\n",
       "        vertical-align: middle;\n",
       "    }\n",
       "\n",
       "    .dataframe tbody tr th {\n",
       "        vertical-align: top;\n",
       "    }\n",
       "\n",
       "    .dataframe thead th {\n",
       "        text-align: right;\n",
       "    }\n",
       "</style>\n",
       "<table border=\"1\" class=\"dataframe\">\n",
       "  <thead>\n",
       "    <tr style=\"text-align: right;\">\n",
       "      <th></th>\n",
       "      <th>gender</th>\n",
       "      <th>signup_method</th>\n",
       "      <th>language</th>\n",
       "      <th>affiliate_channel</th>\n",
       "      <th>affiliate_provider</th>\n",
       "      <th>first_affiliate_tracked</th>\n",
       "      <th>signup_app</th>\n",
       "      <th>first_device_type</th>\n",
       "      <th>first_browser</th>\n",
       "      <th>country_destination</th>\n",
       "    </tr>\n",
       "  </thead>\n",
       "  <tbody>\n",
       "    <tr>\n",
       "      <th>count</th>\n",
       "      <td>122636</td>\n",
       "      <td>122636</td>\n",
       "      <td>122636</td>\n",
       "      <td>122636</td>\n",
       "      <td>122636</td>\n",
       "      <td>122636</td>\n",
       "      <td>122636</td>\n",
       "      <td>122636</td>\n",
       "      <td>122636</td>\n",
       "      <td>122636</td>\n",
       "    </tr>\n",
       "    <tr>\n",
       "      <th>unique</th>\n",
       "      <td>4</td>\n",
       "      <td>3</td>\n",
       "      <td>25</td>\n",
       "      <td>8</td>\n",
       "      <td>17</td>\n",
       "      <td>7</td>\n",
       "      <td>4</td>\n",
       "      <td>9</td>\n",
       "      <td>41</td>\n",
       "      <td>12</td>\n",
       "    </tr>\n",
       "    <tr>\n",
       "      <th>top</th>\n",
       "      <td>FEMALE</td>\n",
       "      <td>basic</td>\n",
       "      <td>en</td>\n",
       "      <td>direct</td>\n",
       "      <td>direct</td>\n",
       "      <td>untracked</td>\n",
       "      <td>Web</td>\n",
       "      <td>Mac Desktop</td>\n",
       "      <td>Chrome</td>\n",
       "      <td>NDF</td>\n",
       "    </tr>\n",
       "    <tr>\n",
       "      <th>freq</th>\n",
       "      <td>56362</td>\n",
       "      <td>66039</td>\n",
       "      <td>118205</td>\n",
       "      <td>79093</td>\n",
       "      <td>78954</td>\n",
       "      <td>64712</td>\n",
       "      <td>108283</td>\n",
       "      <td>57943</td>\n",
       "      <td>41778</td>\n",
       "      <td>54852</td>\n",
       "    </tr>\n",
       "  </tbody>\n",
       "</table>\n",
       "</div>"
      ],
      "text/plain": [
       "        gender signup_method language affiliate_channel affiliate_provider  \\\n",
       "count   122636        122636   122636            122636             122636   \n",
       "unique       4             3       25                 8                 17   \n",
       "top     FEMALE         basic       en            direct             direct   \n",
       "freq     56362         66039   118205             79093              78954   \n",
       "\n",
       "       first_affiliate_tracked signup_app first_device_type first_browser  \\\n",
       "count                   122636     122636            122636        122636   \n",
       "unique                       7          4                 9            41   \n",
       "top                  untracked        Web       Mac Desktop        Chrome   \n",
       "freq                     64712     108283             57943         41778   \n",
       "\n",
       "       country_destination  \n",
       "count               122636  \n",
       "unique                  12  \n",
       "top                    NDF  \n",
       "freq                 54852  "
      ]
     },
     "execution_count": 21,
     "metadata": {},
     "output_type": "execute_result"
    }
   ],
   "source": [
    "cat_attributes.drop( 'id', axis=1 ).describe()"
   ]
  },
  {
   "cell_type": "markdown",
   "metadata": {},
   "source": [
    "### 1.6.4. Categorial - Sesssions"
   ]
  },
  {
   "cell_type": "code",
   "execution_count": 22,
   "metadata": {
    "ExecuteTime": {
     "end_time": "2020-09-30T00:37:16.929000Z",
     "start_time": "2020-09-30T00:37:11.753155Z"
    }
   },
   "outputs": [
    {
     "data": {
      "text/html": [
       "<div>\n",
       "<style scoped>\n",
       "    .dataframe tbody tr th:only-of-type {\n",
       "        vertical-align: middle;\n",
       "    }\n",
       "\n",
       "    .dataframe tbody tr th {\n",
       "        vertical-align: top;\n",
       "    }\n",
       "\n",
       "    .dataframe thead th {\n",
       "        text-align: right;\n",
       "    }\n",
       "</style>\n",
       "<table border=\"1\" class=\"dataframe\">\n",
       "  <thead>\n",
       "    <tr style=\"text-align: right;\">\n",
       "      <th></th>\n",
       "      <th>action</th>\n",
       "      <th>action_type</th>\n",
       "      <th>action_detail</th>\n",
       "      <th>device_type</th>\n",
       "    </tr>\n",
       "  </thead>\n",
       "  <tbody>\n",
       "    <tr>\n",
       "      <th>count</th>\n",
       "      <td>9213930</td>\n",
       "      <td>9213930</td>\n",
       "      <td>9213930</td>\n",
       "      <td>9213930</td>\n",
       "    </tr>\n",
       "    <tr>\n",
       "      <th>unique</th>\n",
       "      <td>347</td>\n",
       "      <td>10</td>\n",
       "      <td>155</td>\n",
       "      <td>14</td>\n",
       "    </tr>\n",
       "    <tr>\n",
       "      <th>top</th>\n",
       "      <td>show</td>\n",
       "      <td>view</td>\n",
       "      <td>view_search_results</td>\n",
       "      <td>Mac Desktop</td>\n",
       "    </tr>\n",
       "    <tr>\n",
       "      <th>freq</th>\n",
       "      <td>2178382</td>\n",
       "      <td>3545621</td>\n",
       "      <td>1770931</td>\n",
       "      <td>3019523</td>\n",
       "    </tr>\n",
       "  </tbody>\n",
       "</table>\n",
       "</div>"
      ],
      "text/plain": [
       "         action action_type        action_detail  device_type\n",
       "count   9213930     9213930              9213930      9213930\n",
       "unique      347          10                  155           14\n",
       "top        show        view  view_search_results  Mac Desktop\n",
       "freq    2178382     3545621              1770931      3019523"
      ]
     },
     "execution_count": 22,
     "metadata": {},
     "output_type": "execute_result"
    }
   ],
   "source": [
    "cat_attributes_sessions.drop( 'user_id', axis=1 ).describe()"
   ]
  },
  {
   "cell_type": "markdown",
   "metadata": {},
   "source": [
    "### 1.6.5. Correlation Matrix - Sessions"
   ]
  },
  {
   "cell_type": "code",
   "execution_count": 23,
   "metadata": {
    "ExecuteTime": {
     "end_time": "2020-09-30T00:37:47.933115Z",
     "start_time": "2020-09-30T00:37:16.931207Z"
    }
   },
   "outputs": [],
   "source": [
    "cat_attributes_list = cat_attributes_sessions.drop( 'user_id', axis=1 ).columns.tolist()\n",
    "\n",
    "corr_dict = {}\n",
    "for i in range( len ( cat_attributes_list ) ):\n",
    "    corr_list = []\n",
    "    for j in range( len( cat_attributes_list ) ):\n",
    "        ref = cat_attributes_list[i]\n",
    "        feat = cat_attributes_list[j]\n",
    "        \n",
    "        # correlation\n",
    "        corr = cramer_v( cat_attributes_sessions[ ref ], cat_attributes_sessions[ feat ] )\n",
    "        \n",
    "        # append a list\n",
    "        corr_list.append( corr )\n",
    "    \n",
    "    # appende a correlation list for each ref attributs\n",
    "    corr_dict[ ref ] = corr_list"
   ]
  },
  {
   "cell_type": "code",
   "execution_count": 24,
   "metadata": {
    "ExecuteTime": {
     "end_time": "2020-09-30T00:37:48.286443Z",
     "start_time": "2020-09-30T00:37:47.935512Z"
    }
   },
   "outputs": [
    {
     "data": {
      "text/plain": [
       "<AxesSubplot:>"
      ]
     },
     "execution_count": 24,
     "metadata": {},
     "output_type": "execute_result"
    },
    {
     "data": {
      "image/png": "[encoded data removed]",
      "text/plain": [
       "<Figure size 432x288 with 2 Axes>"
      ]
     },
     "metadata": {
      "needs_background": "light"
     },
     "output_type": "display_data"
    }
   ],
   "source": [
    "d = pd.DataFrame( corr_dict )\n",
    "d = d.set_index( d.columns)\n",
    "sns.heatmap( d, annot=True )"
   ]
  },
  {
   "cell_type": "markdown",
   "metadata": {},
   "source": [
    "# 2.0. Feature Engineering"
   ]
  },
  {
   "cell_type": "code",
   "execution_count": 25,
   "metadata": {
    "ExecuteTime": {
     "end_time": "2020-09-30T00:37:48.302856Z",
     "start_time": "2020-09-30T00:37:48.288451Z"
    }
   },
   "outputs": [
    {
     "data": {
      "text/plain": [
       "(122636, 16)"
      ]
     },
     "execution_count": 25,
     "metadata": {},
     "output_type": "execute_result"
    }
   ],
   "source": [
    "df2 = df1.copy()\n",
    "df2.shape"
   ]
  },
  {
   "cell_type": "code",
   "execution_count": 26,
   "metadata": {
    "ExecuteTime": {
     "end_time": "2020-09-29T23:59:10.647498Z",
     "start_time": "2020-09-29T23:59:10.641455Z"
    }
   },
   "outputs": [
    {
     "data": {
      "text/plain": [
       "id                                 object\n",
       "date_account_created       datetime64[ns]\n",
       "timestamp_first_active     datetime64[ns]\n",
       "date_first_booking         datetime64[ns]\n",
       "gender                             object\n",
       "age                                 int64\n",
       "signup_method                      object\n",
       "signup_flow                         int64\n",
       "language                           object\n",
       "affiliate_channel                  object\n",
       "affiliate_provider                 object\n",
       "first_affiliate_tracked            object\n",
       "signup_app                         object\n",
       "first_device_type                  object\n",
       "first_browser                      object\n",
       "country_destination                object\n",
       "dtype: object"
      ]
     },
     "execution_count": 26,
     "metadata": {},
     "output_type": "execute_result"
    }
   ],
   "source": [
    "df2.dtypes"
   ]
  },
  {
   "cell_type": "markdown",
   "metadata": {},
   "source": [
    "## 2.1. Create New Features"
   ]
  },
  {
   "cell_type": "code",
   "execution_count": 26,
   "metadata": {
    "ExecuteTime": {
     "end_time": "2020-09-30T00:38:16.326547Z",
     "start_time": "2020-09-30T00:38:11.646851Z"
    }
   },
   "outputs": [
    {
     "name": "stderr",
     "output_type": "stream",
     "text": [
      "<ipython-input-26-c95a4a9a186e>:25: FutureWarning: Series.dt.weekofyear and Series.dt.week have been deprecated.  Please use Series.dt.isocalendar().week instead.\n",
      "  df2['week_of_year_first_active'] = df2['first_active'].dt.weekofyear\n",
      "<ipython-input-26-c95a4a9a186e>:41: FutureWarning: Series.dt.weekofyear and Series.dt.week have been deprecated.  Please use Series.dt.isocalendar().week instead.\n",
      "  df2['week_of_year_first_booking'] = df2['date_first_booking'].dt.weekofyear\n",
      "<ipython-input-26-c95a4a9a186e>:57: FutureWarning: Series.dt.weekofyear and Series.dt.week have been deprecated.  Please use Series.dt.isocalendar().week instead.\n",
      "  df2['week_of_year_account_created'] = df2['date_account_created'].dt.weekofyear\n"
     ]
    }
   ],
   "source": [
    "# days from first active up to first booking\n",
    "df2['first_active'] = pd.to_datetime( df2['timestamp_first_active'].dt.strftime( '%Y-%m-%d' ) )\n",
    "df2['days_from_frist_active_until_booking'] = ( df2['date_first_booking'] - df2['first_active'] ).apply( lambda x: x.days )\n",
    "\n",
    "# days from first active upt to account created\n",
    "df2['days_from_first_active_until_account_created'] = ( df2['date_account_created'] - df2['first_active'] ).apply( lambda x: x.days )\n",
    "\n",
    "# days from account createad up to first booking\n",
    "df2['days_from_account_created_until_first_booking'] = ( df2['date_first_booking'] - df2['date_account_created'] ).apply( lambda x: x.days )\n",
    "\n",
    "# ================== First Active ==================\n",
    "# year first active\n",
    "df2['year_first_active'] = df2['first_active'].dt.year\n",
    "\n",
    "# month first active\n",
    "df2['month_fist_active'] = df2['first_active'].dt.month\n",
    "\n",
    "# day first active\n",
    "df2['day_first_active'] = df2['first_active'].dt.day\n",
    "\n",
    "# day of week first active\n",
    "df2['day_of_week_first_active'] = df2['first_active'].dt.dayofweek\n",
    "\n",
    "# week of year first active\n",
    "df2['week_of_year_first_active'] = df2['first_active'].dt.weekofyear\n",
    "\n",
    "# ================== First Booking ==================\n",
    "# year first booking\n",
    "df2['year_first_booking'] = df2['date_first_booking'].dt.year\n",
    "\n",
    "# month first booking\n",
    "df2['month_first_booking'] = df2['date_first_booking'].dt.month\n",
    "\n",
    "# day first booking\n",
    "df2['day_first_booking'] = df2['date_first_booking'].dt.day\n",
    "\n",
    "# day of week first booking\n",
    "df2['day_of_week_first_booking'] = df2['date_first_booking'].dt.dayofweek\n",
    "\n",
    "# week of year first booking\n",
    "df2['week_of_year_first_booking'] = df2['date_first_booking'].dt.weekofyear\n",
    "\n",
    "# ================== First Account Created =================\n",
    "# year first booking\n",
    "df2['year_account_created'] = df2['date_account_created'].dt.year\n",
    "\n",
    "# month  account_created\n",
    "df2['month_account_created'] = df2['date_account_created'].dt.month\n",
    "\n",
    "# day  account_created\n",
    "df2['day_account_created'] = df2['date_account_created'].dt.day\n",
    "\n",
    "# day of week  account_created\n",
    "df2['day_of_week_account_created'] = df2['date_account_created'].dt.dayofweek\n",
    "\n",
    "# week of year  account_created\n",
    "df2['week_of_year_account_created'] = df2['date_account_created'].dt.weekofyear"
   ]
  },
  {
   "cell_type": "code",
   "execution_count": 27,
   "metadata": {
    "ExecuteTime": {
     "end_time": "2020-09-30T00:38:16.333196Z",
     "start_time": "2020-09-30T00:38:16.329246Z"
    }
   },
   "outputs": [
    {
     "data": {
      "text/plain": [
       "(122636, 35)"
      ]
     },
     "execution_count": 27,
     "metadata": {},
     "output_type": "execute_result"
    }
   ],
   "source": [
    "df2.shape"
   ]
  },
  {
   "cell_type": "markdown",
   "metadata": {},
   "source": [
    "# 3.0. Data Filtering"
   ]
  },
  {
   "cell_type": "code",
   "execution_count": 28,
   "metadata": {
    "ExecuteTime": {
     "end_time": "2020-09-30T00:38:19.064645Z",
     "start_time": "2020-09-30T00:38:19.039829Z"
    }
   },
   "outputs": [
    {
     "data": {
      "text/plain": [
       "(122636, 35)"
      ]
     },
     "execution_count": 28,
     "metadata": {},
     "output_type": "execute_result"
    }
   ],
   "source": [
    "df3 = df2.copy()\n",
    "df3.shape"
   ]
  },
  {
   "cell_type": "markdown",
   "metadata": {},
   "source": [
    "## 3.1. Filtering Rows"
   ]
  },
  {
   "cell_type": "code",
   "execution_count": 29,
   "metadata": {
    "ExecuteTime": {
     "end_time": "2020-09-30T00:38:21.972985Z",
     "start_time": "2020-09-30T00:38:21.893976Z"
    }
   },
   "outputs": [],
   "source": [
    "# Filtering rows:\n",
    "# age - greater than 15 and lower than 120 - There are few people over 12O year old   \n",
    "df3 = df3[( df3['age'] > 15 ) & ( df3['age'] < 120 )]\n",
    "\n",
    "# secs_elapsed - there is no possible 0 secs elapsed on website\n",
    "#df3 = df3[df3['secs_elapsed'] > 0]"
   ]
  },
  {
   "cell_type": "markdown",
   "metadata": {},
   "source": [
    "## 3.2. Columns Selection"
   ]
  },
  {
   "cell_type": "code",
   "execution_count": 30,
   "metadata": {
    "ExecuteTime": {
     "end_time": "2020-09-30T00:38:24.938812Z",
     "start_time": "2020-09-30T00:38:24.915155Z"
    }
   },
   "outputs": [],
   "source": [
    "cols = ['date_account_created', 'date_account_created', 'date_first_booking', 'timestamp_first_active', 'first_active'] # original datetime\n",
    "df3 = df3.drop( cols, axis=1 )"
   ]
  },
  {
   "cell_type": "markdown",
   "metadata": {},
   "source": [
    "# 4.0. Balanced Dataset"
   ]
  },
  {
   "cell_type": "code",
   "execution_count": 31,
   "metadata": {
    "ExecuteTime": {
     "end_time": "2020-09-30T00:38:25.497656Z",
     "start_time": "2020-09-30T00:38:25.483649Z"
    }
   },
   "outputs": [
    {
     "data": {
      "text/plain": [
       "(122636, 31)"
      ]
     },
     "execution_count": 31,
     "metadata": {},
     "output_type": "execute_result"
    }
   ],
   "source": [
    "df4 = df3.copy()\n",
    "df4.shape"
   ]
  },
  {
   "cell_type": "code",
   "execution_count": 32,
   "metadata": {
    "ExecuteTime": {
     "end_time": "2020-09-30T00:38:35.599518Z",
     "start_time": "2020-09-30T00:38:34.922919Z"
    }
   },
   "outputs": [
    {
     "data": {
      "text/plain": [
       "(122636, 138)"
      ]
     },
     "execution_count": 32,
     "metadata": {},
     "output_type": "execute_result"
    }
   ],
   "source": [
    "# Encoder Categorical Variables\n",
    "ohe = pp.OneHotEncoder()\n",
    "\n",
    "# Numerical\n",
    "col_num = df4.select_dtypes( include=['int64', 'float64'] ).columns.tolist()\n",
    "\n",
    "# Categorical\n",
    "col_cat = df4.select_dtypes( exclude=['int64', 'float64', 'datetime64[ns]'] ).drop( ['id', 'country_destination'], axis=1 ).columns.tolist()\n",
    "\n",
    "# encoding\n",
    "df4_dummy = pd.DataFrame( ohe.fit_transform( df4[ col_cat] ).toarray(), index=df4.index )\n",
    "\n",
    "# join numerical and categorical\n",
    "df42 = pd.concat( [df4[col_num], df4_dummy], axis=1 )\n",
    "df42.shape"
   ]
  },
  {
   "cell_type": "markdown",
   "metadata": {},
   "source": [
    "## 4.1. Random Undersampling"
   ]
  },
  {
   "cell_type": "code",
   "execution_count": 109,
   "metadata": {
    "ExecuteTime": {
     "end_time": "2020-09-30T00:32:15.209779Z",
     "start_time": "2020-09-30T00:32:14.233705Z"
    }
   },
   "outputs": [],
   "source": [
    "# ratio_balanced\n",
    "ratio_balanced = {'NDF': 10000 }\n",
    "# define sampler\n",
    "undersampling = us.RandomUnderSampler( sampling_strategy=ratio_balanced, random_state=32 )\n",
    "\n",
    "# apply sampler\n",
    "X_under, y_under = undersampling.fit_resample( df42, df4['country_destination'] )"
   ]
  },
  {
   "cell_type": "code",
   "execution_count": 110,
   "metadata": {
    "ExecuteTime": {
     "end_time": "2020-09-30T00:32:15.229315Z",
     "start_time": "2020-09-30T00:32:15.212067Z"
    },
    "cell_style": "split"
   },
   "outputs": [
    {
     "data": {
      "text/plain": [
       "NDF      54852\n",
       "US       48057\n",
       "other     7511\n",
       "FR        3669\n",
       "IT        2014\n",
       "GB        1758\n",
       "ES        1685\n",
       "CA        1064\n",
       "DE         841\n",
       "NL         595\n",
       "AU         433\n",
       "PT         157\n",
       "Name: country_destination, dtype: int64"
      ]
     },
     "execution_count": 110,
     "metadata": {},
     "output_type": "execute_result"
    }
   ],
   "source": [
    "df4['country_destination'].value_counts()"
   ]
  },
  {
   "cell_type": "code",
   "execution_count": 111,
   "metadata": {
    "ExecuteTime": {
     "end_time": "2020-09-30T00:32:15.246777Z",
     "start_time": "2020-09-30T00:32:15.233029Z"
    },
    "cell_style": "split"
   },
   "outputs": [
    {
     "data": {
      "text/plain": [
       "US       48057\n",
       "NDF      10000\n",
       "other     7511\n",
       "FR        3669\n",
       "IT        2014\n",
       "GB        1758\n",
       "ES        1685\n",
       "CA        1064\n",
       "DE         841\n",
       "NL         595\n",
       "AU         433\n",
       "PT         157\n",
       "Name: country_destination, dtype: int64"
      ]
     },
     "execution_count": 111,
     "metadata": {},
     "output_type": "execute_result"
    }
   ],
   "source": [
    "y_under.value_counts()"
   ]
  },
  {
   "cell_type": "markdown",
   "metadata": {},
   "source": [
    "## 4.2. Random Oversampling"
   ]
  },
  {
   "cell_type": "code",
   "execution_count": 35,
   "metadata": {
    "ExecuteTime": {
     "end_time": "2020-09-30T00:39:22.215921Z",
     "start_time": "2020-09-30T00:39:17.846888Z"
    }
   },
   "outputs": [],
   "source": [
    "# ratio_balanced\n",
    "#ratio_balanced = {'NDF': 10000 }\n",
    "\n",
    "# define sampler\n",
    "oversampling = oversamp.RandomOverSampler( sampling_strategy='all', random_state=32 )\n",
    "\n",
    "# apply sampler\n",
    "X_over, y_over = oversampling.fit_resample( df42, df4['country_destination'] )"
   ]
  },
  {
   "cell_type": "code",
   "execution_count": 36,
   "metadata": {
    "ExecuteTime": {
     "end_time": "2020-09-30T00:39:22.240403Z",
     "start_time": "2020-09-30T00:39:22.217998Z"
    },
    "cell_style": "split"
   },
   "outputs": [
    {
     "data": {
      "text/plain": [
       "NDF      54852\n",
       "US       48057\n",
       "other     7511\n",
       "FR        3669\n",
       "IT        2014\n",
       "GB        1758\n",
       "ES        1685\n",
       "CA        1064\n",
       "DE         841\n",
       "NL         595\n",
       "AU         433\n",
       "PT         157\n",
       "Name: country_destination, dtype: int64"
      ]
     },
     "execution_count": 36,
     "metadata": {},
     "output_type": "execute_result"
    }
   ],
   "source": [
    "df4['country_destination'].value_counts()"
   ]
  },
  {
   "cell_type": "code",
   "execution_count": 37,
   "metadata": {
    "ExecuteTime": {
     "end_time": "2020-09-30T00:39:22.315264Z",
     "start_time": "2020-09-30T00:39:22.244664Z"
    },
    "cell_style": "split"
   },
   "outputs": [
    {
     "data": {
      "text/plain": [
       "FR       54852\n",
       "AU       54852\n",
       "other    54852\n",
       "ES       54852\n",
       "DE       54852\n",
       "CA       54852\n",
       "IT       54852\n",
       "PT       54852\n",
       "US       54852\n",
       "NL       54852\n",
       "GB       54852\n",
       "NDF      54852\n",
       "Name: country_destination, dtype: int64"
      ]
     },
     "execution_count": 37,
     "metadata": {},
     "output_type": "execute_result"
    }
   ],
   "source": [
    "y_over.value_counts()"
   ]
  },
  {
   "cell_type": "markdown",
   "metadata": {},
   "source": [
    "## 4.3. SMOTE + TOMEKLINK"
   ]
  },
  {
   "cell_type": "code",
   "execution_count": 62,
   "metadata": {
    "ExecuteTime": {
     "end_time": "2020-09-30T00:47:38.950700Z",
     "start_time": "2020-09-30T00:47:38.947634Z"
    }
   },
   "outputs": [],
   "source": [
    "ratio_balanced =  {'NDF': 54852,\n",
    "                   'US':  48057,\n",
    "                   'other': 6*7511,\n",
    "                   'FR': 12*3669,\n",
    "                   'IT': 20*2014,\n",
    "                   'GB': 30*1758,\n",
    "                   'ES': 30*1685,\n",
    "                   'CA': 40*1064,\n",
    "                   'DE': 45*841,\n",
    "                   'NL': 80*595,\n",
    "                   'AU': 85*433,\n",
    "                   'PT': 300*157}"
   ]
  },
  {
   "cell_type": "code",
   "execution_count": 63,
   "metadata": {
    "ExecuteTime": {
     "end_time": "2020-09-30T00:51:09.771534Z",
     "start_time": "2020-09-30T00:47:55.061055Z"
    }
   },
   "outputs": [],
   "source": [
    "# define sampler\n",
    "smt = c.SMOTETomek( sampling_strategy=ratio_balanced, random_state=32, n_jobs=-1 )\n",
    "\n",
    "# apply sampler\n",
    "X_smt, y_smt = smt.fit_resample( df42, df4['country_destination'] )"
   ]
  },
  {
   "cell_type": "code",
   "execution_count": 64,
   "metadata": {
    "ExecuteTime": {
     "end_time": "2020-09-30T00:51:09.803044Z",
     "start_time": "2020-09-30T00:51:09.775067Z"
    },
    "cell_style": "split"
   },
   "outputs": [
    {
     "data": {
      "text/plain": [
       "NDF      54852\n",
       "US       48057\n",
       "other     7511\n",
       "FR        3669\n",
       "IT        2014\n",
       "GB        1758\n",
       "ES        1685\n",
       "CA        1064\n",
       "DE         841\n",
       "NL         595\n",
       "AU         433\n",
       "PT         157\n",
       "Name: country_destination, dtype: int64"
      ]
     },
     "execution_count": 64,
     "metadata": {},
     "output_type": "execute_result"
    }
   ],
   "source": [
    "df4['country_destination'].value_counts()"
   ]
  },
  {
   "cell_type": "code",
   "execution_count": 65,
   "metadata": {
    "ExecuteTime": {
     "end_time": "2020-09-30T00:51:09.886773Z",
     "start_time": "2020-09-30T00:51:09.808612Z"
    },
    "cell_style": "split"
   },
   "outputs": [
    {
     "data": {
      "text/plain": [
       "FR       54852\n",
       "AU       54852\n",
       "other    54852\n",
       "ES       54852\n",
       "DE       54852\n",
       "CA       54852\n",
       "IT       54852\n",
       "PT       54852\n",
       "US       54852\n",
       "NL       54852\n",
       "GB       54852\n",
       "NDF      54852\n",
       "Name: country_destination, dtype: int64"
      ]
     },
     "execution_count": 65,
     "metadata": {},
     "output_type": "execute_result"
    }
   ],
   "source": [
    "y_over.value_counts()"
   ]
  },
  {
   "cell_type": "code",
   "execution_count": 67,
   "metadata": {
    "ExecuteTime": {
     "end_time": "2020-09-30T00:51:29.545540Z",
     "start_time": "2020-09-30T00:51:28.331409Z"
    }
   },
   "outputs": [],
   "source": [
    "# numerical data\n",
    "df43 = X_smt[ col_num ]\n",
    "\n",
    "# categorical data\n",
    "df44 = X_smt.drop( col_num, axis=1 )\n",
    "df45 = pd.DataFrame( ohe.inverse_transform( df44 ), columns=col_cat, index=df44.index )\n",
    "\n",
    "# join numerical categorical\n",
    "df46 = pd.concat( [df43, df45], axis=1 )\n",
    "df46['country_destination'] = y_smt"
   ]
  },
  {
   "cell_type": "markdown",
   "metadata": {},
   "source": [
    "# 5.0. Data Preparation"
   ]
  },
  {
   "cell_type": "code",
   "execution_count": 68,
   "metadata": {
    "ExecuteTime": {
     "end_time": "2020-09-30T00:51:30.769830Z",
     "start_time": "2020-09-30T00:51:30.753943Z"
    }
   },
   "outputs": [],
   "source": [
    "df5 = df4.copy()"
   ]
  },
  {
   "cell_type": "code",
   "execution_count": 69,
   "metadata": {
    "ExecuteTime": {
     "end_time": "2020-09-30T00:51:31.180766Z",
     "start_time": "2020-09-30T00:51:30.931829Z"
    }
   },
   "outputs": [],
   "source": [
    "# dummy variable\n",
    "df5_dummy = pd.get_dummies( df5.drop( ['id', 'country_destination'], axis=1 ) )\n",
    "\n",
    "# join id and country destination\n",
    "df5 = pd.concat( [df5[['id', 'country_destination']], df5_dummy], axis=1 )"
   ]
  },
  {
   "cell_type": "code",
   "execution_count": 70,
   "metadata": {
    "ExecuteTime": {
     "end_time": "2020-09-30T00:51:32.117859Z",
     "start_time": "2020-09-30T00:51:32.113027Z"
    }
   },
   "outputs": [
    {
     "data": {
      "text/plain": [
       "(122636, 140)"
      ]
     },
     "execution_count": 70,
     "metadata": {},
     "output_type": "execute_result"
    }
   ],
   "source": [
    "df5.shape"
   ]
  },
  {
   "cell_type": "markdown",
   "metadata": {},
   "source": [
    "# 6.0. Feature Selection"
   ]
  },
  {
   "cell_type": "code",
   "execution_count": 73,
   "metadata": {
    "ExecuteTime": {
     "end_time": "2020-09-30T00:51:44.397213Z",
     "start_time": "2020-09-30T00:51:44.387610Z"
    }
   },
   "outputs": [],
   "source": [
    "#cols_drop = ['date_account_created', 'timestamp_first_active', 'date_first_booking', 'first_active'] # original dates\n",
    "df6 = df5.copy()#drop( cols_drop, axis=1 )"
   ]
  },
  {
   "cell_type": "code",
   "execution_count": 74,
   "metadata": {
    "ExecuteTime": {
     "end_time": "2020-09-30T00:51:45.052370Z",
     "start_time": "2020-09-30T00:51:45.015871Z"
    }
   },
   "outputs": [],
   "source": [
    "X = df6.drop( 'country_destination', axis=1 )\n",
    "y = df6['country_destination'].copy()"
   ]
  },
  {
   "cell_type": "code",
   "execution_count": 75,
   "metadata": {
    "ExecuteTime": {
     "end_time": "2020-09-30T00:51:45.661943Z",
     "start_time": "2020-09-30T00:51:45.587572Z"
    }
   },
   "outputs": [],
   "source": [
    "# Split dataset into training and test\n",
    "X_train, X_test, y_train, y_test = ms.train_test_split( X, y, test_size=0.2, random_state=32 )"
   ]
  },
  {
   "cell_type": "markdown",
   "metadata": {},
   "source": [
    "# 7.0. Machine Learning Model"
   ]
  },
  {
   "cell_type": "code",
   "execution_count": 76,
   "metadata": {
    "ExecuteTime": {
     "end_time": "2020-09-30T00:51:46.351025Z",
     "start_time": "2020-09-30T00:51:46.319640Z"
    }
   },
   "outputs": [],
   "source": [
    "x_train = X_train.drop( 'id', axis=1 )\n",
    "x_test = X_test.drop( 'id', axis=1 )"
   ]
  },
  {
   "cell_type": "markdown",
   "metadata": {},
   "source": [
    "## 7.1. Baseline Model"
   ]
  },
  {
   "cell_type": "code",
   "execution_count": 77,
   "metadata": {
    "ExecuteTime": {
     "end_time": "2020-09-30T00:51:47.015914Z",
     "start_time": "2020-09-30T00:51:46.983360Z"
    }
   },
   "outputs": [],
   "source": [
    "country_destination_list = df1['country_destination'].drop_duplicates().sort_values().tolist()\n",
    "k_num = y_test.shape[0]\n",
    "country_destination_weights = df1['country_destination'].value_counts( normalize=True ).sort_index().tolist()\n",
    "\n",
    "yhat_random = random.choices( population=country_destination_list,  \n",
    "                              weights=country_destination_weights,\n",
    "                              k=k_num )"
   ]
  },
  {
   "cell_type": "markdown",
   "metadata": {},
   "source": [
    "### 7.1.1. Baseline Model Performance"
   ]
  },
  {
   "cell_type": "code",
   "execution_count": 78,
   "metadata": {
    "ExecuteTime": {
     "end_time": "2020-09-30T00:51:50.523253Z",
     "start_time": "2020-09-30T00:51:48.161825Z"
    }
   },
   "outputs": [
    {
     "name": "stdout",
     "output_type": "stream",
     "text": [
      "Accuracy: 0.35918134377038485\n",
      "Balanced Accuracy:0.08236018230085887\n",
      "Kappa Score: 0.0024174456224165253\n",
      "              precision    recall  f1-score   support\n",
      "\n",
      "          AU       0.00      0.00      0.00        87\n",
      "          CA       0.00      0.00      0.00       216\n",
      "          DE       0.00      0.00      0.00       164\n",
      "          ES       0.02      0.03      0.02       319\n",
      "          FR       0.03      0.03      0.03       736\n",
      "          GB       0.01      0.01      0.01       361\n",
      "          IT       0.02      0.02      0.02       420\n",
      "         NDF       0.45      0.45      0.45     10962\n",
      "          NL       0.00      0.00      0.00       105\n",
      "          PT       0.00      0.00      0.00        31\n",
      "          US       0.39      0.39      0.39      9606\n",
      "       other       0.06      0.06      0.06      1521\n",
      "\n",
      "    accuracy                           0.36     24528\n",
      "   macro avg       0.08      0.08      0.08     24528\n",
      "weighted avg       0.36      0.36      0.36     24528\n",
      "\n"
     ]
    },
    {
     "data": {
      "text/plain": [
       "<AxesSubplot:title={'center':'Confusion Matrix'}, xlabel='Predicted label', ylabel='True label'>"
      ]
     },
     "execution_count": 78,
     "metadata": {},
     "output_type": "execute_result"
    },
    {
     "data": {
      "image/png": "[encoded data removed]",
      "text/plain": [
       "<Figure size 864x864 with 2 Axes>"
      ]
     },
     "metadata": {
      "needs_background": "light"
     },
     "output_type": "display_data"
    }
   ],
   "source": [
    "# Accuracy\n",
    "acc_random = m.accuracy_score( y_test, yhat_random )\n",
    "print( 'Accuracy: {}'.format( acc_random ) )\n",
    "\n",
    "# Balanced Accuray\n",
    "balanced_acc_random = m.balanced_accuracy_score( y_test, yhat_random )\n",
    "print( 'Balanced Accuracy:{}'.format( balanced_acc_random ) )\n",
    "\n",
    "# Kappa Metrics\n",
    "kappa_random = m.cohen_kappa_score( y_test, yhat_random )\n",
    "print( 'Kappa Score: {}'.format( kappa_random ) )\n",
    "\n",
    "# Classification report\n",
    "print( m.classification_report( y_test, yhat_random ) )\n",
    "\n",
    "# Confusion Matrix\n",
    "mt.plot_confusion_matrix( y_test, yhat_random, normalize=False, figsize=(12,12))"
   ]
  },
  {
   "cell_type": "markdown",
   "metadata": {},
   "source": [
    "## 7.2. Neural Network - MLP"
   ]
  },
  {
   "cell_type": "code",
   "execution_count": 79,
   "metadata": {
    "ExecuteTime": {
     "end_time": "2020-09-30T00:51:50.565080Z",
     "start_time": "2020-09-30T00:51:50.525409Z"
    }
   },
   "outputs": [],
   "source": [
    "ohe = pp.OneHotEncoder()\n",
    "y_train_nn = ohe.fit_transform( y_train.values.reshape( -1, 1 ) ).toarray()"
   ]
  },
  {
   "cell_type": "code",
   "execution_count": 83,
   "metadata": {
    "ExecuteTime": {
     "end_time": "2020-09-30T01:22:05.514345Z",
     "start_time": "2020-09-30T01:22:05.506713Z"
    }
   },
   "outputs": [
    {
     "name": "stdout",
     "output_type": "stream",
     "text": [
      "Number of Rows: 98108\n",
      "Number of Features: 138\n",
      "Number of Classes: 12\n"
     ]
    }
   ],
   "source": [
    "print( 'Number of Rows: {}'.format( x_train.shape[0] ) )\n",
    "print( 'Number of Features: {}'.format( x_train.shape[1] ) )\n",
    "print( 'Number of Classes: {}'.format( y_train.nunique() ) )"
   ]
  },
  {
   "cell_type": "code",
   "execution_count": 82,
   "metadata": {
    "ExecuteTime": {
     "end_time": "2020-09-30T00:56:14.070198Z",
     "start_time": "2020-09-30T00:51:55.392399Z"
    }
   },
   "outputs": [
    {
     "name": "stdout",
     "output_type": "stream",
     "text": [
      "Epoch 1/100\n",
      "3066/3066 [==============================] - 3s 897us/step - loss: 7.2466 - accuracy: 0.7323\n",
      "Epoch 2/100\n",
      "3066/3066 [==============================] - 3s 842us/step - loss: 3.2238 - accuracy: 0.7476\n",
      "Epoch 3/100\n",
      "3066/3066 [==============================] - 3s 838us/step - loss: 1.6274 - accuracy: 0.7683\n",
      "Epoch 4/100\n",
      "3066/3066 [==============================] - 3s 874us/step - loss: 1.0565 - accuracy: 0.7933\n",
      "Epoch 5/100\n",
      "3066/3066 [==============================] - 3s 961us/step - loss: 0.8535 - accuracy: 0.81000s - loss: 0.8583 - accuracy\n",
      "Epoch 6/100\n",
      "3066/3066 [==============================] - 2s 704us/step - loss: 0.7022 - accuracy: 0.8316\n",
      "Epoch 7/100\n",
      "3066/3066 [==============================] - 2s 661us/step - loss: 0.6632 - accuracy: 0.8378\n",
      "Epoch 8/100\n",
      "3066/3066 [==============================] - 2s 655us/step - loss: 0.6465 - accuracy: 0.8383\n",
      "Epoch 9/100\n",
      "3066/3066 [==============================] - 2s 641us/step - loss: 0.6425 - accuracy: 0.8383\n",
      "Epoch 10/100\n",
      "3066/3066 [==============================] - 2s 667us/step - loss: 0.6409 - accuracy: 0.8386\n",
      "Epoch 11/100\n",
      "3066/3066 [==============================] - 2s 633us/step - loss: 0.6413 - accuracy: 0.8386\n",
      "Epoch 12/100\n",
      "3066/3066 [==============================] - 2s 640us/step - loss: 0.6411 - accuracy: 0.8386\n",
      "Epoch 13/100\n",
      "3066/3066 [==============================] - 2s 667us/step - loss: 0.6407 - accuracy: 0.8386\n",
      "Epoch 14/100\n",
      "3066/3066 [==============================] - 2s 645us/step - loss: 0.6396 - accuracy: 0.8388\n",
      "Epoch 15/100\n",
      "3066/3066 [==============================] - 2s 679us/step - loss: 0.6402 - accuracy: 0.8386\n",
      "Epoch 16/100\n",
      "3066/3066 [==============================] - 2s 666us/step - loss: 0.6386 - accuracy: 0.8389\n",
      "Epoch 17/100\n",
      "3066/3066 [==============================] - 2s 642us/step - loss: 0.6395 - accuracy: 0.8388\n",
      "Epoch 18/100\n",
      "3066/3066 [==============================] - 2s 659us/step - loss: 0.6391 - accuracy: 0.8386\n",
      "Epoch 19/100\n",
      "3066/3066 [==============================] - 2s 648us/step - loss: 0.6378 - accuracy: 0.8388\n",
      "Epoch 20/100\n",
      "3066/3066 [==============================] - 2s 742us/step - loss: 0.6387 - accuracy: 0.8389\n",
      "Epoch 21/100\n",
      "3066/3066 [==============================] - 3s 913us/step - loss: 0.6387 - accuracy: 0.8388\n",
      "Epoch 22/100\n",
      "3066/3066 [==============================] - 3s 987us/step - loss: 0.6370 - accuracy: 0.8389\n",
      "Epoch 23/100\n",
      "3066/3066 [==============================] - 3s 850us/step - loss: 0.6379 - accuracy: 0.8389\n",
      "Epoch 24/100\n",
      "3066/3066 [==============================] - 3s 849us/step - loss: 0.6373 - accuracy: 0.8389\n",
      "Epoch 25/100\n",
      "3066/3066 [==============================] - 2s 805us/step - loss: 0.6368 - accuracy: 0.8388\n",
      "Epoch 26/100\n",
      "3066/3066 [==============================] - 3s 838us/step - loss: 0.6372 - accuracy: 0.83880s - loss: 0\n",
      "Epoch 27/100\n",
      "3066/3066 [==============================] - 3s 816us/step - loss: 0.6371 - accuracy: 0.8388\n",
      "Epoch 28/100\n",
      "3066/3066 [==============================] - 3s 874us/step - loss: 0.6381 - accuracy: 0.8389\n",
      "Epoch 29/100\n",
      "3066/3066 [==============================] - 3s 836us/step - loss: 0.6372 - accuracy: 0.8390\n",
      "Epoch 30/100\n",
      "3066/3066 [==============================] - 3s 838us/step - loss: 0.6357 - accuracy: 0.83880s - l\n",
      "Epoch 31/100\n",
      "3066/3066 [==============================] - 3s 835us/step - loss: 0.6349 - accuracy: 0.8389\n",
      "Epoch 32/100\n",
      "3066/3066 [==============================] - 3s 834us/step - loss: 0.6345 - accuracy: 0.8389\n",
      "Epoch 33/100\n",
      "3066/3066 [==============================] - 3s 820us/step - loss: 0.6341 - accuracy: 0.8390\n",
      "Epoch 34/100\n",
      "3066/3066 [==============================] - 3s 835us/step - loss: 0.6351 - accuracy: 0.8389\n",
      "Epoch 35/100\n",
      "3066/3066 [==============================] - 3s 836us/step - loss: 0.6347 - accuracy: 0.8389\n",
      "Epoch 36/100\n",
      "3066/3066 [==============================] - 3s 827us/step - loss: 0.6342 - accuracy: 0.8389\n",
      "Epoch 37/100\n",
      "3066/3066 [==============================] - 3s 820us/step - loss: 0.6337 - accuracy: 0.8390\n",
      "Epoch 38/100\n",
      "3066/3066 [==============================] - 3s 827us/step - loss: 0.6342 - accuracy: 0.8390\n",
      "Epoch 39/100\n",
      "3066/3066 [==============================] - 3s 868us/step - loss: 0.6338 - accuracy: 0.83900s - los\n",
      "Epoch 40/100\n",
      "3066/3066 [==============================] - 3s 852us/step - loss: 0.6340 - accuracy: 0.8390\n",
      "Epoch 41/100\n",
      "3066/3066 [==============================] - 3s 842us/step - loss: 0.6336 - accuracy: 0.8390\n",
      "Epoch 42/100\n",
      "3066/3066 [==============================] - 3s 991us/step - loss: 0.6342 - accuracy: 0.8390\n",
      "Epoch 43/100\n",
      "3066/3066 [==============================] - 3s 951us/step - loss: 0.6345 - accuracy: 0.8389\n",
      "Epoch 44/100\n",
      "3066/3066 [==============================] - 3s 921us/step - loss: 0.6335 - accuracy: 0.8391\n",
      "Epoch 45/100\n",
      "3066/3066 [==============================] - 3s 904us/step - loss: 0.6343 - accuracy: 0.8390\n",
      "Epoch 46/100\n",
      "3066/3066 [==============================] - 3s 821us/step - loss: 0.6350 - accuracy: 0.8389\n",
      "Epoch 47/100\n",
      "3066/3066 [==============================] - 3s 882us/step - loss: 0.6341 - accuracy: 0.8390\n",
      "Epoch 48/100\n",
      "3066/3066 [==============================] - 3s 824us/step - loss: 0.6338 - accuracy: 0.8390\n",
      "Epoch 49/100\n",
      "3066/3066 [==============================] - 3s 829us/step - loss: 0.6348 - accuracy: 0.8388\n",
      "Epoch 50/100\n",
      "3066/3066 [==============================] - 3s 831us/step - loss: 0.6341 - accuracy: 0.8390\n",
      "Epoch 51/100\n",
      "3066/3066 [==============================] - 3s 953us/step - loss: 0.6339 - accuracy: 0.83900s - loss: 0.6\n",
      "Epoch 52/100\n",
      "3066/3066 [==============================] - 3s 921us/step - loss: 0.6341 - accuracy: 0.8390\n",
      "Epoch 53/100\n",
      "3066/3066 [==============================] - 3s 819us/step - loss: 0.6341 - accuracy: 0.8390\n",
      "Epoch 54/100\n",
      "3066/3066 [==============================] - 3s 858us/step - loss: 0.6340 - accuracy: 0.8390\n",
      "Epoch 55/100\n",
      "3066/3066 [==============================] - 3s 922us/step - loss: 0.6337 - accuracy: 0.8391\n",
      "Epoch 56/100\n",
      "3066/3066 [==============================] - 3s 865us/step - loss: 0.6343 - accuracy: 0.8390\n",
      "Epoch 57/100\n",
      "3066/3066 [==============================] - 3s 924us/step - loss: 0.6341 - accuracy: 0.8391\n",
      "Epoch 58/100\n",
      "3066/3066 [==============================] - 3s 923us/step - loss: 0.6342 - accuracy: 0.8390\n",
      "Epoch 59/100\n",
      "3066/3066 [==============================] - 3s 986us/step - loss: 0.6339 - accuracy: 0.8390\n",
      "Epoch 60/100\n",
      "3066/3066 [==============================] - 3s 892us/step - loss: 0.6336 - accuracy: 0.8390\n",
      "Epoch 61/100\n",
      "3066/3066 [==============================] - 3s 924us/step - loss: 0.6337 - accuracy: 0.8390\n",
      "Epoch 62/100\n",
      "3066/3066 [==============================] - 3s 959us/step - loss: 0.6334 - accuracy: 0.8391\n",
      "Epoch 63/100\n",
      "3066/3066 [==============================] - 3s 1ms/step - loss: 0.6337 - accuracy: 0.8390\n",
      "Epoch 64/100\n",
      "3066/3066 [==============================] - 3s 867us/step - loss: 0.6357 - accuracy: 0.8389\n",
      "Epoch 65/100\n",
      "3066/3066 [==============================] - 3s 905us/step - loss: 0.6333 - accuracy: 0.8391\n",
      "Epoch 66/100\n",
      "3066/3066 [==============================] - 3s 865us/step - loss: 0.6337 - accuracy: 0.8390\n",
      "Epoch 67/100\n",
      "3066/3066 [==============================] - 3s 889us/step - loss: 0.6341 - accuracy: 0.8390\n",
      "Epoch 68/100\n",
      "3066/3066 [==============================] - 3s 883us/step - loss: 0.6334 - accuracy: 0.8391\n",
      "Epoch 69/100\n",
      "3066/3066 [==============================] - 3s 864us/step - loss: 0.6353 - accuracy: 0.8389\n",
      "Epoch 70/100\n",
      "3066/3066 [==============================] - 3s 873us/step - loss: 0.6333 - accuracy: 0.8391\n",
      "Epoch 71/100\n",
      "3066/3066 [==============================] - 3s 876us/step - loss: 0.6339 - accuracy: 0.8390\n",
      "Epoch 72/100\n",
      "3066/3066 [==============================] - 3s 916us/step - loss: 0.6341 - accuracy: 0.8390\n",
      "Epoch 73/100\n",
      "3066/3066 [==============================] - 3s 917us/step - loss: 0.6354 - accuracy: 0.8389\n",
      "Epoch 74/100\n",
      "3066/3066 [==============================] - 3s 1ms/step - loss: 0.6332 - accuracy: 0.8392\n",
      "Epoch 75/100\n",
      "3066/3066 [==============================] - 3s 873us/step - loss: 0.6358 - accuracy: 0.8389\n",
      "Epoch 76/100\n",
      "3066/3066 [==============================] - 3s 888us/step - loss: 0.6335 - accuracy: 0.8391\n",
      "Epoch 77/100\n"
     ]
    },
    {
     "name": "stdout",
     "output_type": "stream",
     "text": [
      "3066/3066 [==============================] - 2s 815us/step - loss: 0.6337 - accuracy: 0.8390\n",
      "Epoch 78/100\n",
      "3066/3066 [==============================] - 3s 825us/step - loss: 0.6336 - accuracy: 0.8391\n",
      "Epoch 79/100\n",
      "3066/3066 [==============================] - 2s 814us/step - loss: 0.6336 - accuracy: 0.8390\n",
      "Epoch 80/100\n",
      "3066/3066 [==============================] - 3s 833us/step - loss: 0.6343 - accuracy: 0.8390\n",
      "Epoch 81/100\n",
      "3066/3066 [==============================] - 2s 810us/step - loss: 0.6329 - accuracy: 0.8392\n",
      "Epoch 82/100\n",
      "3066/3066 [==============================] - 3s 830us/step - loss: 0.6351 - accuracy: 0.8390\n",
      "Epoch 83/100\n",
      "3066/3066 [==============================] - 3s 819us/step - loss: 0.6331 - accuracy: 0.8391\n",
      "Epoch 84/100\n",
      "3066/3066 [==============================] - 3s 842us/step - loss: 0.6337 - accuracy: 0.8391\n",
      "Epoch 85/100\n",
      "3066/3066 [==============================] - 3s 897us/step - loss: 0.6340 - accuracy: 0.8390\n",
      "Epoch 86/100\n",
      "3066/3066 [==============================] - 3s 874us/step - loss: 0.6337 - accuracy: 0.8390\n",
      "Epoch 87/100\n",
      "3066/3066 [==============================] - 3s 943us/step - loss: 0.6337 - accuracy: 0.8390\n",
      "Epoch 88/100\n",
      "3066/3066 [==============================] - 3s 868us/step - loss: 0.6333 - accuracy: 0.8391\n",
      "Epoch 89/100\n",
      "3066/3066 [==============================] - 3s 847us/step - loss: 0.6333 - accuracy: 0.8391\n",
      "Epoch 90/100\n",
      "3066/3066 [==============================] - 2s 798us/step - loss: 0.6342 - accuracy: 0.8390\n",
      "Epoch 91/100\n",
      "3066/3066 [==============================] - 3s 840us/step - loss: 0.6332 - accuracy: 0.8391\n",
      "Epoch 92/100\n",
      "3066/3066 [==============================] - 2s 813us/step - loss: 0.6334 - accuracy: 0.8391\n",
      "Epoch 93/100\n",
      "3066/3066 [==============================] - 3s 844us/step - loss: 0.6340 - accuracy: 0.8390\n",
      "Epoch 94/100\n",
      "3066/3066 [==============================] - 2s 808us/step - loss: 0.6339 - accuracy: 0.83910s - loss: 0.6338 - accuracy: 0.83\n",
      "Epoch 95/100\n",
      "3066/3066 [==============================] - 3s 846us/step - loss: 0.6336 - accuracy: 0.8391\n",
      "Epoch 96/100\n",
      "3066/3066 [==============================] - 3s 832us/step - loss: 0.6335 - accuracy: 0.8391\n",
      "Epoch 97/100\n",
      "3066/3066 [==============================] - 3s 844us/step - loss: 0.6333 - accuracy: 0.8391\n",
      "Epoch 98/100\n",
      "3066/3066 [==============================] - 3s 832us/step - loss: 0.6340 - accuracy: 0.8391\n",
      "Epoch 99/100\n",
      "3066/3066 [==============================] - 3s 866us/step - loss: 0.6341 - accuracy: 0.8390\n",
      "Epoch 100/100\n",
      "3066/3066 [==============================] - 2s 815us/step - loss: 0.6333 - accuracy: 0.8391\n"
     ]
    },
    {
     "data": {
      "text/plain": [
       "<tensorflow.python.keras.callbacks.History at 0x15b868040>"
      ]
     },
     "execution_count": 82,
     "metadata": {},
     "output_type": "execute_result"
    }
   ],
   "source": [
    "# model definition\n",
    "model = ml.Sequential()\n",
    "model.add( l.Dense( 256, input_dim=x_train.shape[1], activation='relu' ) )\n",
    "model.add( l.Dense( 12, activation='softmax') )\n",
    "\n",
    "# model compile\n",
    "model.compile( loss='categorical_crossentropy', optimizer='adam', metrics=['accuracy'] )\n",
    "\n",
    "# train model\n",
    "model.fit( x_train, y_train_nn, epochs=100 )"
   ]
  },
  {
   "cell_type": "markdown",
   "metadata": {},
   "source": [
    "### 7.2.1. NN Performance"
   ]
  },
  {
   "cell_type": "code",
   "execution_count": 84,
   "metadata": {
    "ExecuteTime": {
     "end_time": "2020-09-30T01:22:09.938448Z",
     "start_time": "2020-09-30T01:22:09.563315Z"
    }
   },
   "outputs": [],
   "source": [
    "# prediction\n",
    "pred_nn = model.predict( x_test )\n",
    "\n",
    "# invert prediction\n",
    "yhat_nn = ohe.inverse_transform( pred_nn )\n",
    "\n",
    "# prediction prepare\n",
    "y_test_nn = y_test.to_numpy()\n",
    "yhat_nn = yhat_nn.reshape( 1, -1 )[0]"
   ]
  },
  {
   "cell_type": "code",
   "execution_count": 85,
   "metadata": {
    "ExecuteTime": {
     "end_time": "2020-09-30T01:22:12.572276Z",
     "start_time": "2020-09-30T01:22:10.617174Z"
    }
   },
   "outputs": [
    {
     "name": "stdout",
     "output_type": "stream",
     "text": [
      "Accuracy: 0.8384703196347032\n",
      "Balanced Accuracy:0.16664931639947256\n",
      "Kappa Score: 0.7232441822459961\n"
     ]
    },
    {
     "name": "stderr",
     "output_type": "stream",
     "text": [
      "/Users/meigarom.lopes/.pyenv/versions/3.8.0/envs/airbnbpredictfirstbooking/lib/python3.8/site-packages/sklearn/metrics/_classification.py:1221: UndefinedMetricWarning: Precision and F-score are ill-defined and being set to 0.0 in labels with no predicted samples. Use `zero_division` parameter to control this behavior.\n",
      "  _warn_prf(average, modifier, msg_start, len(result))\n"
     ]
    },
    {
     "name": "stdout",
     "output_type": "stream",
     "text": [
      "              precision    recall  f1-score   support\n",
      "\n",
      "          AU       0.00      0.00      0.00        87\n",
      "          CA       0.00      0.00      0.00       216\n",
      "          DE       0.00      0.00      0.00       164\n",
      "          ES       0.00      0.00      0.00       319\n",
      "          FR       0.00      0.00      0.00       736\n",
      "          GB       0.00      0.00      0.00       361\n",
      "          IT       0.00      0.00      0.00       420\n",
      "         NDF       1.00      1.00      1.00     10962\n",
      "          NL       0.00      0.00      0.00       105\n",
      "          PT       0.00      0.00      0.00        31\n",
      "          US       0.71      1.00      0.83      9606\n",
      "       other       0.00      0.00      0.00      1521\n",
      "\n",
      "    accuracy                           0.84     24528\n",
      "   macro avg       0.14      0.17      0.15     24528\n",
      "weighted avg       0.72      0.84      0.77     24528\n",
      "\n"
     ]
    },
    {
     "data": {
      "text/plain": [
       "<AxesSubplot:title={'center':'Confusion Matrix'}, xlabel='Predicted label', ylabel='True label'>"
      ]
     },
     "execution_count": 85,
     "metadata": {},
     "output_type": "execute_result"
    },
    {
     "data": {
      "image/png": "[encoded data removed]",
      "text/plain": [
       "<Figure size 864x864 with 2 Axes>"
      ]
     },
     "metadata": {
      "needs_background": "light"
     },
     "output_type": "display_data"
    }
   ],
   "source": [
    "# Accuracy\n",
    "acc_nn = m.accuracy_score( y_test_nn, yhat_nn )\n",
    "print( 'Accuracy: {}'.format( acc_nn ) )\n",
    "\n",
    "# Balanced Accuray\n",
    "balanced_acc_nn = m.balanced_accuracy_score( y_test_nn, yhat_nn )\n",
    "print( 'Balanced Accuracy:{}'.format( balanced_acc_nn ) )\n",
    "\n",
    "# Kappa Metrics\n",
    "kappa_nn = m.cohen_kappa_score( y_test_nn, yhat_nn )\n",
    "print( 'Kappa Score: {}'.format( kappa_nn ) )\n",
    "\n",
    "# Classification report\n",
    "print( m.classification_report( y_test_nn, yhat_nn ) )\n",
    "\n",
    "# Confusion Matrix\n",
    "mt.plot_confusion_matrix( y_test_nn, yhat_nn, normalize=False, figsize=(12,12))"
   ]
  },
  {
   "cell_type": "markdown",
   "metadata": {},
   "source": [
    "### 7.2.2. NN Performance - Cross-Validation"
   ]
  },
  {
   "cell_type": "code",
   "execution_count": 53,
   "metadata": {
    "ExecuteTime": {
     "end_time": "2020-09-27T21:07:17.402750Z",
     "start_time": "2020-09-27T20:56:25.401785Z"
    }
   },
   "outputs": [
    {
     "name": "stdout",
     "output_type": "stream",
     "text": [
      "Fold Number: 1/5\n",
      "Fold Number: 2/5\n",
      "Fold Number: 3/5\n",
      "Fold Number: 4/5\n",
      "Fold Number: 5/5\n"
     ]
    }
   ],
   "source": [
    "# generate k-fold\n",
    "num_folds = 5\n",
    "kfold = ms.StratifiedKFold( n_splits=num_folds, shuffle=True, random_state=32 )\n",
    "\n",
    "balanced_acc_list = []\n",
    "kappa_acc_list = []\n",
    "\n",
    "i = 1\n",
    "for train_ix, val_ix in kfold.split( x_train, y_train ):\n",
    "    print( 'Fold Number: {}/{}'.format( i, num_folds ) )\n",
    "    \n",
    "    # get fold\n",
    "    x_train_fold = x_train.iloc[train_ix]\n",
    "    y_train_fold = y_train.iloc[train_ix]\n",
    "    \n",
    "    x_val_fold = x_train.iloc[val_ix]\n",
    "    y_val_fold = y_train.iloc[val_ix]\n",
    "    \n",
    "    # target hot-encoding\n",
    "    ohe = pp.OneHotEncoder()\n",
    "    y_train_fold_nn = ohe.fit_transform( y_train_fold.values.reshape( -1, 1 ) ).toarray()\n",
    "\n",
    "    # model definition\n",
    "    model = ml.Sequential()\n",
    "    model.add( l.Dense( 256, input_dim=x_train.shape[1], activation='relu' ) )\n",
    "    model.add( l.Dense( 12, activation='softmax') )\n",
    "\n",
    "    # compile model\n",
    "    model.compile( loss='categorical_crossentropy', optimizer='adam', metrics=['accuracy'] )\n",
    "\n",
    "    # training model\n",
    "    model.fit( x_train_fold, y_train_fold_nn, epochs=100, batch_size=32, verbose=0 )\n",
    "\n",
    "    # prediction\n",
    "    pred_nn = model.predict( x_val_fold )\n",
    "    yhat_nn = ohe.inverse_transform( pred_nn )\n",
    "    \n",
    "    # prepare data\n",
    "    y_test_nn = y_val_fold.to_numpy()\n",
    "    yhat_nn = yhat_nn.reshape( 1, -1 )[0]\n",
    "\n",
    "    # metrics\n",
    "    ## Balanced Accuracy \n",
    "    balanced_acc_nn = m.balanced_accuracy_score( y_test_nn, yhat_nn )\n",
    "    balanced_acc_list.append( balanced_acc_nn )\n",
    "    \n",
    "    ## Kappa Metrics\n",
    "    kappa_acc_nn = m.cohen_kappa_score( y_test_nn, yhat_nn )\n",
    "    kappa_acc_list.append( kappa_acc_nn )\n",
    "    \n",
    "    i += 1"
   ]
  },
  {
   "cell_type": "code",
   "execution_count": 61,
   "metadata": {
    "ExecuteTime": {
     "end_time": "2020-09-27T21:09:16.329249Z",
     "start_time": "2020-09-27T21:09:16.325267Z"
    }
   },
   "outputs": [
    {
     "name": "stdout",
     "output_type": "stream",
     "text": [
      "Avg Balanced Accuracy: 0.1666 +/- 0.0001\n",
      "Avg Kappa: 0.724 +/- 0.0006\n"
     ]
    }
   ],
   "source": [
    "print( 'Avg Balanced Accuracy: {} +/- {}'.format( np.round( np.mean( balanced_acc_list ), 4 ), np.round( np.std( balanced_acc_list ), 4 ) ) )\n",
    "print( 'Avg Kappa: {} +/- {}'.format( np.round( np.mean( kappa_acc_list ), 4 ), np.round( np.std( kappa_acc_list ), 4 ) ) )"
   ]
  },
  {
   "cell_type": "code",
   "execution_count": null,
   "metadata": {},
   "outputs": [],
   "source": []
  },
  {
   "cell_type": "code",
   "execution_count": null,
   "metadata": {},
   "outputs": [],
   "source": []
  },
  {
   "cell_type": "code",
   "execution_count": null,
   "metadata": {},
   "outputs": [],
   "source": []
  },
  {
   "cell_type": "code",
   "execution_count": null,
   "metadata": {},
   "outputs": [],
   "source": []
  },
  {
   "cell_type": "code",
   "execution_count": null,
   "metadata": {},
   "outputs": [],
   "source": []
  },
  {
   "cell_type": "code",
   "execution_count": null,
   "metadata": {},
   "outputs": [],
   "source": []
  },
  {
   "cell_type": "code",
   "execution_count": null,
   "metadata": {},
   "outputs": [],
   "source": []
  },
  {
   "cell_type": "code",
   "execution_count": null,
   "metadata": {},
   "outputs": [],
   "source": []
  },
  {
   "cell_type": "code",
   "execution_count": null,
   "metadata": {},
   "outputs": [],
   "source": []
  },
  {
   "cell_type": "code",
   "execution_count": null,
   "metadata": {},
   "outputs": [],
   "source": []
  },
  {
   "cell_type": "code",
   "execution_count": null,
   "metadata": {},
   "outputs": [],
   "source": []
  },
  {
   "cell_type": "code",
   "execution_count": null,
   "metadata": {},
   "outputs": [],
   "source": []
  }
 ],
 "metadata": {
  "kernelspec": {
   "display_name": "Python 3",
   "language": "python",
   "name": "python3"
  },
  "language_info": {
   "codemirror_mode": {
    "name": "ipython",
    "version": 3
   },
   "file_extension": ".py",
   "mimetype": "text/x-python",
   "name": "python",
   "nbconvert_exporter": "python",
   "pygments_lexer": "ipython3",
   "version": "3.8.0"
  }
 },
 "nbformat": 4,
 "nbformat_minor": 4
}
